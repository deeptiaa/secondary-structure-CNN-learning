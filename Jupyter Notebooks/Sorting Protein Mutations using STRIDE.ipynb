{
 "cells": [
  {
   "cell_type": "markdown",
   "id": "f0718f70",
   "metadata": {},
   "source": [
    "# Sorting Protein Mutations Using STRIDE"
   ]
  },
  {
   "cell_type": "markdown",
   "id": "0758cbdf",
   "metadata": {},
   "source": [
    "This notebook divides the dataset into seperate datasets depended on a mutations secondary structure assignment."
   ]
  },
  {
   "cell_type": "code",
   "execution_count": 2,
   "id": "ed88bc4c",
   "metadata": {},
   "outputs": [],
   "source": [
    "# import statements\n",
    "import os\n",
    "import numpy as np\n",
    "import pandas as pd\n",
    "import requests\n",
    "from Bio import SeqIO\n",
    "from io import StringIO\n",
    "import Bio.PDB.Polypeptide"
   ]
  },
  {
   "cell_type": "code",
   "execution_count": 3,
   "id": "3d443211",
   "metadata": {},
   "outputs": [],
   "source": [
    "# setting jupyter notebook viewing options\n",
    "max_rows = 1000\n",
    "max_cols = 1000\n",
    "pd.set_option(\"display.max_rows\", max_rows, \"display.max_columns\", max_cols)"
   ]
  },
  {
   "cell_type": "markdown",
   "id": "0748eb30",
   "metadata": {},
   "source": [
    "### Methods Used to Format Data"
   ]
  },
  {
   "cell_type": "markdown",
   "id": "f031f61a",
   "metadata": {},
   "source": [
    "Formatting protein sequence into form for machine learning:"
   ]
  },
  {
   "cell_type": "code",
   "execution_count": 4,
   "id": "54768902",
   "metadata": {},
   "outputs": [],
   "source": [
    "# parameters:\n",
    "#      \"uniprot_id\" - string representing uniprot id of desired protein.\n",
    "# This method uses a given uniprot id to query the uniprot data and \n",
    "# return a string respresention of the protein sequence. \n",
    "# E.g. MADIT\n",
    "def get_protein_seq(uniprot_id):\n",
    "    \n",
    "    # importing fasta file from uniprot.org and getting protein sequence\n",
    "    # taken from StackOverflow: \n",
    "    # https://stackoverflow.com/questions/52569622/protein-sequence-from-uniprot-protein-id-python\n",
    "    url = \"http://www.uniprot.org/uniprot/\"\n",
    "    complete_url = url + uniprot_id + \".fasta\"\n",
    "    response = requests.post(complete_url)\n",
    "    data =''.join(response.text)\n",
    "    sequence =StringIO(data)\n",
    "    protein_seq=list(SeqIO.parse(sequence,'fasta'))\n",
    "\n",
    "    # protein sequence as string (single-letter amino acids)\n",
    "    string_seq = str(protein_seq[0].seq)\n",
    "    \n",
    "    # protein sequence w/ three-letter convention\n",
    "    protein_seq = get_expanded_seq(string_seq)\n",
    "    return protein_seq"
   ]
  },
  {
   "cell_type": "markdown",
   "id": "70f0f7a7",
   "metadata": {},
   "source": [
    "Expanding protein sequence (1 letter AA -> 3 letter AA):"
   ]
  },
  {
   "cell_type": "code",
   "execution_count": 5,
   "id": "feff7886",
   "metadata": {},
   "outputs": [],
   "source": [
    "# parameter:\n",
    "#      \"seq\" - string representing protein sequence in 1-letter convention.\n",
    "# This method takes protein sequence string with 1-letter convention and returns\n",
    "# a protein sequence with 3-letter convention.\n",
    "# E.g. ADE -> ALA ASP GLU\n",
    "def get_expanded_seq(seq):\n",
    "    expanded_list = []\n",
    "    split_seq = list(seq)\n",
    "    for letter in split_seq:\n",
    "        three_letter_abbr = Bio.PDB.Polypeptide.one_to_three(letter)\n",
    "        expanded_list.append(three_letter_abbr)\n",
    "    exanded_string = \" \".join(expanded_list)\n",
    "    return(exanded_string)"
   ]
  },
  {
   "cell_type": "markdown",
   "id": "0b58ef07",
   "metadata": {},
   "source": [
    "Returning index range of protein domain within protein:"
   ]
  },
  {
   "cell_type": "code",
   "execution_count": 6,
   "id": "ec3f7d81",
   "metadata": {},
   "outputs": [],
   "source": [
    "# parameters: \n",
    "#      \"full_protein_split\" - list of amino acids in full protein in 3 letter convention.\n",
    "#                             E.g. [\"ALA\", \"GLY\", \"TYR\"]\n",
    "#      \"domain_split\" - list of amino acids in protein domain in 3 letter convention.\n",
    "#                       E.g. [\"ALA\", \"GLY\"]\n",
    "# This method prints the index of the given domain within the given protein.\n",
    "# Starting value is inclusive and the ending value is exclusive. \n",
    "# E.g. [(0, 3)]\n",
    "def get_index_range(full_protein_split, domain_split):\n",
    "    indexes = []\n",
    "    for i in range(len(full_protein_split)):\n",
    "        if full_protein_split[i:i+len(domain_split)] == domain_split:\n",
    "            indexes.append((i, i+len(domain_split)))\n",
    "    print(indexes)\n",
    "    indexes.clear()"
   ]
  },
  {
   "cell_type": "markdown",
   "id": "0190a9f0",
   "metadata": {},
   "source": [
    "Get variant in mutation-position form from wild-type-position-mutation form: (E.g. G126A -> 126ALA)"
   ]
  },
  {
   "cell_type": "code",
   "execution_count": 24,
   "id": "0954fb31",
   "metadata": {},
   "outputs": [],
   "source": [
    "# parameter: \n",
    "#      \"split_mutation_column\" - list of mutations, split by comma if there are multiple.\n",
    "# This method returns a list with wild-type residue (first letter) from variant.\n",
    "def get_wild_type(split_mutation_column):\n",
    "    wild_type_list = []\n",
    "    w_letters = []\n",
    "    for string in split_mutation_column:\n",
    "        if \"wild-type\" in string[0]:\n",
    "            wild_type = \"wild_type\"\n",
    "        elif \"-\" in string[0] or len(string) == 0:\n",
    "            wild_type = np.nan\n",
    "        else:\n",
    "            for val in string:\n",
    "                mutation_name = val.strip(\" \")\n",
    "                w_letters.append(mutation_name[0])\n",
    "                wild_type = \",\".join(w_letters)\n",
    "        wild_type_list.append(wild_type)\n",
    "        w_letters.clear()\n",
    "    return wild_type_list\n",
    "\n",
    "\n",
    "# parameter: \n",
    "#      \"split_mutation_column\" - list of mutations, split by comma if there are multiple.\n",
    "# This method returns a list with mutation residue (last letter) from variant.\n",
    "def get_mutation_type(split_mutation_column):\n",
    "    mutation_list = []\n",
    "    m_letters = []\n",
    "    for string in split_mutation_column:\n",
    "        if \"wild-type\" in string[0]:\n",
    "            mutation = \"wild-type\"\n",
    "        elif \"-\" in string[0] or len(string) == 0:\n",
    "            mutation = np.nan\n",
    "        else:\n",
    "            for val in string:\n",
    "                mutation_name = val.strip(\" \")\n",
    "                m_letters.append(mutation_name[-1])\n",
    "                mutation = \",\".join(m_letters)\n",
    "        mutation_list.append(mutation)\n",
    "        m_letters.clear()\n",
    "    return mutation_list\n",
    "\n",
    "\n",
    "# parameter: \n",
    "#      \"split_mutation_column\" - list of mutations, split by comma if there are multiple.\n",
    "# This method returns a list with the position of mutation (number) from variant.\n",
    "def get_position(split_mutation_column):\n",
    "    position_list = []\n",
    "    p_letters = []\n",
    "    for string in split_mutation_column:\n",
    "        if \"wild-type\" in string[0]:\n",
    "            position = \"wild-type\"\n",
    "        elif \"-\" in string[0] or len(string) == 0:\n",
    "            position = np.nan\n",
    "        else:\n",
    "            for val in string:\n",
    "                mutation_name = val.strip(\" \")\n",
    "                p_letters.append(mutation_name[1:-1])\n",
    "                position = \",\".join(p_letters)\n",
    "        position_list.append(position)\n",
    "        p_letters.clear()\n",
    "    return(position_list)\n",
    "\n",
    "# parameter:\n",
    "#      \"df\" - dataframe of protein data with \"MUTATED_RES\" and \"POSITION\" columns.\n",
    "# This method returns a list with the correctly formatted variant (mutation-position form).\n",
    "def get_mutations_names_list(df):\n",
    "    formatted_list = []\n",
    "    expanded_abbv = []\n",
    "    for mutation, position in zip(df[\"MUTATED_RES\"], df[\"POSITION\"]):\n",
    "        split_mutations = mutation.split(\",\")\n",
    "        split_positions = position.split(\",\")\n",
    "        if \"wild-type\" in split_mutations[0].lower() or \"wild-type\" in split_positions[0].lower():\n",
    "            abbv_names = \"WT\"\n",
    "        else:  \n",
    "            for mut, pos in zip(split_mutations, split_positions):\n",
    "                three_letter_mut = Bio.PDB.Polypeptide.one_to_three(mut.upper())\n",
    "                position = str(int(pos))\n",
    "                combined_name = position + three_letter_mut\n",
    "                expanded_abbv.append(combined_name)\n",
    "                abbv_names = \", \".join(expanded_abbv)\n",
    "        expanded_abbv.clear()\n",
    "        formatted_list.append(abbv_names)\n",
    "    return(formatted_list)"
   ]
  },
  {
   "cell_type": "markdown",
   "id": "508fb13e",
   "metadata": {},
   "source": [
    "Splits positions in intermediary \"POSITION\" column to help remove mutations with a certain position"
   ]
  },
  {
   "cell_type": "code",
   "execution_count": 25,
   "id": "93b6ae85",
   "metadata": {},
   "outputs": [],
   "source": [
    "# Parameters:\n",
    "#      \"df\" - protein data dataframe with \"POSITION\" column \n",
    "# This method takes the position column in the dataframe and splits it in order\n",
    "# to help remove or keep mutatations depending on their position.\n",
    "def get_positions_split(df):\n",
    "    position_list_split = []\n",
    "\n",
    "    for item in df[\"POSITION\"]:\n",
    "        item = item.split(\",\") # splits positions into list\n",
    "        int_item = [int(i) for i in item]\n",
    "        position_list_split.append(int_item)\n",
    "    \n",
    "    return position_list_split"
   ]
  },
  {
   "cell_type": "markdown",
   "id": "d60f8f6e",
   "metadata": {},
   "source": [
    "Getting Secondary Structure assignmnt from STRIDE file"
   ]
  },
  {
   "cell_type": "code",
   "execution_count": 26,
   "id": "75a6ef91",
   "metadata": {},
   "outputs": [],
   "source": [
    "# Parameters: \n",
    "#      \"stride file\" - stride file of protein\n",
    "#      \"is_sec_struc\" - list of boolean values for each secondary structure value\n",
    "#                       if it is, true, else false\n",
    "# returns list of boolean values indicating if position is secondary strcuture or not\n",
    "def get_sec_struc_boolean(stride_file):\n",
    "    is_sec_struc = []\n",
    "    sec_struc_assign = []\n",
    "\n",
    "    for line in stride_file:\n",
    "        if line.startswith('ASG'):\n",
    "            split_line = line.split();\n",
    "            sec_struc_assign.append(split_line[5])\n",
    "\n",
    "    for sec_struc in sec_struc_assign:\n",
    "        if (sec_struc =='C' or sec_struc =='T'):\n",
    "            is_sec_struc.append(False)\n",
    "        else:\n",
    "            is_sec_struc.append(True)\n",
    "            \n",
    "    return is_sec_struc"
   ]
  },
  {
   "cell_type": "markdown",
   "id": "bf14f381",
   "metadata": {},
   "source": [
    "Getting Dataset of Mutations within Domain in PDB File"
   ]
  },
  {
   "cell_type": "code",
   "execution_count": 27,
   "id": "4772de94",
   "metadata": {},
   "outputs": [],
   "source": [
    "# Parameters:\n",
    "#      \"orig_df\" - \n",
    "#      \"start\" -\n",
    "#      \"end\" - \n",
    "#      \"not_included_list\"\n",
    "# This method does even more helpful stuff\n",
    "def get_domain_dataset(orig_df, start, end, not_included_list):\n",
    "    in_domain_list = []\n",
    "    \n",
    "    for val in orig_df[\"positions_split\"]:\n",
    "        for position in val:\n",
    "            if not_included_list.count(position - start) == 0: # if value is not in the list of values to exclude\n",
    "                if position >= start and position < end:\n",
    "                    in_domain = True\n",
    "                else:\n",
    "                    in_domain = False\n",
    "            else:\n",
    "                in_domain = False\n",
    "        in_domain_list.append(in_domain)\n",
    "    \n",
    "    orig_df['in_domain'] = in_domain_list\n",
    "    # print(in_domain_list)\n",
    "    condition = orig_df['in_domain'] == True\n",
    "    rows = orig_df.loc[condition, :]\n",
    "    \n",
    "    in_domain_df = pd.DataFrame(columns=orig_df.columns)\n",
    "    in_domain_df = in_domain_df.append(rows, ignore_index=True)\n",
    "    in_domain_df = in_domain_df.drop(['in_domain'], axis=1)\n",
    "    return in_domain_df"
   ]
  },
  {
   "cell_type": "markdown",
   "id": "5107976f",
   "metadata": {},
   "source": [
    "Getting Dataset of Mutations _in_ Secondary Structures"
   ]
  },
  {
   "cell_type": "code",
   "execution_count": 34,
   "id": "105cc5df",
   "metadata": {},
   "outputs": [],
   "source": [
    "# Parameters:\n",
    "# - orig_df: original dataframe with all mutations and \"positions_split\" column which has mutation positions in split list\n",
    "#            as ints\n",
    "# - sec_st_df: new dataframe with all rows that have mutations in the secondary structure of protein\n",
    "# - mixed_df: new dataframe with all rows that have mutations in both in and out of the secondary stucture of the protein\n",
    "# - start: (inclusive) index where the domain of the protein in PDB file starts\n",
    "# - end: (inclusive) index where the domain of the protein in PDB file ends\n",
    "def get_ss_dataset(orig_df, bool_ss_list, domain_start_index):\n",
    "    \n",
    "    has_sec_str = []\n",
    "    \n",
    "    for val in orig_df[\"positions_split\"]:\n",
    "        # list of boolean values that are true if positions are sec. strc.\n",
    "        all_pos_sec_struc = []\n",
    "        \n",
    "        for position in val:\n",
    "            # print(position - domain_start_index)\n",
    "            # print(str(position) + \" \" + str(domain_start_index))\n",
    "            if (bool_ss_list[position - domain_start_index] == False):\n",
    "                all_pos_sec_struc.append(False)\n",
    "            else:\n",
    "                all_pos_sec_struc.append(True)\n",
    "        \n",
    "        # all pos sec struc should match val list\n",
    "        # if there's a value in all_pos_sec_struc that's false, append false\n",
    "        # otherwise, append true\n",
    "        # print(\"val\")\n",
    "        # print(val)\n",
    "        # print(\"bool\")\n",
    "        # print(all_pos_sec_struc)\n",
    "        if (all_pos_sec_struc.count(False) == 0):\n",
    "            has_only_sec_str = True\n",
    "        else:\n",
    "            has_only_sec_str = False\n",
    "        \n",
    "        # print(has_only_sec_str)\n",
    "        has_sec_str.append(has_only_sec_str)\n",
    "        all_pos_sec_struc.clear()\n",
    "        \n",
    "        \n",
    "    # print(len(has_sec_str)) # should match dataframe length\n",
    "    orig_df['has_sec_str'] = has_sec_str\n",
    "    \n",
    "    condition = orig_df['has_sec_str'] == True\n",
    "    rows = orig_df.loc[condition, :]\n",
    "    \n",
    "    sec_str_df = pd.DataFrame(columns=orig_df.columns)\n",
    "    sec_str_df = sec_str_df.append(rows, ignore_index=True)\n",
    "    sec_str_df = sec_str_df.drop(['has_sec_str'], axis=1)\n",
    "    orig_df = orig_df.drop(['has_sec_str'], axis=1)\n",
    "    \n",
    "    return sec_str_df"
   ]
  },
  {
   "cell_type": "markdown",
   "id": "8ebcd87b",
   "metadata": {},
   "source": [
    "Getting Dataset of Mutations _not_ in Secondary Structures"
   ]
  },
  {
   "cell_type": "code",
   "execution_count": 36,
   "id": "9c91576c",
   "metadata": {},
   "outputs": [],
   "source": [
    "def get_not_ss_dataset(orig_df, bool_ss_list, domain_start_index):\n",
    "    is_not_sec_str = []\n",
    "    \n",
    "    for val in orig_df[\"positions_split\"]:\n",
    "        \n",
    "        all_pos_sec_struc = []\n",
    "        \n",
    "        for position in val:\n",
    "            # print(position - domain_start_index)\n",
    "            # print(str(position) + \" \" + str(domain_start_index))\n",
    "            if (bool_ss_list[position - domain_start_index] == False):\n",
    "                all_pos_sec_struc.append(False)\n",
    "            else:\n",
    "                all_pos_sec_struc.append(True)\n",
    "    \n",
    "        \n",
    "        if (all_pos_sec_struc.count(True) == 0):\n",
    "            has_no_sec_str = True\n",
    "        else:\n",
    "            has_no_sec_str = False\n",
    "        \n",
    "        is_not_sec_str.append(has_no_sec_str)\n",
    "        all_pos_sec_struc.clear()\n",
    "        \n",
    "    orig_df['is_not_sec_str'] = is_not_sec_str\n",
    "     \n",
    "    condition = orig_df['is_not_sec_str'] == True\n",
    "    rows = orig_df.loc[condition, :]\n",
    "    \n",
    "    not_sec_str_df = pd.DataFrame(columns=orig_df.columns)\n",
    "    not_sec_str_df = not_sec_str_df.append(rows, ignore_index=True)\n",
    "    not_sec_str_df = not_sec_str_df.drop(['is_not_sec_str'], axis=1)\n",
    "    orig_df = orig_df.drop(['is_not_sec_str'], axis=1)\n",
    "    \n",
    "    return not_sec_str_df"
   ]
  },
  {
   "cell_type": "markdown",
   "id": "73a73920",
   "metadata": {},
   "source": [
    "Writing formatted data to txt file:"
   ]
  },
  {
   "cell_type": "code",
   "execution_count": 74,
   "id": "d0047251",
   "metadata": {},
   "outputs": [],
   "source": [
    "# parameters:\n",
    "#      \"txt_name\" - desired name of formatted txt file for network. E.g. \"pab1\"\n",
    "#      \"protein_seq\" - string of protein sequence in 3 letter convention. E.g. ALA GLU TYR\n",
    "#      \"df\" - dataframe with cleaned protein data. Must contain \"variant\" and \"score\" \n",
    "#             columns.\n",
    "# This method cleans the protein data and formats it into a txt that can be processed by the \n",
    "# network. It also prints the name of the file out for reference.\n",
    "def write_data_file(txt_name, protein_seq, df):\n",
    "    file_name = txt_name + \".txt\"\n",
    "    print(\"Filename: \" + file_name)\n",
    "    \n",
    "    datafile = open(file_name, \"w+\")\n",
    "    datafile.write(protein_seq + \"\\n\")\n",
    "    for index in range(len(df)-1):\n",
    "        datafile.write(df[\"variant\"].iloc[index] + \": \" + str(df[\"score\"].iloc[index]) + \"\\n\")\n",
    "    datafile.write(df[\"variant\"].iloc[len(df) - 1] + \": \" + str(df[\"score\"].iloc[len(df) - 1]))\n",
    "    datafile.close()"
   ]
  },
  {
   "cell_type": "markdown",
   "id": "d879d11f",
   "metadata": {},
   "source": [
    "Getting dataset of mutations that are in alpha helices:"
   ]
  },
  {
   "cell_type": "code",
   "execution_count": null,
   "id": "f2874018",
   "metadata": {},
   "outputs": [],
   "source": []
  },
  {
   "cell_type": "markdown",
   "id": "bab006f3",
   "metadata": {},
   "source": [
    "Getting dataset of mutations that are in beta sheets:"
   ]
  },
  {
   "cell_type": "code",
   "execution_count": null,
   "id": "bf1c76e5",
   "metadata": {},
   "outputs": [],
   "source": []
  },
  {
   "cell_type": "markdown",
   "id": "3192b31a",
   "metadata": {},
   "source": [
    "## Pab1"
   ]
  },
  {
   "cell_type": "markdown",
   "id": "5d91e646",
   "metadata": {},
   "source": [
    "Formatting Pab1 Data to Split Dataset into Values in Secondary Structure and NOT in Secondary Structure"
   ]
  },
  {
   "cell_type": "code",
   "execution_count": 26,
   "id": "9d6c77b2",
   "metadata": {},
   "outputs": [],
   "source": [
    "# NOTE - stride files + jupyter notebook in winter dir."
   ]
  },
  {
   "cell_type": "code",
   "execution_count": 1,
   "id": "fbb4029e",
   "metadata": {},
   "outputs": [],
   "source": [
    "pab1_stride_file = open('pab1_stride.txt', 'r')"
   ]
  },
  {
   "cell_type": "code",
   "execution_count": 3,
   "id": "a106180c",
   "metadata": {},
   "outputs": [],
   "source": [
    "pab1_ss_indexes = get_sec_struc_boolean(pab1_stride_file) # boolean list of secondary structure assignements"
   ]
  },
  {
   "cell_type": "code",
   "execution_count": 4,
   "id": "de4fc2ec",
   "metadata": {},
   "outputs": [
    {
     "name": "stdout",
     "output_type": "stream",
     "text": [
      "75\n",
      "[False, True, True, True, True, True, False, False, False, False, False, False, False, True, True, True, True, True, True, True, True, True, True, False, False, False, True, True, True, True, True, True, True, True, False, False, False, False, False, True, True, True, True, True, True, True, True, True, False, False, True, True, True, True, True, True, True, True, True, True, True, False, False, True, True, True, False, False, True, True, True, True, True, True, False]\n"
     ]
    }
   ],
   "source": [
    "print(len(pab1_ss_indexes)) # <- domain is 75 AA long\n",
    "print(pab1_ss_indexes)"
   ]
  },
  {
   "cell_type": "code",
   "execution_count": 5,
   "id": "5009a988",
   "metadata": {},
   "outputs": [
    {
     "name": "stdout",
     "output_type": "stream",
     "text": [
      "23\n"
     ]
    }
   ],
   "source": [
    "# number of mutations not in secondary structure\n",
    "count_false = pab1_ss_indexes.count(False)\n",
    "print(count_false)"
   ]
  },
  {
   "cell_type": "markdown",
   "id": "86c89634",
   "metadata": {},
   "source": [
    "Limiting Number of Secondary Structure Mutations to Equal Number of Non-Secondary Structure Mutatations"
   ]
  },
  {
   "cell_type": "markdown",
   "id": "2f7315ca",
   "metadata": {},
   "source": [
    "- Pab1 has 23 Mutations not in Secondary Structure, so limiting Number of Secondary Structure Mutations to 23"
   ]
  },
  {
   "cell_type": "code",
   "execution_count": 8,
   "id": "e32610b7",
   "metadata": {},
   "outputs": [
    {
     "name": "stdout",
     "output_type": "stream",
     "text": [
      "39\n",
      "[1, 2, 3, 4, 5, 13, 14, 15, 16, 17, 18, 19, 20, 21, 22, 26, 27, 28, 29, 30, 31, 32, 33, 39, 40, 41, 42, 43, 44, 45, 46, 47, 50, 51, 52, 53, 54, 55, 56, 57, 58, 59, 60, 63, 64, 65, 68, 69, 70, 71, 72, 73]\n",
      "[40, 41, 42, 43, 44, 45, 46, 47, 50, 51, 52, 53, 54, 55, 56, 57, 58, 59, 60, 63, 64, 65, 68, 69, 70, 71, 72, 73]\n"
     ]
    }
   ],
   "source": [
    "# index of 23rd true\n",
    "\n",
    "highest_true_index = [i for i, n in enumerate(pab1_ss_indexes) if n == True][23]\n",
    "print(highest_true_index)\n",
    "# need list of indices in secondary structure past this index in order to remove them from dataset\n",
    "\n",
    "true_indices = [i for i,val in enumerate(pab1_ss_indexes) if val==True]\n",
    "print(true_indices)\n",
    "\n",
    "not_included_pab1 = [i for i in true_indices if i > 39]\n",
    "print(not_included_pab1)"
   ]
  },
  {
   "cell_type": "markdown",
   "id": "5f30d923",
   "metadata": {},
   "source": [
    "### Sorting Pab1 Mutations Into 2 Datasets (w & w/o mutations)"
   ]
  },
  {
   "cell_type": "code",
   "execution_count": 9,
   "id": "de5b607e",
   "metadata": {},
   "outputs": [
    {
     "name": "stdout",
     "output_type": "stream",
     "text": [
      "40852\n",
      "Index(['variant', 'num_mutations', 'score'], dtype='object')\n"
     ]
    }
   ],
   "source": [
    "# importing pab1 data from Gelman et al.\n",
    "pab1_df1 = pd.read_csv(\"pab1.tsv.txt\", sep=\"\\t\")\n",
    "pab1_df = pab1_df1.dropna()\n",
    "print(len(pab1_df))\n",
    "print(pab1_df.columns)"
   ]
  },
  {
   "cell_type": "code",
   "execution_count": 10,
   "id": "92bdfb49",
   "metadata": {},
   "outputs": [
    {
     "name": "stdout",
     "output_type": "stream",
     "text": [
      "40852\n",
      "37710\n"
     ]
    }
   ],
   "source": [
    "# rounding score column to 2 decimal points\n",
    "pab1_df[\"score\"] = pab1_df[\"score\"].round(6)\n",
    "print(len(pab1_df))\n",
    "\n",
    "# remove values with wildcard star thing cause idk what it means\n",
    "pab1_df = pab1_df[pab1_df[\"variant\"].str.contains(\"\\*\") == False]\n",
    "\n",
    "# pab1_df = pab1_df.head(37600)\n",
    "print(len(pab1_df))"
   ]
  },
  {
   "cell_type": "code",
   "execution_count": 12,
   "id": "82cef935",
   "metadata": {},
   "outputs": [],
   "source": [
    "# split variant name into wild-type, position, and mutation type\n",
    "pab1_mut = pab1_df[\"variant\"].str.split(\",\")\n",
    "pab1_df[\"WILD_TYPE_RES\"] = get_wild_type(pab1_mut)\n",
    "pab1_df[\"MUTATED_RES\"] = get_mutation_type(pab1_mut)\n",
    "pab1_df[\"POSITION\"] = get_position(pab1_mut)\n",
    "pab1_df[\"variant\"] = get_mutations_names_list(pab1_df)"
   ]
  },
  {
   "cell_type": "code",
   "execution_count": 13,
   "id": "96f5364b",
   "metadata": {},
   "outputs": [
    {
     "name": "stdout",
     "output_type": "stream",
     "text": [
      "Index(['variant', 'num_mutations', 'score', 'WILD_TYPE_RES', 'MUTATED_RES',\n",
      "       'POSITION'],\n",
      "      dtype='object')\n"
     ]
    }
   ],
   "source": [
    "# print(pab1_df.head)\n",
    "print(pab1_df.columns)"
   ]
  },
  {
   "cell_type": "markdown",
   "id": "1418269c",
   "metadata": {},
   "source": [
    "Moving rows with Secondary Structure position into a different dataframe"
   ]
  },
  {
   "cell_type": "code",
   "execution_count": 16,
   "id": "2e529c34",
   "metadata": {},
   "outputs": [],
   "source": [
    "pab1_df[\"positions_split\"] = get_positions_split(pab1_df)\n",
    "# print(pab1_df[\"positions_split\"].tail(1000))"
   ]
  },
  {
   "cell_type": "code",
   "execution_count": 31,
   "id": "7134aba5",
   "metadata": {},
   "outputs": [],
   "source": [
    "pab_in_domain_df = get_domain_dataset(pab1_df, 126, 201, not_included_pab1)"
   ]
  },
  {
   "cell_type": "code",
   "execution_count": 32,
   "id": "49bbf2c1",
   "metadata": {},
   "outputs": [
    {
     "name": "stdout",
     "output_type": "stream",
     "text": [
      "22318\n"
     ]
    }
   ],
   "source": [
    "print(len(pab_in_domain_df))"
   ]
  },
  {
   "cell_type": "code",
   "execution_count": 35,
   "id": "40275ec4",
   "metadata": {},
   "outputs": [
    {
     "name": "stdout",
     "output_type": "stream",
     "text": [
      "5828\n"
     ]
    }
   ],
   "source": [
    "pab1_ss_df = get_ss_dataset(pab_in_domain_df, pab1_ss_indexes, 126)\n",
    "print(len(pab1_ss_df))\n",
    "# 5828 values"
   ]
  },
  {
   "cell_type": "code",
   "execution_count": 48,
   "id": "2c3738f5",
   "metadata": {},
   "outputs": [
    {
     "name": "stdout",
     "output_type": "stream",
     "text": [
      "2880\n"
     ]
    }
   ],
   "source": [
    "# mini-dataset of 2880 values to compare mutations to non mutations:\n",
    "pab1_ss_df_3000 = pab1_ss_df.sample(n=2880)\n",
    "print(len(pab1_ss_df_3000))"
   ]
  },
  {
   "cell_type": "code",
   "execution_count": 49,
   "id": "fb3adce0",
   "metadata": {},
   "outputs": [
    {
     "name": "stdout",
     "output_type": "stream",
     "text": [
      "3927\n"
     ]
    }
   ],
   "source": [
    "pab1_not_ss_df = get_not_ss_dataset(pab_in_domain_df, pab1_ss_indexes, 126)\n",
    "print(len(pab1_not_ss_df))"
   ]
  },
  {
   "cell_type": "code",
   "execution_count": 50,
   "id": "613a1296",
   "metadata": {},
   "outputs": [],
   "source": [
    "pab1_not_ss_df_3000 = pab1_not_ss_df.sample(n=2880)"
   ]
  },
  {
   "cell_type": "markdown",
   "id": "7ed227be",
   "metadata": {},
   "source": [
    "### Putting Pab1 Datasets into Files"
   ]
  },
  {
   "cell_type": "code",
   "execution_count": 42,
   "id": "a561f419",
   "metadata": {},
   "outputs": [],
   "source": [
    "protein_seq_pab1 = get_protein_seq(\"P04147\")"
   ]
  },
  {
   "cell_type": "code",
   "execution_count": 43,
   "id": "b09da365",
   "metadata": {},
   "outputs": [
    {
     "name": "stdout",
     "output_type": "stream",
     "text": [
      "577\n"
     ]
    }
   ],
   "source": [
    "split_pab1 = protein_seq_pab1.split()\n",
    "print(len(split_pab1))"
   ]
  },
  {
   "cell_type": "code",
   "execution_count": null,
   "id": "149349f4",
   "metadata": {},
   "outputs": [],
   "source": [
    "# NOTE - 3000 vals is actually 2880"
   ]
  },
  {
   "cell_type": "code",
   "execution_count": 75,
   "id": "3aa2bc3e",
   "metadata": {},
   "outputs": [
    {
     "name": "stdout",
     "output_type": "stream",
     "text": [
      "Filename: pab1_MLformat_ss_3000_lim.txt\n",
      "Filename: pab1_MLformat_not_ss_3000_lim.txt\n"
     ]
    }
   ],
   "source": [
    "# write data to formatted txt file\n",
    "\n",
    "write_data_file(\"pab1_MLformat_ss_3000_lim\", protein_seq_pab1, pab1_ss_df_3000)\n",
    "write_data_file(\"pab1_MLformat_not_ss_3000_lim\", protein_seq_pab1, pab1_not_ss_df_3000)"
   ]
  },
  {
   "cell_type": "markdown",
   "id": "9feea517",
   "metadata": {},
   "source": [
    "## Bgl3"
   ]
  },
  {
   "cell_type": "markdown",
   "id": "886f3127",
   "metadata": {},
   "source": [
    "Formatting Bgl3 Data to Split Dataset into Values in Secondary Structure and NOT in Secondary Structure"
   ]
  },
  {
   "cell_type": "code",
   "execution_count": 52,
   "id": "0cdf7896",
   "metadata": {},
   "outputs": [],
   "source": [
    "bgl3_stride_file = open('bgl3_stride.txt', 'r')"
   ]
  },
  {
   "cell_type": "code",
   "execution_count": 53,
   "id": "09af26c7",
   "metadata": {},
   "outputs": [],
   "source": [
    "bgl3_ss_indexes = get_sec_struc_boolean(bgl3_stride_file)"
   ]
  },
  {
   "cell_type": "code",
   "execution_count": 54,
   "id": "2f0e47d7",
   "metadata": {},
   "outputs": [
    {
     "name": "stdout",
     "output_type": "stream",
     "text": [
      "501\n",
      "[False, False, False, False, False, False, False, False, False, False, False, False, False, False, False, True, True, False, False, False, False, False, True, True, True, True, True, False, False, True, True, True, True, True, False, False, False, False, False, False, False, False, False, False, True, True, True, True, True, True, True, True, False, False, False, False, False, True, True, True, False, False, False, False, False, False, False, False, False, False, False, True, True, True, True, True, True, True, True, True, True, True, True, False, False, False, True, True, True, True, True, False, False, True, True, True, True, False, False, False, False, False, False, False, False, False, True, True, True, True, True, True, True, True, True, True, True, True, True, True, True, True, True, False, False, True, True, True, True, True, True, True, False, False, False, False, True, True, True, True, True, True, True, False, False, False, False, False, True, True, True, True, True, True, True, True, True, True, True, True, True, True, True, True, True, True, True, False, False, False, False, True, True, True, True, True, True, False, True, True, True, True, True, True, True, True, True, True, False, False, False, False, False, False, False, False, False, False, True, True, True, True, True, True, True, True, True, True, True, True, True, True, True, True, True, True, True, True, True, True, True, True, True, False, False, False, False, False, True, True, True, True, True, True, True, False, False, False, True, True, True, False, False, False, False, True, True, True, True, True, True, True, True, True, True, True, True, True, True, True, True, True, True, True, True, True, True, True, True, False, False, False, False, True, True, True, True, True, True, True, False, False, False, False, False, False, False, False, False, False, False, False, True, True, True, True, True, False, False, False, False, False, True, True, True, True, True, False, False, False, False, True, True, True, False, False, False, False, False, False, False, False, False, False, False, False, False, False, False, False, False, False, False, False, False, False, False, False, False, False, False, False, False, True, False, False, False, False, False, False, True, False, False, False, False, False, True, False, False, True, True, True, True, True, True, True, True, True, True, True, True, True, True, False, False, False, False, False, True, True, True, True, True, True, False, False, False, True, False, False, False, False, False, False, False, False, False, False, False, False, True, True, True, True, True, True, True, True, True, True, True, True, True, True, True, True, True, True, True, True, False, False, False, True, True, True, True, True, True, False, True, True, True, False, False, False, True, True, True, True, True, False, False, False, True, False, True, True, True, True, True, True, False, False, False, False, True, True, True, True, False, True, True, True, True, True, True, True, True, True, True, True, True, False, True, True, False, False, False, False, False, False, False, False, False, False, False, False, False, False, False, False, False, False, False, False, False, False, False, False, False]\n"
     ]
    }
   ],
   "source": [
    "print(len(bgl3_ss_indexes))\n",
    "print(bgl3_ss_indexes)"
   ]
  },
  {
   "cell_type": "code",
   "execution_count": 55,
   "id": "3983dd2b",
   "metadata": {},
   "outputs": [
    {
     "name": "stdout",
     "output_type": "stream",
     "text": [
      "229\n",
      "272\n"
     ]
    }
   ],
   "source": [
    "# number of mutations in secondary structure (True), and not in secondary structure (False)\n",
    "count_false = bgl3_ss_indexes.count(False)\n",
    "print(count_false)\n",
    "\n",
    "count_true = bgl3_ss_indexes.count(True)\n",
    "print(count_true)"
   ]
  },
  {
   "cell_type": "code",
   "execution_count": 56,
   "id": "e933d060",
   "metadata": {},
   "outputs": [
    {
     "name": "stdout",
     "output_type": "stream",
     "text": [
      "416\n"
     ]
    }
   ],
   "source": [
    "# index of 416 true\n",
    "\n",
    "highest_true_index = [i for i, n in enumerate(bgl3_ss_indexes) if n == True][229]\n",
    "print(highest_true_index)\n",
    "# need list of indices past this index\n",
    "\n",
    "true_indices = [i for i,val in enumerate(bgl3_ss_indexes) if val==True]\n",
    "# print(true_indices)\n",
    "\n",
    "not_included_bgl3 = [i for i in true_indices if i > highest_true_index]\n",
    "# print(not_included_bgl3)"
   ]
  },
  {
   "cell_type": "code",
   "execution_count": 57,
   "id": "b4fd710b",
   "metadata": {},
   "outputs": [
    {
     "name": "stdout",
     "output_type": "stream",
     "text": [
      "26653\n",
      "Index(['variant', 'num_mutations', 'inp', 'sel', 'score'], dtype='object')\n"
     ]
    }
   ],
   "source": [
    "# importing bgl3 data from Gelman et al.\n",
    "bgl3_df1 = pd.read_csv(\"bgl3.tsv.txt\", sep=\"\\t\")\n",
    "bgl3_df = bgl3_df1.dropna()\n",
    "print(len(bgl3_df))\n",
    "print(bgl3_df.columns)"
   ]
  },
  {
   "cell_type": "code",
   "execution_count": 58,
   "id": "4bb31c08",
   "metadata": {},
   "outputs": [
    {
     "name": "stdout",
     "output_type": "stream",
     "text": [
      "26653\n",
      "25737\n"
     ]
    }
   ],
   "source": [
    "# rounding score column to 6 decimal points\n",
    "bgl3_df[\"score\"] = bgl3_df[\"score\"].round(6)\n",
    "print(len(bgl3_df))\n",
    "\n",
    "# remove values with wildcard star\n",
    "bgl3_df = bgl3_df[bgl3_df[\"variant\"].str.contains(\"\\*\") == False]\n",
    "# bgl3_df = bgl3_df.head(25600)\n",
    "print(len(bgl3_df))"
   ]
  },
  {
   "cell_type": "code",
   "execution_count": 60,
   "id": "d48be577",
   "metadata": {},
   "outputs": [],
   "source": [
    "# bgl3 protein sequence\n",
    "string_seq = \"MVPAAQQTAMAPDAALTFPEGFLWGSATASYQIEGAAAEDGRTPSIWDTYARTPGRVRNGDTGDVATDHYHRWREDVALMAELGLGAYRFSLAWPRIQPTGRGPALQKGLDFYRRLADELLAKGIQPVATLYHWDLPQELENAGGWPERATAERFAEYAAIAADALGDRVKTWTTLNEPWCSAFLGYGSGVHAPGRTDPVAALRAAHHLNLGHGLAVQALRDRLPADAQCSVTLNIHHVRPLTDSDADADAVRRIDALANRVFTGPMLQGAYPEDLVKDTAGLTDWSFVRDGDLRLAHQKLDFLGVNYYSPTLVSEADGSGTHNSDGHGRSAHSPWPGADRVAFHQPPGETTAMGWAVDPSGLYELLRRLSSDFPALPLVITENGAAFHDYADPEGNVNDPERIAYVRDHLAAVHRAIKDGSDVRGYFLWSLLDNFEWAHGYSKRFGAVYVDYPTGTRIPKASARWYAEVARTGVLPTAGDPNSSSVDKLAAALEHHHHHH\""
   ]
  },
  {
   "cell_type": "code",
   "execution_count": 61,
   "id": "712c0b33",
   "metadata": {},
   "outputs": [
    {
     "name": "stdout",
     "output_type": "stream",
     "text": [
      "501\n"
     ]
    }
   ],
   "source": [
    "print(len(string_seq))"
   ]
  },
  {
   "cell_type": "code",
   "execution_count": 62,
   "id": "ebf68fe3",
   "metadata": {},
   "outputs": [
    {
     "name": "stdout",
     "output_type": "stream",
     "text": [
      "MET VAL PRO ALA ALA GLN GLN THR ALA MET ALA PRO ASP ALA ALA LEU THR PHE PRO GLU GLY PHE LEU TRP GLY SER ALA THR ALA SER TYR GLN ILE GLU GLY ALA ALA ALA GLU ASP GLY ARG THR PRO SER ILE TRP ASP THR TYR ALA ARG THR PRO GLY ARG VAL ARG ASN GLY ASP THR GLY ASP VAL ALA THR ASP HIS TYR HIS ARG TRP ARG GLU ASP VAL ALA LEU MET ALA GLU LEU GLY LEU GLY ALA TYR ARG PHE SER LEU ALA TRP PRO ARG ILE GLN PRO THR GLY ARG GLY PRO ALA LEU GLN LYS GLY LEU ASP PHE TYR ARG ARG LEU ALA ASP GLU LEU LEU ALA LYS GLY ILE GLN PRO VAL ALA THR LEU TYR HIS TRP ASP LEU PRO GLN GLU LEU GLU ASN ALA GLY GLY TRP PRO GLU ARG ALA THR ALA GLU ARG PHE ALA GLU TYR ALA ALA ILE ALA ALA ASP ALA LEU GLY ASP ARG VAL LYS THR TRP THR THR LEU ASN GLU PRO TRP CYS SER ALA PHE LEU GLY TYR GLY SER GLY VAL HIS ALA PRO GLY ARG THR ASP PRO VAL ALA ALA LEU ARG ALA ALA HIS HIS LEU ASN LEU GLY HIS GLY LEU ALA VAL GLN ALA LEU ARG ASP ARG LEU PRO ALA ASP ALA GLN CYS SER VAL THR LEU ASN ILE HIS HIS VAL ARG PRO LEU THR ASP SER ASP ALA ASP ALA ASP ALA VAL ARG ARG ILE ASP ALA LEU ALA ASN ARG VAL PHE THR GLY PRO MET LEU GLN GLY ALA TYR PRO GLU ASP LEU VAL LYS ASP THR ALA GLY LEU THR ASP TRP SER PHE VAL ARG ASP GLY ASP LEU ARG LEU ALA HIS GLN LYS LEU ASP PHE LEU GLY VAL ASN TYR TYR SER PRO THR LEU VAL SER GLU ALA ASP GLY SER GLY THR HIS ASN SER ASP GLY HIS GLY ARG SER ALA HIS SER PRO TRP PRO GLY ALA ASP ARG VAL ALA PHE HIS GLN PRO PRO GLY GLU THR THR ALA MET GLY TRP ALA VAL ASP PRO SER GLY LEU TYR GLU LEU LEU ARG ARG LEU SER SER ASP PHE PRO ALA LEU PRO LEU VAL ILE THR GLU ASN GLY ALA ALA PHE HIS ASP TYR ALA ASP PRO GLU GLY ASN VAL ASN ASP PRO GLU ARG ILE ALA TYR VAL ARG ASP HIS LEU ALA ALA VAL HIS ARG ALA ILE LYS ASP GLY SER ASP VAL ARG GLY TYR PHE LEU TRP SER LEU LEU ASP ASN PHE GLU TRP ALA HIS GLY TYR SER LYS ARG PHE GLY ALA VAL TYR VAL ASP TYR PRO THR GLY THR ARG ILE PRO LYS ALA SER ALA ARG TRP TYR ALA GLU VAL ALA ARG THR GLY VAL LEU PRO THR ALA GLY ASP PRO ASN SER SER SER VAL ASP LYS LEU ALA ALA ALA LEU GLU HIS HIS HIS HIS HIS HIS\n"
     ]
    }
   ],
   "source": [
    "protein_seq_bgl3 = get_expanded_seq(string_seq)\n",
    "print(protein_seq_bgl3)"
   ]
  },
  {
   "cell_type": "code",
   "execution_count": 63,
   "id": "97b4d710",
   "metadata": {},
   "outputs": [
    {
     "name": "stdout",
     "output_type": "stream",
     "text": [
      "501\n"
     ]
    }
   ],
   "source": [
    "split = protein_seq_bgl3.split()\n",
    "print(len(split))"
   ]
  },
  {
   "cell_type": "code",
   "execution_count": 66,
   "id": "26360a70",
   "metadata": {},
   "outputs": [],
   "source": [
    "# split variant name into wild-type, position, and mutation type\n",
    "bgl3_mut = bgl3_df[\"variant\"].str.split(\",\")\n",
    "bgl3_df[\"WILD_TYPE_RES\"] = get_wild_type(bgl3_mut)\n",
    "bgl3_df[\"MUTATED_RES\"] = get_mutation_type(bgl3_mut)\n",
    "bgl3_df[\"POSITION\"] = get_position(bgl3_mut)\n",
    "bgl3_df[\"variant\"] = get_mutations_names_list(bgl3_df)"
   ]
  },
  {
   "cell_type": "code",
   "execution_count": 67,
   "id": "0863038f",
   "metadata": {},
   "outputs": [],
   "source": [
    "bgl3_df[\"positions_split\"] = get_positions_split(bgl3_df)"
   ]
  },
  {
   "cell_type": "code",
   "execution_count": null,
   "id": "4cad45b2",
   "metadata": {},
   "outputs": [],
   "source": [
    "def get_domain_dataset(orig_df, start, end, not_included_list):\n",
    "    in_domain_list = []\n",
    "    \n",
    "    for val in orig_df[\"positions_split\"]:\n",
    "        for position in val:\n",
    "            if not_included_list.count(position - start) == 0: # if value is not in the list of values to exclude\n",
    "                if position >= start and position < end:\n",
    "                    in_domain = True\n",
    "            else:\n",
    "                in_domain = False\n",
    "        in_domain_list.append(in_domain)\n",
    "    \n",
    "    orig_df['in_domain'] = in_domain_list\n",
    "    # print(in_domain_list)\n",
    "    condition = orig_df['in_domain'] == True\n",
    "    rows = orig_df.loc[condition, :]\n",
    "    \n",
    "    in_domain_df = pd.DataFrame(columns=orig_df.columns)\n",
    "    in_domain_df = in_domain_df.append(rows, ignore_index=True)\n",
    "    in_domain_df = in_domain_df.drop(['in_domain'], axis=1)\n",
    "    return in_domain_df"
   ]
  },
  {
   "cell_type": "code",
   "execution_count": 69,
   "id": "2610e6b0",
   "metadata": {},
   "outputs": [],
   "source": [
    "bgl3_in_domain_df = get_domain_dataset(bgl3_df, 0, 550, not_included_bgl3) # ending is larger than sequence length bc. all mutations inside"
   ]
  },
  {
   "cell_type": "code",
   "execution_count": 70,
   "id": "f99d15c9",
   "metadata": {},
   "outputs": [],
   "source": [
    "bgl3_ss_df = get_ss_dataset(bgl3_in_domain_df, bgl3_ss_indexes, 0)\n",
    "print(len(bgl3_ss_df))\n",
    "bgl3_ss_df_3000 = bgl3_ss_df.sample(n=2880)"
   ]
  },
  {
   "cell_type": "code",
   "execution_count": 73,
   "id": "8b8d4ed2",
   "metadata": {},
   "outputs": [
    {
     "name": "stdout",
     "output_type": "stream",
     "text": [
      "7537\n"
     ]
    }
   ],
   "source": [
    "bgl3_not_ss_df = get_not_ss_dataset(bgl3_in_domain_df, bgl3_ss_indexes, 0)\n",
    "print(len(bgl3_not_ss_df))\n",
    "bgl3_not_ss_df_3000 = bgl3_not_ss_df.sample(n=2880)"
   ]
  },
  {
   "cell_type": "code",
   "execution_count": 77,
   "id": "62b4d3c6",
   "metadata": {},
   "outputs": [
    {
     "name": "stdout",
     "output_type": "stream",
     "text": [
      "Filename: bgl3_MLformat_ss_3000_lim.txt\n",
      "Filename: pab1_MLformat_not_ss_3000_lim.txt\n"
     ]
    }
   ],
   "source": [
    "# write data to formatted txt file\n",
    "\n",
    "write_data_file(\"bgl3_MLformat_ss_3000_lim\", protein_seq_bgl3, bgl3_ss_df_3000)\n",
    "write_data_file(\"pab1_MLformat_not_ss_3000_lim\", protein_seq_bgl3, bgl3_not_ss_df_3000)"
   ]
  },
  {
   "cell_type": "markdown",
   "id": "e1d27ff8",
   "metadata": {},
   "source": [
    "## Ube4B"
   ]
  },
  {
   "cell_type": "code",
   "execution_count": 78,
   "id": "a9a214a0",
   "metadata": {},
   "outputs": [],
   "source": [
    "ube4b_stride_file = open('ube4b_stride.txt', 'r')"
   ]
  },
  {
   "cell_type": "code",
   "execution_count": 79,
   "id": "48cc9526",
   "metadata": {},
   "outputs": [],
   "source": [
    "ube4b_ss_indexes = get_sec_struc_boolean(ube4b_stride_file)"
   ]
  },
  {
   "cell_type": "code",
   "execution_count": 80,
   "id": "95bcc598",
   "metadata": {},
   "outputs": [
    {
     "name": "stdout",
     "output_type": "stream",
     "text": [
      "102\n",
      "[False, False, False, False, False, False, False, True, True, True, True, True, True, True, False, False, False, False, False, False, False, False, False, False, False, False, False, False, False, True, True, True, True, True, False, False, False, False, True, True, False, False, False, True, True, True, True, False, False, False, True, True, True, True, True, True, True, True, True, True, True, True, True, False, False, False, True, True, False, False, False, False, True, True, False, False, False, False, False, False, True, True, False, True, True, True, True, True, True, True, True, True, True, True, True, True, True, True, True, False, False, False]\n"
     ]
    }
   ],
   "source": [
    "print(len(ube4b_ss_indexes))\n",
    "print(ube4b_ss_indexes)"
   ]
  },
  {
   "cell_type": "code",
   "execution_count": 81,
   "id": "8974bc68",
   "metadata": {},
   "outputs": [
    {
     "name": "stdout",
     "output_type": "stream",
     "text": [
      "95\n",
      "[7, 8, 9, 10, 11, 12, 13, 29, 30, 31, 32, 33, 38, 39, 43, 44, 45, 46, 50, 51, 52, 53, 54, 55, 56, 57, 58, 59, 60, 61, 62, 66, 67, 72, 73, 80, 81, 83, 84, 85, 86, 87, 88, 89, 90, 91, 92, 93, 94, 95, 96, 97, 98]\n",
      "[96, 97, 98]\n"
     ]
    }
   ],
   "source": [
    "# index of 23rd true\n",
    "\n",
    "highest_true_index = [i for i, n in enumerate(ube4b_ss_indexes) if n == True][49]\n",
    "print(highest_true_index)\n",
    "# need list of indices past this index\n",
    "\n",
    "true_indices = [i for i,val in enumerate(ube4b_ss_indexes) if val==True]\n",
    "print(true_indices)\n",
    "\n",
    "not_included_ube4b = [i for i in true_indices if i > highest_true_index]\n",
    "# [x for x in a if x <= 5]\n",
    "print(not_included_ube4b)"
   ]
  },
  {
   "cell_type": "code",
   "execution_count": 84,
   "id": "c071e5a8",
   "metadata": {},
   "outputs": [
    {
     "name": "stdout",
     "output_type": "stream",
     "text": [
      "49\n",
      "53\n"
     ]
    }
   ],
   "source": [
    "# number of mutations in secondary structure (True), and not in secondary structure (False)\n",
    "count_false = ube4b_ss_indexes.count(False)\n",
    "print(count_false)\n",
    "\n",
    "count_true = ube4b_ss_indexes.count(True)\n",
    "print(count_true)"
   ]
  },
  {
   "cell_type": "code",
   "execution_count": 85,
   "id": "6f5eada7",
   "metadata": {},
   "outputs": [
    {
     "name": "stdout",
     "output_type": "stream",
     "text": [
      "98297\n",
      "Index(['variant', 'num_mutations', 'score'], dtype='object')\n"
     ]
    }
   ],
   "source": [
    "# importing Ube4b data from Gelman et al.\n",
    "ube4b_df1 = pd.read_csv(\"ube4b.tsv.txt\", sep=\"\\t\")\n",
    "ube4b_df = ube4b_df1.dropna()\n",
    "print(len(ube4b_df))\n",
    "print(ube4b_df.columns)"
   ]
  },
  {
   "cell_type": "code",
   "execution_count": 86,
   "id": "08b1e5b8",
   "metadata": {},
   "outputs": [
    {
     "name": "stdout",
     "output_type": "stream",
     "text": [
      "98297\n",
      "91031\n"
     ]
    }
   ],
   "source": [
    "# rounding score column to 6 decimal points\n",
    "ube4b_df[\"score\"] = ube4b_df[\"score\"].round(6)\n",
    "print(len(ube4b_df))\n",
    "\n",
    "# remove values with wildcard star\n",
    "ube4b_df = ube4b_df[ube4b_df[\"variant\"].str.contains(\"\\*\") == False]\n",
    "print(len(ube4b_df))"
   ]
  },
  {
   "cell_type": "code",
   "execution_count": 88,
   "id": "99e2ef8f",
   "metadata": {},
   "outputs": [
    {
     "name": "stdout",
     "output_type": "stream",
     "text": [
      "1173\n"
     ]
    }
   ],
   "source": [
    "protein_seq_ube4b = get_protein_seq(\"Q9ES00\")\n",
    "split_entire = protein_seq_ube4b.split()\n",
    "print(len(split_entire))"
   ]
  },
  {
   "cell_type": "code",
   "execution_count": 90,
   "id": "97916a6b",
   "metadata": {},
   "outputs": [],
   "source": [
    "string_seq = \"IEKFKLLAEKVEEIVAKNARAEIDYSDAPDEFRDPLMDTLMTDPVRLPSGTVMDRSIILRHLLNSPTDPFNRQMLTESMLEPVPELKEQIQAWMREKQSSDH\"\n",
    "print(len(string_seq))"
   ]
  },
  {
   "cell_type": "code",
   "execution_count": 90,
   "id": "360f08e8",
   "metadata": {},
   "outputs": [
    {
     "name": "stdout",
     "output_type": "stream",
     "text": [
      "ILE GLU LYS PHE LYS LEU LEU ALA GLU LYS VAL GLU GLU ILE VAL ALA LYS ASN ALA ARG ALA GLU ILE ASP TYR SER ASP ALA PRO ASP GLU PHE ARG ASP PRO LEU MET ASP THR LEU MET THR ASP PRO VAL ARG LEU PRO SER GLY THR VAL MET ASP ARG SER ILE ILE LEU ARG HIS LEU LEU ASN SER PRO THR ASP PRO PHE ASN ARG GLN MET LEU THR GLU SER MET LEU GLU PRO VAL PRO GLU LEU LYS GLU GLN ILE GLN ALA TRP MET ARG GLU LYS GLN SER SER ASP HIS\n"
     ]
    }
   ],
   "source": [
    "def get_expanded_seq(seq):\n",
    "    expanded_list = []\n",
    "    split_seq = list(seq)\n",
    "    for letter in split_seq:\n",
    "        three_letter_abbr = Bio.PDB.Polypeptide.one_to_three(letter)\n",
    "        expanded_list.append(three_letter_abbr)\n",
    "    exanded_string = \" \".join(expanded_list)\n",
    "    return(exanded_string)\n",
    "    \n",
    "protein_seq_ube4b_domain = get_expanded_seq(string_seq)\n",
    "print(protein_seq_ube4b_domain)"
   ]
  },
  {
   "cell_type": "code",
   "execution_count": 95,
   "id": "9dd10e79",
   "metadata": {},
   "outputs": [
    {
     "name": "stdout",
     "output_type": "stream",
     "text": [
      "102\n",
      "PHE\n"
     ]
    }
   ],
   "source": [
    "split = protein_seq_ube4b_domain.split()\n",
    "print(len(split)) \n",
    "# correct sequence ->\n",
    "print(split[3])"
   ]
  },
  {
   "cell_type": "code",
   "execution_count": null,
   "id": "2d33402b",
   "metadata": {},
   "outputs": [],
   "source": [
    "# index of domain inside protein\n",
    "\n",
    "indexes = []\n",
    "for i in range(len(split_list)):\n",
    "    if split_list[i:i+len(split)] == split:\n",
    "        indexes.append((i, i+len(split)))\n",
    "print(indexes)"
   ]
  },
  {
   "cell_type": "code",
   "execution_count": 1,
   "id": "bfb86cf3",
   "metadata": {},
   "outputs": [
    {
     "ename": "NameError",
     "evalue": "name 'ube4b_df' is not defined",
     "output_type": "error",
     "traceback": [
      "\u001b[1;31m---------------------------------------------------------------------------\u001b[0m",
      "\u001b[1;31mNameError\u001b[0m                                 Traceback (most recent call last)",
      "\u001b[1;32m~\\AppData\\Local\\Temp/ipykernel_13928/2097795796.py\u001b[0m in \u001b[0;36m<module>\u001b[1;34m\u001b[0m\n\u001b[1;32m----> 1\u001b[1;33m \u001b[0mube4b_mut\u001b[0m \u001b[1;33m=\u001b[0m \u001b[0mube4b_df\u001b[0m\u001b[1;33m[\u001b[0m\u001b[1;34m\"variant\"\u001b[0m\u001b[1;33m]\u001b[0m\u001b[1;33m.\u001b[0m\u001b[0mstr\u001b[0m\u001b[1;33m.\u001b[0m\u001b[0msplit\u001b[0m\u001b[1;33m(\u001b[0m\u001b[1;34m\",\"\u001b[0m\u001b[1;33m)\u001b[0m\u001b[1;33m\u001b[0m\u001b[1;33m\u001b[0m\u001b[0m\n\u001b[0m\u001b[0;32m      2\u001b[0m \u001b[1;33m\u001b[0m\u001b[0m\n\u001b[0;32m      3\u001b[0m \u001b[0mube4b_df\u001b[0m\u001b[1;33m[\u001b[0m\u001b[1;34m\"WILD_TYPE_RES\"\u001b[0m\u001b[1;33m]\u001b[0m \u001b[1;33m=\u001b[0m \u001b[0mget_wild_type\u001b[0m\u001b[1;33m(\u001b[0m\u001b[0mube4b_mut\u001b[0m\u001b[1;33m)\u001b[0m\u001b[1;33m\u001b[0m\u001b[1;33m\u001b[0m\u001b[0m\n\u001b[0;32m      4\u001b[0m \u001b[0mube4b_df\u001b[0m\u001b[1;33m[\u001b[0m\u001b[1;34m\"MUTATED_RES\"\u001b[0m\u001b[1;33m]\u001b[0m \u001b[1;33m=\u001b[0m \u001b[0mget_mutation_type\u001b[0m\u001b[1;33m(\u001b[0m\u001b[0mube4b_mut\u001b[0m\u001b[1;33m)\u001b[0m\u001b[1;33m\u001b[0m\u001b[1;33m\u001b[0m\u001b[0m\n\u001b[0;32m      5\u001b[0m \u001b[0mube4b_df\u001b[0m\u001b[1;33m[\u001b[0m\u001b[1;34m\"POSITION\"\u001b[0m\u001b[1;33m]\u001b[0m \u001b[1;33m=\u001b[0m \u001b[0mget_position\u001b[0m\u001b[1;33m(\u001b[0m\u001b[0mube4b_mut\u001b[0m\u001b[1;33m)\u001b[0m\u001b[1;33m\u001b[0m\u001b[1;33m\u001b[0m\u001b[0m\n",
      "\u001b[1;31mNameError\u001b[0m: name 'ube4b_df' is not defined"
     ]
    }
   ],
   "source": [
    "ube4b_mut = ube4b_df[\"variant\"].str.split(\",\")\n",
    "\n",
    "ube4b_df[\"WILD_TYPE_RES\"] = get_wild_type(ube4b_mut)\n",
    "ube4b_df[\"MUTATED_RES\"] = get_mutation_type(ube4b_mut)\n",
    "ube4b_df[\"POSITION\"] = get_position(ube4b_mut)\n",
    "\n",
    "ube4b_df[\"variant\"] = get_mutations_names_list(ube4b_df)\n",
    "print(ube4b_df.columns)"
   ]
  },
  {
   "cell_type": "code",
   "execution_count": 116,
   "id": "8eb45b39",
   "metadata": {},
   "outputs": [
    {
     "name": "stdout",
     "output_type": "stream",
     "text": [
      "<class 'int'>\n"
     ]
    }
   ],
   "source": [
    "position_list_split = []\n",
    "\n",
    "for item in ube4b_df[\"POSITION\"]:\n",
    "    item = item.split(\",\") # splits positions into list\n",
    "    int_item = [int(i) for i in item]\n",
    "    position_list_split.append(int_item)\n",
    "\n",
    "var = position_list_split[0]\n",
    "print(type(var[0]))"
   ]
  },
  {
   "cell_type": "code",
   "execution_count": 117,
   "id": "14216eed",
   "metadata": {},
   "outputs": [],
   "source": [
    "ube4b_df[\"positions_split\"] = position_list_split"
   ]
  },
  {
   "cell_type": "code",
   "execution_count": 126,
   "id": "e7e9c6cc",
   "metadata": {},
   "outputs": [
    {
     "name": "stdout",
     "output_type": "stream",
     "text": [
      "81832\n"
     ]
    }
   ],
   "source": [
    "# ube4b_in_domain_df = get_domain_dataset(ube4b_df, 0, 1200)\n",
    "ube4b_in_domain_df = get_domain_dataset(ube4b_df, 0, 2000, not_included_ube4b)\n",
    "print(len(ube4b_in_domain_df))"
   ]
  },
  {
   "cell_type": "code",
   "execution_count": 77,
   "id": "2eb33acc",
   "metadata": {},
   "outputs": [
    {
     "name": "stdout",
     "output_type": "stream",
     "text": [
      "0                [52, 63, 70, 73]\n",
      "1                    [36, 52, 96]\n",
      "2                        [16, 35]\n",
      "3                     [2, 37, 52]\n",
      "4                     [5, 52, 95]\n",
      "5                    [37, 52, 98]\n",
      "6                    [52, 70, 88]\n",
      "7                    [24, 52, 69]\n",
      "8                        [17, 70]\n",
      "9                     [6, 52, 73]\n",
      "10                  [18, 67, 101]\n",
      "11                        [3, 50]\n",
      "12                   [52, 63, 98]\n",
      "13                    [9, 52, 55]\n",
      "14                       [52, 70]\n",
      "15                   [12, 37, 70]\n",
      "16                [6, 15, 19, 52]\n",
      "17                  [52, 96, 101]\n",
      "18                    [8, 52, 98]\n",
      "19                       [23, 52]\n",
      "20                       [52, 70]\n",
      "21                   [15, 23, 52]\n",
      "22                  [27, 52, 101]\n",
      "23                       [52, 70]\n",
      "24                    [8, 52, 72]\n",
      "25               [16, 50, 52, 70]\n",
      "26                   [24, 52, 95]\n",
      "27                    [3, 17, 52]\n",
      "28                   [36, 52, 90]\n",
      "29                       [52, 97]\n",
      "30                   [19, 52, 93]\n",
      "31                   [52, 70, 96]\n",
      "32           [6, 52, 73, 77, 100]\n",
      "33                       [16, 93]\n",
      "34                    [8, 24, 52]\n",
      "35                    [2, 52, 56]\n",
      "36                        [9, 69]\n",
      "37              [15, 72, 95, 100]\n",
      "38                       [50, 64]\n",
      "39                    [5, 22, 52]\n",
      "40                   [19, 52, 95]\n",
      "41                   [12, 25, 52]\n",
      "42                       [52, 70]\n",
      "43                     [1, 9, 52]\n",
      "44                        [6, 67]\n",
      "45                    [7, 52, 89]\n",
      "46                      [52, 100]\n",
      "47                       [76, 87]\n",
      "48               [11, 22, 52, 90]\n",
      "49               [15, 26, 67, 70]\n",
      "50                   [13, 52, 93]\n",
      "51                   [18, 52, 67]\n",
      "52                    [0, 19, 52]\n",
      "53                       [67, 70]\n",
      "54                       [21, 52]\n",
      "55                   [52, 87, 90]\n",
      "56                       [52, 97]\n",
      "57                       [69, 70]\n",
      "58                       [19, 52]\n",
      "59                       [52, 98]\n",
      "60                   [19, 20, 52]\n",
      "61                       [14, 67]\n",
      "62                       [76, 95]\n",
      "63               [12, 20, 52, 99]\n",
      "64                       [21, 70]\n",
      "65                  [19, 52, 101]\n",
      "66                        [7, 84]\n",
      "67                    [4, 17, 52]\n",
      "68               [20, 52, 73, 82]\n",
      "69                  [13, 52, 100]\n",
      "70                   [52, 67, 93]\n",
      "71                   [23, 38, 52]\n",
      "72                       [70, 96]\n",
      "73                   [52, 69, 88]\n",
      "74                       [18, 67]\n",
      "75                  [70, 77, 101]\n",
      "76                       [52, 70]\n",
      "77                       [20, 36]\n",
      "78                   [52, 77, 80]\n",
      "79                    [6, 10, 52]\n",
      "80                   [40, 52, 70]\n",
      "81                   [11, 56, 94]\n",
      "82                [2, 42, 52, 70]\n",
      "83               [52, 62, 67, 80]\n",
      "84                   [14, 52, 70]\n",
      "85              [16, 52, 70, 101]\n",
      "86                       [14, 25]\n",
      "87                   [19, 52, 70]\n",
      "88                        [0, 52]\n",
      "89                    [7, 52, 95]\n",
      "90                       [37, 70]\n",
      "91                   [25, 52, 80]\n",
      "92                       [52, 98]\n",
      "93                        [3, 52]\n",
      "94                    [7, 52, 63]\n",
      "95                       [52, 99]\n",
      "96                   [52, 65, 70]\n",
      "97                   [13, 52, 99]\n",
      "98               [26, 42, 52, 70]\n",
      "99                       [20, 52]\n",
      "100                 [52, 62, 101]\n",
      "101                       [4, 52]\n",
      "102                  [11, 83, 91]\n",
      "103                      [96, 98]\n",
      "104               [1, 52, 91, 93]\n",
      "105                      [52, 62]\n",
      "106                          [52]\n",
      "107                      [24, 30]\n",
      "108                      [11, 67]\n",
      "109              [10, 17, 52, 93]\n",
      "110                      [24, 70]\n",
      "111               [6, 22, 52, 94]\n",
      "112                      [52, 69]\n",
      "113                  [16, 24, 52]\n",
      "114                        [4, 9]\n",
      "115                  [13, 37, 52]\n",
      "116                      [39, 52]\n",
      "117                   [5, 52, 94]\n",
      "118                       [7, 52]\n",
      "119              [41, 52, 97, 98]\n",
      "120                  [52, 77, 98]\n",
      "121                  [52, 76, 90]\n",
      "122                       [7, 22]\n",
      "123                   [6, 16, 52]\n",
      "124                  [52, 67, 93]\n",
      "125                  [23, 93, 94]\n",
      "126                      [52, 56]\n",
      "127       [9, 15, 31, 52, 70, 88]\n",
      "128                       [7, 21]\n",
      "129               [6, 52, 80, 87]\n",
      "130                 [52, 73, 101]\n",
      "131                  [16, 20, 67]\n",
      "132              [20, 52, 55, 95]\n",
      "133                  [14, 25, 52]\n",
      "134                  [10, 12, 52]\n",
      "135                      [67, 91]\n",
      "136                      [24, 87]\n",
      "137                      [12, 52]\n",
      "138               [1, 52, 62, 97]\n",
      "139                  [52, 93, 95]\n",
      "140                      [37, 52]\n",
      "141                      [16, 52]\n",
      "142                      [15, 52]\n",
      "143                      [26, 52]\n",
      "144                       [1, 52]\n",
      "145                  [14, 16, 52]\n",
      "146               [9, 52, 70, 97]\n",
      "147                  [19, 22, 52]\n",
      "148                      [52, 84]\n",
      "149                       [7, 52]\n",
      "150                   [6, 52, 99]\n",
      "151          [9, 14, 52, 62, 101]\n",
      "152                      [24, 52]\n",
      "153                      [22, 52]\n",
      "154                      [62, 99]\n",
      "155                  [25, 52, 62]\n",
      "156                  [52, 70, 75]\n",
      "157                  [52, 62, 67]\n",
      "158                      [20, 52]\n",
      "159                   [3, 52, 67]\n",
      "160                  [52, 63, 98]\n",
      "161                      [52, 65]\n",
      "162                      [19, 70]\n",
      "163                      [25, 52]\n",
      "164              [15, 22, 52, 97]\n",
      "165                      [19, 52]\n",
      "166              [20, 23, 52, 88]\n",
      "167                      [17, 52]\n",
      "168                       [4, 52]\n",
      "169                       [9, 52]\n",
      "170                  [11, 18, 52]\n",
      "171              [15, 25, 37, 52]\n",
      "172                      [15, 69]\n",
      "173                      [42, 52]\n",
      "174                      [22, 52]\n",
      "175                  [52, 98, 99]\n",
      "176                      [52, 61]\n",
      "177                      [18, 67]\n",
      "178                      [52, 99]\n",
      "179                       [6, 52]\n",
      "180                  [10, 52, 80]\n",
      "181                 [52, 67, 100]\n",
      "182                   [3, 19, 52]\n",
      "183                      [70, 78]\n",
      "184                  [22, 52, 99]\n",
      "185                  [19, 52, 87]\n",
      "187                      [19, 67]\n",
      "188                  [29, 52, 96]\n",
      "189                      [35, 95]\n",
      "190                 [52, 84, 101]\n",
      "191                      [30, 63]\n",
      "192              [16, 24, 67, 93]\n",
      "193                 [23, 95, 100]\n",
      "194              [18, 37, 52, 91]\n",
      "195                   [4, 52, 84]\n",
      "196                  [19, 52, 73]\n",
      "197                      [52, 96]\n",
      "198              [10, 31, 34, 52]\n",
      "199        [4, 7, 12, 52, 63, 65]\n",
      "200                   [9, 37, 52]\n",
      "201                      [52, 95]\n",
      "202                  [52, 69, 90]\n",
      "203                      [52, 93]\n",
      "204                       [5, 97]\n",
      "205                  [25, 52, 56]\n",
      "206                      [52, 98]\n",
      "207                  [11, 52, 90]\n",
      "208                 [52, 72, 101]\n",
      "209              [16, 18, 84, 97]\n",
      "210              [12, 23, 30, 87]\n",
      "211                 [23, 52, 101]\n",
      "212                      [22, 67]\n",
      "213                      [14, 52]\n",
      "214                    [4, 9, 52]\n",
      "215                  [30, 52, 77]\n",
      "216                  [20, 23, 52]\n",
      "217                       [5, 75]\n",
      "218                  [67, 87, 98]\n",
      "219                      [17, 52]\n",
      "220          [10, 14, 52, 76, 90]\n",
      "221                      [67, 80]\n",
      "222                 [52, 93, 100]\n",
      "223                      [25, 52]\n",
      "224                  [32, 52, 84]\n",
      "225                  [24, 25, 81]\n",
      "226                      [37, 52]\n",
      "227              [22, 52, 80, 93]\n",
      "228                  [25, 30, 52]\n",
      "229                      [52, 69]\n",
      "230                   [6, 19, 52]\n",
      "231                       [4, 69]\n",
      "232              [24, 52, 87, 90]\n",
      "233               [0, 16, 24, 67]\n",
      "234                   [0, 52, 80]\n",
      "235                      [52, 67]\n",
      "236                      [37, 52]\n",
      "237                  [10, 52, 93]\n",
      "238                 [52, 87, 100]\n",
      "239                [1, 7, 52, 90]\n",
      "240                  [52, 93, 95]\n",
      "241                      [52, 96]\n",
      "242                   [7, 11, 70]\n",
      "243                   [6, 97, 98]\n",
      "244                      [70, 81]\n",
      "245                  [70, 91, 96]\n",
      "246                  [9, 52, 100]\n",
      "247                  [12, 14, 95]\n",
      "248                      [22, 52]\n",
      "249                      [23, 52]\n",
      "250                      [52, 73]\n",
      "251                      [20, 52]\n",
      "252                       [6, 52]\n",
      "253                      [22, 52]\n",
      "254                   [3, 26, 99]\n",
      "255                  [14, 67, 87]\n",
      "256                   [6, 25, 52]\n",
      "257                  [15, 52, 93]\n",
      "258                      [27, 52]\n",
      "259              [52, 80, 93, 95]\n",
      "260                  [15, 52, 91]\n",
      "261                   [0, 25, 52]\n",
      "262                      [30, 70]\n",
      "263                      [52, 93]\n",
      "264               [2, 15, 52, 75]\n",
      "265                      [27, 95]\n",
      "266                  [52, 80, 93]\n",
      "267                      [67, 99]\n",
      "268                       [9, 73]\n",
      "269                  [10, 52, 80]\n",
      "271                   [7, 52, 94]\n",
      "272                      [70, 72]\n",
      "273                      [52, 86]\n",
      "274              [17, 18, 52, 97]\n",
      "275                  [52, 67, 99]\n",
      "276                      [30, 52]\n",
      "277                  [13, 52, 94]\n",
      "278                      [17, 52]\n",
      "279                       [7, 16]\n",
      "280                      [14, 52]\n",
      "281                      [12, 52]\n",
      "282                  [21, 52, 96]\n",
      "283                  [16, 52, 88]\n",
      "284                      [19, 52]\n",
      "285                      [52, 96]\n",
      "286                  [52, 93, 99]\n",
      "287                  [52, 89, 96]\n",
      "288                      [52, 96]\n",
      "289                  [12, 52, 77]\n",
      "290                  [27, 67, 96]\n",
      "291                      [52, 97]\n",
      "292                       [6, 52]\n",
      "293                  [18, 52, 90]\n",
      "294                      [52, 90]\n",
      "295                      [52, 84]\n",
      "296           [7, 34, 52, 62, 77]\n",
      "297                      [20, 52]\n",
      "298                      [30, 52]\n",
      "299                   [6, 52, 98]\n",
      "300                  [52, 62, 95]\n",
      "301                      [19, 52]\n",
      "302                  [25, 37, 52]\n",
      "303                  [26, 27, 52]\n",
      "304                      [52, 82]\n",
      "305                      [52, 63]\n",
      "306                  [36, 52, 72]\n",
      "307                      [15, 91]\n",
      "308             [12, 52, 90, 101]\n",
      "309                      [52, 98]\n",
      "310                   [8, 52, 97]\n",
      "311                      [11, 67]\n",
      "312                      [70, 76]\n",
      "313             [36, 63, 67, 100]\n",
      "314                      [52, 77]\n",
      "315                   [5, 52, 67]\n",
      "316                   [6, 17, 27]\n",
      "317                  [52, 91, 99]\n",
      "318                  [37, 52, 95]\n",
      "319               [7, 12, 52, 76]\n",
      "320                      [72, 93]\n",
      "321                   [7, 20, 52]\n",
      "322                       [7, 67]\n",
      "323                  [18, 52, 77]\n",
      "324                  [31, 70, 72]\n",
      "325                      [16, 52]\n",
      "326                      [37, 52]\n",
      "327                  [67, 93, 99]\n",
      "328                  [80, 87, 96]\n",
      "329                    [2, 6, 99]\n",
      "330                   [9, 11, 19]\n",
      "331                   [2, 52, 93]\n",
      "332                   [5, 36, 40]\n",
      "333                 [52, 93, 100]\n",
      "334                      [12, 52]\n",
      "335                       [4, 52]\n",
      "336              [14, 30, 52, 95]\n",
      "337                      [10, 52]\n",
      "338                  [25, 52, 69]\n",
      "339                  [67, 73, 82]\n",
      "340                      [52, 73]\n",
      "341                     [52, 101]\n",
      "342                    [3, 5, 52]\n",
      "343                  [16, 25, 70]\n",
      "344                      [26, 52]\n",
      "345                  [14, 22, 52]\n",
      "346                  [12, 52, 67]\n",
      "347                  [14, 15, 36]\n",
      "348               [3, 52, 69, 94]\n",
      "349                      [52, 88]\n",
      "350                      [73, 97]\n",
      "351                       [5, 52]\n",
      "352                 [52, 67, 101]\n",
      "353                   [9, 76, 91]\n",
      "354                      [52, 72]\n",
      "355                   [1, 52, 91]\n",
      "356                      [62, 99]\n",
      "357                     [52, 100]\n",
      "358                      [52, 87]\n",
      "359                      [35, 73]\n",
      "360                      [19, 96]\n",
      "361                      [16, 52]\n",
      "362                 [15, 67, 101]\n",
      "363              [23, 24, 52, 62]\n",
      "364                      [34, 73]\n",
      "365                   [7, 16, 52]\n",
      "366                       [9, 52]\n",
      "367                  [19, 27, 67]\n",
      "368           [4, 11, 18, 52, 74]\n",
      "369           [0, 18, 20, 52, 93]\n",
      "370                  [12, 24, 52]\n",
      "371                  [10, 29, 52]\n",
      "372                 [11, 52, 101]\n",
      "373                  [52, 84, 91]\n",
      "374                  [32, 42, 52]\n",
      "375                  [15, 52, 93]\n",
      "376                  [24, 70, 96]\n",
      "377                       [8, 52]\n",
      "378                      [16, 52]\n",
      "379             [52, 93, 99, 101]\n",
      "380                 [52, 72, 100]\n",
      "381                      [25, 52]\n",
      "382                   [6, 12, 52]\n",
      "383                      [15, 52]\n",
      "384                   [8, 41, 52]\n",
      "385                      [36, 52]\n",
      "386                   [9, 52, 99]\n",
      "387                      [24, 75]\n",
      "388              [15, 17, 21, 52]\n",
      "389                  [41, 52, 97]\n",
      "390                      [25, 70]\n",
      "391                     [52, 100]\n",
      "392                      [32, 52]\n",
      "393                  [16, 52, 91]\n",
      "394              [20, 52, 77, 97]\n",
      "395                      [23, 95]\n",
      "396                      [52, 83]\n",
      "397               [4, 22, 25, 67]\n",
      "398                  [7, 52, 101]\n",
      "399                  [19, 52, 84]\n",
      "400                       [7, 52]\n",
      "401                      [52, 95]\n",
      "402                  [25, 37, 99]\n",
      "403              [8, 78, 99, 101]\n",
      "404                 [21, 52, 101]\n",
      "405                  [10, 52, 96]\n",
      "406                      [17, 52]\n",
      "407                   [8, 80, 97]\n",
      "408                      [51, 52]\n",
      "409         [25, 52, 84, 93, 100]\n",
      "410                      [10, 52]\n",
      "411                      [8, 100]\n",
      "412                  [52, 94, 98]\n",
      "413                  [20, 52, 93]\n",
      "414                       [2, 91]\n",
      "415              [19, 20, 52, 80]\n",
      "416                      [70, 99]\n",
      "417                   [9, 52, 80]\n",
      "418                      [52, 80]\n",
      "419              [16, 52, 80, 84]\n",
      "420      [14, 19, 20, 52, 63, 94]\n",
      "421                      [19, 97]\n",
      "422                       [5, 52]\n",
      "423                  [10, 26, 52]\n",
      "424                  [14, 25, 52]\n",
      "425                      [52, 99]\n",
      "426                      [29, 52]\n",
      "427                      [25, 52]\n",
      "428                  [25, 52, 62]\n",
      "429                    [0, 9, 52]\n",
      "430                      [90, 91]\n",
      "431                      [52, 91]\n",
      "432                      [20, 52]\n",
      "433                      [22, 52]\n",
      "434          [18, 22, 25, 26, 70]\n",
      "435                      [25, 52]\n",
      "436                      [25, 90]\n",
      "437                     [52, 100]\n",
      "438                      [14, 52]\n",
      "439              [24, 52, 94, 95]\n",
      "440                 [52, 94, 100]\n",
      "441                      [52, 73]\n",
      "442                      [37, 87]\n",
      "443                [7, 8, 85, 96]\n",
      "444                  [30, 52, 84]\n",
      "445                       [5, 52]\n",
      "446                   [6, 52, 88]\n",
      "447                      [31, 52]\n",
      "448               [1, 10, 52, 93]\n",
      "449                  [18, 52, 97]\n",
      "450                       [3, 52]\n",
      "451                  [52, 65, 99]\n",
      "452                 [14, 39, 100]\n",
      "453                      [52, 96]\n",
      "454                 [52, 82, 101]\n",
      "455              [0, 11, 52, 101]\n",
      "456                      [25, 52]\n",
      "457                  [52, 81, 93]\n",
      "458                      [16, 52]\n",
      "459                     [52, 101]\n",
      "460               [6, 23, 37, 52]\n",
      "461                   [2, 52, 94]\n",
      "462                       [5, 96]\n",
      "463                      [21, 91]\n",
      "464                      [52, 67]\n",
      "465                      [15, 52]\n",
      "466                      [52, 90]\n",
      "467                 [16, 67, 100]\n",
      "468                  [18, 52, 67]\n",
      "469                      [52, 91]\n",
      "470               [3, 7, 52, 100]\n",
      "471                  [15, 22, 94]\n",
      "472               [9, 52, 75, 99]\n",
      "473             [21, 52, 93, 100]\n",
      "474                      [14, 52]\n",
      "475                  [14, 16, 24]\n",
      "476                      [16, 52]\n",
      "477                      [52, 99]\n",
      "478                          [25]\n",
      "479                  [18, 52, 86]\n",
      "480      [20, 21, 36, 52, 56, 90]\n",
      "481                  [13, 20, 52]\n",
      "482                  [36, 52, 76]\n",
      "483                  [25, 52, 86]\n",
      "484                      [52, 95]\n",
      "485                   [7, 52, 91]\n",
      "486                      [18, 52]\n",
      "487                  [52, 72, 95]\n",
      "488                  [15, 52, 56]\n",
      "489                       [2, 95]\n",
      "490              [1, 52, 75, 100]\n",
      "491                      [12, 52]\n",
      "492                  [15, 52, 98]\n",
      "493                  [32, 37, 56]\n",
      "494                  [13, 36, 52]\n",
      "495                  [0, 52, 101]\n",
      "496                      [52, 93]\n",
      "497                      [67, 94]\n",
      "498                       [3, 52]\n",
      "499                  [12, 19, 52]\n",
      "500                  [87, 93, 97]\n",
      "501                      [52, 95]\n",
      "502                      [52, 93]\n",
      "503                    [7, 8, 52]\n",
      "504                     [36, 101]\n",
      "505                   [2, 18, 52]\n",
      "506                  [32, 52, 70]\n",
      "507                      [18, 52]\n",
      "508                       [6, 52]\n",
      "509                      [13, 52]\n",
      "510                    [0, 3, 52]\n",
      "511                [5, 7, 52, 80]\n",
      "512                      [50, 52]\n",
      "513                      [11, 70]\n",
      "514                  [19, 52, 90]\n",
      "515                   [4, 13, 52]\n",
      "516                     [52, 100]\n",
      "517                      [15, 52]\n",
      "518             [13, 17, 52, 100]\n",
      "519                  [24, 56, 99]\n",
      "520                    [3, 5, 67]\n",
      "521                  [12, 52, 97]\n",
      "522                   [0, 27, 52]\n",
      "523                   [8, 52, 87]\n",
      "524                  [11, 32, 52]\n",
      "525                   [3, 52, 97]\n",
      "526                       [9, 52]\n",
      "527                  [18, 52, 73]\n",
      "528                      [62, 70]\n",
      "529                  [13, 21, 52]\n",
      "530                       [1, 52]\n",
      "531                  [21, 52, 62]\n",
      "532                  [18, 19, 52]\n",
      "533                      [15, 56]\n",
      "534                   [9, 16, 18]\n",
      "535                      [27, 67]\n",
      "536          [8, 38, 70, 99, 101]\n",
      "537                       [6, 52]\n",
      "538              [52, 80, 84, 90]\n",
      "539                   [5, 41, 52]\n",
      "540                   [7, 35, 75]\n",
      "541                      [52, 93]\n",
      "542                      [22, 52]\n",
      "543                      [52, 86]\n",
      "544                  [11, 52, 80]\n",
      "545                       [3, 52]\n",
      "546                      [52, 98]\n",
      "547                      [52, 63]\n",
      "548                      [26, 52]\n",
      "549                   [3, 23, 52]\n",
      "550                      [19, 26]\n",
      "551                     [52, 101]\n",
      "552                      [52, 80]\n",
      "553                      [52, 98]\n",
      "554                      [52, 63]\n",
      "555                       [9, 52]\n",
      "556                 [52, 72, 100]\n",
      "557                      [27, 52]\n",
      "558                   [7, 52, 96]\n",
      "559                  [12, 52, 63]\n",
      "560                   [5, 21, 52]\n",
      "561                      [18, 52]\n",
      "562                  [12, 52, 93]\n",
      "563         [13, 15, 22, 87, 101]\n",
      "564              [25, 77, 80, 84]\n",
      "565                       [2, 52]\n",
      "566                      [25, 67]\n",
      "567                      [52, 73]\n",
      "568                  [22, 52, 81]\n",
      "569                      [52, 99]\n",
      "570                  [16, 63, 81]\n",
      "571                      [37, 62]\n",
      "572                      [52, 77]\n",
      "573          [23, 62, 70, 73, 82]\n",
      "574                  [41, 87, 96]\n",
      "575                 [27, 52, 101]\n",
      "576                  [14, 52, 96]\n",
      "577                 [16, 84, 100]\n",
      "578                       [0, 52]\n",
      "579                  [63, 70, 93]\n",
      "580                      [52, 95]\n",
      "581                  [17, 52, 98]\n",
      "582                   [3, 19, 67]\n",
      "583                      [82, 83]\n",
      "584                  [11, 52, 93]\n",
      "585                      [73, 90]\n",
      "586                     [52, 101]\n",
      "587                      [18, 52]\n",
      "588                      [27, 70]\n",
      "589                      [19, 52]\n",
      "590                  [15, 52, 96]\n",
      "591                  [52, 73, 94]\n",
      "592                  [15, 35, 70]\n",
      "593                  [36, 52, 96]\n",
      "594                      [19, 78]\n",
      "595                       [3, 20]\n",
      "596                    [2, 5, 52]\n",
      "597                      [24, 52]\n",
      "598                  [25, 88, 98]\n",
      "599                     [52, 101]\n",
      "600                      [16, 24]\n",
      "601               [0, 15, 52, 95]\n",
      "602                     [52, 100]\n",
      "603                      [16, 75]\n",
      "604               [6, 21, 52, 63]\n",
      "605             [25, 32, 95, 101]\n",
      "606                       [0, 52]\n",
      "607                       [6, 52]\n",
      "608                  [20, 52, 73]\n",
      "609                       [4, 52]\n",
      "610                  [22, 30, 41]\n",
      "611                      [25, 41]\n",
      "612                      [13, 52]\n",
      "613                      [52, 94]\n",
      "614                      [16, 52]\n",
      "615                      [22, 70]\n",
      "616                       [9, 52]\n",
      "617                      [16, 67]\n",
      "618                   [9, 52, 84]\n",
      "619                 [12, 52, 101]\n",
      "620                  [27, 52, 65]\n",
      "621                      [67, 93]\n",
      "622                  [52, 62, 87]\n",
      "623                  [17, 52, 98]\n",
      "624                  [22, 41, 52]\n",
      "625                  [12, 24, 52]\n",
      "626                      [52, 95]\n",
      "627                      [23, 67]\n",
      "628                  [14, 67, 75]\n",
      "629                 [52, 78, 100]\n",
      "630                       [3, 48]\n",
      "631                  [27, 81, 96]\n",
      "632                  [25, 52, 97]\n",
      "633               [3, 52, 73, 87]\n",
      "634                      [52, 77]\n",
      "635                      [41, 70]\n",
      "636                      [52, 73]\n",
      "637                      [52, 59]\n",
      "638                      [13, 52]\n",
      "639              [56, 73, 84, 98]\n",
      "640              [23, 52, 67, 88]\n",
      "641                 [13, 67, 101]\n",
      "642                  [21, 24, 52]\n",
      "643                   [0, 45, 65]\n",
      "644              [11, 16, 52, 84]\n",
      "645                      [15, 38]\n",
      "646                  [17, 52, 84]\n",
      "647                      [12, 52]\n",
      "648              [12, 15, 52, 98]\n",
      "649                      [52, 62]\n",
      "650               [1, 37, 67, 90]\n",
      "651                  [22, 52, 91]\n",
      "652                     [52, 100]\n",
      "653                  [15, 20, 52]\n",
      "654                      [52, 83]\n",
      "655                      [15, 67]\n",
      "656                      [11, 25]\n",
      "657                      [52, 98]\n",
      "658              [52, 80, 93, 98]\n",
      "659              [19, 20, 63, 99]\n",
      "660                      [52, 84]\n",
      "661                 [10, 52, 100]\n",
      "662                   [9, 52, 97]\n",
      "663                      [52, 87]\n",
      "664              [6, 10, 88, 101]\n",
      "665               [7, 17, 52, 91]\n",
      "666                      [18, 67]\n",
      "667                  [13, 29, 35]\n",
      "668                      [52, 98]\n",
      "669                      [52, 93]\n",
      "670                       [7, 70]\n",
      "671                  [18, 37, 63]\n",
      "672                       [1, 52]\n",
      "673                      [41, 52]\n",
      "674                       [7, 99]\n",
      "675                   [9, 20, 67]\n",
      "676                  [10, 27, 52]\n",
      "677              [24, 27, 70, 73]\n",
      "678                   [6, 70, 90]\n",
      "679                      [18, 93]\n",
      "680                   [9, 52, 87]\n",
      "681                  [52, 93, 99]\n",
      "682                  [52, 82, 98]\n",
      "683                      [12, 13]\n",
      "684                      [12, 52]\n",
      "685                      [52, 84]\n",
      "686                  [7, 52, 100]\n",
      "687               [6, 23, 67, 98]\n",
      "688                  [65, 93, 95]\n",
      "689                      [90, 94]\n",
      "690                  [22, 76, 99]\n",
      "691                      [26, 52]\n",
      "692               [9, 24, 67, 98]\n",
      "693               [9, 52, 56, 94]\n",
      "694                  [21, 22, 90]\n",
      "695                  [52, 62, 75]\n",
      "696                  [11, 52, 93]\n",
      "697                  [25, 37, 96]\n",
      "698                       [2, 52]\n",
      "699                   [1, 12, 52]\n",
      "700                  [12, 20, 52]\n",
      "701                   [9, 20, 52]\n",
      "702                 [22, 52, 101]\n",
      "703                      [67, 87]\n",
      "704              [15, 17, 20, 52]\n",
      "705                   [6, 52, 88]\n",
      "706                  [30, 52, 80]\n",
      "707               [1, 52, 86, 93]\n",
      "708                      [52, 84]\n",
      "709                  [52, 62, 65]\n",
      "710                      [19, 52]\n",
      "711                      [23, 80]\n",
      "712                  [13, 69, 99]\n",
      "713                 [52, 80, 101]\n",
      "714                      [67, 96]\n",
      "715                  [67, 73, 88]\n",
      "716                  [70, 84, 96]\n",
      "717                  [52, 96, 98]\n",
      "718                  [52, 87, 93]\n",
      "719                      [10, 67]\n",
      "720          [9, 20, 31, 52, 101]\n",
      "721                      [15, 64]\n",
      "722                  [14, 24, 52]\n",
      "723                  [52, 80, 90]\n",
      "724            [4, 8, 52, 84, 91]\n",
      "725                 [52, 98, 100]\n",
      "726                       [0, 94]\n",
      "727                  [26, 52, 96]\n",
      "728                      [11, 52]\n",
      "729                      [20, 52]\n",
      "730              [26, 52, 96, 99]\n",
      "731                  [23, 52, 97]\n",
      "732                  [13, 22, 52]\n",
      "733                      [36, 52]\n",
      "734                      [32, 37]\n",
      "735                 [16, 52, 100]\n",
      "736              [29, 52, 75, 90]\n",
      "737                  [52, 77, 94]\n",
      "738                  [52, 80, 82]\n",
      "739                   [7, 52, 63]\n",
      "740               [3, 17, 52, 87]\n",
      "741                   [4, 10, 52]\n",
      "742                  [12, 52, 65]\n",
      "743                       [9, 67]\n",
      "744                  [69, 70, 78]\n",
      "745                      [15, 52]\n",
      "746                      [67, 93]\n",
      "747              [17, 23, 65, 80]\n",
      "748                   [9, 23, 52]\n",
      "749                      [52, 62]\n",
      "750                  [52, 90, 93]\n",
      "751                 [42, 52, 101]\n",
      "752                      [52, 77]\n",
      "753                  [6, 35, 101]\n",
      "754                      [38, 90]\n",
      "755                      [52, 73]\n",
      "756                      [73, 98]\n",
      "757                      [41, 52]\n",
      "758                  [15, 27, 52]\n",
      "759              [0, 39, 52, 101]\n",
      "760                      [24, 52]\n",
      "761                      [50, 86]\n",
      "762          [15, 22, 35, 52, 70]\n",
      "763                   [5, 52, 90]\n",
      "764                       [2, 52]\n",
      "765                   [9, 52, 81]\n",
      "766                      [64, 70]\n",
      "767                  [36, 67, 97]\n",
      "768                      [19, 30]\n",
      "769                  [11, 52, 99]\n",
      "770                      [10, 52]\n",
      "771                   [5, 19, 52]\n",
      "772                      [30, 52]\n",
      "773                       [9, 96]\n",
      "774                  [16, 22, 70]\n",
      "775                 [25, 67, 100]\n",
      "776                      [52, 99]\n",
      "777                   [7, 63, 67]\n",
      "778                       [7, 17]\n",
      "779                      [22, 52]\n",
      "780                      [18, 52]\n",
      "781                     [52, 101]\n",
      "782                  [22, 32, 73]\n",
      "783                      [41, 70]\n",
      "784                       [8, 52]\n",
      "785                   [7, 19, 52]\n",
      "786                   [0, 27, 52]\n",
      "787                      [62, 78]\n",
      "788                   [9, 16, 67]\n",
      "789                      [25, 67]\n",
      "790                   [9, 20, 30]\n",
      "791                  [19, 52, 95]\n",
      "792                  [52, 95, 98]\n",
      "793                  [17, 25, 52]\n",
      "794                      [24, 37]\n",
      "795                     [52, 100]\n",
      "796                      [52, 95]\n",
      "797                      [67, 73]\n",
      "798                        [1, 8]\n",
      "799                      [50, 52]\n",
      "800                      [52, 87]\n",
      "801               [7, 10, 27, 52]\n",
      "802              [16, 18, 26, 52]\n",
      "803                       [2, 52]\n",
      "804                      [91, 93]\n",
      "805                  [52, 80, 84]\n",
      "806               [7, 52, 91, 96]\n",
      "807                      [63, 95]\n",
      "808                      [52, 93]\n",
      "809              [23, 41, 52, 69]\n",
      "810                      [27, 77]\n",
      "811                      [31, 52]\n",
      "812                      [24, 52]\n",
      "813                      [52, 65]\n",
      "814                      [26, 67]\n",
      "815                   [7, 19, 67]\n",
      "816                   [9, 24, 65]\n",
      "817                  [23, 52, 97]\n",
      "818                       [9, 52]\n",
      "819                   [6, 20, 52]\n",
      "820                       [5, 52]\n",
      "821                [3, 4, 20, 67]\n",
      "822                      [17, 52]\n",
      "823                       [1, 67]\n",
      "824                      [13, 67]\n",
      "825                      [89, 96]\n",
      "826                      [16, 52]\n",
      "827                  [52, 98, 99]\n",
      "828                  [13, 25, 52]\n",
      "829                   [7, 67, 93]\n",
      "830                       [5, 52]\n",
      "831                      [13, 52]\n",
      "832                      [34, 52]\n",
      "833                  [12, 52, 88]\n",
      "834                  [11, 16, 52]\n",
      "835                      [21, 52]\n",
      "836                    [0, 6, 20]\n",
      "837               [2, 41, 52, 96]\n",
      "838                  [10, 39, 96]\n",
      "839                      [52, 99]\n",
      "840                      [52, 94]\n",
      "841                      [26, 36]\n",
      "842              [12, 38, 48, 80]\n",
      "843                      [10, 52]\n",
      "844                  [52, 67, 98]\n",
      "845                  [25, 52, 73]\n",
      "846                   [0, 11, 94]\n",
      "847                  [17, 70, 81]\n",
      "848                 [52, 87, 101]\n",
      "849                       [4, 11]\n",
      "850                      [17, 22]\n",
      "851                  [25, 52, 99]\n",
      "852                      [52, 82]\n",
      "853                   [9, 70, 80]\n",
      "854                 [52, 87, 101]\n",
      "855                      [67, 88]\n",
      "856                      [16, 52]\n",
      "857                      [20, 24]\n",
      "858                      [72, 77]\n",
      "859                      [70, 73]\n",
      "860                  [10, 13, 84]\n",
      "861                  [16, 52, 98]\n",
      "862                   [4, 25, 52]\n",
      "863                  [25, 52, 96]\n",
      "864              [12, 14, 52, 90]\n",
      "865                      [24, 52]\n",
      "866                      [52, 63]\n",
      "867              [20, 23, 63, 98]\n",
      "868                      [52, 65]\n",
      "869               [7, 36, 52, 99]\n",
      "870                  [17, 67, 87]\n",
      "871                  [36, 52, 75]\n",
      "872                       [6, 94]\n",
      "873                      [20, 52]\n",
      "874                      [11, 52]\n",
      "875                       [9, 52]\n",
      "876              [10, 52, 69, 91]\n",
      "877                      [17, 52]\n",
      "878                   [0, 16, 52]\n",
      "879                      [52, 93]\n",
      "880           [5, 16, 52, 80, 97]\n",
      "881                      [11, 12]\n",
      "882                   [7, 52, 84]\n",
      "883                      [13, 52]\n",
      "884                 [69, 81, 101]\n",
      "885                   [4, 52, 72]\n",
      "886     [12, 48, 52, 70, 80, 101]\n",
      "887                      [25, 67]\n",
      "888                      [86, 93]\n",
      "889                   [1, 11, 52]\n",
      "890                      [67, 80]\n",
      "891                      [52, 80]\n",
      "892                      [67, 98]\n",
      "893                      [16, 97]\n",
      "894                   [8, 52, 76]\n",
      "895                      [14, 52]\n",
      "896                      [10, 97]\n",
      "897                       [1, 89]\n",
      "898                 [32, 52, 100]\n",
      "899                  [22, 52, 93]\n",
      "900                      [16, 96]\n",
      "901              [27, 52, 73, 96]\n",
      "902               [3, 31, 67, 80]\n",
      "903                      [29, 52]\n",
      "904                 [15, 52, 100]\n",
      "905                      [67, 87]\n",
      "906                      [67, 73]\n",
      "907                      [14, 25]\n",
      "908                      [70, 92]\n",
      "909                      [52, 90]\n",
      "910                      [52, 93]\n",
      "911                      [11, 84]\n",
      "912                  [36, 52, 80]\n",
      "913                      [52, 77]\n",
      "914                      [25, 52]\n",
      "915                      [30, 90]\n",
      "916                  [18, 52, 81]\n",
      "917                   [8, 15, 52]\n",
      "918                  [21, 52, 73]\n",
      "919                      [41, 70]\n",
      "920                  [5, 52, 100]\n",
      "921                   [8, 22, 52]\n",
      "922                  [52, 97, 98]\n",
      "923                  [17, 52, 76]\n",
      "924                      [14, 70]\n",
      "925                      [22, 52]\n",
      "926                  [25, 52, 96]\n",
      "927                      [21, 52]\n",
      "928                  [10, 26, 77]\n",
      "929              [14, 52, 77, 98]\n",
      "930                 [77, 90, 101]\n",
      "931                  [52, 91, 98]\n",
      "932                  [23, 30, 52]\n",
      "933                       [3, 52]\n",
      "934                      [52, 91]\n",
      "935                  [15, 52, 95]\n",
      "936                  [41, 52, 99]\n",
      "937                  [15, 52, 81]\n",
      "938              [14, 22, 40, 67]\n",
      "939                      [52, 80]\n",
      "940                  [25, 52, 87]\n",
      "941                       [8, 52]\n",
      "942                 [17, 52, 100]\n",
      "943                       [4, 52]\n",
      "944              [11, 25, 52, 91]\n",
      "945                  [52, 95, 98]\n",
      "946                      [52, 96]\n",
      "947                      [72, 84]\n",
      "948                      [30, 52]\n",
      "949                  [20, 23, 52]\n",
      "950                  [17, 52, 80]\n",
      "951                  [23, 67, 94]\n",
      "952                      [23, 52]\n",
      "953                      [24, 25]\n",
      "954                      [52, 97]\n",
      "955                      [21, 52]\n",
      "956                [7, 8, 13, 52]\n",
      "957                  [52, 73, 96]\n",
      "958                  [25, 52, 96]\n",
      "959                       [2, 26]\n",
      "960                  [24, 72, 99]\n",
      "961                  [41, 52, 93]\n",
      "962                      [13, 52]\n",
      "963                      [63, 69]\n",
      "964                  [0, 70, 101]\n",
      "965                      [67, 84]\n",
      "966                      [15, 67]\n",
      "967                      [52, 80]\n",
      "968                      [52, 96]\n",
      "969                  [22, 52, 93]\n",
      "970                      [36, 52]\n",
      "971                      [39, 52]\n",
      "972                  [7, 65, 101]\n",
      "973                      [49, 95]\n",
      "974                   [1, 52, 80]\n",
      "975              [12, 20, 80, 88]\n",
      "976                      [17, 84]\n",
      "977                  [36, 52, 93]\n",
      "978                       [8, 52]\n",
      "979                      [37, 84]\n",
      "980                      [52, 97]\n",
      "981                  [12, 80, 82]\n",
      "982                  [20, 52, 65]\n",
      "983                   [1, 52, 65]\n",
      "984                      [13, 52]\n",
      "985                       [4, 52]\n",
      "986                 [52, 91, 100]\n",
      "987                   [9, 50, 70]\n",
      "988                     [29, 100]\n",
      "989                      [25, 63]\n",
      "990                  [15, 37, 39]\n",
      "991                  [17, 52, 88]\n",
      "992                  [15, 67, 91]\n",
      "993                  [20, 52, 80]\n",
      "994                  [52, 93, 97]\n",
      "995                 [35, 97, 101]\n",
      "996                      [52, 94]\n",
      "997                      [13, 67]\n",
      "998                  [52, 58, 90]\n",
      "999                  [12, 62, 98]\n",
      "1000                     [37, 68]\n",
      "1001             [23, 41, 56, 67]\n",
      "Name: positions_split, dtype: object\n"
     ]
    }
   ],
   "source": [
    "print(ube4b_df[\"positions_split\"].head(1000))"
   ]
  },
  {
   "cell_type": "code",
   "execution_count": 127,
   "id": "d4d200c1",
   "metadata": {},
   "outputs": [
    {
     "name": "stdout",
     "output_type": "stream",
     "text": [
      "11450\n"
     ]
    }
   ],
   "source": [
    "ube4b_ss_df = get_ss_dataset(ube4b_in_domain_df, ube4b_ss_indexes, 0)\n",
    "print(len(ube4b_ss_df))"
   ]
  },
  {
   "cell_type": "code",
   "execution_count": 128,
   "id": "56954c43",
   "metadata": {},
   "outputs": [],
   "source": [
    "ube4b_not_ss_df = get_not_ss_dataset(ube4b_in_domain_df, ube4b_ss_indexes, 0)"
   ]
  },
  {
   "cell_type": "code",
   "execution_count": 129,
   "id": "30169a23",
   "metadata": {},
   "outputs": [
    {
     "name": "stdout",
     "output_type": "stream",
     "text": [
      "20301\n"
     ]
    }
   ],
   "source": [
    "print(len(ube4b_not_ss_df))"
   ]
  },
  {
   "cell_type": "code",
   "execution_count": 130,
   "id": "769dc7f3",
   "metadata": {},
   "outputs": [],
   "source": [
    "ube4b_ss_df_3000 = ube4b_ss_df.sample(n=2880)"
   ]
  },
  {
   "cell_type": "code",
   "execution_count": 131,
   "id": "07768344",
   "metadata": {},
   "outputs": [],
   "source": [
    "ube4b_not_ss_df_3000 = ube4b_not_ss_df.sample(n=2880)"
   ]
  },
  {
   "cell_type": "code",
   "execution_count": 132,
   "id": "28f1bc11",
   "metadata": {},
   "outputs": [
    {
     "name": "stdout",
     "output_type": "stream",
     "text": [
      "Filename: ube4b_MLformat_ss_3000_lim.txt\n"
     ]
    }
   ],
   "source": [
    "# write data to formatted txt file\n",
    "\n",
    "file_name = \"ube4b_MLformat_ss_3000_lim\" + \".txt\"\n",
    "print(\"Filename: \" + file_name)\n",
    "\n",
    "datafile = open(file_name, \"w+\")\n",
    "datafile.write(protein_seq_ube4b + \"\\n\")\n",
    "for index in range(len(ube4b_ss_df_3000)-1):\n",
    "    datafile.write(ube4b_ss_df_3000[\"variant\"].iloc[index] + \": \" + str(ube4b_ss_df_3000[\"score\"].iloc[index]) + \"\\n\")\n",
    "datafile.write(ube4b_ss_df_3000[\"variant\"].iloc[len(ube4b_ss_df_3000)-1] + \": \" + str(ube4b_ss_df_3000[\"score\"].iloc[len(ube4b_ss_df_3000)-1]))\n",
    "datafile.close()"
   ]
  },
  {
   "cell_type": "code",
   "execution_count": 133,
   "id": "74fd730e",
   "metadata": {},
   "outputs": [
    {
     "name": "stdout",
     "output_type": "stream",
     "text": [
      "Filename: ube4b_MLformat_not_ss_3000_lim.txt\n"
     ]
    }
   ],
   "source": [
    "# write data to formatted txt file\n",
    "\n",
    "file_name = \"ube4b_MLformat_not_ss_3000_lim\" + \".txt\"\n",
    "print(\"Filename: \" + file_name)\n",
    "\n",
    "datafile = open(file_name, \"w+\")\n",
    "datafile.write(protein_seq_ube4b + \"\\n\")\n",
    "for index in range(len(ube4b_not_ss_df_3000)-1):\n",
    "    datafile.write(ube4b_not_ss_df_3000[\"variant\"].iloc[index] + \": \" + str(ube4b_not_ss_df_3000[\"score\"].iloc[index]) + \"\\n\")\n",
    "datafile.write(ube4b_not_ss_df_3000[\"variant\"].iloc[len(ube4b_not_ss_df_3000)-1] + \": \" + str(ube4b_not_ss_df_3000[\"score\"].iloc[len(ube4b_not_ss_df_3000)-1]))\n",
    "datafile.close()"
   ]
  }
 ],
 "metadata": {
  "kernelspec": {
   "display_name": "Python 3 (ipykernel)",
   "language": "python",
   "name": "python3"
  },
  "language_info": {
   "codemirror_mode": {
    "name": "ipython",
    "version": 3
   },
   "file_extension": ".py",
   "mimetype": "text/x-python",
   "name": "python",
   "nbconvert_exporter": "python",
   "pygments_lexer": "ipython3",
   "version": "3.9.7"
  }
 },
 "nbformat": 4,
 "nbformat_minor": 5
}
