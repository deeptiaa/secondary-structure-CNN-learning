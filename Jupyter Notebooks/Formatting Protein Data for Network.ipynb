{
 "cells": [
  {
   "cell_type": "markdown",
   "id": "381edeef",
   "metadata": {},
   "source": [
    "# Formatting Protein Data for Network"
   ]
  },
  {
   "cell_type": "markdown",
   "id": "348b2fb1",
   "metadata": {},
   "source": [
    "This notebook formats the protein data from Gelman et al. into a txt file that can be processed by the machine learning script."
   ]
  },
  {
   "cell_type": "code",
   "execution_count": 8,
   "id": "45c5256d",
   "metadata": {},
   "outputs": [],
   "source": [
    "# import statements\n",
    "import os\n",
    "import numpy as np\n",
    "import pandas as pd\n",
    "import requests\n",
    "from Bio import SeqIO\n",
    "from io import StringIO\n",
    "import Bio.PDB.Polypeptide"
   ]
  },
  {
   "cell_type": "code",
   "execution_count": 9,
   "id": "b4a2287b",
   "metadata": {},
   "outputs": [],
   "source": [
    "# setting jupyter notebook viewing options\n",
    "max_rows = 1000\n",
    "max_cols = 1000\n",
    "pd.set_option(\"display.max_rows\", max_rows, \"display.max_columns\", max_cols)"
   ]
  },
  {
   "cell_type": "markdown",
   "id": "89f1849d",
   "metadata": {},
   "source": [
    "### Methods Used to Format Data"
   ]
  },
  {
   "cell_type": "markdown",
   "id": "6f795b4d",
   "metadata": {},
   "source": [
    "Formatting protein sequence into form for machine learning:"
   ]
  },
  {
   "cell_type": "code",
   "execution_count": 1,
   "id": "e0dc8638",
   "metadata": {},
   "outputs": [],
   "source": [
    "# parameters:\n",
    "#      \"uniprot_id\" - string representing uniprot id of desired protein.\n",
    "# This method uses a given uniprot id to query the uniprot data and \n",
    "# return a string respresention of the protein sequence. \n",
    "# E.g. MADIT\n",
    "def get_protein_seq(uniprot_id):\n",
    "    \n",
    "    # importing fasta file from uniprot.org and getting protein sequence\n",
    "    # taken from StackOverflow: \n",
    "    # https://stackoverflow.com/questions/52569622/protein-sequence-from-uniprot-protein-id-python\n",
    "    url = \"http://www.uniprot.org/uniprot/\"\n",
    "    complete_url = url + uniprot_id + \".fasta\"\n",
    "    response = requests.post(complete_url)\n",
    "    data =''.join(response.text)\n",
    "    sequence =StringIO(data)\n",
    "    protein_seq=list(SeqIO.parse(sequence,'fasta'))\n",
    "\n",
    "    # protein sequence as string (single-letter amino acids)\n",
    "    string_seq = str(protein_seq[0].seq)\n",
    "    \n",
    "    # protein sequence w/ three-letter convention\n",
    "    protein_seq = get_expanded_seq(string_seq)\n",
    "    return protein_seq"
   ]
  },
  {
   "cell_type": "markdown",
   "id": "8b0e4fd4",
   "metadata": {},
   "source": [
    "Expanding protein sequence (1 letter AA -> 3 letter AA):"
   ]
  },
  {
   "cell_type": "code",
   "execution_count": 2,
   "id": "82897a8c",
   "metadata": {},
   "outputs": [],
   "source": [
    "# parameter:\n",
    "#      \"seq\" - string representing protein sequence in 1-letter convention.\n",
    "# This method takes protein sequence string with 1-letter convention and returns\n",
    "# a protein sequence with 3-letter convention.\n",
    "# E.g. ADE -> ALA ASP GLU\n",
    "def get_expanded_seq(seq):\n",
    "    expanded_list = []\n",
    "    split_seq = list(seq)\n",
    "    for letter in split_seq:\n",
    "        three_letter_abbr = Bio.PDB.Polypeptide.one_to_three(letter)\n",
    "        expanded_list.append(three_letter_abbr)\n",
    "    exanded_string = \" \".join(expanded_list)\n",
    "    return(exanded_string)"
   ]
  },
  {
   "cell_type": "markdown",
   "id": "cb2675de",
   "metadata": {},
   "source": [
    "Returning index range of protein domain within protein:"
   ]
  },
  {
   "cell_type": "code",
   "execution_count": 3,
   "id": "ebf8c67e",
   "metadata": {},
   "outputs": [],
   "source": [
    "# parameters: \n",
    "#      \"full_protein_split\" - list of amino acids in full protein in 3 letter convention.\n",
    "#                             E.g. [\"ALA\", \"GLY\", \"TYR\"]\n",
    "#      \"domain_split\" - list of amino acids in protein domain in 3 letter convention.\n",
    "#                       E.g. [\"ALA\", \"GLY\"]\n",
    "# This method prints the index of the given domain within the given protein.\n",
    "# Starting value is inclusive and the ending value is exclusive. \n",
    "# E.g. [(0, 3)]\n",
    "def get_index_range(full_protein_split, domain_split):\n",
    "    indexes = []\n",
    "    for i in range(len(full_protein_split)):\n",
    "        if full_protein_split[i:i+len(domain_split)] == domain_split:\n",
    "            indexes.append((i, i+len(domain_split)))\n",
    "    print(indexes)\n",
    "    indexes.clear()"
   ]
  },
  {
   "cell_type": "markdown",
   "id": "03cffa5e",
   "metadata": {},
   "source": [
    "Get variant in mutation-position form from wild-type-position-mutation form: (E.g. G126A -> 126ALA)"
   ]
  },
  {
   "cell_type": "code",
   "execution_count": 4,
   "id": "96e833b3",
   "metadata": {},
   "outputs": [],
   "source": [
    "# parameter: \n",
    "#      \"split_mutation_column\" - list of mutations, split by comma if there are multiple.\n",
    "# This method returns a list with wild-type residue (first letter) from variant.\n",
    "def get_wild_type(split_mutation_column):\n",
    "    wild_type_list = []\n",
    "    w_letters = []\n",
    "    for string in split_mutation_column:\n",
    "        if \"wild-type\" in string[0]:\n",
    "            wild_type = \"wild_type\"\n",
    "        elif \"-\" in string[0] or len(string) == 0:\n",
    "            wild_type = np.nan\n",
    "        else:\n",
    "            for val in string:\n",
    "                mutation_name = val.strip(\" \")\n",
    "                w_letters.append(mutation_name[0])\n",
    "                wild_type = \",\".join(w_letters)\n",
    "        wild_type_list.append(wild_type)\n",
    "        w_letters.clear()\n",
    "    return wild_type_list\n",
    "\n",
    "\n",
    "# parameter: \n",
    "#      \"split_mutation_column\" - list of mutations, split by comma if there are multiple.\n",
    "# This method returns a list with mutation residue (last letter) from variant.\n",
    "def get_mutation_type(split_mutation_column):\n",
    "    mutation_list = []\n",
    "    m_letters = []\n",
    "    for string in split_mutation_column:\n",
    "        if \"wild-type\" in string[0]:\n",
    "            mutation = \"wild-type\"\n",
    "        elif \"-\" in string[0] or len(string) == 0:\n",
    "            mutation = np.nan\n",
    "        else:\n",
    "            for val in string:\n",
    "                mutation_name = val.strip(\" \")\n",
    "                m_letters.append(mutation_name[-1])\n",
    "                mutation = \",\".join(m_letters)\n",
    "        mutation_list.append(mutation)\n",
    "        m_letters.clear()\n",
    "    return mutation_list\n",
    "\n",
    "\n",
    "# parameter: \n",
    "#      \"split_mutation_column\" - list of mutations, split by comma if there are multiple.\n",
    "# This method returns a list with the position of mutation (number) from variant.\n",
    "def get_position(split_mutation_column):\n",
    "    position_list = []\n",
    "    p_letters = []\n",
    "    for string in split_mutation_column:\n",
    "        if \"wild-type\" in string[0]:\n",
    "            position = \"wild-type\"\n",
    "        elif \"-\" in string[0] or len(string) == 0:\n",
    "            position = np.nan\n",
    "        else:\n",
    "            for val in string:\n",
    "                mutation_name = val.strip(\" \")\n",
    "                p_letters.append(mutation_name[1:-1])\n",
    "                position = \",\".join(p_letters)\n",
    "        position_list.append(position)\n",
    "        p_letters.clear()\n",
    "    return(position_list)\n",
    "\n",
    "# parameter:\n",
    "#      \"df\" - dataframe of protein data with \"MUTATED_RES\" and \"POSITION\" columns.\n",
    "# This method returns a list with the correctly formatted variant (mutation-position form).\n",
    "def get_mutations_names_list(df):\n",
    "    formatted_list = []\n",
    "    expanded_abbv = []\n",
    "    for mutation, position in zip(df[\"MUTATED_RES\"], df[\"POSITION\"]):\n",
    "        split_mutations = mutation.split(\",\")\n",
    "        split_positions = position.split(\",\")\n",
    "        if \"wild-type\" in split_mutations[0].lower() or \"wild-type\" in split_positions[0].lower():\n",
    "            abbv_names = \"WT\"\n",
    "        else:  \n",
    "            for mut, pos in zip(split_mutations, split_positions):\n",
    "                three_letter_mut = Bio.PDB.Polypeptide.one_to_three(mut.upper())\n",
    "                position = str(int(pos))\n",
    "                combined_name = position + three_letter_mut\n",
    "                expanded_abbv.append(combined_name)\n",
    "                abbv_names = \", \".join(expanded_abbv)\n",
    "        expanded_abbv.clear()\n",
    "        formatted_list.append(abbv_names)\n",
    "    return(formatted_list)"
   ]
  },
  {
   "cell_type": "markdown",
   "id": "984f01ad",
   "metadata": {},
   "source": [
    "Writing formatted data to txt file:"
   ]
  },
  {
   "cell_type": "code",
   "execution_count": 5,
   "id": "c8c7df55",
   "metadata": {},
   "outputs": [],
   "source": [
    "# parameters:\n",
    "#      \"txt_name\" - desired name of formatted txt file for network. E.g. \"pab1\"\n",
    "#      \"protein_seq\" - string of protein sequence in 3 letter convention. E.g. ALA GLU TYR\n",
    "#      \"df\" - dataframe with cleaned protein data. Must contain \"variant\" and \"score\" \n",
    "#             columns.\n",
    "# This method cleans the protein data and formats it into a txt that can be processed by the \n",
    "# network. It also prints the name of the file out for reference.\n",
    "def write_data_file(txt_name, protein_seq, df):\n",
    "    file_name = txt_name + \".txt\"\n",
    "    path_name = \"../ML Script Data Files/\" + file_name\n",
    "    print(\"Filename: \" + file_name)\n",
    "    \n",
    "    datafile = open(path_name, \"w+\")\n",
    "    datafile.write(protein_seq + \"\\n\")\n",
    "    for index in range(len(df)-1):\n",
    "        datafile.write(df[\"variant\"].iloc[index] + \": \" + str(df[\"score\"].iloc[index]) + \"\\n\")\n",
    "    datafile.write(df[\"variant\"].iloc[len(df) - 1] + \": \" + str(df[\"score\"].iloc[len(df) - 1]))\n",
    "    datafile.close()"
   ]
  },
  {
   "cell_type": "markdown",
   "id": "695b166d",
   "metadata": {},
   "source": [
    "## Pab1"
   ]
  },
  {
   "cell_type": "markdown",
   "id": "c0b52c60",
   "metadata": {},
   "source": [
    "Formatting Pab1 data from _Gelman et al._ into txt file for machine learning script."
   ]
  },
  {
   "cell_type": "code",
   "execution_count": 13,
   "id": "a4d8e037",
   "metadata": {},
   "outputs": [
    {
     "name": "stdout",
     "output_type": "stream",
     "text": [
      "40852\n",
      "Index(['variant', 'num_mutations', 'score'], dtype='object')\n"
     ]
    }
   ],
   "source": [
    "# importing pab1 data from Gelman et al.\n",
    "pab1_df1 = pd.read_csv(\"../Raw Data/pab1.tsv.txt\", sep=\"\\t\")\n",
    "pab1_df = pab1_df1.dropna()\n",
    "print(len(pab1_df))\n",
    "print(pab1_df.columns)"
   ]
  },
  {
   "cell_type": "code",
   "execution_count": 14,
   "id": "4c95f185",
   "metadata": {},
   "outputs": [
    {
     "name": "stdout",
     "output_type": "stream",
     "text": [
      "40852\n",
      "37710\n",
      "37600\n"
     ]
    }
   ],
   "source": [
    "# rounding score column to 6 decimal points\n",
    "pab1_df[\"score\"] = pab1_df[\"score\"].round(6)\n",
    "print(len(pab1_df))\n",
    "\n",
    "# remove values with wildcard star next to them\n",
    "pab1_df = pab1_df[pab1_df[\"variant\"].str.contains(\"\\*\") == False]\n",
    "print(len(pab1_df))\n",
    "# change this value depending on amount of data needed for dataset\n",
    "pab1_df = pab1_df.head(37600)\n",
    "print(len(pab1_df))"
   ]
  },
  {
   "cell_type": "code",
   "execution_count": 11,
   "id": "40542530",
   "metadata": {},
   "outputs": [
    {
     "name": "stdout",
     "output_type": "stream",
     "text": [
      "577\n"
     ]
    }
   ],
   "source": [
    "# get protein sequence from Uniprot and split\n",
    "protein_seq_pab1 = get_protein_seq(\"P04147\")\n",
    "protein_seq_pab1_split = protein_seq_pab1.split()\n",
    "print(len(protein_seq_pab1_split)) # protein length of 577"
   ]
  },
  {
   "cell_type": "code",
   "execution_count": 7,
   "id": "888ee757",
   "metadata": {},
   "outputs": [
    {
     "name": "stdout",
     "output_type": "stream",
     "text": [
      "75\n",
      "GLY ASN ILE PHE ILE LYS ASN LEU HIS PRO ASP ILE ASP ASN LYS ALA LEU TYR ASP THR PHE SER VAL PHE GLY ASP ILE LEU SER SER LYS ILE ALA THR ASP GLU ASN GLY LYS SER LYS GLY PHE GLY PHE VAL HIS PHE GLU GLU GLU GLY ALA ALA LYS GLU ALA ILE ASP ALA LEU ASN GLY MET LEU LEU ASN GLY GLN GLU ILE TYR VAL ALA PRO\n"
     ]
    }
   ],
   "source": [
    "# pab1 protein domain sequence from Gelman et al.\n",
    "string_seq = \"GNIFIKNLHPDIDNKALYDTFSVFGDILSSKIATDENGKSKGFGFVHFEEEGAAKEAIDALNGMLLNGQEIYVAP\"\n",
    "print(len(string_seq)) # <- domain length of 75\n",
    "pab1_domain = get_expanded_seq(string_seq)\n",
    "print(pab1_domain)\n",
    "pab1_domain_split = pab1_domain.split()"
   ]
  },
  {
   "cell_type": "code",
   "execution_count": 13,
   "id": "49e3d741",
   "metadata": {},
   "outputs": [
    {
     "name": "stdout",
     "output_type": "stream",
     "text": [
      "[(125, 200)]\n"
     ]
    }
   ],
   "source": [
    "# get index of domain inside protein\n",
    "get_index_range(protein_seq_pab1_split, pab1_domain_split)"
   ]
  },
  {
   "cell_type": "code",
   "execution_count": 14,
   "id": "4d7901ae",
   "metadata": {},
   "outputs": [],
   "source": [
    "# splitting variant list if there are multiple mutations\n",
    "pab1_mut = pab1_df[\"variant\"].str.split(\",\")\n",
    "\n",
    "# get wild type of residue and place in seperate col\n",
    "pab1_df[\"WILD_TYPE_RES\"] = get_wild_type(pab1_mut)\n",
    "\n",
    "# get mutated residue and place in seperate col\n",
    "pab1_df[\"MUTATED_RES\"] = get_mutation_type(pab1_mut)\n",
    "\n",
    "# get position and place in seperate col\n",
    "pab1_df[\"POSITION\"] = get_position(pab1_mut)\n",
    "\n",
    "# replace variant column with reformatted variant name\n",
    "pab1_df[\"variant\"] = get_mutations_names_list(pab1_df)\n",
    "\n",
    "# drop unneccesary columns\n",
    "to_drop = [\"WILD_TYPE_RES\", \"MUTATED_RES\", \"POSITION\"]\n",
    "\n",
    "pab1_df = pab1_df.drop(columns=to_drop)"
   ]
  },
  {
   "cell_type": "code",
   "execution_count": 34,
   "id": "de485bcd",
   "metadata": {},
   "outputs": [
    {
     "name": "stdout",
     "output_type": "stream",
     "text": [
      "Filename: pab1_MLformat_37600.txt\n"
     ]
    }
   ],
   "source": [
    "# writing data to txt file\n",
    "write_data_file(\"pab1_MLformat_37600\", protein_seq_pab1, pab1_df)"
   ]
  },
  {
   "cell_type": "markdown",
   "id": "273bf64f",
   "metadata": {},
   "source": [
    "## Ube4b"
   ]
  },
  {
   "cell_type": "markdown",
   "id": "9a1ee683",
   "metadata": {},
   "source": [
    "Formatting Ube4b data from _Gelman et. al_ into txt file for machine learning script."
   ]
  },
  {
   "cell_type": "code",
   "execution_count": 15,
   "id": "c4da1d57",
   "metadata": {},
   "outputs": [
    {
     "name": "stdout",
     "output_type": "stream",
     "text": [
      "98297\n",
      "Index(['variant', 'num_mutations', 'score'], dtype='object')\n"
     ]
    }
   ],
   "source": [
    "# importing Ube4b data from Gelman et al.\n",
    "ube4b_df1 = pd.read_csv(\"../Raw Data/ube4b.tsv.txt\", sep=\"\\t\")\n",
    "ube4b_df = ube4b_df1.dropna()\n",
    "print(len(ube4b_df))\n",
    "print(ube4b_df.columns)"
   ]
  },
  {
   "cell_type": "code",
   "execution_count": 16,
   "id": "651c2cfd",
   "metadata": {},
   "outputs": [
    {
     "name": "stdout",
     "output_type": "stream",
     "text": [
      "91031\n",
      "80\n"
     ]
    }
   ],
   "source": [
    "# rounding score column to 6 decimal points\n",
    "ube4b_df[\"score\"] = ube4b_df[\"score\"].round(6)\n",
    "\n",
    "# remove values with wildcard star next to them\n",
    "ube4b_df = ube4b_df[ube4b_df[\"variant\"].str.contains(\"\\*\") == False]\n",
    "print(len(ube4b_df))\n",
    "# change this value depending on amount of data needed for dataset\n",
    "ube4b_df = ube4b_df.head(80)\n",
    "print(len(ube4b_df))"
   ]
  },
  {
   "cell_type": "code",
   "execution_count": 41,
   "id": "8cf41af4",
   "metadata": {},
   "outputs": [
    {
     "name": "stdout",
     "output_type": "stream",
     "text": [
      "1173\n"
     ]
    }
   ],
   "source": [
    "# get protein sequence from Uniprot and split\n",
    "protein_seq_ube4b = get_protein_seq(\"Q9ES00\")\n",
    "protein_seq_ube4b_split = protein_seq_ube4b.split()\n",
    "print(len(protein_seq_ube4b_split)) # protein length of 1173"
   ]
  },
  {
   "cell_type": "code",
   "execution_count": 42,
   "id": "e430fdf2",
   "metadata": {},
   "outputs": [
    {
     "name": "stdout",
     "output_type": "stream",
     "text": [
      "102\n"
     ]
    }
   ],
   "source": [
    "# ube4b protein domain sequence from Gelman et. al\n",
    "string_seq = \"IEKFKLLAEKVEEIVAKNARAEIDYSDAPDEFRDPLMDTLMTDPVRLPSGTVMDRSIILRHLLNSPTDPFNRQMLTESMLEPVPELKEQIQAWMREKQSSDH\"\n",
    "print(len(string_seq)) # <- domain length of 102\n",
    "ube4b_domain = get_expanded_seq(string_seq)\n",
    "ube4b_domain_split = ube4b_domain.split()\n",
    "\n",
    "# NOTE - index in list corresponds exactly to location in domain (huh)"
   ]
  },
  {
   "cell_type": "code",
   "execution_count": 43,
   "id": "c673abaf",
   "metadata": {
    "scrolled": true
   },
   "outputs": [
    {
     "name": "stdout",
     "output_type": "stream",
     "text": [
      "[(1071, 1173)]\n"
     ]
    }
   ],
   "source": [
    "# index of domain inside protein\n",
    "get_index_range(protein_seq_ube4b_split, ube4b_domain_split)"
   ]
  },
  {
   "cell_type": "code",
   "execution_count": 44,
   "id": "3e871c25",
   "metadata": {},
   "outputs": [],
   "source": [
    "# splitting variant list if there are multiple mutations\n",
    "ube4b_mut = ube4b_df[\"variant\"].str.split(\",\")\n",
    "\n",
    "# get wild type of residue and place in seperate col\n",
    "ube4b_df[\"WILD_TYPE_RES\"] = get_wild_type(ube4b_mut)\n",
    "\n",
    "# get mutated residue and place in seperate col\n",
    "ube4b_df[\"MUTATED_RES\"] = get_mutation_type(ube4b_mut)\n",
    "\n",
    "# get position and place in seperate col\n",
    "ube4b_df[\"POSITION\"] = get_position(ube4b_mut)\n",
    "\n",
    "# replace variant column with reformatted variant name\n",
    "ube4b_df[\"variant\"] = get_mutations_names_list(ube4b_df)\n",
    "\n",
    "# drop unneccesary columns\n",
    "to_drop = [\"WILD_TYPE_RES\", \"MUTATED_RES\", \"POSITION\"]\n",
    "\n",
    "ube4b_df = ube4b_df.drop(columns=to_drop)"
   ]
  },
  {
   "cell_type": "code",
   "execution_count": 45,
   "id": "87afce8e",
   "metadata": {},
   "outputs": [
    {
     "name": "stdout",
     "output_type": "stream",
     "text": [
      "Filename: ube4b_MLformat_80.txt\n"
     ]
    }
   ],
   "source": [
    "# writing data to txt file\n",
    "write_data_file(\"ube4b_MLformat_80\", protein_seq_ube4b, ube4b_df)"
   ]
  },
  {
   "cell_type": "markdown",
   "id": "9ec10f13",
   "metadata": {},
   "source": [
    "## Bgl3"
   ]
  },
  {
   "cell_type": "markdown",
   "id": "ba14b1df",
   "metadata": {},
   "source": [
    "Formatting Bgl3 data from _Gelman et. al_ into txt file for machine learning script."
   ]
  },
  {
   "cell_type": "code",
   "execution_count": 17,
   "id": "ac2b8fb9",
   "metadata": {},
   "outputs": [
    {
     "name": "stdout",
     "output_type": "stream",
     "text": [
      "26653\n",
      "Index(['variant', 'num_mutations', 'inp', 'sel', 'score'], dtype='object')\n"
     ]
    }
   ],
   "source": [
    "# importing Ube4b data from Gelman et al.\n",
    "bgl3_df1 = pd.read_csv(\"../Raw Data/bgl3.tsv.txt\", sep=\"\\t\")\n",
    "bgl3_df = bgl3_df1.dropna()\n",
    "print(len(bgl3_df))\n",
    "print(bgl3_df.columns)"
   ]
  },
  {
   "cell_type": "code",
   "execution_count": 18,
   "id": "9b0d3695",
   "metadata": {},
   "outputs": [
    {
     "name": "stdout",
     "output_type": "stream",
     "text": [
      "26653\n",
      "25737\n",
      "25600\n"
     ]
    }
   ],
   "source": [
    "# rounding score column to 6 decimal points\n",
    "bgl3_df[\"score\"] = bgl3_df[\"score\"].round(6)\n",
    "print(len(bgl3_df))\n",
    "\n",
    "# remove values with wildcard star next to them\n",
    "bgl3_df = bgl3_df[bgl3_df[\"variant\"].str.contains(\"\\*\") == False]\n",
    "print(len(bgl3_df))\n",
    "# change this value depending on amount of data needed for dataset\n",
    "bgl3_df = bgl3_df.head(25600)\n",
    "print(len(bgl3_df))"
   ]
  },
  {
   "cell_type": "code",
   "execution_count": 6,
   "id": "075487c9",
   "metadata": {},
   "outputs": [
    {
     "name": "stdout",
     "output_type": "stream",
     "text": [
      "MET VAL PRO ALA ALA GLN GLN THR ALA MET ALA PRO ASP ALA ALA LEU THR PHE PRO GLU GLY PHE LEU TRP GLY SER ALA THR ALA SER TYR GLN ILE GLU GLY ALA ALA ALA GLU ASP GLY ARG THR PRO SER ILE TRP ASP THR TYR ALA ARG THR PRO GLY ARG VAL ARG ASN GLY ASP THR GLY ASP VAL ALA THR ASP HIS TYR HIS ARG TRP ARG GLU ASP VAL ALA LEU MET ALA GLU LEU GLY LEU GLY ALA TYR ARG PHE SER LEU ALA TRP PRO ARG ILE GLN PRO THR GLY ARG GLY PRO ALA LEU GLN LYS GLY LEU ASP PHE TYR ARG ARG LEU ALA ASP GLU LEU LEU ALA LYS GLY ILE GLN PRO VAL ALA THR LEU TYR HIS TRP ASP LEU PRO GLN GLU LEU GLU ASN ALA GLY GLY TRP PRO GLU ARG ALA THR ALA GLU ARG PHE ALA GLU TYR ALA ALA ILE ALA ALA ASP ALA LEU GLY ASP ARG VAL LYS THR TRP THR THR LEU ASN GLU PRO TRP CYS SER ALA PHE LEU GLY TYR GLY SER GLY VAL HIS ALA PRO GLY ARG THR ASP PRO VAL ALA ALA LEU ARG ALA ALA HIS HIS LEU ASN LEU GLY HIS GLY LEU ALA VAL GLN ALA LEU ARG ASP ARG LEU PRO ALA ASP ALA GLN CYS SER VAL THR LEU ASN ILE HIS HIS VAL ARG PRO LEU THR ASP SER ASP ALA ASP ALA ASP ALA VAL ARG ARG ILE ASP ALA LEU ALA ASN ARG VAL PHE THR GLY PRO MET LEU GLN GLY ALA TYR PRO GLU ASP LEU VAL LYS ASP THR ALA GLY LEU THR ASP TRP SER PHE VAL ARG ASP GLY ASP LEU ARG LEU ALA HIS GLN LYS LEU ASP PHE LEU GLY VAL ASN TYR TYR SER PRO THR LEU VAL SER GLU ALA ASP GLY SER GLY THR HIS ASN SER ASP GLY HIS GLY ARG SER ALA HIS SER PRO TRP PRO GLY ALA ASP ARG VAL ALA PHE HIS GLN PRO PRO GLY GLU THR THR ALA MET GLY TRP ALA VAL ASP PRO SER GLY LEU TYR GLU LEU LEU ARG ARG LEU SER SER ASP PHE PRO ALA LEU PRO LEU VAL ILE THR GLU ASN GLY ALA ALA PHE HIS ASP TYR ALA ASP PRO GLU GLY ASN VAL ASN ASP PRO GLU ARG ILE ALA TYR VAL ARG ASP HIS LEU ALA ALA VAL HIS ARG ALA ILE LYS ASP GLY SER ASP VAL ARG GLY TYR PHE LEU TRP SER LEU LEU ASP ASN PHE GLU TRP ALA HIS GLY TYR SER LYS ARG PHE GLY ALA VAL TYR VAL ASP TYR PRO THR GLY THR ARG ILE PRO LYS ALA SER ALA ARG TRP TYR ALA GLU VAL ALA ARG THR GLY VAL LEU PRO THR ALA GLY ASP PRO ASN SER SER SER VAL ASP LYS LEU ALA ALA ALA LEU GLU HIS HIS HIS HIS HIS HIS\n"
     ]
    }
   ],
   "source": [
    "# NOTE - no protein domain for bgl3\n",
    "# # get protein sequence from Gelman et al.\n",
    "string_seq = \"MVPAAQQTAMAPDAALTFPEGFLWGSATASYQIEGAAAEDGRTPSIWDTYARTPGRVRNGDTGDVATDHYHRWREDVALMAELGLGAYRFSLAWPRIQPTGRGPALQKGLDFYRRLADELLAKGIQPVATLYHWDLPQELENAGGWPERATAERFAEYAAIAADALGDRVKTWTTLNEPWCSAFLGYGSGVHAPGRTDPVAALRAAHHLNLGHGLAVQALRDRLPADAQCSVTLNIHHVRPLTDSDADADAVRRIDALANRVFTGPMLQGAYPEDLVKDTAGLTDWSFVRDGDLRLAHQKLDFLGVNYYSPTLVSEADGSGTHNSDGHGRSAHSPWPGADRVAFHQPPGETTAMGWAVDPSGLYELLRRLSSDFPALPLVITENGAAFHDYADPEGNVNDPERIAYVRDHLAAVHRAIKDGSDVRGYFLWSLLDNFEWAHGYSKRFGAVYVDYPTGTRIPKASARWYAEVARTGVLPTAGDPNSSSVDKLAAALEHHHHHH\"\n",
    "protein_seq_bgl3 = get_expanded_seq(string_seq)\n",
    "print(protein_seq_bgl3)"
   ]
  },
  {
   "cell_type": "code",
   "execution_count": 31,
   "id": "613022e4",
   "metadata": {},
   "outputs": [],
   "source": [
    "# splitting variant list if there are multiple mutations\n",
    "bgl3_mut = bgl3_df[\"variant\"].str.split(\",\")\n",
    "\n",
    "# get wild type of residue and place in seperate col\n",
    "bgl3_df[\"WILD_TYPE_RES\"] = get_wild_type(bgl3_mut)\n",
    "\n",
    "# get mutated residue and place in seperate col\n",
    "bgl3_df[\"MUTATED_RES\"] = get_mutation_type(bgl3_mut)\n",
    "\n",
    "# get position and place in seperate col\n",
    "bgl3_df[\"POSITION\"] = get_position(bgl3_mut)\n",
    "\n",
    "# replace variant column with reformatted variant name\n",
    "bgl3_df[\"variant\"] = get_mutations_names_list(bgl3_df)\n",
    "\n",
    "# drop unneccesary columns\n",
    "to_drop = [\"WILD_TYPE_RES\", \"MUTATED_RES\", \"POSITION\"]\n",
    "\n",
    "bgl3_df = bgl3_df.drop(columns=to_drop)"
   ]
  },
  {
   "cell_type": "code",
   "execution_count": 38,
   "id": "e066bf32",
   "metadata": {},
   "outputs": [
    {
     "name": "stdout",
     "output_type": "stream",
     "text": [
      "Filename: bgl3_MLformat_all.txt\n"
     ]
    }
   ],
   "source": [
    "# write data to formatted txt file\n",
    "write_data_file(\"bgl3_MLformat_all\", protein_seq_bgl3, bgl3_df)"
   ]
  }
 ],
 "metadata": {
  "kernelspec": {
   "display_name": "Python 3 (ipykernel)",
   "language": "python",
   "name": "python3"
  },
  "language_info": {
   "codemirror_mode": {
    "name": "ipython",
    "version": 3
   },
   "file_extension": ".py",
   "mimetype": "text/x-python",
   "name": "python",
   "nbconvert_exporter": "python",
   "pygments_lexer": "ipython3",
   "version": "3.9.7"
  }
 },
 "nbformat": 4,
 "nbformat_minor": 5
}
