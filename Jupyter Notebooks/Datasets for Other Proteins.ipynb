{
 "cells": [
  {
   "cell_type": "markdown",
   "id": "d2e987f6",
   "metadata": {},
   "source": [
    "# Datasets for Other Proteins"
   ]
  },
  {
   "cell_type": "markdown",
   "id": "7a1562fa",
   "metadata": {},
   "source": [
    "This notebook does stuff"
   ]
  },
  {
   "cell_type": "code",
   "execution_count": 1,
   "id": "9570362b",
   "metadata": {},
   "outputs": [],
   "source": [
    "# import statements\n",
    "import os\n",
    "import numpy as np\n",
    "import pandas as pd\n",
    "import requests\n",
    "from Bio import SeqIO\n",
    "from io import StringIO\n",
    "import Bio.PDB.Polypeptide"
   ]
  },
  {
   "cell_type": "code",
   "execution_count": 2,
   "id": "7b3e5253",
   "metadata": {},
   "outputs": [],
   "source": [
    "# setting jupyter notebook viewing options\n",
    "max_rows = 1000\n",
    "max_cols = 1000\n",
    "pd.set_option(\"display.max_rows\", max_rows, \"display.max_columns\", max_cols)"
   ]
  },
  {
   "cell_type": "markdown",
   "id": "20238c54",
   "metadata": {},
   "source": [
    "### Metadata from compiled dataset"
   ]
  },
  {
   "cell_type": "code",
   "execution_count": 14,
   "id": "a37e58cb",
   "metadata": {},
   "outputs": [
    {
     "name": "stdout",
     "output_type": "stream",
     "text": [
      "Index(['DATABASE', 'PROTEIN', 'UNIPROT_ID', 'MUTATION', 'SOURCE', 'PBD_WILD',\n",
      "       'PBD_CHAIN_MUTATION', 'pH', 'T_(C)', 'Tm_(C)', 'dTm_(C)',\n",
      "       'dH_(kcal/mol)', 'dG_(kcal/mol)', 'ddG_(kcal/mol)',\n",
      "       'ddG_H2O_(kcal/mol)', 'STATE', 'REVERSIBILITY', 'PUBMED_ID',\n",
      "       'REFERENCE', 'MUTATED_CHAIN', 'KINGDOM', 'PBD_MUTANT', 'MEASURE',\n",
      "       'METHOD', 'POSITION', 'WILD_TYPE_RES', 'MUTATED_RES', 'IS_CURATED',\n",
      "       'CONSERVATION', 'NOTES', 'DATASETS'],\n",
      "      dtype='object')\n",
      "Lysozyme                                                   2897\n",
      "Immunoglobulin G-binding protein G                         1996\n",
      "Thermonuclease                                             1586\n",
      "Staphylococcal nuclease                                    1457\n",
      "Endolysin                                                  1110\n",
      "Ribonuclease                                                983\n",
      "Ribonuclease HI                                             710\n",
      "Guanine nucleotide-binding protein G(i) subunit alpha-1     704\n",
      "Myoglobin                                                   615\n",
      "Dihydrofolate reductase                                     459\n",
      "Name: PROTEIN, dtype: int64\n",
      "       DATABASE   PROTEIN UNIPROT_ID           MUTATION  \\\n",
      "57     Protherm  Lysozyme     P00698          wild-type   \n",
      "97     Protherm  Lysozyme     P00720          wild-type   \n",
      "98     Protherm  Lysozyme     P00720               L46A   \n",
      "99     Protherm  Lysozyme     P00720              L118A   \n",
      "100    Protherm  Lysozyme     P00720              L121A   \n",
      "...         ...       ...        ...                ...   \n",
      "35874  Protherm  Lysozyme     P00720              W138Y   \n",
      "35875  Protherm  Lysozyme     P61626               I77Y   \n",
      "35876  Protherm  Lysozyme     P00720  W138Y W126Y W158Y   \n",
      "35877  Protherm  Lysozyme     P00720  W138Y W126Y W158Y   \n",
      "35878  Protherm  Lysozyme     P00720  W138Y W126Y W158Y   \n",
      "\n",
      "                                           SOURCE PBD_WILD  \\\n",
      "57                        Gallus gallus (Chicken)     4LYZ   \n",
      "97     Enterobacteria phage T4 (Bacteriophage T4)     2LZM   \n",
      "98     Enterobacteria phage T4 (Bacteriophage T4)     2LZM   \n",
      "99     Enterobacteria phage T4 (Bacteriophage T4)     2LZM   \n",
      "100    Enterobacteria phage T4 (Bacteriophage T4)     2LZM   \n",
      "...                                           ...      ...   \n",
      "35874  Enterobacteria phage T4 (Bacteriophage T4)     2LZM   \n",
      "35875                        Homo sapiens (Human)     1LZ1   \n",
      "35876  Enterobacteria phage T4 (Bacteriophage T4)     2LZM   \n",
      "35877  Enterobacteria phage T4 (Bacteriophage T4)     2LZM   \n",
      "35878  Enterobacteria phage T4 (Bacteriophage T4)     2LZM   \n",
      "\n",
      "                           PBD_CHAIN_MUTATION    pH  T_(C)  Tm_(C)  dTm_(C)  \\\n",
      "57                                        NaN  3.80    NaN    74.8      NaN   \n",
      "97                                        NaN  3.01    NaN    51.8      NaN   \n",
      "98                                2lzm_A:L46A  3.01    NaN    43.2     -8.6   \n",
      "99                               2lzm_A:L118A  3.01    NaN    39.6    -12.2   \n",
      "100                              2lzm_A:L121A  3.01    NaN    42.5     -9.3   \n",
      "...                                       ...   ...    ...     ...      ...   \n",
      "35874                            2lzm_A:W138Y  2.20    NaN    36.3     -6.3   \n",
      "35875                             1lz1_A:I59Y  2.70    NaN    64.9      NaN   \n",
      "35876  2lzm_A:W138Y 2lzm_A:W126Y 2lzm_A:W158Y  2.00    NaN    30.0     -7.0   \n",
      "35877  2lzm_A:W138Y 2lzm_A:W126Y 2lzm_A:W158Y  2.20    NaN    36.0     -6.6   \n",
      "35878  2lzm_A:W138Y 2lzm_A:W126Y 2lzm_A:W158Y  2.50    NaN    40.0     -6.2   \n",
      "\n",
      "       dH_(kcal/mol)  dG_(kcal/mol)  ddG_(kcal/mol)  ddG_H2O_(kcal/mol)  \\\n",
      "57               NaN            NaN             NaN                 NaN   \n",
      "97               NaN            NaN             NaN                 NaN   \n",
      "98               NaN            NaN             NaN                 NaN   \n",
      "99               NaN            NaN             NaN                 NaN   \n",
      "100              NaN            NaN             NaN                 NaN   \n",
      "...              ...            ...             ...                 ...   \n",
      "35874            NaN            NaN           -1.71                 NaN   \n",
      "35875            NaN            NaN             NaN                 NaN   \n",
      "35876            NaN            NaN             NaN                 NaN   \n",
      "35877            NaN            NaN           -1.82                 NaN   \n",
      "35878            NaN            NaN           -1.77                 NaN   \n",
      "\n",
      "       STATE REVERSIBILITY   PUBMED_ID  \\\n",
      "57       NaN           yes   1409571.0   \n",
      "97       NaN           yes   1553543.0   \n",
      "98       NaN           yes   1553543.0   \n",
      "99       NaN           yes   1553543.0   \n",
      "100      NaN           yes   1553543.0   \n",
      "...      ...           ...         ...   \n",
      "35874    NaN           yes    911878.0   \n",
      "35875    NaN           yes  10556244.0   \n",
      "35876    NaN       Unknown   7306671.0   \n",
      "35877    NaN           yes    911878.0   \n",
      "35878    NaN           yes    911878.0   \n",
      "\n",
      "                                               REFERENCE MUTATED_CHAIN  \\\n",
      "57                           PROTEINS 14, 237-248 (1992)           NaN   \n",
      "97                           SCIENCE 255, 178-183 (1992)           NaN   \n",
      "98                           SCIENCE 255, 178-183 (1992)             A   \n",
      "99                           SCIENCE 255, 178-183 (1992)             A   \n",
      "100                          SCIENCE 255, 178-183 (1992)             A   \n",
      "...                                                  ...           ...   \n",
      "35874           BIOCHIM BIOPHYS ACTA 494, 367-383 (1977)             A   \n",
      "35875                     PROTEIN ENG 12, 841-850 (1999)             A   \n",
      "35876  BIOPOLYMERS 20, 1989-1999 (1981); doi:10.1002/...         A,A,A   \n",
      "35877           BIOCHIM BIOPHYS ACTA 494, 367-383 (1977)         A,A,A   \n",
      "35878           BIOCHIM BIOPHYS ACTA 494, 367-383 (1977)         A,A,A   \n",
      "\n",
      "      KINGDOM PBD_MUTANT MEASURE METHOD     POSITION WILD_TYPE_RES  \\\n",
      "57        NaN        NaN     NaN    NaN    wild-type     WILD_TYPE   \n",
      "97        NaN        NaN     NaN    NaN    wild-type     WILD_TYPE   \n",
      "98        NaN        NaN     NaN    NaN           46             L   \n",
      "99        NaN        NaN     NaN    NaN          118             L   \n",
      "100       NaN        NaN     NaN    NaN          121             L   \n",
      "...       ...        ...     ...    ...          ...           ...   \n",
      "35874     NaN        NaN     NaN    NaN          138             W   \n",
      "35875     NaN        NaN     NaN    NaN           77             I   \n",
      "35876     NaN        NaN     NaN    NaN  138,126,158         W,W,W   \n",
      "35877     NaN        NaN     NaN    NaN  138,126,158         W,W,W   \n",
      "35878     NaN        NaN     NaN    NaN  138,126,158         W,W,W   \n",
      "\n",
      "      MUTATED_RES IS_CURATED  CONSERVATION NOTES DATASETS  \n",
      "57      WILD-TYPE        NaN           NaN   NaN      NaN  \n",
      "97      WILD-TYPE        NaN           NaN   NaN      NaN  \n",
      "98              A        NaN           NaN   NaN      NaN  \n",
      "99              A        NaN           NaN   NaN      NaN  \n",
      "100             A        NaN           NaN   NaN      NaN  \n",
      "...           ...        ...           ...   ...      ...  \n",
      "35874           Y        NaN           NaN   NaN      NaN  \n",
      "35875           Y        NaN           NaN   NaN      NaN  \n",
      "35876       Y,Y,Y        NaN           NaN   NaN      NaN  \n",
      "35877       Y,Y,Y        NaN           NaN   NaN      NaN  \n",
      "35878       Y,Y,Y        NaN           NaN   NaN      NaN  \n",
      "\n",
      "[2897 rows x 31 columns]\n"
     ]
    }
   ],
   "source": [
    "path = \"../Raw Data/\" + 'all_data_clean.csv'\n",
    "df = pd.read_csv(path)\n",
    "# print(df.head)\n",
    "print(df.columns)\n",
    "\n",
    "print(df[\"PROTEIN\"].value_counts().head(10))\n",
    "print(df.loc[df['PROTEIN'] == 'Lysozyme'])"
   ]
  },
  {
   "cell_type": "code",
   "execution_count": 17,
   "id": "ff72bd0a",
   "metadata": {},
   "outputs": [
    {
     "name": "stdout",
     "output_type": "stream",
     "text": [
      "P00644    3033\n",
      "P00720    2767\n",
      "P06654    2297\n",
      "P61626    1146\n",
      "P00648     981\n",
      "P00651     904\n",
      "P0A7Y4     722\n",
      "P63096     698\n",
      "P00044     546\n",
      "P00698     491\n",
      "Name: UNIPROT_ID, dtype: int64\n"
     ]
    }
   ],
   "source": [
    "print(df[\"UNIPROT_ID\"].value_counts().head(10)) # 4 possible could be used?"
   ]
  },
  {
   "cell_type": "markdown",
   "id": "68f5250d",
   "metadata": {},
   "source": [
    "#### P00644"
   ]
  },
  {
   "cell_type": "code",
   "execution_count": 22,
   "id": "31ecebf6",
   "metadata": {},
   "outputs": [
    {
     "name": "stdout",
     "output_type": "stream",
     "text": [
      "3033\n"
     ]
    },
    {
     "data": {
      "text/plain": [
       "DATABASE              3033\n",
       "PROTEIN               3033\n",
       "UNIPROT_ID            3033\n",
       "MUTATION              2901\n",
       "SOURCE                2901\n",
       "PBD_WILD              3031\n",
       "PBD_CHAIN_MUTATION    1360\n",
       "pH                    3031\n",
       "T_(C)                 2577\n",
       "Tm_(C)                 380\n",
       "dTm_(C)                585\n",
       "dH_(kcal/mol)           48\n",
       "dG_(kcal/mol)           43\n",
       "ddG_(kcal/mol)        1282\n",
       "ddG_H2O_(kcal/mol)    1068\n",
       "STATE                   12\n",
       "REVERSIBILITY         1450\n",
       "PUBMED_ID             3006\n",
       "REFERENCE             2901\n",
       "MUTATED_CHAIN         2943\n",
       "KINGDOM               1451\n",
       "PBD_MUTANT              23\n",
       "MEASURE               1556\n",
       "METHOD                1556\n",
       "POSITION              2901\n",
       "WILD_TYPE_RES         2901\n",
       "MUTATED_RES           2901\n",
       "IS_CURATED             132\n",
       "CONSERVATION           131\n",
       "NOTES                   24\n",
       "DATASETS                29\n",
       "dtype: int64"
      ]
     },
     "execution_count": 22,
     "metadata": {},
     "output_type": "execute_result"
    }
   ],
   "source": [
    "# finding column with most values\n",
    "\n",
    "# print(df.loc[df['UNIPROT_ID'] == 'P00644'])\n",
    "nuclease_df = df.loc[df['UNIPROT_ID'] == 'P00644']\n",
    "\n",
    "print(len(nuclease_df))\n",
    "nuclease_df.count() \n",
    "# using ddG_"
   ]
  },
  {
   "cell_type": "markdown",
   "id": "38e611a9",
   "metadata": {},
   "source": [
    "#### P00720"
   ]
  },
  {
   "cell_type": "code",
   "execution_count": 27,
   "id": "a2f16337",
   "metadata": {},
   "outputs": [
    {
     "name": "stdout",
     "output_type": "stream",
     "text": [
      "2767\n"
     ]
    },
    {
     "data": {
      "text/plain": [
       "DATABASE              2767\n",
       "PROTEIN               2767\n",
       "UNIPROT_ID            2767\n",
       "MUTATION              2482\n",
       "SOURCE                2482\n",
       "PBD_WILD              2767\n",
       "PBD_CHAIN_MUTATION    1512\n",
       "pH                    2766\n",
       "T_(C)                 1520\n",
       "Tm_(C)                1117\n",
       "dTm_(C)               1633\n",
       "dH_(kcal/mol)           56\n",
       "dG_(kcal/mol)            4\n",
       "ddG_(kcal/mol)        1376\n",
       "ddG_H2O_(kcal/mol)     158\n",
       "STATE                   89\n",
       "REVERSIBILITY         1656\n",
       "PUBMED_ID             2711\n",
       "REFERENCE             2482\n",
       "MUTATED_CHAIN         2623\n",
       "KINGDOM                825\n",
       "PBD_MUTANT             378\n",
       "MEASURE               1055\n",
       "METHOD                1055\n",
       "POSITION              2482\n",
       "WILD_TYPE_RES         2482\n",
       "MUTATED_RES           2482\n",
       "IS_CURATED             285\n",
       "CONSERVATION           285\n",
       "NOTES                  116\n",
       "DATASETS                81\n",
       "dtype: int64"
      ]
     },
     "execution_count": 27,
     "metadata": {},
     "output_type": "execute_result"
    }
   ],
   "source": [
    "lysozyme_df = df.loc[df['UNIPROT_ID'] == 'P00720']\n",
    "# print(nuclease_df.head)\n",
    "print(len(lysozyme_df))\n",
    "lysozyme_df.count()"
   ]
  },
  {
   "cell_type": "markdown",
   "id": "71d3b31c",
   "metadata": {},
   "source": [
    "#### P06654"
   ]
  },
  {
   "cell_type": "code",
   "execution_count": 32,
   "id": "5fb930a8",
   "metadata": {},
   "outputs": [
    {
     "name": "stdout",
     "output_type": "stream",
     "text": [
      "2297\n"
     ]
    },
    {
     "data": {
      "text/plain": [
       "DATABASE              2297\n",
       "PROTEIN               2297\n",
       "UNIPROT_ID            2297\n",
       "MUTATION              2274\n",
       "SOURCE                2274\n",
       "PBD_WILD              2297\n",
       "PBD_CHAIN_MUTATION    1078\n",
       "pH                    2295\n",
       "T_(C)                 2130\n",
       "Tm_(C)                 155\n",
       "dTm_(C)                185\n",
       "dH_(kcal/mol)           13\n",
       "dG_(kcal/mol)           54\n",
       "ddG_(kcal/mol)        1221\n",
       "ddG_H2O_(kcal/mol)     862\n",
       "STATE                  834\n",
       "REVERSIBILITY         1121\n",
       "PUBMED_ID             2289\n",
       "REFERENCE             2274\n",
       "MUTATED_CHAIN         2254\n",
       "KINGDOM               1136\n",
       "PBD_MUTANT               8\n",
       "MEASURE               1166\n",
       "METHOD                1168\n",
       "POSITION              2274\n",
       "WILD_TYPE_RES         2274\n",
       "MUTATED_RES           2274\n",
       "IS_CURATED              23\n",
       "CONSERVATION            20\n",
       "NOTES                    6\n",
       "DATASETS                 2\n",
       "dtype: int64"
      ]
     },
     "execution_count": 32,
     "metadata": {},
     "output_type": "execute_result"
    }
   ],
   "source": [
    "protein_G_df = df.loc[df['UNIPROT_ID'] == 'P06654']\n",
    "# print(protein_G_df.head)\n",
    "print(len(protein_G_df))\n",
    "protein_G_df.count()"
   ]
  },
  {
   "cell_type": "markdown",
   "id": "14601f09",
   "metadata": {},
   "source": [
    "#### P61626"
   ]
  },
  {
   "cell_type": "code",
   "execution_count": 35,
   "id": "605a1b9b",
   "metadata": {},
   "outputs": [
    {
     "name": "stdout",
     "output_type": "stream",
     "text": [
      "1146\n"
     ]
    },
    {
     "data": {
      "text/plain": [
       "DATABASE              1146\n",
       "PROTEIN               1146\n",
       "UNIPROT_ID            1146\n",
       "MUTATION              1076\n",
       "SOURCE                1076\n",
       "PBD_WILD              1146\n",
       "PBD_CHAIN_MUTATION     820\n",
       "pH                    1145\n",
       "T_(C)                  391\n",
       "Tm_(C)                 744\n",
       "dTm_(C)                388\n",
       "dH_(kcal/mol)          626\n",
       "dG_(kcal/mol)           13\n",
       "ddG_(kcal/mol)         352\n",
       "ddG_H2O_(kcal/mol)      41\n",
       "STATE                    0\n",
       "REVERSIBILITY          868\n",
       "PUBMED_ID             1130\n",
       "REFERENCE             1076\n",
       "MUTATED_CHAIN         1098\n",
       "KINGDOM                208\n",
       "PBD_MUTANT             101\n",
       "MEASURE                262\n",
       "METHOD                 262\n",
       "POSITION              1076\n",
       "WILD_TYPE_RES         1076\n",
       "MUTATED_RES           1076\n",
       "IS_CURATED              70\n",
       "CONSERVATION            65\n",
       "NOTES                    5\n",
       "DATASETS                24\n",
       "dtype: int64"
      ]
     },
     "execution_count": 35,
     "metadata": {},
     "output_type": "execute_result"
    }
   ],
   "source": [
    "Lysozyme_c_df = df.loc[df['UNIPROT_ID'] == 'P61626']\n",
    "# print(Lysozyme_c_df.head)\n",
    "print(len(Lysozyme_c_df))\n",
    "Lysozyme_c_df.count()"
   ]
  }
 ],
 "metadata": {
  "kernelspec": {
   "display_name": "Python 3 (ipykernel)",
   "language": "python",
   "name": "python3"
  },
  "language_info": {
   "codemirror_mode": {
    "name": "ipython",
    "version": 3
   },
   "file_extension": ".py",
   "mimetype": "text/x-python",
   "name": "python",
   "nbconvert_exporter": "python",
   "pygments_lexer": "ipython3",
   "version": "3.9.7"
  }
 },
 "nbformat": 4,
 "nbformat_minor": 5
}
