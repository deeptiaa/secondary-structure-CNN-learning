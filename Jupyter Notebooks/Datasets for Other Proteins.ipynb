{
 "cells": [
  {
   "cell_type": "markdown",
   "id": "d2e987f6",
   "metadata": {},
   "source": [
    "# Datasets for Other Proteins"
   ]
  },
  {
   "cell_type": "markdown",
   "id": "7a1562fa",
   "metadata": {},
   "source": [
    "This notebook formats data for the additional protein data used."
   ]
  },
  {
   "cell_type": "code",
   "execution_count": 171,
   "id": "9570362b",
   "metadata": {},
   "outputs": [],
   "source": [
    "# import statements\n",
    "import os\n",
    "import numpy as np\n",
    "import pandas as pd\n",
    "import requests\n",
    "from Bio import SeqIO\n",
    "from io import StringIO\n",
    "import Bio.PDB.Polypeptide\n",
    "import re"
   ]
  },
  {
   "cell_type": "code",
   "execution_count": 172,
   "id": "784b8db8",
   "metadata": {},
   "outputs": [],
   "source": [
    "import secStrucFormatting as ssf"
   ]
  },
  {
   "cell_type": "code",
   "execution_count": 309,
   "id": "7b3e5253",
   "metadata": {},
   "outputs": [],
   "source": [
    "# setting jupyter notebook viewing options\n",
    "max_rows = 1000\n",
    "max_cols = 1000\n",
    "pd.set_option(\"display.max_rows\", max_rows, \"display.max_columns\", max_cols)"
   ]
  },
  {
   "cell_type": "markdown",
   "id": "20238c54",
   "metadata": {},
   "source": [
    "### Metadata from compiled dataset"
   ]
  },
  {
   "cell_type": "code",
   "execution_count": 173,
   "id": "a37e58cb",
   "metadata": {},
   "outputs": [
    {
     "name": "stdout",
     "output_type": "stream",
     "text": [
      "Index(['DATABASE', 'PROTEIN', 'UNIPROT_ID', 'MUTATION', 'SOURCE', 'PBD_WILD',\n",
      "       'PBD_CHAIN_MUTATION', 'pH', 'T_(C)', 'Tm_(C)', 'dTm_(C)',\n",
      "       'dH_(kcal/mol)', 'dG_(kcal/mol)', 'ddG_(kcal/mol)',\n",
      "       'ddG_H2O_(kcal/mol)', 'STATE', 'REVERSIBILITY', 'PUBMED_ID',\n",
      "       'REFERENCE', 'MUTATED_CHAIN', 'KINGDOM', 'PBD_MUTANT', 'MEASURE',\n",
      "       'METHOD', 'POSITION', 'WILD_TYPE_RES', 'MUTATED_RES', 'IS_CURATED',\n",
      "       'CONSERVATION', 'NOTES', 'DATASETS'],\n",
      "      dtype='object')\n",
      "Lysozyme                                                   2897\n",
      "Immunoglobulin G-binding protein G                         1996\n",
      "Thermonuclease                                             1586\n",
      "Staphylococcal nuclease                                    1457\n",
      "Endolysin                                                  1110\n",
      "Ribonuclease                                                983\n",
      "Ribonuclease HI                                             710\n",
      "Guanine nucleotide-binding protein G(i) subunit alpha-1     704\n",
      "Myoglobin                                                   615\n",
      "Dihydrofolate reductase                                     459\n",
      "Name: PROTEIN, dtype: int64\n",
      "       DATABASE   PROTEIN UNIPROT_ID           MUTATION  \\\n",
      "57     Protherm  Lysozyme     P00698          wild-type   \n",
      "97     Protherm  Lysozyme     P00720          wild-type   \n",
      "98     Protherm  Lysozyme     P00720               L46A   \n",
      "99     Protherm  Lysozyme     P00720              L118A   \n",
      "100    Protherm  Lysozyme     P00720              L121A   \n",
      "...         ...       ...        ...                ...   \n",
      "35874  Protherm  Lysozyme     P00720              W138Y   \n",
      "35875  Protherm  Lysozyme     P61626               I77Y   \n",
      "35876  Protherm  Lysozyme     P00720  W138Y W126Y W158Y   \n",
      "35877  Protherm  Lysozyme     P00720  W138Y W126Y W158Y   \n",
      "35878  Protherm  Lysozyme     P00720  W138Y W126Y W158Y   \n",
      "\n",
      "                                           SOURCE PBD_WILD  \\\n",
      "57                        Gallus gallus (Chicken)     4LYZ   \n",
      "97     Enterobacteria phage T4 (Bacteriophage T4)     2LZM   \n",
      "98     Enterobacteria phage T4 (Bacteriophage T4)     2LZM   \n",
      "99     Enterobacteria phage T4 (Bacteriophage T4)     2LZM   \n",
      "100    Enterobacteria phage T4 (Bacteriophage T4)     2LZM   \n",
      "...                                           ...      ...   \n",
      "35874  Enterobacteria phage T4 (Bacteriophage T4)     2LZM   \n",
      "35875                        Homo sapiens (Human)     1LZ1   \n",
      "35876  Enterobacteria phage T4 (Bacteriophage T4)     2LZM   \n",
      "35877  Enterobacteria phage T4 (Bacteriophage T4)     2LZM   \n",
      "35878  Enterobacteria phage T4 (Bacteriophage T4)     2LZM   \n",
      "\n",
      "                           PBD_CHAIN_MUTATION    pH  T_(C)  Tm_(C)  ...  \\\n",
      "57                                        NaN  3.80    NaN    74.8  ...   \n",
      "97                                        NaN  3.01    NaN    51.8  ...   \n",
      "98                                2lzm_A:L46A  3.01    NaN    43.2  ...   \n",
      "99                               2lzm_A:L118A  3.01    NaN    39.6  ...   \n",
      "100                              2lzm_A:L121A  3.01    NaN    42.5  ...   \n",
      "...                                       ...   ...    ...     ...  ...   \n",
      "35874                            2lzm_A:W138Y  2.20    NaN    36.3  ...   \n",
      "35875                             1lz1_A:I59Y  2.70    NaN    64.9  ...   \n",
      "35876  2lzm_A:W138Y 2lzm_A:W126Y 2lzm_A:W158Y  2.00    NaN    30.0  ...   \n",
      "35877  2lzm_A:W138Y 2lzm_A:W126Y 2lzm_A:W158Y  2.20    NaN    36.0  ...   \n",
      "35878  2lzm_A:W138Y 2lzm_A:W126Y 2lzm_A:W158Y  2.50    NaN    40.0  ...   \n",
      "\n",
      "       PBD_MUTANT  MEASURE  METHOD     POSITION  WILD_TYPE_RES  MUTATED_RES  \\\n",
      "57            NaN      NaN     NaN    wild-type      WILD_TYPE    WILD-TYPE   \n",
      "97            NaN      NaN     NaN    wild-type      WILD_TYPE    WILD-TYPE   \n",
      "98            NaN      NaN     NaN           46              L            A   \n",
      "99            NaN      NaN     NaN          118              L            A   \n",
      "100           NaN      NaN     NaN          121              L            A   \n",
      "...           ...      ...     ...          ...            ...          ...   \n",
      "35874         NaN      NaN     NaN          138              W            Y   \n",
      "35875         NaN      NaN     NaN           77              I            Y   \n",
      "35876         NaN      NaN     NaN  138,126,158          W,W,W        Y,Y,Y   \n",
      "35877         NaN      NaN     NaN  138,126,158          W,W,W        Y,Y,Y   \n",
      "35878         NaN      NaN     NaN  138,126,158          W,W,W        Y,Y,Y   \n",
      "\n",
      "      IS_CURATED  CONSERVATION NOTES DATASETS  \n",
      "57           NaN           NaN   NaN      NaN  \n",
      "97           NaN           NaN   NaN      NaN  \n",
      "98           NaN           NaN   NaN      NaN  \n",
      "99           NaN           NaN   NaN      NaN  \n",
      "100          NaN           NaN   NaN      NaN  \n",
      "...          ...           ...   ...      ...  \n",
      "35874        NaN           NaN   NaN      NaN  \n",
      "35875        NaN           NaN   NaN      NaN  \n",
      "35876        NaN           NaN   NaN      NaN  \n",
      "35877        NaN           NaN   NaN      NaN  \n",
      "35878        NaN           NaN   NaN      NaN  \n",
      "\n",
      "[2897 rows x 31 columns]\n"
     ]
    }
   ],
   "source": [
    "path = \"../Raw Data/\" + 'all_data_clean.csv'\n",
    "df = pd.read_csv(path)\n",
    "# print(df.head)\n",
    "print(df.columns)\n",
    "\n",
    "print(df[\"PROTEIN\"].value_counts().head(10))\n",
    "print(df.loc[df['PROTEIN'] == 'Lysozyme'])"
   ]
  },
  {
   "cell_type": "code",
   "execution_count": 174,
   "id": "ff72bd0a",
   "metadata": {},
   "outputs": [
    {
     "name": "stdout",
     "output_type": "stream",
     "text": [
      "P00644    3033\n",
      "P00720    2767\n",
      "P06654    2297\n",
      "P61626    1146\n",
      "P00648     981\n",
      "P00651     904\n",
      "P0A7Y4     722\n",
      "P63096     698\n",
      "P00044     546\n",
      "P00698     491\n",
      "Name: UNIPROT_ID, dtype: int64\n"
     ]
    }
   ],
   "source": [
    "print(df[\"UNIPROT_ID\"].value_counts().head(10)) # 4 possible could be used?"
   ]
  },
  {
   "cell_type": "markdown",
   "id": "68f5250d",
   "metadata": {},
   "source": [
    "#### P00644 (Thermonuclease)"
   ]
  },
  {
   "cell_type": "code",
   "execution_count": 199,
   "id": "31ecebf6",
   "metadata": {},
   "outputs": [
    {
     "name": "stdout",
     "output_type": "stream",
     "text": [
      "Thermonuclease                              1586\n",
      "Staphylococcal nuclease                     1445\n",
      "Thiol:disulfide interchange protein DsbA       2\n",
      "Name: PROTEIN, dtype: int64\n",
      "3033\n"
     ]
    },
    {
     "data": {
      "text/plain": [
       "DATABASE              3033\n",
       "PROTEIN               3033\n",
       "UNIPROT_ID            3033\n",
       "MUTATION              2901\n",
       "SOURCE                2901\n",
       "PBD_WILD              3031\n",
       "PBD_CHAIN_MUTATION    1360\n",
       "pH                    3031\n",
       "T_(C)                 2577\n",
       "Tm_(C)                 380\n",
       "dTm_(C)                585\n",
       "dH_(kcal/mol)           48\n",
       "dG_(kcal/mol)           43\n",
       "ddG_(kcal/mol)        1282\n",
       "ddG_H2O_(kcal/mol)    1068\n",
       "STATE                   12\n",
       "REVERSIBILITY         1450\n",
       "PUBMED_ID             3006\n",
       "REFERENCE             2901\n",
       "MUTATED_CHAIN         2943\n",
       "KINGDOM               1451\n",
       "PBD_MUTANT              23\n",
       "MEASURE               1556\n",
       "METHOD                1556\n",
       "POSITION              2901\n",
       "WILD_TYPE_RES         2901\n",
       "MUTATED_RES           2901\n",
       "IS_CURATED             132\n",
       "CONSERVATION           131\n",
       "NOTES                   24\n",
       "DATASETS                29\n",
       "dtype: int64"
      ]
     },
     "execution_count": 199,
     "metadata": {},
     "output_type": "execute_result"
    }
   ],
   "source": [
    "# finding column with most values\n",
    "\n",
    "# print(df.loc[df['UNIPROT_ID'] == 'P00644'])\n",
    "nuclease_df = df.loc[df['UNIPROT_ID'] == 'P00644']\n",
    "print(nuclease_df[\"PROTEIN\"].value_counts())\n",
    "print(len(nuclease_df))\n",
    "nuclease_df.count() \n",
    "# using ddG_"
   ]
  },
  {
   "cell_type": "code",
   "execution_count": 7,
   "id": "893b3ef1",
   "metadata": {},
   "outputs": [],
   "source": [
    "# importing STRIDE file\n",
    "path = \"../PDB and STRIDE Files/\" + 'thermonuclease_stride.txt'\n",
    "nuclease_stride_file = open(path, 'r')"
   ]
  },
  {
   "cell_type": "code",
   "execution_count": 8,
   "id": "8266ebe3",
   "metadata": {},
   "outputs": [],
   "source": [
    "nuclease_ss_indexes = ssf.get_sec_struc_boolean(nuclease_stride_file) # boolean list of secondary structure assignements"
   ]
  },
  {
   "cell_type": "code",
   "execution_count": 9,
   "id": "2336d320",
   "metadata": {},
   "outputs": [
    {
     "name": "stdout",
     "output_type": "stream",
     "text": [
      "144\n",
      "87\n"
     ]
    }
   ],
   "source": [
    "ss = nuclease_ss_indexes.count(True)\n",
    "not_ss = nuclease_ss_indexes.count(False)\n",
    "print(ss)\n",
    "print(not_ss)"
   ]
  },
  {
   "cell_type": "markdown",
   "id": "38e611a9",
   "metadata": {},
   "source": [
    "#### P00720 (Endolysin)"
   ]
  },
  {
   "cell_type": "code",
   "execution_count": 198,
   "id": "a2f16337",
   "metadata": {},
   "outputs": [
    {
     "name": "stdout",
     "output_type": "stream",
     "text": [
      "2767\n",
      "Lysozyme                                     1637\n",
      "Endolysin                                    1101\n",
      "T4 lysozyme                                    20\n",
      "N,O-diacetylmuramidase                          2\n",
      "Beta-galactosidase                              2\n",
      "Invertase 2                                     1\n",
      "Spanin, inner membrane subunit                  1\n",
      "Cytosol aminopeptidase                          1\n",
      "Thermophilic aminopeptidase 1 alpha chain       1\n",
      "Carboxypeptidase Y                              1\n",
      "Name: PROTEIN, dtype: int64\n"
     ]
    }
   ],
   "source": [
    "endolysin_df = df.loc[df['UNIPROT_ID'] == 'P00720']\n",
    "endolysin_df = endolysin_df.protein\n",
    "print(len(endolysin_df))\n",
    "endolysin_df.count()\n",
    "print(endolysin_df[\"PROTEIN\"].value_counts())"
   ]
  },
  {
   "cell_type": "code",
   "execution_count": 11,
   "id": "e57039c1",
   "metadata": {},
   "outputs": [],
   "source": [
    "# importing STRIDE file\n",
    "path = \"../PDB and STRIDE Files/\" + 'endolysin_stride.txt'\n",
    "endolysin_stride_file = open(path, 'r')"
   ]
  },
  {
   "cell_type": "code",
   "execution_count": 12,
   "id": "e0dbcab3",
   "metadata": {},
   "outputs": [],
   "source": [
    "endolysin_ss_indexes = ssf.get_sec_struc_boolean(endolysin_stride_file) # boolean list of secondary structure assignements"
   ]
  },
  {
   "cell_type": "code",
   "execution_count": 13,
   "id": "cdaf7b31",
   "metadata": {},
   "outputs": [
    {
     "name": "stdout",
     "output_type": "stream",
     "text": [
      "122\n",
      "41\n"
     ]
    }
   ],
   "source": [
    "ss = endolysin_ss_indexes.count(True)\n",
    "not_ss = endolysin_ss_indexes.count(False)\n",
    "print(ss)\n",
    "print(not_ss)"
   ]
  },
  {
   "cell_type": "markdown",
   "id": "71d3b31c",
   "metadata": {},
   "source": [
    "#### P06654 (Immunoglobulin G-binding protein G)"
   ]
  },
  {
   "cell_type": "code",
   "execution_count": 200,
   "id": "5fb930a8",
   "metadata": {},
   "outputs": [
    {
     "name": "stdout",
     "output_type": "stream",
     "text": [
      "Immunoglobulin G-binding protein G    1995\n",
      "Protein G                              285\n",
      "Single Domain Antibody                  17\n",
      "Name: PROTEIN, dtype: int64\n",
      "2297\n",
      "1221\n"
     ]
    }
   ],
   "source": [
    "protein_G_df = df.loc[df['UNIPROT_ID'] == 'P06654']\n",
    "print(protein_G_df[\"PROTEIN\"].value_counts())\n",
    "# print(protein_G_df.head)\n",
    "print(len(protein_G_df))\n",
    "protein_G_df.count()\n",
    "# print(protein_G_df.head)\n",
    "protein_G_df = protein_G_df[protein_G_df[\"ddG_(kcal/mol)\"].notna()]\n",
    "print(len(protein_G_df))"
   ]
  },
  {
   "cell_type": "code",
   "execution_count": 197,
   "id": "6a54e762",
   "metadata": {},
   "outputs": [
    {
     "name": "stdout",
     "output_type": "stream",
     "text": [
      "30744     Q32V\n",
      "30558     F52H\n",
      "30146     L05A\n",
      "24563      I6A\n",
      "30136     Y03S\n",
      "30699     N37V\n",
      "30490     T53D\n",
      "30378    D262A\n",
      "30705     D36I\n",
      "30643     E42N\n",
      "30315     V29F\n",
      "30567     F52S\n",
      "30410     G41D\n",
      "30594     A48N\n",
      "30868     A20H\n",
      "30255     T18D\n",
      "30230     T16I\n",
      "31020    K230T\n",
      "30461     T49Q\n",
      "30118     T02N\n",
      "Name: MUTATION, dtype: object\n"
     ]
    }
   ],
   "source": [
    "print(protein_G_df[\"MUTATION\"].head(20))"
   ]
  },
  {
   "cell_type": "code",
   "execution_count": 176,
   "id": "d5b75dad",
   "metadata": {},
   "outputs": [],
   "source": [
    "# importing STRIDE file\n",
    "path = \"../PDB and STRIDE Files/\" + 'protein_G_stride.txt'\n",
    "protein_G_stride_file = open(path, 'r')"
   ]
  },
  {
   "cell_type": "code",
   "execution_count": 177,
   "id": "fad21383",
   "metadata": {},
   "outputs": [],
   "source": [
    "protein_G_ss_indexes = ssf.get_sec_struc_boolean(protein_G_stride_file) # boolean list of secondary structure assignements"
   ]
  },
  {
   "cell_type": "code",
   "execution_count": 178,
   "id": "24331990",
   "metadata": {},
   "outputs": [],
   "source": [
    "# getting protein sequence\n",
    "string_seq = \"MEKEKKVKYFLRKSAFGLASVSAAFLVGSTVFAVDSPIEDTPIIRNGGELTNLLGNSETTLALRNEESATADLTAAAVADTVAAAAAENAGAAAWEAAAAADALAKAKADALKEFNKYGVSDYYKNLINNAKTVEGIKDLQAQVVESAKKARISEATDGLSDFLKSQTPAEDTVKSIELAEAKVLANRELDKYGVSDYHKNLINNAKTVEGVKELIDEILAALPKTDTYKLILNGKTLKGETTTEAVDAATAEKVFKQYANDNGVDGEWTYDDATKTFTVTEKPEVIDASELTPAVTTYKLVINGKTLKGETTTKAVDAETAEKAFKQYANDNGVDGVWTYDDATKTFTVTEMVTEVPGDAPTEPEKPEASIPLVPLTPATPIAKDDAKKDDTKKEDAKKPEAKKDDAKKAETLPTTGEGSNPFFTAAALAVMAGAGALAVASKRKED\""
   ]
  },
  {
   "cell_type": "code",
   "execution_count": 179,
   "id": "fc82b0b1",
   "metadata": {},
   "outputs": [
    {
     "name": "stdout",
     "output_type": "stream",
     "text": [
      "MET GLU LYS GLU LYS LYS VAL LYS TYR PHE LEU ARG LYS SER ALA PHE GLY LEU ALA SER VAL SER ALA ALA PHE LEU VAL GLY SER THR VAL PHE ALA VAL ASP SER PRO ILE GLU ASP THR PRO ILE ILE ARG ASN GLY GLY GLU LEU THR ASN LEU LEU GLY ASN SER GLU THR THR LEU ALA LEU ARG ASN GLU GLU SER ALA THR ALA ASP LEU THR ALA ALA ALA VAL ALA ASP THR VAL ALA ALA ALA ALA ALA GLU ASN ALA GLY ALA ALA ALA TRP GLU ALA ALA ALA ALA ALA ASP ALA LEU ALA LYS ALA LYS ALA ASP ALA LEU LYS GLU PHE ASN LYS TYR GLY VAL SER ASP TYR TYR LYS ASN LEU ILE ASN ASN ALA LYS THR VAL GLU GLY ILE LYS ASP LEU GLN ALA GLN VAL VAL GLU SER ALA LYS LYS ALA ARG ILE SER GLU ALA THR ASP GLY LEU SER ASP PHE LEU LYS SER GLN THR PRO ALA GLU ASP THR VAL LYS SER ILE GLU LEU ALA GLU ALA LYS VAL LEU ALA ASN ARG GLU LEU ASP LYS TYR GLY VAL SER ASP TYR HIS LYS ASN LEU ILE ASN ASN ALA LYS THR VAL GLU GLY VAL LYS GLU LEU ILE ASP GLU ILE LEU ALA ALA LEU PRO LYS THR ASP THR TYR LYS LEU ILE LEU ASN GLY LYS THR LEU LYS GLY GLU THR THR THR GLU ALA VAL ASP ALA ALA THR ALA GLU LYS VAL PHE LYS GLN TYR ALA ASN ASP ASN GLY VAL ASP GLY GLU TRP THR TYR ASP ASP ALA THR LYS THR PHE THR VAL THR GLU LYS PRO GLU VAL ILE ASP ALA SER GLU LEU THR PRO ALA VAL THR THR TYR LYS LEU VAL ILE ASN GLY LYS THR LEU LYS GLY GLU THR THR THR LYS ALA VAL ASP ALA GLU THR ALA GLU LYS ALA PHE LYS GLN TYR ALA ASN ASP ASN GLY VAL ASP GLY VAL TRP THR TYR ASP ASP ALA THR LYS THR PHE THR VAL THR GLU MET VAL THR GLU VAL PRO GLY ASP ALA PRO THR GLU PRO GLU LYS PRO GLU ALA SER ILE PRO LEU VAL PRO LEU THR PRO ALA THR PRO ILE ALA LYS ASP ASP ALA LYS LYS ASP ASP THR LYS LYS GLU ASP ALA LYS LYS PRO GLU ALA LYS LYS ASP ASP ALA LYS LYS ALA GLU THR LEU PRO THR THR GLY GLU GLY SER ASN PRO PHE PHE THR ALA ALA ALA LEU ALA VAL MET ALA GLY ALA GLY ALA LEU ALA VAL ALA SER LYS ARG LYS GLU ASP\n"
     ]
    }
   ],
   "source": [
    "protein_seq_protein_G = ssf.get_expanded_seq(string_seq)\n",
    "print(protein_seq_protein_G)"
   ]
  },
  {
   "cell_type": "code",
   "execution_count": 194,
   "id": "3d935970",
   "metadata": {},
   "outputs": [
    {
     "name": "stdout",
     "output_type": "stream",
     "text": [
      "ASP\n"
     ]
    }
   ],
   "source": [
    "protein_seq_protein_G_split = protein_seq_protein_G.split()\n",
    "print(protein_seq_protein_G_split[34])"
   ]
  },
  {
   "cell_type": "code",
   "execution_count": 181,
   "id": "0d03b44f",
   "metadata": {},
   "outputs": [
    {
     "name": "stdout",
     "output_type": "stream",
     "text": [
      "Index(['DATABASE', 'PROTEIN', 'UNIPROT_ID', 'MUTATION', 'SOURCE', 'PBD_WILD',\n",
      "       'PBD_CHAIN_MUTATION', 'pH', 'T_(C)', 'Tm_(C)', 'dTm_(C)',\n",
      "       'dH_(kcal/mol)', 'dG_(kcal/mol)', 'score', 'ddG_H2O_(kcal/mol)',\n",
      "       'STATE', 'REVERSIBILITY', 'PUBMED_ID', 'REFERENCE', 'MUTATED_CHAIN',\n",
      "       'KINGDOM', 'PBD_MUTANT', 'MEASURE', 'METHOD', 'IS_CURATED',\n",
      "       'CONSERVATION', 'NOTES', 'DATASETS', 'variant'],\n",
      "      dtype='object')\n"
     ]
    }
   ],
   "source": [
    "protein_G_df = protein_G_df[protein_G_df[\"POSITION\"].str.contains(\"pga_A\") == False]\n",
    "\n",
    "protein_G_df[\"variant\"] = ssf.get_mutations_names_list(protein_G_df)\n",
    "\n",
    "# drop unneccesary columns\n",
    "# to_drop = [\"WILD_TYPE_RES\", \"MUTATED_RES\", \"POSITION\"]\n",
    "\n",
    "# rename to score\n",
    "protein_G_df.rename(columns = {'ddG_(kcal/mol)':'score'}, inplace = True)\n",
    "\n",
    "protein_G_df = protein_G_df.drop(columns=to_drop)\n",
    "protein_G_df = protein_G_df.sample(frac=1)\n",
    "print(protein_G_df.columns)\n"
   ]
  },
  {
   "cell_type": "code",
   "execution_count": 184,
   "id": "ff8145ea",
   "metadata": {},
   "outputs": [
    {
     "ename": "KeyError",
     "evalue": "'mutation'",
     "output_type": "error",
     "traceback": [
      "\u001b[1;31m---------------------------------------------------------------------------\u001b[0m",
      "\u001b[1;31mKeyError\u001b[0m                                  Traceback (most recent call last)",
      "\u001b[1;32m~\\anaconda3\\lib\\site-packages\\pandas\\core\\indexes\\base.py\u001b[0m in \u001b[0;36mget_loc\u001b[1;34m(self, key, method, tolerance)\u001b[0m\n\u001b[0;32m   3360\u001b[0m             \u001b[1;32mtry\u001b[0m\u001b[1;33m:\u001b[0m\u001b[1;33m\u001b[0m\u001b[1;33m\u001b[0m\u001b[0m\n\u001b[1;32m-> 3361\u001b[1;33m                 \u001b[1;32mreturn\u001b[0m \u001b[0mself\u001b[0m\u001b[1;33m.\u001b[0m\u001b[0m_engine\u001b[0m\u001b[1;33m.\u001b[0m\u001b[0mget_loc\u001b[0m\u001b[1;33m(\u001b[0m\u001b[0mcasted_key\u001b[0m\u001b[1;33m)\u001b[0m\u001b[1;33m\u001b[0m\u001b[1;33m\u001b[0m\u001b[0m\n\u001b[0m\u001b[0;32m   3362\u001b[0m             \u001b[1;32mexcept\u001b[0m \u001b[0mKeyError\u001b[0m \u001b[1;32mas\u001b[0m \u001b[0merr\u001b[0m\u001b[1;33m:\u001b[0m\u001b[1;33m\u001b[0m\u001b[1;33m\u001b[0m\u001b[0m\n",
      "\u001b[1;32m~\\anaconda3\\lib\\site-packages\\pandas\\_libs\\index.pyx\u001b[0m in \u001b[0;36mpandas._libs.index.IndexEngine.get_loc\u001b[1;34m()\u001b[0m\n",
      "\u001b[1;32m~\\anaconda3\\lib\\site-packages\\pandas\\_libs\\index.pyx\u001b[0m in \u001b[0;36mpandas._libs.index.IndexEngine.get_loc\u001b[1;34m()\u001b[0m\n",
      "\u001b[1;32mpandas\\_libs\\hashtable_class_helper.pxi\u001b[0m in \u001b[0;36mpandas._libs.hashtable.PyObjectHashTable.get_item\u001b[1;34m()\u001b[0m\n",
      "\u001b[1;32mpandas\\_libs\\hashtable_class_helper.pxi\u001b[0m in \u001b[0;36mpandas._libs.hashtable.PyObjectHashTable.get_item\u001b[1;34m()\u001b[0m\n",
      "\u001b[1;31mKeyError\u001b[0m: 'mutation'",
      "\nThe above exception was the direct cause of the following exception:\n",
      "\u001b[1;31mKeyError\u001b[0m                                  Traceback (most recent call last)",
      "\u001b[1;32m~\\AppData\\Local\\Temp/ipykernel_5348/2750396878.py\u001b[0m in \u001b[0;36m<module>\u001b[1;34m\u001b[0m\n\u001b[1;32m----> 1\u001b[1;33m \u001b[0mprint\u001b[0m\u001b[1;33m(\u001b[0m\u001b[0mprotein_G_df\u001b[0m\u001b[1;33m[\u001b[0m\u001b[1;34m\"mutation\"\u001b[0m\u001b[1;33m]\u001b[0m\u001b[1;33m.\u001b[0m\u001b[0mhead\u001b[0m\u001b[1;33m)\u001b[0m\u001b[1;33m\u001b[0m\u001b[1;33m\u001b[0m\u001b[0m\n\u001b[0m",
      "\u001b[1;32m~\\anaconda3\\lib\\site-packages\\pandas\\core\\frame.py\u001b[0m in \u001b[0;36m__getitem__\u001b[1;34m(self, key)\u001b[0m\n\u001b[0;32m   3456\u001b[0m             \u001b[1;32mif\u001b[0m \u001b[0mself\u001b[0m\u001b[1;33m.\u001b[0m\u001b[0mcolumns\u001b[0m\u001b[1;33m.\u001b[0m\u001b[0mnlevels\u001b[0m \u001b[1;33m>\u001b[0m \u001b[1;36m1\u001b[0m\u001b[1;33m:\u001b[0m\u001b[1;33m\u001b[0m\u001b[1;33m\u001b[0m\u001b[0m\n\u001b[0;32m   3457\u001b[0m                 \u001b[1;32mreturn\u001b[0m \u001b[0mself\u001b[0m\u001b[1;33m.\u001b[0m\u001b[0m_getitem_multilevel\u001b[0m\u001b[1;33m(\u001b[0m\u001b[0mkey\u001b[0m\u001b[1;33m)\u001b[0m\u001b[1;33m\u001b[0m\u001b[1;33m\u001b[0m\u001b[0m\n\u001b[1;32m-> 3458\u001b[1;33m             \u001b[0mindexer\u001b[0m \u001b[1;33m=\u001b[0m \u001b[0mself\u001b[0m\u001b[1;33m.\u001b[0m\u001b[0mcolumns\u001b[0m\u001b[1;33m.\u001b[0m\u001b[0mget_loc\u001b[0m\u001b[1;33m(\u001b[0m\u001b[0mkey\u001b[0m\u001b[1;33m)\u001b[0m\u001b[1;33m\u001b[0m\u001b[1;33m\u001b[0m\u001b[0m\n\u001b[0m\u001b[0;32m   3459\u001b[0m             \u001b[1;32mif\u001b[0m \u001b[0mis_integer\u001b[0m\u001b[1;33m(\u001b[0m\u001b[0mindexer\u001b[0m\u001b[1;33m)\u001b[0m\u001b[1;33m:\u001b[0m\u001b[1;33m\u001b[0m\u001b[1;33m\u001b[0m\u001b[0m\n\u001b[0;32m   3460\u001b[0m                 \u001b[0mindexer\u001b[0m \u001b[1;33m=\u001b[0m \u001b[1;33m[\u001b[0m\u001b[0mindexer\u001b[0m\u001b[1;33m]\u001b[0m\u001b[1;33m\u001b[0m\u001b[1;33m\u001b[0m\u001b[0m\n",
      "\u001b[1;32m~\\anaconda3\\lib\\site-packages\\pandas\\core\\indexes\\base.py\u001b[0m in \u001b[0;36mget_loc\u001b[1;34m(self, key, method, tolerance)\u001b[0m\n\u001b[0;32m   3361\u001b[0m                 \u001b[1;32mreturn\u001b[0m \u001b[0mself\u001b[0m\u001b[1;33m.\u001b[0m\u001b[0m_engine\u001b[0m\u001b[1;33m.\u001b[0m\u001b[0mget_loc\u001b[0m\u001b[1;33m(\u001b[0m\u001b[0mcasted_key\u001b[0m\u001b[1;33m)\u001b[0m\u001b[1;33m\u001b[0m\u001b[1;33m\u001b[0m\u001b[0m\n\u001b[0;32m   3362\u001b[0m             \u001b[1;32mexcept\u001b[0m \u001b[0mKeyError\u001b[0m \u001b[1;32mas\u001b[0m \u001b[0merr\u001b[0m\u001b[1;33m:\u001b[0m\u001b[1;33m\u001b[0m\u001b[1;33m\u001b[0m\u001b[0m\n\u001b[1;32m-> 3363\u001b[1;33m                 \u001b[1;32mraise\u001b[0m \u001b[0mKeyError\u001b[0m\u001b[1;33m(\u001b[0m\u001b[0mkey\u001b[0m\u001b[1;33m)\u001b[0m \u001b[1;32mfrom\u001b[0m \u001b[0merr\u001b[0m\u001b[1;33m\u001b[0m\u001b[1;33m\u001b[0m\u001b[0m\n\u001b[0m\u001b[0;32m   3364\u001b[0m \u001b[1;33m\u001b[0m\u001b[0m\n\u001b[0;32m   3365\u001b[0m         \u001b[1;32mif\u001b[0m \u001b[0mis_scalar\u001b[0m\u001b[1;33m(\u001b[0m\u001b[0mkey\u001b[0m\u001b[1;33m)\u001b[0m \u001b[1;32mand\u001b[0m \u001b[0misna\u001b[0m\u001b[1;33m(\u001b[0m\u001b[0mkey\u001b[0m\u001b[1;33m)\u001b[0m \u001b[1;32mand\u001b[0m \u001b[1;32mnot\u001b[0m \u001b[0mself\u001b[0m\u001b[1;33m.\u001b[0m\u001b[0mhasnans\u001b[0m\u001b[1;33m:\u001b[0m\u001b[1;33m\u001b[0m\u001b[1;33m\u001b[0m\u001b[0m\n",
      "\u001b[1;31mKeyError\u001b[0m: 'mutation'"
     ]
    }
   ],
   "source": []
  },
  {
   "cell_type": "code",
   "execution_count": 284,
   "id": "aa9ee7b1",
   "metadata": {},
   "outputs": [],
   "source": [
    "# protein_G_df = protein_G_df.sample(n=320)"
   ]
  },
  {
   "cell_type": "code",
   "execution_count": 275,
   "id": "e6891129",
   "metadata": {},
   "outputs": [
    {
     "name": "stdout",
     "output_type": "stream",
     "text": [
      "320\n"
     ]
    }
   ],
   "source": [
    "print(len(protein_G_df))"
   ]
  },
  {
   "cell_type": "code",
   "execution_count": 285,
   "id": "f9f6d572",
   "metadata": {},
   "outputs": [
    {
     "name": "stdout",
     "output_type": "stream",
     "text": [
      "30262   -0.950000\n",
      "30473   -3.310000\n",
      "21789    0.520000\n",
      "30722    0.480000\n",
      "24082    4.100000\n",
      "30707    0.200000\n",
      "30857   -1.350000\n",
      "30832    0.440000\n",
      "27182   -0.200000\n",
      "31021   -0.270000\n",
      "31001   -0.910000\n",
      "30878    0.120000\n",
      "15198   -0.860000\n",
      "30515   -4.000000\n",
      "30598    0.120000\n",
      "27187   -3.500000\n",
      "30373    0.040000\n",
      "30553   -0.230000\n",
      "30506   -2.670000\n",
      "30575   -0.050000\n",
      "30408   -1.280000\n",
      "28478    1.075526\n",
      "30955    0.250000\n",
      "24119    1.500000\n",
      "30821    0.550000\n",
      "30529   -0.300000\n",
      "30187    0.150000\n",
      "30988   -2.070000\n",
      "30543   -0.140000\n",
      "24100    2.500000\n",
      "30690   -0.420000\n",
      "30306    0.570000\n",
      "30422    0.520000\n",
      "15197   -0.450000\n",
      "13675   -0.300000\n",
      "30465   -0.190000\n",
      "10027    0.520000\n",
      "30115    0.310000\n",
      "22728   -2.820000\n",
      "30541    0.020000\n",
      "9945     2.430000\n",
      "30772    0.310000\n",
      "30705   -0.090000\n",
      "30472   -1.100000\n",
      "24091    3.140000\n",
      "30250   -0.130000\n",
      "30511    0.260000\n",
      "30415    0.610000\n",
      "30658   -4.000000\n",
      "30796    0.260000\n",
      "30106    0.270000\n",
      "30517   -2.910000\n",
      "30440   -2.490000\n",
      "30612    0.900000\n",
      "30531    0.340000\n",
      "30406   -2.040000\n",
      "12542    2.070000\n",
      "15195    0.360000\n",
      "30661   -4.000000\n",
      "30296   -0.080000\n",
      "30144    0.740000\n",
      "30960   -0.130000\n",
      "30738   -0.530000\n",
      "30624   -0.610000\n",
      "30833   -0.440000\n",
      "30986   -2.880000\n",
      "28479    0.764818\n",
      "30536   -0.180000\n",
      "9948     1.760000\n",
      "30793   -0.360000\n",
      "30775   -1.230000\n",
      "28633   -2.273000\n",
      "26869    2.460114\n",
      "30692   -1.010000\n",
      "10903    1.790000\n",
      "30609   -0.330000\n",
      "30202    0.390000\n",
      "30724    0.930000\n",
      "30843   -0.140000\n",
      "30808   -4.000000\n",
      "30378    0.400000\n",
      "30500   -0.650000\n",
      "30295   -0.350000\n",
      "30142    1.040000\n",
      "30985   -4.000000\n",
      "30339    0.160000\n",
      "30336   -1.160000\n",
      "30869   -1.730000\n",
      "30823    0.270000\n",
      "12543    2.000000\n",
      "30712    0.410000\n",
      "30901    0.180000\n",
      "30896    0.650000\n",
      "30747    0.170000\n",
      "30754   -0.480000\n",
      "24094    2.970000\n",
      "12522    0.160000\n",
      "30292    0.390000\n",
      "30794   -1.040000\n",
      "30672    0.460000\n",
      "21798    1.630000\n",
      "30157   -0.100000\n",
      "30999   -0.660000\n",
      "22730   -3.810000\n",
      "9933     4.290000\n",
      "30546   -0.660000\n",
      "30453   -0.690000\n",
      "30526   -0.660000\n",
      "30990   -1.140000\n",
      "30858    0.210000\n",
      "30976   -0.540000\n",
      "26862    3.248306\n",
      "30449    0.220000\n",
      "30121    0.060000\n",
      "24101    2.430000\n",
      "30853   -0.990000\n",
      "30563   -2.710000\n",
      "24580   -0.920000\n",
      "30280    0.410000\n",
      "30975   -0.420000\n",
      "30865   -1.170000\n",
      "30185    0.220000\n",
      "30910    0.160000\n",
      "30959    0.650000\n",
      "30504   -0.440000\n",
      "30590   -0.080000\n",
      "10906    1.940000\n",
      "24451   -0.095694\n",
      "30950    0.630000\n",
      "30343   -0.420000\n",
      "9941     3.140000\n",
      "30798   -4.000000\n",
      "31010   -4.000000\n",
      "30293    0.170000\n",
      "30160   -1.400000\n",
      "30812   -2.410000\n",
      "30822    0.780000\n",
      "30972   -0.880000\n",
      "30730   -0.670000\n",
      "12521    0.840000\n",
      "30264    0.620000\n",
      "26864    2.603421\n",
      "30266   -4.000000\n",
      "27847    0.480000\n",
      "30545    0.130000\n",
      "26868    3.439382\n",
      "30236   -1.990000\n",
      "21786    0.380000\n",
      "30782    1.920000\n",
      "30223    0.420000\n",
      "24120    1.280000\n",
      "24090    3.300000\n",
      "30267   -0.590000\n",
      "30787    1.820000\n",
      "30462   -0.390000\n",
      "30430    0.360000\n",
      "30520   -1.680000\n",
      "30286    0.440000\n",
      "30431   -4.000000\n",
      "30493   -0.020000\n",
      "10031    0.230000\n",
      "30924    0.940000\n",
      "30492   -0.250000\n",
      "30477   -2.160000\n",
      "30622   -0.840000\n",
      "24569   -1.000000\n",
      "30642    0.610000\n",
      "30497   -0.450000\n",
      "30217    0.450000\n",
      "30501   -4.000000\n",
      "30688   -2.740000\n",
      "30958    0.110000\n",
      "30148   -4.000000\n",
      "24102    2.230000\n",
      "30994   -0.110000\n",
      "30320    0.330000\n",
      "12530    3.300000\n",
      "30694   -0.430000\n",
      "30210    0.990000\n",
      "30370    0.750000\n",
      "26848    2.866152\n",
      "30126   -1.440000\n",
      "30516    0.420000\n",
      "30643    0.420000\n",
      "30651    0.690000\n",
      "30941    0.530000\n",
      "30571   -0.340000\n",
      "27841    1.934653\n",
      "30880   -0.200000\n",
      "30619   -0.050000\n",
      "30885   -1.470000\n",
      "30435   -4.000000\n",
      "30177    0.370000\n",
      "30887    0.930000\n",
      "30512   -4.000000\n",
      "30881   -0.950000\n",
      "30564   -4.000000\n",
      "30488   -4.000000\n",
      "30461   -4.000000\n",
      "30852   -1.030000\n",
      "30323   -0.220000\n",
      "30711   -2.700000\n",
      "27845    0.670000\n",
      "30310   -0.010000\n",
      "30403   -4.000000\n",
      "30151   -4.000000\n",
      "30294    0.670000\n",
      "30817    0.670000\n",
      "30718   -4.000000\n",
      "9949     1.680000\n",
      "30932    0.240000\n",
      "30469   -0.230000\n",
      "30813   -4.000000\n",
      "30973    0.030000\n",
      "30494   -4.000000\n",
      "30632   -0.800000\n",
      "30381    0.000000\n",
      "30779    0.190000\n",
      "30623   -0.570000\n",
      "30139   -0.340000\n",
      "10900    1.040000\n",
      "30132   -4.000000\n",
      "30971   -1.060000\n",
      "30554   -0.140000\n",
      "24106    2.100000\n",
      "30216   -0.350000\n",
      "30745   -0.130000\n",
      "30708    0.290000\n",
      "30245   -0.050000\n",
      "30566   -4.000000\n",
      "30625   -0.530000\n",
      "24571   -0.380000\n",
      "30698    0.220000\n",
      "30753   -0.720000\n",
      "10028    0.370000\n",
      "30268   -0.440000\n",
      "9950     1.590000\n",
      "30213   -0.450000\n",
      "30397   -2.290000\n",
      "30659   -4.000000\n",
      "30358   -1.530000\n",
      "30212    0.210000\n",
      "30856   -1.180000\n",
      "30732    0.110000\n",
      "24096    2.800000\n",
      "30614    0.180000\n",
      "30459   -0.450000\n",
      "30629   -0.380000\n",
      "30842   -0.190000\n",
      "30769   -2.530000\n",
      "30943    0.340000\n",
      "30487   -4.000000\n",
      "30600    0.160000\n",
      "30152   -1.340000\n",
      "30556   -0.110000\n",
      "30490   -1.180000\n",
      "30239    0.010000\n",
      "24554   -2.960000\n",
      "30211    0.600000\n",
      "15196   -0.100000\n",
      "30993   -0.470000\n",
      "30376    0.850000\n",
      "30859   -2.930000\n",
      "30750   -4.000000\n",
      "30470    0.820000\n",
      "30802   -4.000000\n",
      "10025    0.450000\n",
      "30646    0.710000\n",
      "30668   -4.000000\n",
      "30416    0.400000\n",
      "30332   -0.440000\n",
      "30304    0.410000\n",
      "30952    0.540000\n",
      "30825   -0.240000\n",
      "30818    0.620000\n",
      "30560   -0.240000\n",
      "30917    0.010000\n",
      "30756   -0.480000\n",
      "30819    0.150000\n",
      "30848    0.380000\n",
      "30991    0.080000\n",
      "30929    0.510000\n",
      "30387    0.950000\n",
      "30532   -4.000000\n",
      "24582   -3.340000\n",
      "30630   -1.720000\n",
      "30502   -0.350000\n",
      "30838    0.560000\n",
      "24089    3.340000\n",
      "30696    0.940000\n",
      "30601    0.330000\n",
      "12546    1.110000\n",
      "30771    0.190000\n",
      "10029    0.380000\n",
      "30603    0.690000\n",
      "30253    0.210000\n",
      "30561   -4.000000\n",
      "30801   -4.000000\n",
      "30805   -4.000000\n",
      "30908    0.600000\n",
      "30485   -1.850000\n",
      "31027    0.400000\n",
      "30634   -1.310000\n",
      "30638   -0.880000\n",
      "27184   -0.300000\n",
      "9487     2.960000\n",
      "30549   -0.170000\n",
      "30713    0.410000\n",
      "30559   -2.660000\n",
      "31004   -0.680000\n",
      "30404   -2.310000\n",
      "12536    2.800000\n",
      "30886    0.020000\n",
      "27179    0.100000\n",
      "30587    0.460000\n",
      "30608    0.330000\n",
      "21795    1.080000\n",
      "30839    0.480000\n",
      "24453   -0.861244\n",
      "30615    0.460000\n",
      "Name: score, dtype: float64\n"
     ]
    }
   ],
   "source": [
    "print(protein_G_df[\"score\"])"
   ]
  },
  {
   "cell_type": "code",
   "execution_count": 286,
   "id": "b4dbdd21",
   "metadata": {},
   "outputs": [
    {
     "name": "stdout",
     "output_type": "stream",
     "text": [
      "Filename: protein_G_MLformat_320.txt\n"
     ]
    }
   ],
   "source": [
    "ssf.write_data_file(\"protein_G_MLformat_320\", protein_seq_protein_G, protein_G_df)"
   ]
  },
  {
   "cell_type": "markdown",
   "id": "e9c61ab9",
   "metadata": {},
   "source": [
    "From Gelman et al."
   ]
  },
  {
   "cell_type": "markdown",
   "id": "b446883f",
   "metadata": {},
   "source": [
    "**avGFP**"
   ]
  },
  {
   "cell_type": "code",
   "execution_count": 92,
   "id": "af5c9653",
   "metadata": {},
   "outputs": [],
   "source": [
    "# importing STRIDE file\n",
    "path = \"../PDB and STRIDE Files/\" + 'avgfp_stride.txt'\n",
    "avgfp_stride_file = open(path, 'r')"
   ]
  },
  {
   "cell_type": "code",
   "execution_count": 93,
   "id": "2c8ce2dd",
   "metadata": {},
   "outputs": [],
   "source": [
    "avgfp_ss_indexes = ssf.get_sec_struc_boolean(avgfp_stride_file) # boolean list of secondary structure assignements"
   ]
  },
  {
   "cell_type": "code",
   "execution_count": 94,
   "id": "7b6f676d",
   "metadata": {},
   "outputs": [
    {
     "name": "stdout",
     "output_type": "stream",
     "text": [
      "152\n",
      "85\n"
     ]
    }
   ],
   "source": [
    "ss = avgfp_ss_indexes.count(True)\n",
    "not_ss = avgfp_ss_indexes.count(False)\n",
    "print(ss)\n",
    "print(not_ss)"
   ]
  },
  {
   "cell_type": "markdown",
   "id": "a01b93e2",
   "metadata": {},
   "source": [
    "Formatting Data"
   ]
  },
  {
   "cell_type": "code",
   "execution_count": 95,
   "id": "03905bd2",
   "metadata": {},
   "outputs": [
    {
     "name": "stdout",
     "output_type": "stream",
     "text": [
      "54024\n",
      "Index(['variant', 'num_mutations', 'score', 'score_wt_norm'], dtype='object')\n"
     ]
    }
   ],
   "source": [
    "# importing avGFP data from Gelman et al.\n",
    "avgfp_df1 = pd.read_csv(\"../Raw Data/avgfp.tsv.txt\", sep=\"\\t\")\n",
    "avgfp_df = avgfp_df1.dropna()\n",
    "print(len(avgfp_df))\n",
    "print(avgfp_df.columns)"
   ]
  },
  {
   "cell_type": "code",
   "execution_count": 96,
   "id": "0b9c347f",
   "metadata": {},
   "outputs": [
    {
     "name": "stdout",
     "output_type": "stream",
     "text": [
      "54024\n",
      "51714\n"
     ]
    }
   ],
   "source": [
    "# rounding score column to 2 decimal points\n",
    "avgfp_df[\"score\"] = avgfp_df[\"score\"].round(6)\n",
    "print(len(avgfp_df))\n",
    "\n",
    "# remove values with wildcard star thing cause idk what it means\n",
    "avgfp_df = avgfp_df[avgfp_df[\"variant\"].str.contains(\"\\*\") == False]\n",
    "\n",
    "# pab1_df = pab1_df.head(37600)\n",
    "# avgfp_df = avgfp_df.sample(n=160)\n",
    "print(len(avgfp_df))"
   ]
  },
  {
   "cell_type": "code",
   "execution_count": 85,
   "id": "d177943f",
   "metadata": {},
   "outputs": [
    {
     "name": "stdout",
     "output_type": "stream",
     "text": [
      "237\n",
      "SER LYS GLY GLU GLU LEU PHE THR GLY VAL VAL PRO ILE LEU VAL GLU LEU ASP GLY ASP VAL ASN GLY HIS LYS PHE SER VAL SER GLY GLU GLY GLU GLY ASP ALA THR TYR GLY LYS LEU THR LEU LYS PHE ILE CYS THR THR GLY LYS LEU PRO VAL PRO TRP PRO THR LEU VAL THR THR LEU SER TYR GLY VAL GLN CYS PHE SER ARG TYR PRO ASP HIS MET LYS GLN HIS ASP PHE PHE LYS SER ALA MET PRO GLU GLY TYR VAL GLN GLU ARG THR ILE PHE PHE LYS ASP ASP GLY ASN TYR LYS THR ARG ALA GLU VAL LYS PHE GLU GLY ASP THR LEU VAL ASN ARG ILE GLU LEU LYS GLY ILE ASP PHE LYS GLU ASP GLY ASN ILE LEU GLY HIS LYS LEU GLU TYR ASN TYR ASN SER HIS ASN VAL TYR ILE MET ALA ASP LYS GLN LYS ASN GLY ILE LYS VAL ASN PHE LYS ILE ARG HIS ASN ILE GLU ASP GLY SER VAL GLN LEU ALA ASP HIS TYR GLN GLN ASN THR PRO ILE GLY ASP GLY PRO VAL LEU LEU PRO ASP ASN HIS TYR LEU SER THR GLN SER ALA LEU SER LYS ASP PRO ASN GLU LYS ARG ASP HIS MET VAL LEU LEU GLU PHE VAL THR ALA ALA GLY ILE THR HIS GLY MET ASP GLU LEU TYR LYS\n"
     ]
    }
   ],
   "source": [
    "# getting dataset size to run\n",
    "\n",
    "string_seq = \"SKGEELFTGVVPILVELDGDVNGHKFSVSGEGEGDATYGKLTLKFICTTGKLPVPWPTLVTTLSYGVQCFSRYPDHMKQHDFFKSAMPEGYVQERTIFFKDDGNYKTRAEVKFEGDTLVNRIELKGIDFKEDGNILGHKLEYNYNSHNVYIMADKQKNGIKVNFKIRHNIEDGSVQLADHYQQNTPIGDGPVLLPDNHYLSTQSALSKDPNEKRDHMVLLEFVTAAGITHGMDELYK\"\n",
    "print(len(string_seq)) \n",
    "protein_seq_avgfp = ssf.get_expanded_seq(string_seq)\n",
    "print(protein_seq_avgfp)"
   ]
  },
  {
   "cell_type": "code",
   "execution_count": 90,
   "id": "529a3aca",
   "metadata": {},
   "outputs": [
    {
     "name": "stdout",
     "output_type": "stream",
     "text": [
      "237\n",
      "ALA\n"
     ]
    }
   ],
   "source": [
    "protein_seq_avgfp_split = protein_seq_avgfp.split()\n",
    "print(len(protein_seq_avgfp_split))\n",
    "print(protein_seq_avgfp_split[108])"
   ]
  },
  {
   "cell_type": "code",
   "execution_count": 97,
   "id": "0d70812b",
   "metadata": {},
   "outputs": [],
   "source": [
    "# splitting variant list if there are multiple mutations\n",
    "avgfp_mut = avgfp_df[\"variant\"].str.split(\",\")\n",
    "\n",
    "# get wild type of residue and place in seperate col\n",
    "avgfp_df[\"WILD_TYPE_RES\"] = ssf.get_wild_type(avgfp_mut)\n",
    "\n",
    "# get mutated residue and place in seperate col\n",
    "avgfp_df[\"MUTATED_RES\"] = ssf.get_mutation_type(avgfp_mut)\n",
    "\n",
    "# get position and place in seperate col\n",
    "avgfp_df[\"POSITION\"] = ssf.get_position(avgfp_mut)\n",
    "\n",
    "# replace variant column with reformatted variant name\n",
    "avgfp_df[\"variant\"] = ssf.get_mutations_names_list(avgfp_df)\n",
    "\n",
    "# drop unneccesary columns\n",
    "to_drop = [\"WILD_TYPE_RES\", \"MUTATED_RES\", \"POSITION\"]\n",
    "\n",
    "# avgfp_df = avgfp_df.drop(columns=to_drop)"
   ]
  },
  {
   "cell_type": "code",
   "execution_count": 98,
   "id": "8c44ab03",
   "metadata": {},
   "outputs": [],
   "source": [
    "\n",
    "# need positionssplit\n",
    "avgfp_df[\"positions_split\"] = ssf.get_positions_split(avgfp_df)\n",
    "\n",
    "# add in_sec_str_col\n",
    "avgfp_df = add_sec_str_col(avgfp_df, avgfp_ss_indexes, 0)"
   ]
  },
  {
   "cell_type": "code",
   "execution_count": 102,
   "id": "4d480a01",
   "metadata": {},
   "outputs": [
    {
     "name": "stdout",
     "output_type": "stream",
     "text": [
      "in fraction,df len31791\n",
      "297\n",
      "168\n",
      "Train Data Fraction: 0.639\n",
      "false_df len31788\n",
      "true_df len3\n"
     ]
    },
    {
     "ename": "ValueError",
     "evalue": "Cannot take a larger sample than population when 'replace=False'",
     "output_type": "error",
     "traceback": [
      "\u001b[1;31m---------------------------------------------------------------------------\u001b[0m",
      "\u001b[1;31mValueError\u001b[0m                                Traceback (most recent call last)",
      "\u001b[1;32m~\\AppData\\Local\\Temp/ipykernel_5348/2895708907.py\u001b[0m in \u001b[0;36m<module>\u001b[1;34m\u001b[0m\n\u001b[1;32m----> 1\u001b[1;33m \u001b[0mavgfp_train_df\u001b[0m\u001b[1;33m,\u001b[0m \u001b[0mavgfp_new_test_df\u001b[0m\u001b[1;33m,\u001b[0m \u001b[0mavgfp_new_remaining_df\u001b[0m \u001b[1;33m=\u001b[0m \u001b[0mget_train_and_test_df\u001b[0m\u001b[1;33m(\u001b[0m\u001b[0mavgfp_remaining_df\u001b[0m\u001b[1;33m,\u001b[0m \u001b[1;36m0.64\u001b[0m\u001b[1;33m,\u001b[0m \u001b[1;36m465\u001b[0m\u001b[1;33m)\u001b[0m\u001b[1;33m\u001b[0m\u001b[1;33m\u001b[0m\u001b[0m\n\u001b[0m",
      "\u001b[1;32m~\\AppData\\Local\\Temp/ipykernel_5348/3256867813.py\u001b[0m in \u001b[0;36mget_train_and_test_df\u001b[1;34m(df, fraction_ss, train_size)\u001b[0m\n\u001b[0;32m      5\u001b[0m \u001b[1;31m# reutrns remaining df\u001b[0m\u001b[1;33m\u001b[0m\u001b[1;33m\u001b[0m\u001b[0m\n\u001b[0;32m      6\u001b[0m \u001b[1;32mdef\u001b[0m \u001b[0mget_train_and_test_df\u001b[0m\u001b[1;33m(\u001b[0m\u001b[0mdf\u001b[0m\u001b[1;33m,\u001b[0m \u001b[0mfraction_ss\u001b[0m\u001b[1;33m,\u001b[0m \u001b[0mtrain_size\u001b[0m\u001b[1;33m)\u001b[0m\u001b[1;33m:\u001b[0m\u001b[1;33m\u001b[0m\u001b[1;33m\u001b[0m\u001b[0m\n\u001b[1;32m----> 7\u001b[1;33m     \u001b[0mtrain_df\u001b[0m\u001b[1;33m,\u001b[0m \u001b[0mremaining_df\u001b[0m \u001b[1;33m=\u001b[0m \u001b[0mget_fractioned_dataset\u001b[0m\u001b[1;33m(\u001b[0m\u001b[0mdf\u001b[0m\u001b[1;33m,\u001b[0m \u001b[0mfraction_ss\u001b[0m\u001b[1;33m,\u001b[0m \u001b[0mtrain_size\u001b[0m\u001b[1;33m)\u001b[0m\u001b[1;33m\u001b[0m\u001b[1;33m\u001b[0m\u001b[0m\n\u001b[0m\u001b[0;32m      8\u001b[0m     \u001b[0mtest_df\u001b[0m\u001b[1;33m,\u001b[0m \u001b[0mremaining_df\u001b[0m \u001b[1;33m=\u001b[0m \u001b[0mget_fractioned_dataset\u001b[0m\u001b[1;33m(\u001b[0m\u001b[0mremaining_df\u001b[0m\u001b[1;33m,\u001b[0m \u001b[0mfraction_ss\u001b[0m\u001b[1;33m,\u001b[0m \u001b[1;32mNone\u001b[0m\u001b[1;33m)\u001b[0m\u001b[1;33m\u001b[0m\u001b[1;33m\u001b[0m\u001b[0m\n\u001b[0;32m      9\u001b[0m     \u001b[0mprint\u001b[0m\u001b[1;33m(\u001b[0m\u001b[1;34m\"Size of Test Dataset: \"\u001b[0m \u001b[1;33m+\u001b[0m \u001b[0mstr\u001b[0m\u001b[1;33m(\u001b[0m\u001b[0mlen\u001b[0m\u001b[1;33m(\u001b[0m\u001b[0mtest_df\u001b[0m\u001b[1;33m)\u001b[0m\u001b[1;33m)\u001b[0m\u001b[1;33m)\u001b[0m\u001b[1;33m\u001b[0m\u001b[1;33m\u001b[0m\u001b[0m\n",
      "\u001b[1;32m~\\AppData\\Local\\Temp/ipykernel_5348/2246538020.py\u001b[0m in \u001b[0;36mget_fractioned_dataset\u001b[1;34m(df, fraction_ss, size)\u001b[0m\n\u001b[0;32m     18\u001b[0m     \u001b[0mprint\u001b[0m\u001b[1;33m(\u001b[0m\u001b[1;34m\"false_df len\"\u001b[0m \u001b[1;33m+\u001b[0m \u001b[0mstr\u001b[0m\u001b[1;33m(\u001b[0m\u001b[0mlen\u001b[0m\u001b[1;33m(\u001b[0m\u001b[0mfalse_df\u001b[0m\u001b[1;33m)\u001b[0m\u001b[1;33m)\u001b[0m\u001b[1;33m)\u001b[0m\u001b[1;33m\u001b[0m\u001b[1;33m\u001b[0m\u001b[0m\n\u001b[0;32m     19\u001b[0m     \u001b[0mprint\u001b[0m\u001b[1;33m(\u001b[0m\u001b[1;34m\"true_df len\"\u001b[0m \u001b[1;33m+\u001b[0m \u001b[0mstr\u001b[0m\u001b[1;33m(\u001b[0m\u001b[0mlen\u001b[0m\u001b[1;33m(\u001b[0m\u001b[0mtrue_df\u001b[0m\u001b[1;33m)\u001b[0m\u001b[1;33m)\u001b[0m\u001b[1;33m)\u001b[0m\u001b[1;33m\u001b[0m\u001b[1;33m\u001b[0m\u001b[0m\n\u001b[1;32m---> 20\u001b[1;33m     \u001b[0mss_df\u001b[0m \u001b[1;33m=\u001b[0m \u001b[0mtrue_df\u001b[0m\u001b[1;33m.\u001b[0m\u001b[0msample\u001b[0m\u001b[1;33m(\u001b[0m\u001b[0mnum_in_ss\u001b[0m\u001b[1;33m)\u001b[0m\u001b[1;33m\u001b[0m\u001b[1;33m\u001b[0m\u001b[0m\n\u001b[0m\u001b[0;32m     21\u001b[0m \u001b[1;33m\u001b[0m\u001b[0m\n\u001b[0;32m     22\u001b[0m     \u001b[0mfalse_df\u001b[0m \u001b[1;33m=\u001b[0m \u001b[0mdf\u001b[0m\u001b[1;33m[\u001b[0m\u001b[0mdf\u001b[0m\u001b[1;33m[\u001b[0m\u001b[1;34m\"in_sec_str\"\u001b[0m\u001b[1;33m]\u001b[0m \u001b[1;33m==\u001b[0m \u001b[1;32mFalse\u001b[0m\u001b[1;33m]\u001b[0m\u001b[1;33m\u001b[0m\u001b[1;33m\u001b[0m\u001b[0m\n",
      "\u001b[1;32m~\\anaconda3\\lib\\site-packages\\pandas\\core\\generic.py\u001b[0m in \u001b[0;36msample\u001b[1;34m(self, n, frac, replace, weights, random_state, axis, ignore_index)\u001b[0m\n\u001b[0;32m   5363\u001b[0m             )\n\u001b[0;32m   5364\u001b[0m \u001b[1;33m\u001b[0m\u001b[0m\n\u001b[1;32m-> 5365\u001b[1;33m         \u001b[0mlocs\u001b[0m \u001b[1;33m=\u001b[0m \u001b[0mrs\u001b[0m\u001b[1;33m.\u001b[0m\u001b[0mchoice\u001b[0m\u001b[1;33m(\u001b[0m\u001b[0maxis_length\u001b[0m\u001b[1;33m,\u001b[0m \u001b[0msize\u001b[0m\u001b[1;33m=\u001b[0m\u001b[0mn\u001b[0m\u001b[1;33m,\u001b[0m \u001b[0mreplace\u001b[0m\u001b[1;33m=\u001b[0m\u001b[0mreplace\u001b[0m\u001b[1;33m,\u001b[0m \u001b[0mp\u001b[0m\u001b[1;33m=\u001b[0m\u001b[0mweights\u001b[0m\u001b[1;33m)\u001b[0m\u001b[1;33m\u001b[0m\u001b[1;33m\u001b[0m\u001b[0m\n\u001b[0m\u001b[0;32m   5366\u001b[0m         \u001b[0mresult\u001b[0m \u001b[1;33m=\u001b[0m \u001b[0mself\u001b[0m\u001b[1;33m.\u001b[0m\u001b[0mtake\u001b[0m\u001b[1;33m(\u001b[0m\u001b[0mlocs\u001b[0m\u001b[1;33m,\u001b[0m \u001b[0maxis\u001b[0m\u001b[1;33m=\u001b[0m\u001b[0maxis\u001b[0m\u001b[1;33m)\u001b[0m\u001b[1;33m\u001b[0m\u001b[1;33m\u001b[0m\u001b[0m\n\u001b[0;32m   5367\u001b[0m         \u001b[1;32mif\u001b[0m \u001b[0mignore_index\u001b[0m\u001b[1;33m:\u001b[0m\u001b[1;33m\u001b[0m\u001b[1;33m\u001b[0m\u001b[0m\n",
      "\u001b[1;32mmtrand.pyx\u001b[0m in \u001b[0;36mnumpy.random.mtrand.RandomState.choice\u001b[1;34m()\u001b[0m\n",
      "\u001b[1;31mValueError\u001b[0m: Cannot take a larger sample than population when 'replace=False'"
     ]
    }
   ],
   "source": [
    "avgfp_train_df, avgfp_new_test_df, avgfp_new_remaining_df = get_train_and_test_df(avgfp_remaining_df, 0.64, 465)"
   ]
  },
  {
   "cell_type": "code",
   "execution_count": 132,
   "id": "14eeaef1",
   "metadata": {},
   "outputs": [
    {
     "name": "stdout",
     "output_type": "stream",
     "text": [
      "10465\n",
      "Filename: avgfp_MLformat_465_train_10k_test_1.txt\n"
     ]
    }
   ],
   "source": [
    "avgfp_test_10000 = avgfp_test_df.head(10000)\n",
    "avgfp_df_format = pd.concat([avgfp_train_df, avgfp_test_10000])\n",
    "print(len(avgfp_df_format))\n",
    "# writing data to txt file\n",
    "ssf.write_data_file(\"avgfp_MLformat_465_train_10k_test_1\", protein_seq_avgfp, avgfp_df_format)"
   ]
  },
  {
   "cell_type": "code",
   "execution_count": 226,
   "id": "f00d5252",
   "metadata": {},
   "outputs": [
    {
     "name": "stdout",
     "output_type": "stream",
     "text": [
      "Filename: avgfp_MLformat_160.txt\n"
     ]
    }
   ],
   "source": [
    "# writing data to txt file\n",
    "ssf.write_data_file(\"avgfp_MLformat_160\", protein_seq_avgfp, avgfp_df)"
   ]
  },
  {
   "cell_type": "markdown",
   "id": "9b7aeef4",
   "metadata": {},
   "source": [
    "**GB1**"
   ]
  },
  {
   "cell_type": "code",
   "execution_count": 115,
   "id": "7d12a11e",
   "metadata": {},
   "outputs": [],
   "source": [
    "# importing STRIDE file\n",
    "path = \"../PDB and STRIDE Files/\" + 'gb1_stride.txt'\n",
    "gb1_stride_file = open(path, 'r')"
   ]
  },
  {
   "cell_type": "code",
   "execution_count": 108,
   "id": "0439dec9",
   "metadata": {},
   "outputs": [],
   "source": [
    "gb1_ss_indexes = ssf.get_sec_struc_boolean(gb1_stride_file) # boolean list of secondary structure assignements"
   ]
  },
  {
   "cell_type": "code",
   "execution_count": 109,
   "id": "8a6166dc",
   "metadata": {},
   "outputs": [
    {
     "name": "stdout",
     "output_type": "stream",
     "text": [
      "39\n",
      "17\n"
     ]
    }
   ],
   "source": [
    "ss = gb1_ss_indexes.count(True)\n",
    "not_ss = gb1_ss_indexes.count(False)\n",
    "print(ss)\n",
    "print(not_ss)"
   ]
  },
  {
   "cell_type": "code",
   "execution_count": 116,
   "id": "4aee2008",
   "metadata": {},
   "outputs": [
    {
     "name": "stdout",
     "output_type": "stream",
     "text": [
      "536084\n",
      "Index(['variant', 'num_mutations', 'inp', 'sel', 'score'], dtype='object')\n"
     ]
    }
   ],
   "source": [
    "# importing pab1 data from Gelman et al.\n",
    "gb1_df1 = pd.read_csv(\"../Raw Data/gb1.tsv.txt\", sep=\"\\t\")\n",
    "gb1_df = gb1_df1.dropna()\n",
    "print(len(gb1_df))\n",
    "# gb1_df = gb1_df.sample(n=480)\n",
    "print(gb1_df.columns)\n",
    "gb1_df = gb1_df.sample(frac=1)"
   ]
  },
  {
   "cell_type": "code",
   "execution_count": 117,
   "id": "56682961",
   "metadata": {},
   "outputs": [
    {
     "name": "stdout",
     "output_type": "stream",
     "text": [
      "536084\n",
      "536084\n"
     ]
    }
   ],
   "source": [
    "# rounding score column to 2 decimal points\n",
    "gb1_df[\"score\"] = gb1_df[\"score\"].round(6)\n",
    "print(len(gb1_df))\n",
    "\n",
    "# remove values with wildcard star thing cause idk what it means\n",
    "gb1_df = gb1_df[gb1_df[\"variant\"].str.contains(\"\\*\") == False]\n",
    "\n",
    "# gb1_df = gb1_df.sample(n=40)\n",
    "# pab1_df = pab1_df.head(37600)\n",
    "print(len(gb1_df))"
   ]
  },
  {
   "cell_type": "code",
   "execution_count": 183,
   "id": "da656d6b",
   "metadata": {},
   "outputs": [],
   "source": [
    "# getting protein sequence\n",
    "# protein_seq_gb1 = ssf.get_protein_seq(\"P04386\")"
   ]
  },
  {
   "cell_type": "code",
   "execution_count": 112,
   "id": "9de07a68",
   "metadata": {},
   "outputs": [
    {
     "name": "stdout",
     "output_type": "stream",
     "text": [
      "56\n",
      "MET GLN TYR LYS LEU ILE LEU ASN GLY LYS THR LEU LYS GLY GLU THR THR THR GLU ALA VAL ASP ALA ALA THR ALA GLU LYS VAL PHE LYS GLN TYR ALA ASN ASP ASN GLY VAL ASP GLY GLU TRP THR TYR ASP ASP ALA THR LYS THR PHE THR VAL THR GLU\n"
     ]
    }
   ],
   "source": [
    "# getting dataset size to run\n",
    "\n",
    "string_seq = \"MQYKLILNGKTLKGETTTEAVDAATAEKVFKQYANDNGVDGEWTYDDATKTFTVTE\"\n",
    "print(len(string_seq)) # <- domain length of 75\n",
    "protein_seq_gb1 = ssf.get_expanded_seq(string_seq)\n",
    "print(protein_seq_gb1)"
   ]
  },
  {
   "cell_type": "code",
   "execution_count": 118,
   "id": "8e6f74f4",
   "metadata": {},
   "outputs": [],
   "source": [
    "# splitting variant list if there are multiple mutations\n",
    "gb1_mut = gb1_df[\"variant\"].str.split(\",\")\n",
    "\n",
    "# get wild type of residue and place in seperate col\n",
    "gb1_df[\"WILD_TYPE_RES\"] = ssf.get_wild_type(gb1_mut)\n",
    "\n",
    "# get mutated residue and place in seperate col\n",
    "gb1_df[\"MUTATED_RES\"] = ssf.get_mutation_type(gb1_mut)\n",
    "\n",
    "# get position and place in seperate col\n",
    "gb1_df[\"POSITION\"] = ssf.get_position(gb1_mut)\n",
    "\n",
    "# replace variant column with reformatted variant name\n",
    "gb1_df[\"variant\"] = ssf.get_mutations_names_list(gb1_df)\n",
    "\n",
    "# drop unneccesary columns\n",
    "to_drop = [\"WILD_TYPE_RES\", \"MUTATED_RES\", \"POSITION\"]\n",
    "\n",
    "# gb1_df = gb1_df.drop(columns=to_drop)"
   ]
  },
  {
   "cell_type": "code",
   "execution_count": 120,
   "id": "98925273",
   "metadata": {},
   "outputs": [],
   "source": [
    "# need positionssplit\n",
    "gb1_df[\"positions_split\"] = ssf.get_positions_split(gb1_df)\n",
    "\n",
    "# add in_sec_str_col\n",
    "gb1_df = add_sec_str_col(gb1_df, gb1_ss_indexes, 1)"
   ]
  },
  {
   "cell_type": "code",
   "execution_count": 133,
   "id": "7c4ef844",
   "metadata": {
    "scrolled": true
   },
   "outputs": [
    {
     "name": "stdout",
     "output_type": "stream",
     "text": [
      "in fraction,df len536084\n",
      "77\n",
      "33\n",
      "Train Data Fraction: 0.7\n",
      "false_df len268502\n",
      "true_df len267582\n",
      "in fraction,df len535974\n",
      "Test Data Fraction: 0.7\n",
      "false_df len268469\n",
      "true_df len267505\n",
      "Size of Test Dataset: 382146\n",
      "Size of Total Dataset: 382256\n",
      "10110\n",
      "Filename: gb1_MLformat_110_train_10k_test_1.txt\n"
     ]
    }
   ],
   "source": [
    "gb1_train_df, gb1_test_df, gb1_remaining_df = get_train_and_test_df(gb1_df, 0.70, 110)\n",
    "gb1_test_10000 = gb1_test_df.head(10000)\n",
    "gb1_df_format = pd.concat([gb1_train_df, gb1_test_10000])\n",
    "print(len(gb1_df_format))\n",
    "# writing data to txt file\n",
    "ssf.write_data_file(\"gb1_MLformat_110_train_10k_test_1\", protein_seq_gb1, gb1_df_format)"
   ]
  },
  {
   "cell_type": "code",
   "execution_count": 219,
   "id": "9f629928",
   "metadata": {
    "scrolled": true
   },
   "outputs": [
    {
     "name": "stdout",
     "output_type": "stream",
     "text": [
      "Filename: gb1_MLformat_40.txt\n"
     ]
    }
   ],
   "source": [
    "# writing data to txt file\n",
    "ssf.write_data_file(\"gb1_MLformat_40\", protein_seq_gb1, gb1_df)"
   ]
  },
  {
   "cell_type": "markdown",
   "id": "3715ca07",
   "metadata": {},
   "source": [
    "**GAL4**"
   ]
  },
  {
   "cell_type": "code",
   "execution_count": 77,
   "id": "29913e6b",
   "metadata": {},
   "outputs": [],
   "source": [
    "# importing STRIDE file\n",
    "path = \"../PDB and STRIDE Files/\" + 'gal4_stride.txt'\n",
    "gal4_stride_file = open(path, 'r')"
   ]
  },
  {
   "cell_type": "code",
   "execution_count": 78,
   "id": "a935928e",
   "metadata": {},
   "outputs": [],
   "source": [
    "gal4_ss_indexes = ssf.get_sec_struc_boolean(gal4_stride_file) # boolean list of secondary structure assignements"
   ]
  },
  {
   "cell_type": "code",
   "execution_count": 79,
   "id": "e740a750",
   "metadata": {},
   "outputs": [
    {
     "name": "stdout",
     "output_type": "stream",
     "text": [
      "415\n",
      "466\n"
     ]
    }
   ],
   "source": [
    "ss = gal4_ss_indexes.count(True)\n",
    "not_ss = gal4_ss_indexes.count(False)\n",
    "print(ss)\n",
    "print(not_ss)"
   ]
  },
  {
   "cell_type": "markdown",
   "id": "5eaa7c8e",
   "metadata": {},
   "source": [
    "**Alpha-synuclein**"
   ]
  },
  {
   "cell_type": "code",
   "execution_count": 80,
   "id": "8e8527fc",
   "metadata": {},
   "outputs": [],
   "source": [
    "# importing STRIDE file\n",
    "path = \"../PDB and STRIDE Files/\" + 'alpha-synuclein_stride.txt'\n",
    "alpha_synuclein_stride_file = open(path, 'r')"
   ]
  },
  {
   "cell_type": "code",
   "execution_count": 81,
   "id": "529330dd",
   "metadata": {},
   "outputs": [],
   "source": [
    "alpha_synuclein_ss_indexes = ssf.get_sec_struc_boolean(alpha_synuclein_stride_file) # boolean list of secondary structure assignements"
   ]
  },
  {
   "cell_type": "code",
   "execution_count": 82,
   "id": "02c410e4",
   "metadata": {},
   "outputs": [
    {
     "name": "stdout",
     "output_type": "stream",
     "text": [
      "92\n",
      "48\n"
     ]
    }
   ],
   "source": [
    "ss = alpha_synuclein_ss_indexes.count(True)\n",
    "not_ss = alpha_synuclein_ss_indexes.count(False)\n",
    "print(ss)\n",
    "print(not_ss)"
   ]
  },
  {
   "cell_type": "markdown",
   "id": "0675451f",
   "metadata": {},
   "source": [
    "**Small ubiquitin-related modifier 1**"
   ]
  },
  {
   "cell_type": "code",
   "execution_count": 83,
   "id": "4fd23a11",
   "metadata": {},
   "outputs": [],
   "source": [
    "# importing STRIDE file\n",
    "path = \"../PDB and STRIDE Files/\" + 'modifier_1_stride.txt'\n",
    "modifier_1_stride_file = open(path, 'r')"
   ]
  },
  {
   "cell_type": "code",
   "execution_count": 84,
   "id": "54b27e24",
   "metadata": {},
   "outputs": [],
   "source": [
    "modifier_1_ss_indexes = ssf.get_sec_struc_boolean(modifier_1_stride_file) # boolean list of secondary structure assignements"
   ]
  },
  {
   "cell_type": "code",
   "execution_count": 85,
   "id": "d6281f0f",
   "metadata": {},
   "outputs": [
    {
     "name": "stdout",
     "output_type": "stream",
     "text": [
      "47\n",
      "54\n"
     ]
    }
   ],
   "source": [
    "ss = modifier_1_ss_indexes.count(True)\n",
    "not_ss = modifier_1_ss_indexes.count(False)\n",
    "print(ss)\n",
    "print(not_ss)"
   ]
  },
  {
   "cell_type": "markdown",
   "id": "ac1de327",
   "metadata": {},
   "source": [
    "**TAR DNA-binding protein 43**"
   ]
  },
  {
   "cell_type": "code",
   "execution_count": 86,
   "id": "189f45e1",
   "metadata": {},
   "outputs": [],
   "source": [
    "# importing STRIDE file\n",
    "path = \"../PDB and STRIDE Files/\" + 'tar_stride.txt'\n",
    "tar_stride_file = open(path, 'r')"
   ]
  },
  {
   "cell_type": "code",
   "execution_count": 87,
   "id": "1ccd28d4",
   "metadata": {},
   "outputs": [],
   "source": [
    "tar_ss_indexes = ssf.get_sec_struc_boolean(tar_stride_file) # boolean list of secondary structure assignements"
   ]
  },
  {
   "cell_type": "code",
   "execution_count": 88,
   "id": "b84c08b0",
   "metadata": {},
   "outputs": [
    {
     "name": "stdout",
     "output_type": "stream",
     "text": [
      "149\n",
      "265\n"
     ]
    }
   ],
   "source": [
    "ss = tar_ss_indexes.count(True)\n",
    "not_ss = tar_ss_indexes.count(False)\n",
    "print(ss)\n",
    "print(not_ss)"
   ]
  },
  {
   "cell_type": "markdown",
   "id": "d6717535",
   "metadata": {},
   "source": [
    "**Human Glucokinase**"
   ]
  },
  {
   "cell_type": "markdown",
   "id": "be8ea616",
   "metadata": {},
   "source": [
    "## Cleaning MaveDB Data"
   ]
  },
  {
   "cell_type": "code",
   "execution_count": 141,
   "id": "8149a50a",
   "metadata": {},
   "outputs": [],
   "source": [
    "import re\n",
    "# delete rows with \"del\" in it or *\n",
    "# normalize scores? (already done in script)\n",
    "def format_mavedb_variant(df, variant_col_name, offset):\n",
    "    new_var_col = []\n",
    "    for variant in df[variant_col_name]:\n",
    "        wild_type = Bio.PDB.Polypeptide.three_to_one(variant[2:5].upper())\n",
    "        position = int(re.findall(\"[0-9]+\", variant)[0]) + offset\n",
    "        mut_type = Bio.PDB.Polypeptide.three_to_one(variant[-3:].upper())\n",
    "        new_var_col.append(wild_type + str(position) + mut_type)\n",
    "    return new_var_col"
   ]
  },
  {
   "cell_type": "markdown",
   "id": "920e582a",
   "metadata": {},
   "source": [
    "**GAL4**"
   ]
  },
  {
   "cell_type": "code",
   "execution_count": 235,
   "id": "02a98f06",
   "metadata": {},
   "outputs": [],
   "source": [
    "gal4_df1 = pd.read_csv(\"../Raw Data/gal4.csv.csv\")"
   ]
  },
  {
   "cell_type": "code",
   "execution_count": 236,
   "id": "081388b6",
   "metadata": {},
   "outputs": [
    {
     "name": "stdout",
     "output_type": "stream",
     "text": [
      "Index(['accession', 'hgvs_nt', 'hgvs_splice', 'hgvs_pro', 'score'], dtype='object', name=3)\n",
      "1323\n",
      "1196\n"
     ]
    }
   ],
   "source": [
    "# take note of offset\n",
    "\n",
    "# find columns and rename title column\n",
    "gal4_df1 = pd.read_csv(\"../Raw Data/gal4.csv.csv\")\n",
    "gal4_df1.columns = gal4_df1.iloc[3]\n",
    "print(gal4_df1.columns)\n",
    "print(len(gal4_df1))\n",
    "\n",
    "\n",
    "gal4_df = gal4_df1[(gal4_df1[\"hgvs_pro\"].str.contains(\"del\") == False) & (gal4_df1[\"hgvs_pro\"].str.contains(\"hgvs\") == False)\n",
    "                   & (gal4_df1[\"hgvs_pro\"].str.contains(\"Ter\") == False)]\n",
    "gal4_df = gal4_df.sample(frac=1)\n",
    "\n",
    "print(len(gal4_df))"
   ]
  },
  {
   "cell_type": "code",
   "execution_count": 244,
   "id": "cd2c50a7",
   "metadata": {},
   "outputs": [],
   "source": [
    "# getting uniprot to compare offset\n",
    "protein_seq_gal4 = ssf.get_protein_seq(\"P04386\")"
   ]
  },
  {
   "cell_type": "code",
   "execution_count": 245,
   "id": "cbb85dbc",
   "metadata": {},
   "outputs": [
    {
     "name": "stdout",
     "output_type": "stream",
     "text": [
      "PRO\n"
     ]
    }
   ],
   "source": [
    "# comparing offset\n",
    "protein_seq_gal4_list = protein_seq_gal4.split(\" \")\n",
    "# print(protein_seq_gal4_list)\n",
    "print(protein_seq_gal4_list[41]) "
   ]
  },
  {
   "cell_type": "code",
   "execution_count": 257,
   "id": "e817fcc9",
   "metadata": {},
   "outputs": [
    {
     "name": "stderr",
     "output_type": "stream",
     "text": [
      "C:\\Users\\deepti\\AppData\\Local\\Temp/ipykernel_1360/276527083.py:1: SettingWithCopyWarning: \n",
      "A value is trying to be set on a copy of a slice from a DataFrame.\n",
      "Try using .loc[row_indexer,col_indexer] = value instead\n",
      "\n",
      "See the caveats in the documentation: https://pandas.pydata.org/pandas-docs/stable/user_guide/indexing.html#returning-a-view-versus-a-copy\n",
      "  gal4_df[\"variant\"] = format_mavedb_variant(gal4_df, \"hgvs_pro\", 0)\n"
     ]
    }
   ],
   "source": [
    "gal4_df[\"variant\"] = format_mavedb_variant(gal4_df, \"hgvs_pro\", 0)"
   ]
  },
  {
   "cell_type": "code",
   "execution_count": 258,
   "id": "8002fcee",
   "metadata": {},
   "outputs": [
    {
     "name": "stderr",
     "output_type": "stream",
     "text": [
      "C:\\Users\\deepti\\AppData\\Local\\Temp/ipykernel_1360/789454968.py:5: SettingWithCopyWarning: \n",
      "A value is trying to be set on a copy of a slice from a DataFrame.\n",
      "Try using .loc[row_indexer,col_indexer] = value instead\n",
      "\n",
      "See the caveats in the documentation: https://pandas.pydata.org/pandas-docs/stable/user_guide/indexing.html#returning-a-view-versus-a-copy\n",
      "  gal4_df[\"WILD_TYPE_RES\"] = ssf.get_wild_type(gal4_mut)\n",
      "C:\\Users\\deepti\\AppData\\Local\\Temp/ipykernel_1360/789454968.py:8: SettingWithCopyWarning: \n",
      "A value is trying to be set on a copy of a slice from a DataFrame.\n",
      "Try using .loc[row_indexer,col_indexer] = value instead\n",
      "\n",
      "See the caveats in the documentation: https://pandas.pydata.org/pandas-docs/stable/user_guide/indexing.html#returning-a-view-versus-a-copy\n",
      "  gal4_df[\"MUTATED_RES\"] = ssf.get_mutation_type(gal4_mut)\n",
      "C:\\Users\\deepti\\AppData\\Local\\Temp/ipykernel_1360/789454968.py:11: SettingWithCopyWarning: \n",
      "A value is trying to be set on a copy of a slice from a DataFrame.\n",
      "Try using .loc[row_indexer,col_indexer] = value instead\n",
      "\n",
      "See the caveats in the documentation: https://pandas.pydata.org/pandas-docs/stable/user_guide/indexing.html#returning-a-view-versus-a-copy\n",
      "  gal4_df[\"POSITION\"] = ssf.get_position(gal4_mut)\n",
      "C:\\Users\\deepti\\AppData\\Local\\Temp/ipykernel_1360/789454968.py:14: SettingWithCopyWarning: \n",
      "A value is trying to be set on a copy of a slice from a DataFrame.\n",
      "Try using .loc[row_indexer,col_indexer] = value instead\n",
      "\n",
      "See the caveats in the documentation: https://pandas.pydata.org/pandas-docs/stable/user_guide/indexing.html#returning-a-view-versus-a-copy\n",
      "  gal4_df[\"variant\"] = ssf.get_mutations_names_list(gal4_df)\n"
     ]
    }
   ],
   "source": [
    "# splitting variant list if there are multiple mutations\n",
    "gal4_mut = gal4_df[\"variant\"].str.split(\",\")\n",
    "\n",
    "# get wild type of residue and place in seperate col\n",
    "gal4_df[\"WILD_TYPE_RES\"] = ssf.get_wild_type(gal4_mut)\n",
    "\n",
    "# get mutated residue and place in seperate col\n",
    "gal4_df[\"MUTATED_RES\"] = ssf.get_mutation_type(gal4_mut)\n",
    "\n",
    "# get position and place in seperate col\n",
    "gal4_df[\"POSITION\"] = ssf.get_position(gal4_mut)\n",
    "\n",
    "# replace variant column with reformatted variant name\n",
    "gal4_df[\"variant\"] = ssf.get_mutations_names_list(gal4_df)\n",
    "\n",
    "# drop unneccesary columns\n",
    "# to_drop = [\"WILD_TYPE_RES\", \"MUTATED_RES\", \"POSITION\"]\n",
    "\n",
    "# pab1_df = pab1_df.drop(columns=to_drop)"
   ]
  },
  {
   "cell_type": "code",
   "execution_count": null,
   "id": "20334ac4",
   "metadata": {},
   "outputs": [],
   "source": [
    "# getting training and test datasets\n",
    "\n",
    "# get ss position indexes\n",
    "path = \"../PDB and STRIDE Files/\" + 'gal4_stride.txt'\n",
    "gal4_stride_file = open(path, 'r')\n",
    "\n",
    "gal4_ss_indexes = ssf.get_sec_struc_boolean(gal4_stride_file) # boolean list of secondary structure assignements\n",
    "\n",
    "# need positionssplit\n",
    "gal4_df[\"positions_split\"] = ssf.get_positions_split(gal4_df)\n",
    "\n",
    "# add in_sec_str_col\n",
    "gal4_df = add_sec_str_col(gal4_df, gal4_ss_indexes, 0)"
   ]
  },
  {
   "cell_type": "code",
   "execution_count": null,
   "id": "07a5cbd4",
   "metadata": {},
   "outputs": [],
   "source": [
    "gal4_train_df, gal4_test_df = get_train_and_test_df(gal4_df, 0.47, 40)\n",
    "gal4_df_format = pd.concat([gal4_train_df, gal4_test_df])\n",
    "\n",
    "# writing data to txt file\n",
    "ssf.write_data_file(\"gal4_MLformat_40_train\", protein_seq_gal4, gal4_df_format)"
   ]
  },
  {
   "cell_type": "markdown",
   "id": "adcb0165",
   "metadata": {},
   "source": [
    "**Small ubiquitin-related modifier 1**"
   ]
  },
  {
   "cell_type": "code",
   "execution_count": 135,
   "id": "ed8ca239",
   "metadata": {},
   "outputs": [],
   "source": [
    "modifier_1_df1 = pd.read_csv(\"../Raw Data/modifier_1_mod.csv\")"
   ]
  },
  {
   "cell_type": "code",
   "execution_count": 137,
   "id": "1e90a4a2",
   "metadata": {},
   "outputs": [
    {
     "name": "stdout",
     "output_type": "stream",
     "text": [
      "Index(['accession', 'hgvs_nt', 'hgvs_splice', 'hgvs_pro', 'score', 'sd', 'se',\n",
      "       'exp.score', 'exp.sd', 'df', 'pred.score'],\n",
      "      dtype='object')\n",
      "2020\n",
      "1919\n",
      "                   accession  hgvs_nt  hgvs_splice   hgvs_pro     score  \\\n",
      "0  urn:mavedb:00000001-b-1#1      NaN          NaN  p.Glu5Lys  1.311357   \n",
      "\n",
      "         sd        se  exp.score    exp.sd   df  pred.score  \n",
      "0  0.085569  0.042785    1.31651  0.024947  4.0    1.117086  \n"
     ]
    }
   ],
   "source": [
    "# modifier_1_df1.columns = modifier_1_df1.iloc[3]\n",
    "print(modifier_1_df1.columns)\n",
    "print(len(modifier_1_df1))\n",
    "\n",
    "modifier_1_df = modifier_1_df1[(modifier_1_df1[\"hgvs_pro\"].str.contains(\"=\") == False) & (modifier_1_df1[\"hgvs_pro\"].str.contains(\"hgvs\") == False)\n",
    "                   & (modifier_1_df1[\"hgvs_pro\"].str.contains(\"Ter\") == False)]\n",
    "print(len(modifier_1_df))\n",
    "print(modifier_1_df.head(1))\n",
    "\n",
    "# shuffle values\n",
    "modifier_1_df = modifier_1_df.sample(frac=1)"
   ]
  },
  {
   "cell_type": "code",
   "execution_count": 138,
   "id": "6f062765",
   "metadata": {},
   "outputs": [
    {
     "name": "stdout",
     "output_type": "stream",
     "text": [
      "MET SER ASP GLN GLU ALA LYS PRO SER THR GLU ASP LEU GLY ASP LYS LYS GLU GLY GLU TYR ILE LYS LEU LYS VAL ILE GLY GLN ASP SER SER GLU ILE HIS PHE LYS VAL LYS MET THR THR HIS LEU LYS LYS LEU LYS GLU SER TYR CYS GLN ARG GLN GLY VAL PRO MET ASN SER LEU ARG PHE LEU PHE GLU GLY GLN ARG ILE ALA ASP ASN HIS THR PRO LYS GLU LEU GLY MET GLU GLU GLU ASP VAL ILE GLU VAL TYR GLN GLU GLN THR GLY GLY HIS SER THR VAL\n",
      "403\n"
     ]
    }
   ],
   "source": [
    "# getting uniprot to compare offset\n",
    "protein_seq_modifier_1 = ssf.get_protein_seq(\"P63165\")\n",
    "# offset of 1\n",
    "print(protein_seq_modifier_1)\n",
    "print(len(protein_seq_modifier_1))"
   ]
  },
  {
   "cell_type": "code",
   "execution_count": 139,
   "id": "c7fd3c9a",
   "metadata": {},
   "outputs": [
    {
     "name": "stdout",
     "output_type": "stream",
     "text": [
      "101\n"
     ]
    }
   ],
   "source": [
    "protein_seq_modifier_1_split = protein_seq_modifier_1.split()\n",
    "print(len(protein_seq_modifier_1_split))"
   ]
  },
  {
   "cell_type": "code",
   "execution_count": 146,
   "id": "740ef687",
   "metadata": {},
   "outputs": [],
   "source": [
    "modifier_1_df[\"variant\"] = format_mavedb_variant(modifier_1_df, \"hgvs_pro\", -1)"
   ]
  },
  {
   "cell_type": "code",
   "execution_count": 147,
   "id": "e80a4209",
   "metadata": {},
   "outputs": [],
   "source": [
    "# splitting variant list if there are multiple mutations\n",
    "modifier_1_mut = modifier_1_df[\"variant\"].str.split(\",\")\n",
    "\n",
    "# get wild type of residue and place in seperate col\n",
    "modifier_1_df[\"WILD_TYPE_RES\"] = ssf.get_wild_type(modifier_1_mut)\n",
    "\n",
    "# get mutated residue and place in seperate col\n",
    "modifier_1_df[\"MUTATED_RES\"] = ssf.get_mutation_type(modifier_1_mut)\n",
    "\n",
    "# get position and place in seperate col\n",
    "modifier_1_df[\"POSITION\"] = ssf.get_position(modifier_1_mut)\n",
    "\n",
    "# replace variant column with reformatted variant name\n",
    "modifier_1_df[\"variant\"] = ssf.get_mutations_names_list(modifier_1_df)\n",
    "\n",
    "# drop unneccesary columns\n",
    "# to_drop = [\"WILD_TYPE_RES\", \"MUTATED_RES\", \"POSITION\"]\n",
    "\n",
    "# pab1_df = pab1_df.drop(columns=to_drop)"
   ]
  },
  {
   "cell_type": "code",
   "execution_count": 148,
   "id": "7d223264",
   "metadata": {},
   "outputs": [],
   "source": [
    "# getting training and test datasets\n",
    "\n",
    "# get ss position indexes\n",
    "path = \"../PDB and STRIDE Files/\" + 'modifier_1_stride.txt'\n",
    "modifier_1_stride_file = open(path, 'r')\n",
    "\n",
    "modifier_1_ss_indexes = ssf.get_sec_struc_boolean(modifier_1_stride_file) # boolean list of secondary structure assignements\n",
    "\n",
    "# need positionssplit\n",
    "modifier_1_df[\"positions_split\"] = ssf.get_positions_split(modifier_1_df)\n",
    "\n",
    "# add in_sec_str_col\n",
    "modifier_1_df = add_sec_str_col(modifier_1_df, modifier_1_ss_indexes, 0)"
   ]
  },
  {
   "cell_type": "code",
   "execution_count": 152,
   "id": "50d00664",
   "metadata": {},
   "outputs": [
    {
     "name": "stdout",
     "output_type": "stream",
     "text": [
      "in fraction,df len1919\n",
      "91\n",
      "107\n",
      "Train Data Fraction: 0.46\n",
      "false_df len1026\n",
      "true_df len893\n",
      "in fraction,df len1721\n",
      "Test Data Fraction: 0.46\n",
      "false_df len919\n",
      "true_df len802\n",
      "Size of Test Dataset: 1700\n",
      "Size of Total Dataset: 1898\n",
      "1898\n",
      "Filename: modifier_1_MLformat_198_train_1700_test_1.txt\n"
     ]
    }
   ],
   "source": [
    "modifier_1_train_df, modifier_1_test_df, modifier_1_remaining_df = get_train_and_test_df(modifier_1_df, 0.46, 198)\n",
    "# print(\"TEST LEN\")\n",
    "# print(len(modifier_1_test_df))\n",
    "modifier_1_df_format = pd.concat([modifier_1_train_df, modifier_1_test_df])\n",
    "print(len(modifier_1_df_format))\n",
    "# writing data to txt file\n",
    "ssf.write_data_file(\"modifier_1_MLformat_198_train_1700_test_1\", protein_seq_modifier_1, modifier_1_df_format)"
   ]
  },
  {
   "cell_type": "code",
   "execution_count": null,
   "id": "2166d572",
   "metadata": {},
   "outputs": [],
   "source": [
    "# ube4b_train_df, ube4b_test_df, ube4b_remaining_df = get_train_and_test_df(ube4b_remaining, 0.52, 200)\n",
    "ube4b_test_10000 = ube4b_test_df.head(10000)\n",
    "ube4b_df_format = pd.concat([ube4b_train_df, ube4b_test_10000])\n",
    "print(len(ube4b_df_format))\n",
    "# writing data to txt file\n",
    "ssf.write_data_file(\"ube4b_MLformat_200_train_10k_test_2\", protein_seq_ube4b, ube4b_df_format)"
   ]
  },
  {
   "cell_type": "markdown",
   "id": "6633d640",
   "metadata": {},
   "source": [
    "**TAR DNA-binding protein 43**"
   ]
  },
  {
   "cell_type": "code",
   "execution_count": 153,
   "id": "84b5a317",
   "metadata": {},
   "outputs": [],
   "source": [
    "tar_df_pt1 = pd.read_csv(\"../Raw Data/tar1_mod.csv\")\n",
    "tar_df_pt2 = pd.read_csv(\"../Raw Data/tar2_mod.csv\")"
   ]
  },
  {
   "cell_type": "code",
   "execution_count": 154,
   "id": "f3dfe075",
   "metadata": {},
   "outputs": [
    {
     "name": "stdout",
     "output_type": "stream",
     "text": [
      "704\n",
      "714\n"
     ]
    }
   ],
   "source": [
    "print(len(tar_df_pt1))\n",
    "print(len(tar_df_pt2))\n",
    "# tar_df_pt1 = tar_df_pt1.sample(frac=1)\n",
    "# tar_df_pt2 = tar_df_pt2.sample(frac=1)\n",
    "# print(tar_df_pt1.head(30))\n",
    "# print(tar_df_pt2.head(30))\n",
    "# tar_df1 = pd.concat([tar_df_pt1, tar_df_pt2])\n",
    "# print(len(tar_df1))\n",
    "\n",
    "# print(tar_df1.columns)\n",
    "\n",
    "tar_df_pt1 = tar_df_pt1[(tar_df_pt1[\"hgvs_pro\"].str.contains(\"\\*\") == False) & (tar_df_pt1[\"hgvs_pro\"].str.contains(\"hgvs\") == False)\n",
    "                    & (tar_df_pt1[\"hgvs_pro\"].str.contains(\"Ter\") == False)]\n",
    "\n",
    "tar_df_pt2 = tar_df_pt2[(tar_df_pt2[\"hgvs_pro\"].str.contains(\"\\*\") == False) & (tar_df_pt2[\"hgvs_pro\"].str.contains(\"hgvs\") == False)\n",
    "                    & (tar_df_pt2[\"hgvs_pro\"].str.contains(\"Ter\") == False)]\n",
    "\n",
    "# print(len(tar_df))\n",
    "# # shuffle values\n",
    "# tar_df = tar_df.sample(frac=1)\n",
    "# print(tar_df.head(3))"
   ]
  },
  {
   "cell_type": "code",
   "execution_count": 155,
   "id": "151d17a9",
   "metadata": {},
   "outputs": [
    {
     "name": "stdout",
     "output_type": "stream",
     "text": [
      "MET SER GLU TYR ILE ARG VAL THR GLU ASP GLU ASN ASP GLU PRO ILE GLU ILE PRO SER GLU ASP ASP GLY THR VAL LEU LEU SER THR VAL THR ALA GLN PHE PRO GLY ALA CYS GLY LEU ARG TYR ARG ASN PRO VAL SER GLN CYS MET ARG GLY VAL ARG LEU VAL GLU GLY ILE LEU HIS ALA PRO ASP ALA GLY TRP GLY ASN LEU VAL TYR VAL VAL ASN TYR PRO LYS ASP ASN LYS ARG LYS MET ASP GLU THR ASP ALA SER SER ALA VAL LYS VAL LYS ARG ALA VAL GLN LYS THR SER ASP LEU ILE VAL LEU GLY LEU PRO TRP LYS THR THR GLU GLN ASP LEU LYS GLU TYR PHE SER THR PHE GLY GLU VAL LEU MET VAL GLN VAL LYS LYS ASP LEU LYS THR GLY HIS SER LYS GLY PHE GLY PHE VAL ARG PHE THR GLU TYR GLU THR GLN VAL LYS VAL MET SER GLN ARG HIS MET ILE ASP GLY ARG TRP CYS ASP CYS LYS LEU PRO ASN SER LYS GLN SER GLN ASP GLU PRO LEU ARG SER ARG LYS VAL PHE VAL GLY ARG CYS THR GLU ASP MET THR GLU ASP GLU LEU ARG GLU PHE PHE SER GLN TYR GLY ASP VAL MET ASP VAL PHE ILE PRO LYS PRO PHE ARG ALA PHE ALA PHE VAL THR PHE ALA ASP ASP GLN ILE ALA GLN SER LEU CYS GLY GLU ASP LEU ILE ILE LYS GLY ILE SER VAL HIS ILE SER ASN ALA GLU PRO LYS HIS ASN SER ASN ARG GLN LEU GLU ARG SER GLY ARG PHE GLY GLY ASN PRO GLY GLY PHE GLY ASN GLN GLY GLY PHE GLY ASN SER ARG GLY GLY GLY ALA GLY LEU GLY ASN ASN GLN GLY SER ASN MET GLY GLY GLY MET ASN PHE GLY ALA PHE SER ILE ASN PRO ALA MET MET ALA ALA ALA GLN ALA ALA LEU GLN SER SER TRP GLY MET MET GLY MET LEU ALA SER GLN GLN ASN GLN SER GLY PRO SER GLY ASN ASN GLN ASN GLN GLY ASN MET GLN ARG GLU PRO ASN GLN ALA PHE GLY SER GLY ASN ASN SER TYR SER GLY SER ASN SER GLY ALA ALA ILE GLY TRP GLY SER ALA SER ASN ALA GLY SER GLY SER GLY PHE ASN GLY GLY PHE GLY SER SER MET ASP SER LYS SER SER GLY TRP GLY MET\n"
     ]
    }
   ],
   "source": [
    "# getting uniprot to compare offset\n",
    "protein_seq_tar = ssf.get_protein_seq(\"Q13148\")\n",
    "print(protein_seq_tar)"
   ]
  },
  {
   "cell_type": "code",
   "execution_count": 156,
   "id": "6e259c17",
   "metadata": {},
   "outputs": [
    {
     "name": "stdout",
     "output_type": "stream",
     "text": [
      "SER\n"
     ]
    }
   ],
   "source": [
    "protein_seq_tar_split = protein_seq_tar.split()\n",
    "print(protein_seq_tar_split[291]) # for the first one starts at 289 (add offset of )\n",
    "# row 10, col 11, 31 "
   ]
  },
  {
   "cell_type": "code",
   "execution_count": 157,
   "id": "8cb3861e",
   "metadata": {},
   "outputs": [
    {
     "name": "stdout",
     "output_type": "stream",
     "text": [
      "SER\n"
     ]
    }
   ],
   "source": [
    "print(protein_seq_tar_split[346]) \n",
    "# row 12, 6, 31 <- 16 starts at 346: 1 starts at 331?\n",
    "# have to offset seperately and then add"
   ]
  },
  {
   "cell_type": "code",
   "execution_count": 158,
   "id": "6daf0cf3",
   "metadata": {},
   "outputs": [],
   "source": [
    "tar_df_pt1[\"variant\"] = format_mavedb_variant(tar_df_pt1, \"hgvs_pro\", 288)\n",
    "tar_df_pt2[\"variant\"] = format_mavedb_variant(tar_df_pt2, \"hgvs_pro\", 330)"
   ]
  },
  {
   "cell_type": "code",
   "execution_count": 159,
   "id": "82f582f4",
   "metadata": {},
   "outputs": [
    {
     "name": "stdout",
     "output_type": "stream",
     "text": [
      "1342\n"
     ]
    }
   ],
   "source": [
    "tar_df = pd.concat([tar_df_pt1, tar_df_pt2])\n",
    "tar_df = tar_df.sample(frac=1)\n",
    "print(len(tar_df))"
   ]
  },
  {
   "cell_type": "code",
   "execution_count": 160,
   "id": "9bc8c8a5",
   "metadata": {},
   "outputs": [],
   "source": [
    "# splitting variant list if there are multiple mutations\n",
    "tar_mut = tar_df[\"variant\"].str.split(\",\")\n",
    "\n",
    "# get wild type of residue and place in seperate col\n",
    "tar_df[\"WILD_TYPE_RES\"] = ssf.get_wild_type(tar_mut)\n",
    "\n",
    "# get mutated residue and place in seperate col\n",
    "tar_df[\"MUTATED_RES\"] = ssf.get_mutation_type(tar_mut)\n",
    "\n",
    "# get position and place in seperate col\n",
    "tar_df[\"POSITION\"] = ssf.get_position(tar_mut)\n",
    "\n",
    "# replace variant column with reformatted variant name\n",
    "tar_df[\"variant\"] = ssf.get_mutations_names_list(tar_df)\n",
    "\n",
    "# drop unneccesary columns\n",
    "# to_drop = [\"WILD_TYPE_RES\", \"MUTATED_RES\", \"POSITION\"]\n",
    "\n",
    "# pab1_df = pab1_df.drop(columns=to_drop)"
   ]
  },
  {
   "cell_type": "code",
   "execution_count": 161,
   "id": "aae89db0",
   "metadata": {},
   "outputs": [],
   "source": [
    "# getting training and test datasets\n",
    "\n",
    "# get ss position indexes\n",
    "path = \"../PDB and STRIDE Files/\" + 'tar_stride.txt'\n",
    "tar_stride_file = open(path, 'r')\n",
    "\n",
    "tar_ss_indexes = ssf.get_sec_struc_boolean(tar_stride_file) # boolean list of secondary structure assignements\n",
    "\n",
    "# need positionssplit\n",
    "tar_df[\"positions_split\"] = ssf.get_positions_split(tar_df)\n",
    "\n",
    "# add in_sec_str_col\n",
    "tar_df = add_sec_str_col(tar_df, tar_ss_indexes, 0)"
   ]
  },
  {
   "cell_type": "code",
   "execution_count": 162,
   "id": "8557752d",
   "metadata": {},
   "outputs": [
    {
     "name": "stdout",
     "output_type": "stream",
     "text": [
      "in fraction,df len1342\n",
      "292\n",
      "520\n",
      "Train Data Fraction: 0.36\n",
      "false_df len1147\n",
      "true_df len195\n"
     ]
    },
    {
     "ename": "ValueError",
     "evalue": "Cannot take a larger sample than population when 'replace=False'",
     "output_type": "error",
     "traceback": [
      "\u001b[1;31m---------------------------------------------------------------------------\u001b[0m",
      "\u001b[1;31mValueError\u001b[0m                                Traceback (most recent call last)",
      "\u001b[1;32m~\\AppData\\Local\\Temp/ipykernel_5348/3271943097.py\u001b[0m in \u001b[0;36m<module>\u001b[1;34m\u001b[0m\n\u001b[1;32m----> 1\u001b[1;33m \u001b[0mtar_train_df\u001b[0m\u001b[1;33m,\u001b[0m \u001b[0mtar_test_df\u001b[0m\u001b[1;33m,\u001b[0m \u001b[0mtar_remaining_df\u001b[0m \u001b[1;33m=\u001b[0m \u001b[0mget_train_and_test_df\u001b[0m\u001b[1;33m(\u001b[0m\u001b[0mtar_df\u001b[0m\u001b[1;33m,\u001b[0m \u001b[1;36m0.36\u001b[0m\u001b[1;33m,\u001b[0m \u001b[1;36m812\u001b[0m\u001b[1;33m)\u001b[0m\u001b[1;33m\u001b[0m\u001b[1;33m\u001b[0m\u001b[0m\n\u001b[0m\u001b[0;32m      2\u001b[0m \u001b[0mprint\u001b[0m\u001b[1;33m(\u001b[0m\u001b[0mlen\u001b[0m\u001b[1;33m(\u001b[0m\u001b[0mtar_test_df\u001b[0m\u001b[1;33m)\u001b[0m\u001b[1;33m)\u001b[0m\u001b[1;33m\u001b[0m\u001b[1;33m\u001b[0m\u001b[0m\n\u001b[0;32m      3\u001b[0m \u001b[0mtar_df_format\u001b[0m \u001b[1;33m=\u001b[0m \u001b[0mpd\u001b[0m\u001b[1;33m.\u001b[0m\u001b[0mconcat\u001b[0m\u001b[1;33m(\u001b[0m\u001b[1;33m[\u001b[0m\u001b[0mtar_train_df\u001b[0m\u001b[1;33m,\u001b[0m \u001b[0mtar_test_df\u001b[0m\u001b[1;33m]\u001b[0m\u001b[1;33m)\u001b[0m\u001b[1;33m\u001b[0m\u001b[1;33m\u001b[0m\u001b[0m\n\u001b[0;32m      4\u001b[0m \u001b[1;33m\u001b[0m\u001b[0m\n\u001b[0;32m      5\u001b[0m \u001b[1;31m# writing data to txt file\u001b[0m\u001b[1;33m\u001b[0m\u001b[1;33m\u001b[0m\u001b[0m\n",
      "\u001b[1;32m~\\AppData\\Local\\Temp/ipykernel_5348/3256867813.py\u001b[0m in \u001b[0;36mget_train_and_test_df\u001b[1;34m(df, fraction_ss, train_size)\u001b[0m\n\u001b[0;32m      5\u001b[0m \u001b[1;31m# reutrns remaining df\u001b[0m\u001b[1;33m\u001b[0m\u001b[1;33m\u001b[0m\u001b[0m\n\u001b[0;32m      6\u001b[0m \u001b[1;32mdef\u001b[0m \u001b[0mget_train_and_test_df\u001b[0m\u001b[1;33m(\u001b[0m\u001b[0mdf\u001b[0m\u001b[1;33m,\u001b[0m \u001b[0mfraction_ss\u001b[0m\u001b[1;33m,\u001b[0m \u001b[0mtrain_size\u001b[0m\u001b[1;33m)\u001b[0m\u001b[1;33m:\u001b[0m\u001b[1;33m\u001b[0m\u001b[1;33m\u001b[0m\u001b[0m\n\u001b[1;32m----> 7\u001b[1;33m     \u001b[0mtrain_df\u001b[0m\u001b[1;33m,\u001b[0m \u001b[0mremaining_df\u001b[0m \u001b[1;33m=\u001b[0m \u001b[0mget_fractioned_dataset\u001b[0m\u001b[1;33m(\u001b[0m\u001b[0mdf\u001b[0m\u001b[1;33m,\u001b[0m \u001b[0mfraction_ss\u001b[0m\u001b[1;33m,\u001b[0m \u001b[0mtrain_size\u001b[0m\u001b[1;33m)\u001b[0m\u001b[1;33m\u001b[0m\u001b[1;33m\u001b[0m\u001b[0m\n\u001b[0m\u001b[0;32m      8\u001b[0m     \u001b[0mtest_df\u001b[0m\u001b[1;33m,\u001b[0m \u001b[0mremaining_df\u001b[0m \u001b[1;33m=\u001b[0m \u001b[0mget_fractioned_dataset\u001b[0m\u001b[1;33m(\u001b[0m\u001b[0mremaining_df\u001b[0m\u001b[1;33m,\u001b[0m \u001b[0mfraction_ss\u001b[0m\u001b[1;33m,\u001b[0m \u001b[1;32mNone\u001b[0m\u001b[1;33m)\u001b[0m\u001b[1;33m\u001b[0m\u001b[1;33m\u001b[0m\u001b[0m\n\u001b[0;32m      9\u001b[0m     \u001b[0mprint\u001b[0m\u001b[1;33m(\u001b[0m\u001b[1;34m\"Size of Test Dataset: \"\u001b[0m \u001b[1;33m+\u001b[0m \u001b[0mstr\u001b[0m\u001b[1;33m(\u001b[0m\u001b[0mlen\u001b[0m\u001b[1;33m(\u001b[0m\u001b[0mtest_df\u001b[0m\u001b[1;33m)\u001b[0m\u001b[1;33m)\u001b[0m\u001b[1;33m)\u001b[0m\u001b[1;33m\u001b[0m\u001b[1;33m\u001b[0m\u001b[0m\n",
      "\u001b[1;32m~\\AppData\\Local\\Temp/ipykernel_5348/2246538020.py\u001b[0m in \u001b[0;36mget_fractioned_dataset\u001b[1;34m(df, fraction_ss, size)\u001b[0m\n\u001b[0;32m     18\u001b[0m     \u001b[0mprint\u001b[0m\u001b[1;33m(\u001b[0m\u001b[1;34m\"false_df len\"\u001b[0m \u001b[1;33m+\u001b[0m \u001b[0mstr\u001b[0m\u001b[1;33m(\u001b[0m\u001b[0mlen\u001b[0m\u001b[1;33m(\u001b[0m\u001b[0mfalse_df\u001b[0m\u001b[1;33m)\u001b[0m\u001b[1;33m)\u001b[0m\u001b[1;33m)\u001b[0m\u001b[1;33m\u001b[0m\u001b[1;33m\u001b[0m\u001b[0m\n\u001b[0;32m     19\u001b[0m     \u001b[0mprint\u001b[0m\u001b[1;33m(\u001b[0m\u001b[1;34m\"true_df len\"\u001b[0m \u001b[1;33m+\u001b[0m \u001b[0mstr\u001b[0m\u001b[1;33m(\u001b[0m\u001b[0mlen\u001b[0m\u001b[1;33m(\u001b[0m\u001b[0mtrue_df\u001b[0m\u001b[1;33m)\u001b[0m\u001b[1;33m)\u001b[0m\u001b[1;33m)\u001b[0m\u001b[1;33m\u001b[0m\u001b[1;33m\u001b[0m\u001b[0m\n\u001b[1;32m---> 20\u001b[1;33m     \u001b[0mss_df\u001b[0m \u001b[1;33m=\u001b[0m \u001b[0mtrue_df\u001b[0m\u001b[1;33m.\u001b[0m\u001b[0msample\u001b[0m\u001b[1;33m(\u001b[0m\u001b[0mnum_in_ss\u001b[0m\u001b[1;33m)\u001b[0m\u001b[1;33m\u001b[0m\u001b[1;33m\u001b[0m\u001b[0m\n\u001b[0m\u001b[0;32m     21\u001b[0m \u001b[1;33m\u001b[0m\u001b[0m\n\u001b[0;32m     22\u001b[0m     \u001b[0mfalse_df\u001b[0m \u001b[1;33m=\u001b[0m \u001b[0mdf\u001b[0m\u001b[1;33m[\u001b[0m\u001b[0mdf\u001b[0m\u001b[1;33m[\u001b[0m\u001b[1;34m\"in_sec_str\"\u001b[0m\u001b[1;33m]\u001b[0m \u001b[1;33m==\u001b[0m \u001b[1;32mFalse\u001b[0m\u001b[1;33m]\u001b[0m\u001b[1;33m\u001b[0m\u001b[1;33m\u001b[0m\u001b[0m\n",
      "\u001b[1;32m~\\anaconda3\\lib\\site-packages\\pandas\\core\\generic.py\u001b[0m in \u001b[0;36msample\u001b[1;34m(self, n, frac, replace, weights, random_state, axis, ignore_index)\u001b[0m\n\u001b[0;32m   5363\u001b[0m             )\n\u001b[0;32m   5364\u001b[0m \u001b[1;33m\u001b[0m\u001b[0m\n\u001b[1;32m-> 5365\u001b[1;33m         \u001b[0mlocs\u001b[0m \u001b[1;33m=\u001b[0m \u001b[0mrs\u001b[0m\u001b[1;33m.\u001b[0m\u001b[0mchoice\u001b[0m\u001b[1;33m(\u001b[0m\u001b[0maxis_length\u001b[0m\u001b[1;33m,\u001b[0m \u001b[0msize\u001b[0m\u001b[1;33m=\u001b[0m\u001b[0mn\u001b[0m\u001b[1;33m,\u001b[0m \u001b[0mreplace\u001b[0m\u001b[1;33m=\u001b[0m\u001b[0mreplace\u001b[0m\u001b[1;33m,\u001b[0m \u001b[0mp\u001b[0m\u001b[1;33m=\u001b[0m\u001b[0mweights\u001b[0m\u001b[1;33m)\u001b[0m\u001b[1;33m\u001b[0m\u001b[1;33m\u001b[0m\u001b[0m\n\u001b[0m\u001b[0;32m   5366\u001b[0m         \u001b[0mresult\u001b[0m \u001b[1;33m=\u001b[0m \u001b[0mself\u001b[0m\u001b[1;33m.\u001b[0m\u001b[0mtake\u001b[0m\u001b[1;33m(\u001b[0m\u001b[0mlocs\u001b[0m\u001b[1;33m,\u001b[0m \u001b[0maxis\u001b[0m\u001b[1;33m=\u001b[0m\u001b[0maxis\u001b[0m\u001b[1;33m)\u001b[0m\u001b[1;33m\u001b[0m\u001b[1;33m\u001b[0m\u001b[0m\n\u001b[0;32m   5367\u001b[0m         \u001b[1;32mif\u001b[0m \u001b[0mignore_index\u001b[0m\u001b[1;33m:\u001b[0m\u001b[1;33m\u001b[0m\u001b[1;33m\u001b[0m\u001b[0m\n",
      "\u001b[1;32mmtrand.pyx\u001b[0m in \u001b[0;36mnumpy.random.mtrand.RandomState.choice\u001b[1;34m()\u001b[0m\n",
      "\u001b[1;31mValueError\u001b[0m: Cannot take a larger sample than population when 'replace=False'"
     ]
    }
   ],
   "source": [
    "tar_train_df, tar_test_df, tar_remaining_df = get_train_and_test_df(tar_df, 0.36, 812)\n",
    "print(len(tar_test_df))\n",
    "tar_df_format = pd.concat([tar_train_df, tar_test_df])\n",
    "\n",
    "# writing data to txt file\n",
    "# ssf.write_data_file(\"tar_MLformat_812_train_10k_test_1\", protein_seq_tar, tar_df_format)"
   ]
  },
  {
   "cell_type": "code",
   "execution_count": null,
   "id": "e6bead32",
   "metadata": {},
   "outputs": [],
   "source": [
    "# ube4b_train_df, ube4b_test_df, ube4b_remaining_df = get_train_and_test_df(ube4b_remaining, 0.52, 200)\n",
    "ube4b_test_10000 = ube4b_test_df.head(10000)\n",
    "ube4b_df_format = pd.concat([ube4b_train_df, ube4b_test_10000])\n",
    "print(len(ube4b_df_format))\n",
    "# writing data to txt file\n",
    "ssf.write_data_file(\"ube4b_MLformat_200_train_10k_test_2\", protein_seq_ube4b, ube4b_df_format)"
   ]
  },
  {
   "cell_type": "markdown",
   "id": "b040f6e3",
   "metadata": {},
   "source": [
    "**Human Glucokinase? Maybe**"
   ]
  },
  {
   "cell_type": "code",
   "execution_count": null,
   "id": "0097d063",
   "metadata": {},
   "outputs": [],
   "source": []
  },
  {
   "cell_type": "markdown",
   "id": "76987982",
   "metadata": {},
   "source": [
    "## Getting Dataset Fraction"
   ]
  },
  {
   "cell_type": "code",
   "execution_count": 15,
   "id": "6ad4ad5d",
   "metadata": {},
   "outputs": [],
   "source": [
    "# adds boolean column to dataframe to indicate whether value is in secondary structure\n",
    "# needs positions split column\n",
    "def add_sec_str_col(df, bool_ss_list, domain_start_index):\n",
    "    has_sec_str = []\n",
    "    for val in df[\"positions_split\"]:\n",
    "        # list of boolean values that are true if all mutation positions in line are sec. strc.\n",
    "        all_pos_sec_struc = []\n",
    "\n",
    "        for position in val:\n",
    "            if (bool_ss_list[position - domain_start_index] == False):  # line up ss_indexes w/ position\n",
    "                all_pos_sec_struc.append(False)\n",
    "            else:\n",
    "                all_pos_sec_struc.append(True)\n",
    "\n",
    "        # all pos sec struc should match val list\n",
    "        # if there's a value in all_pos_sec_struc that's false, append false\n",
    "        # otherwise, append true\n",
    "        if (all_pos_sec_struc.count(False) == 0):\n",
    "            has_only_sec_str = True\n",
    "        else:\n",
    "            has_only_sec_str = False\n",
    "\n",
    "        has_sec_str.append(has_only_sec_str)\n",
    "        all_pos_sec_struc.clear()\n",
    "\n",
    "    # print(len(has_sec_str)) # should match dataframe length\n",
    "    df['in_sec_str'] = has_sec_str\n",
    "    return df"
   ]
  },
  {
   "cell_type": "code",
   "execution_count": 46,
   "id": "bacad755",
   "metadata": {},
   "outputs": [],
   "source": [
    "def get_fractioned_dataset(df, fraction_ss, size):\n",
    "    \n",
    "    print(\"in fraction,df len\" + str(len(df)))\n",
    "    if (size is not None): # need training dataset size\n",
    "        num_in_ss = int(size*fraction_ss) \n",
    "        print(num_in_ss)\n",
    "        num_not_ss = size - num_in_ss\n",
    "        print(num_not_ss)\n",
    "        real_fraction = round(float(num_in_ss)/(num_in_ss+num_not_ss), 3)\n",
    "        print(\"Train Data Fraction: \" + str(real_fraction))\n",
    "    else: # need test dataset and size of dataset doesn't matter\n",
    "        num_in_ss, num_not_ss = get_num_ss(df, fraction_ss)\n",
    "        real_fraction = round(float(num_in_ss)/(num_in_ss+num_not_ss), 3)\n",
    "        print(\"Test Data Fraction: \" + str(real_fraction))\n",
    "        \n",
    "    true_df = df[df[\"in_sec_str\"] == True]\n",
    "    false_df = df[df[\"in_sec_str\"] == False]\n",
    "    print(\"false_df len\" + str(len(false_df)))\n",
    "    print(\"true_df len\" + str(len(true_df)))\n",
    "    ss_df = true_df.sample(num_in_ss)\n",
    "\n",
    "    false_df = df[df[\"in_sec_str\"] == False]\n",
    "    not_ss_df = false_df.sample(num_not_ss)\n",
    "    # print(\"Testing Test Data Fraction:\" + str(len(ss_df)/(len(not_ss_df)+len(ss_df))))\n",
    "    \n",
    "    fractioned_df = pd.concat([ss_df, not_ss_df]).sample(frac=1)\n",
    "    \n",
    "    remaining_df = pd.concat([fractioned_df, df])\n",
    "    remaining_df = remaining_df[~remaining_df.index.duplicated(keep=False)]\n",
    "    \n",
    "    return fractioned_df, remaining_df"
   ]
  },
  {
   "cell_type": "code",
   "execution_count": 17,
   "id": "03b9e0df",
   "metadata": {},
   "outputs": [],
   "source": [
    "def get_num_ss(df, fraction_ss): # use when size is dependent on remaining values\n",
    "    # print(\"enters this method\")\n",
    "    num_ss_vals = (df[\"in_sec_str\"] == True).sum() # number of trues to work from \n",
    "    \n",
    "    num_not_ss_vals = (df[\"in_sec_str\"] == False).sum() # number of falses to work from \n",
    "    \n",
    "    if (num_not_ss_vals < num_ss_vals): # if not in ss is limiting factor\n",
    "        ideal_split_ss = int((num_not_ss_vals/(1-fraction_ss))*fraction_ss)\n",
    "        ideal_split_not_ss = int(num_not_ss_vals)\n",
    "        # instead do min value, max value and fraction it is\n",
    "    else:\n",
    "        ideal_split_ss = int(num_ss_vals)\n",
    "        ideal_split_not_ss = int((num_ss_vals/fraction_ss)*(1-fraction_ss))\n",
    "    total = ideal_split_ss + ideal_split_not_ss\n",
    "    # print(\"ideal_ss: \" + str(ideal_split_ss))\n",
    "    # print(\"ideal_not_ss: \" + str(ideal_split_not_ss))\n",
    "    while (ideal_split_ss >= num_ss_vals or ideal_split_not_ss >= num_not_ss_vals):\n",
    "        # until thei)y both fit the total number of values\n",
    "        if (ideal_split_ss < ideal_split_not_ss):\n",
    "            ideal_split_ss = ideal_split_ss - 1\n",
    "            ideal_split_not_ss = (ideal_split_ss/fraction_ss)*(1-fraction_ss)\n",
    "        else:\n",
    "            ideal_split_not_ss = ideal_split_not_ss - 1\n",
    "            ideal_split_ss = (ideal_split_not_ss/(1-fraction_ss))*(fraction_ss)\n",
    "        ideal_split_ss = int(ideal_split_ss)\n",
    "        ideal_split_not_ss = int(ideal_split_not_ss)\n",
    "        # total = ideal_split_ss + ideal_split_not_ss\n",
    "        # print(\"total: \" + str(total))\n",
    "        # print(total % batch_size != 0)\n",
    "        # print(ideal_split_ss >= num_ss_vals)\n",
    "        # print(ideal_split_not_ss >= num_not_ss_vals)\n",
    "        #print((ideal_split_ss >= num_ss_vals or ideal_split_not_ss >= num_not_ss_vals))\n",
    "    return int(ideal_split_ss), int(ideal_split_not_ss)"
   ]
  },
  {
   "cell_type": "code",
   "execution_count": 404,
   "id": "7c4c57e4",
   "metadata": {},
   "outputs": [
    {
     "data": {
      "text/plain": [
       "True"
      ]
     },
     "execution_count": 404,
     "metadata": {},
     "output_type": "execute_result"
    }
   ],
   "source": [
    "(8+5)%32 != 0"
   ]
  },
  {
   "cell_type": "code",
   "execution_count": 18,
   "id": "9db33590",
   "metadata": {},
   "outputs": [],
   "source": [
    "# gets both train and test datasets based on size\n",
    "# fraction_ss is a percent (e.g. 0.56)\n",
    "\n",
    "# need \"is_sec_struc_col\"\n",
    "# reutrns remaining df\n",
    "def get_train_and_test_df(df, fraction_ss, train_size):\n",
    "    train_df, remaining_df = get_fractioned_dataset(df, fraction_ss, train_size)\n",
    "    test_df, remaining_df = get_fractioned_dataset(remaining_df, fraction_ss, None)\n",
    "    print(\"Size of Test Dataset: \" + str(len(test_df)))\n",
    "    print(\"Size of Total Dataset: \" + str(len(test_df)+ len(train_df)))\n",
    "    return train_df, test_df, remaining_df\n"
   ]
  },
  {
   "cell_type": "code",
   "execution_count": 36,
   "id": "48a4e6dd",
   "metadata": {},
   "outputs": [],
   "source": [
    "def get_new_trainset(train_df, remaining_df, fraction_ss, size):\n",
    "    if (size > len(remaining_df)):\n",
    "        print(\"Not enough training values, combining old values\")\n",
    "        df = pd.concat([train_df, remaining_df])\n",
    "        # print(\"enters wrong block\")     \n",
    "    else:\n",
    "        # print(\"enters right block\")\n",
    "        df = remaining_df\n",
    "        print(\"remaing df len\" + str(len(df)))\n",
    "    new_train_df, new_remaining_df = get_fractioned_dataset(df, fraction_ss, size)\n",
    "    return new_train_df, new_remaining_df"
   ]
  },
  {
   "cell_type": "code",
   "execution_count": null,
   "id": "59b3d8e2",
   "metadata": {},
   "outputs": [],
   "source": []
  },
  {
   "cell_type": "markdown",
   "id": "73ebb159",
   "metadata": {},
   "source": [
    "## Cleaning Gelman et al. Data"
   ]
  },
  {
   "cell_type": "markdown",
   "id": "9b802034",
   "metadata": {},
   "source": [
    "## Ube4b"
   ]
  },
  {
   "cell_type": "code",
   "execution_count": 22,
   "id": "aa423a3c",
   "metadata": {},
   "outputs": [
    {
     "name": "stdout",
     "output_type": "stream",
     "text": [
      "98297\n",
      "Index(['variant', 'num_mutations', 'score'], dtype='object')\n"
     ]
    }
   ],
   "source": [
    "# importing Ube4b data from Gelman et al.\n",
    "ube4b_df1 = pd.read_csv(\"../Raw Data/ube4b.tsv.txt\", sep=\"\\t\")\n",
    "ube4b_df = ube4b_df1.dropna()\n",
    "print(len(ube4b_df))\n",
    "print(ube4b_df.columns)"
   ]
  },
  {
   "cell_type": "code",
   "execution_count": 23,
   "id": "4a7a3198",
   "metadata": {},
   "outputs": [
    {
     "name": "stdout",
     "output_type": "stream",
     "text": [
      "91031\n",
      "91031\n"
     ]
    }
   ],
   "source": [
    "# rounding score column to 6 decimal points\n",
    "ube4b_df[\"score\"] = ube4b_df[\"score\"].round(6)\n",
    "\n",
    "# remove values with wildcard star next to them\n",
    "ube4b_df = ube4b_df[ube4b_df[\"variant\"].str.contains(\"\\*\") == False]\n",
    "print(len(ube4b_df))\n",
    "ube4b_df = ube4b_df.sample(frac=1)\n",
    "# change this value depending on amount of data needed for dataset\n",
    "# ube4b_df = ube4b_df.sample(n=80)\n",
    "print(len(ube4b_df))"
   ]
  },
  {
   "cell_type": "code",
   "execution_count": 24,
   "id": "7d2fc1a9",
   "metadata": {},
   "outputs": [
    {
     "name": "stdout",
     "output_type": "stream",
     "text": [
      "1173\n"
     ]
    }
   ],
   "source": [
    "# get protein sequence from Uniprot and split\n",
    "protein_seq_ube4b = ssf.get_protein_seq(\"Q9ES00\")\n",
    "protein_seq_ube4b_split = protein_seq_ube4b.split()\n",
    "print(len(protein_seq_ube4b_split)) # protein length of 1173"
   ]
  },
  {
   "cell_type": "code",
   "execution_count": 25,
   "id": "8a214d8b",
   "metadata": {},
   "outputs": [
    {
     "name": "stdout",
     "output_type": "stream",
     "text": [
      "102\n"
     ]
    }
   ],
   "source": [
    "# ube4b protein domain sequence from Gelman et. al\n",
    "string_seq = \"IEKFKLLAEKVEEIVAKNARAEIDYSDAPDEFRDPLMDTLMTDPVRLPSGTVMDRSIILRHLLNSPTDPFNRQMLTESMLEPVPELKEQIQAWMREKQSSDH\"\n",
    "print(len(string_seq)) # <- domain length of 102\n",
    "ube4b_domain = ssf.get_expanded_seq(string_seq)\n",
    "ube4b_domain_split = ube4b_domain.split()\n",
    "\n",
    "# NOTE - index in list corresponds exactly to location in domain (huh)"
   ]
  },
  {
   "cell_type": "code",
   "execution_count": 26,
   "id": "ff4c2265",
   "metadata": {},
   "outputs": [
    {
     "name": "stdout",
     "output_type": "stream",
     "text": [
      "[(1071, 1173)]\n"
     ]
    }
   ],
   "source": [
    "# index of domain inside protein\n",
    "ssf.get_index_range(protein_seq_ube4b_split, ube4b_domain_split)"
   ]
  },
  {
   "cell_type": "code",
   "execution_count": 27,
   "id": "397f7057",
   "metadata": {},
   "outputs": [],
   "source": [
    "# splitting variant list if there are multiple mutations\n",
    "ube4b_mut = ube4b_df[\"variant\"].str.split(\",\")\n",
    "\n",
    "# get wild type of residue and place in seperate col\n",
    "ube4b_df[\"WILD_TYPE_RES\"] = ssf.get_wild_type(ube4b_mut)\n",
    "\n",
    "# get mutated residue and place in seperate col\n",
    "ube4b_df[\"MUTATED_RES\"] = ssf.get_mutation_type(ube4b_mut)\n",
    "\n",
    "# get position and place in seperate col\n",
    "ube4b_df[\"POSITION\"] = ssf.get_position(ube4b_mut)\n",
    "\n",
    "# replace variant column with reformatted variant name\n",
    "ube4b_df[\"variant\"] = ssf.get_mutations_names_list(ube4b_df)\n",
    "\n",
    "# drop unneccesary columns\n",
    "# to_drop = [\"WILD_TYPE_RES\", \"MUTATED_RES\", \"POSITION\"]\n",
    "\n",
    "#  ube4b_df = ube4b_df.drop(columns=to_drop)"
   ]
  },
  {
   "cell_type": "code",
   "execution_count": 28,
   "id": "26a9ede4",
   "metadata": {},
   "outputs": [],
   "source": [
    "# get ss position indexes\n",
    "path = \"../PDB and STRIDE Files/\" + 'ube4b_stride.txt'\n",
    "ube4b_stride_file = open(path, 'r')\n",
    "\n",
    "ube4b_ss_indexes = ssf.get_sec_struc_boolean(ube4b_stride_file)\n",
    "\n",
    "# need positionssplit\n",
    "ube4b_df[\"positions_split\"] = ssf.get_positions_split(ube4b_df)\n",
    "\n",
    "# add in_sec_str_col\n",
    "ube4b_df = add_sec_str_col(ube4b_df, ube4b_ss_indexes, 0)"
   ]
  },
  {
   "cell_type": "code",
   "execution_count": 33,
   "id": "52f1fe1b",
   "metadata": {},
   "outputs": [
    {
     "name": "stdout",
     "output_type": "stream",
     "text": [
      "91031\n"
     ]
    }
   ],
   "source": [
    "print(len(ube4b_df))"
   ]
  },
  {
   "cell_type": "code",
   "execution_count": 78,
   "id": "887363e2",
   "metadata": {
    "scrolled": true
   },
   "outputs": [
    {
     "name": "stdout",
     "output_type": "stream",
     "text": [
      "in fraction,df len80831\n",
      "104\n",
      "96\n",
      "Train Data Fraction: 0.52\n",
      "false_df len71697\n",
      "true_df len9134\n",
      "in fraction,df len80631\n",
      "Test Data Fraction: 0.52\n",
      "false_df len71601\n",
      "true_df len9030\n",
      "Size of Test Dataset: 17362\n",
      "Size of Total Dataset: 17562\n"
     ]
    }
   ],
   "source": [
    "ube4b_train_df, ube4b_test_df, ube4b_remaining_df = get_train_and_test_df(ube4b_remaining, 0.52, 200)"
   ]
  },
  {
   "cell_type": "code",
   "execution_count": 74,
   "id": "97a50fd6",
   "metadata": {},
   "outputs": [],
   "source": [
    "ube4b_remaining = pd.concat([ube4b_test_df[10000:], ube4b_remaining_df])"
   ]
  },
  {
   "cell_type": "code",
   "execution_count": 75,
   "id": "0f2bfafd",
   "metadata": {},
   "outputs": [
    {
     "name": "stdout",
     "output_type": "stream",
     "text": [
      "80831\n"
     ]
    }
   ],
   "source": [
    "print(len(ube4b_remaining))"
   ]
  },
  {
   "cell_type": "code",
   "execution_count": 79,
   "id": "70c59d3c",
   "metadata": {},
   "outputs": [
    {
     "name": "stdout",
     "output_type": "stream",
     "text": [
      "10200\n",
      "Filename: ube4b_MLformat_200_train_10k_test_2.txt\n"
     ]
    }
   ],
   "source": [
    "# ube4b_train_df, ube4b_test_df, ube4b_remaining_df = get_train_and_test_df(ube4b_remaining, 0.52, 200)\n",
    "ube4b_test_10000 = ube4b_test_df.head(10000)\n",
    "ube4b_df_format = pd.concat([ube4b_train_df, ube4b_test_10000])\n",
    "print(len(ube4b_df_format))\n",
    "# writing data to txt file\n",
    "ssf.write_data_file(\"ube4b_MLformat_200_train_10k_test_2\", protein_seq_ube4b, ube4b_df_format)"
   ]
  },
  {
   "cell_type": "code",
   "execution_count": null,
   "id": "decc4e40",
   "metadata": {},
   "outputs": [],
   "source": []
  },
  {
   "cell_type": "code",
   "execution_count": 32,
   "id": "a036feb0",
   "metadata": {},
   "outputs": [
    {
     "name": "stdout",
     "output_type": "stream",
     "text": [
      "63384\n"
     ]
    }
   ],
   "source": [
    "print(len(ube4b_remaining_df))"
   ]
  },
  {
   "cell_type": "code",
   "execution_count": 47,
   "id": "38ec668c",
   "metadata": {},
   "outputs": [
    {
     "name": "stdout",
     "output_type": "stream",
     "text": [
      "enters right block\n",
      "remaing df len63384\n",
      "in fraction,df len63384\n",
      "33\n",
      "31\n",
      "Train Data Fraction: 0.516\n",
      "false_df len63382\n",
      "true_df len2\n"
     ]
    },
    {
     "ename": "ValueError",
     "evalue": "Cannot take a larger sample than population when 'replace=False'",
     "output_type": "error",
     "traceback": [
      "\u001b[1;31m---------------------------------------------------------------------------\u001b[0m",
      "\u001b[1;31mValueError\u001b[0m                                Traceback (most recent call last)",
      "\u001b[1;32m~\\AppData\\Local\\Temp/ipykernel_5348/2763458470.py\u001b[0m in \u001b[0;36m<module>\u001b[1;34m\u001b[0m\n\u001b[1;32m----> 1\u001b[1;33m \u001b[0mube_new_trainset\u001b[0m \u001b[1;33m=\u001b[0m \u001b[0mget_new_trainset\u001b[0m\u001b[1;33m(\u001b[0m\u001b[0mube4b_train_df\u001b[0m\u001b[1;33m,\u001b[0m \u001b[0mube4b_remaining_df\u001b[0m\u001b[1;33m,\u001b[0m \u001b[1;36m0.52\u001b[0m\u001b[1;33m,\u001b[0m \u001b[1;36m64\u001b[0m\u001b[1;33m)\u001b[0m\u001b[1;33m\u001b[0m\u001b[1;33m\u001b[0m\u001b[0m\n\u001b[0m",
      "\u001b[1;32m~\\AppData\\Local\\Temp/ipykernel_5348/2415450203.py\u001b[0m in \u001b[0;36mget_new_trainset\u001b[1;34m(train_df, remaining_df, fraction_ss, size)\u001b[0m\n\u001b[0;32m      8\u001b[0m         \u001b[0mdf\u001b[0m \u001b[1;33m=\u001b[0m \u001b[0mremaining_df\u001b[0m\u001b[1;33m\u001b[0m\u001b[1;33m\u001b[0m\u001b[0m\n\u001b[0;32m      9\u001b[0m         \u001b[0mprint\u001b[0m\u001b[1;33m(\u001b[0m\u001b[1;34m\"remaing df len\"\u001b[0m \u001b[1;33m+\u001b[0m \u001b[0mstr\u001b[0m\u001b[1;33m(\u001b[0m\u001b[0mlen\u001b[0m\u001b[1;33m(\u001b[0m\u001b[0mdf\u001b[0m\u001b[1;33m)\u001b[0m\u001b[1;33m)\u001b[0m\u001b[1;33m)\u001b[0m\u001b[1;33m\u001b[0m\u001b[1;33m\u001b[0m\u001b[0m\n\u001b[1;32m---> 10\u001b[1;33m     \u001b[0mnew_train_df\u001b[0m\u001b[1;33m,\u001b[0m \u001b[0mnew_remaining_df\u001b[0m \u001b[1;33m=\u001b[0m \u001b[0mget_fractioned_dataset\u001b[0m\u001b[1;33m(\u001b[0m\u001b[0mdf\u001b[0m\u001b[1;33m,\u001b[0m \u001b[0mfraction_ss\u001b[0m\u001b[1;33m,\u001b[0m \u001b[0msize\u001b[0m\u001b[1;33m)\u001b[0m\u001b[1;33m\u001b[0m\u001b[1;33m\u001b[0m\u001b[0m\n\u001b[0m\u001b[0;32m     11\u001b[0m     \u001b[1;32mreturn\u001b[0m \u001b[0mnew_train_df\u001b[0m\u001b[1;33m,\u001b[0m \u001b[0mnew_remaining_df\u001b[0m\u001b[1;33m\u001b[0m\u001b[1;33m\u001b[0m\u001b[0m\n",
      "\u001b[1;32m~\\AppData\\Local\\Temp/ipykernel_5348/2246538020.py\u001b[0m in \u001b[0;36mget_fractioned_dataset\u001b[1;34m(df, fraction_ss, size)\u001b[0m\n\u001b[0;32m     18\u001b[0m     \u001b[0mprint\u001b[0m\u001b[1;33m(\u001b[0m\u001b[1;34m\"false_df len\"\u001b[0m \u001b[1;33m+\u001b[0m \u001b[0mstr\u001b[0m\u001b[1;33m(\u001b[0m\u001b[0mlen\u001b[0m\u001b[1;33m(\u001b[0m\u001b[0mfalse_df\u001b[0m\u001b[1;33m)\u001b[0m\u001b[1;33m)\u001b[0m\u001b[1;33m)\u001b[0m\u001b[1;33m\u001b[0m\u001b[1;33m\u001b[0m\u001b[0m\n\u001b[0;32m     19\u001b[0m     \u001b[0mprint\u001b[0m\u001b[1;33m(\u001b[0m\u001b[1;34m\"true_df len\"\u001b[0m \u001b[1;33m+\u001b[0m \u001b[0mstr\u001b[0m\u001b[1;33m(\u001b[0m\u001b[0mlen\u001b[0m\u001b[1;33m(\u001b[0m\u001b[0mtrue_df\u001b[0m\u001b[1;33m)\u001b[0m\u001b[1;33m)\u001b[0m\u001b[1;33m)\u001b[0m\u001b[1;33m\u001b[0m\u001b[1;33m\u001b[0m\u001b[0m\n\u001b[1;32m---> 20\u001b[1;33m     \u001b[0mss_df\u001b[0m \u001b[1;33m=\u001b[0m \u001b[0mtrue_df\u001b[0m\u001b[1;33m.\u001b[0m\u001b[0msample\u001b[0m\u001b[1;33m(\u001b[0m\u001b[0mnum_in_ss\u001b[0m\u001b[1;33m)\u001b[0m\u001b[1;33m\u001b[0m\u001b[1;33m\u001b[0m\u001b[0m\n\u001b[0m\u001b[0;32m     21\u001b[0m \u001b[1;33m\u001b[0m\u001b[0m\n\u001b[0;32m     22\u001b[0m     \u001b[0mfalse_df\u001b[0m \u001b[1;33m=\u001b[0m \u001b[0mdf\u001b[0m\u001b[1;33m[\u001b[0m\u001b[0mdf\u001b[0m\u001b[1;33m[\u001b[0m\u001b[1;34m\"in_sec_str\"\u001b[0m\u001b[1;33m]\u001b[0m \u001b[1;33m==\u001b[0m \u001b[1;32mFalse\u001b[0m\u001b[1;33m]\u001b[0m\u001b[1;33m\u001b[0m\u001b[1;33m\u001b[0m\u001b[0m\n",
      "\u001b[1;32m~\\anaconda3\\lib\\site-packages\\pandas\\core\\generic.py\u001b[0m in \u001b[0;36msample\u001b[1;34m(self, n, frac, replace, weights, random_state, axis, ignore_index)\u001b[0m\n\u001b[0;32m   5363\u001b[0m             )\n\u001b[0;32m   5364\u001b[0m \u001b[1;33m\u001b[0m\u001b[0m\n\u001b[1;32m-> 5365\u001b[1;33m         \u001b[0mlocs\u001b[0m \u001b[1;33m=\u001b[0m \u001b[0mrs\u001b[0m\u001b[1;33m.\u001b[0m\u001b[0mchoice\u001b[0m\u001b[1;33m(\u001b[0m\u001b[0maxis_length\u001b[0m\u001b[1;33m,\u001b[0m \u001b[0msize\u001b[0m\u001b[1;33m=\u001b[0m\u001b[0mn\u001b[0m\u001b[1;33m,\u001b[0m \u001b[0mreplace\u001b[0m\u001b[1;33m=\u001b[0m\u001b[0mreplace\u001b[0m\u001b[1;33m,\u001b[0m \u001b[0mp\u001b[0m\u001b[1;33m=\u001b[0m\u001b[0mweights\u001b[0m\u001b[1;33m)\u001b[0m\u001b[1;33m\u001b[0m\u001b[1;33m\u001b[0m\u001b[0m\n\u001b[0m\u001b[0;32m   5366\u001b[0m         \u001b[0mresult\u001b[0m \u001b[1;33m=\u001b[0m \u001b[0mself\u001b[0m\u001b[1;33m.\u001b[0m\u001b[0mtake\u001b[0m\u001b[1;33m(\u001b[0m\u001b[0mlocs\u001b[0m\u001b[1;33m,\u001b[0m \u001b[0maxis\u001b[0m\u001b[1;33m=\u001b[0m\u001b[0maxis\u001b[0m\u001b[1;33m)\u001b[0m\u001b[1;33m\u001b[0m\u001b[1;33m\u001b[0m\u001b[0m\n\u001b[0;32m   5367\u001b[0m         \u001b[1;32mif\u001b[0m \u001b[0mignore_index\u001b[0m\u001b[1;33m:\u001b[0m\u001b[1;33m\u001b[0m\u001b[1;33m\u001b[0m\u001b[0m\n",
      "\u001b[1;32mmtrand.pyx\u001b[0m in \u001b[0;36mnumpy.random.mtrand.RandomState.choice\u001b[1;34m()\u001b[0m\n",
      "\u001b[1;31mValueError\u001b[0m: Cannot take a larger sample than population when 'replace=False'"
     ]
    }
   ],
   "source": [
    "ube_new_trainset = get_new_trainset(ube4b_train_df, ube4b_remaining_df, 0.52, 64)"
   ]
  },
  {
   "cell_type": "code",
   "execution_count": 477,
   "id": "bf04c92b",
   "metadata": {},
   "outputs": [
    {
     "name": "stdout",
     "output_type": "stream",
     "text": [
      "27647\n"
     ]
    }
   ],
   "source": [
    "print(len(ube4b_df_format))"
   ]
  },
  {
   "cell_type": "markdown",
   "id": "a4df64ab",
   "metadata": {},
   "source": [
    "#### Pab1"
   ]
  },
  {
   "cell_type": "code",
   "execution_count": 122,
   "id": "7ff40dec",
   "metadata": {},
   "outputs": [
    {
     "name": "stdout",
     "output_type": "stream",
     "text": [
      "40852\n",
      "Index(['variant', 'num_mutations', 'score'], dtype='object')\n"
     ]
    }
   ],
   "source": [
    "# importing pab1 data from Gelman et al.\n",
    "pab1_df1 = pd.read_csv(\"../Raw Data/pab1.tsv.txt\", sep=\"\\t\")\n",
    "pab1_df = pab1_df1.dropna()\n",
    "print(len(pab1_df))\n",
    "print(pab1_df.columns)"
   ]
  },
  {
   "cell_type": "code",
   "execution_count": 123,
   "id": "27937955",
   "metadata": {},
   "outputs": [
    {
     "name": "stdout",
     "output_type": "stream",
     "text": [
      "40852\n",
      "37710\n",
      "37710\n"
     ]
    }
   ],
   "source": [
    "# rounding score column to 6 decimal points\n",
    "pab1_df[\"score\"] = pab1_df[\"score\"].round(6)\n",
    "print(len(pab1_df))\n",
    "\n",
    "# remove values with wildcard star next to them\n",
    "pab1_df = pab1_df[pab1_df[\"variant\"].str.contains(\"\\*\") == False]\n",
    "print(len(pab1_df))\n",
    "# change this value depending on amount of data needed for dataset\n",
    "# pab1_df = pab1_df.sample(n=10000)\n",
    "print(len(pab1_df))\n",
    "pab1_df = pab1_df.sample(frac=1)"
   ]
  },
  {
   "cell_type": "code",
   "execution_count": 124,
   "id": "cf82cb6a",
   "metadata": {},
   "outputs": [],
   "source": [
    "# splitting variant list if there are multiple mutations\n",
    "pab1_mut = pab1_df[\"variant\"].str.split(\",\")\n",
    "\n",
    "# get wild type of residue and place in seperate col\n",
    "pab1_df[\"WILD_TYPE_RES\"] = ssf.get_wild_type(pab1_mut)\n",
    "\n",
    "# get mutated residue and place in seperate col\n",
    "pab1_df[\"MUTATED_RES\"] = ssf.get_mutation_type(pab1_mut)\n",
    "\n",
    "# get position and place in seperate col\n",
    "pab1_df[\"POSITION\"] = ssf.get_position(pab1_mut)\n",
    "\n",
    "# replace variant column with reformatted variant name\n",
    "pab1_df[\"variant\"] = ssf.get_mutations_names_list(pab1_df)\n",
    "\n",
    "# drop unneccesary columns\n",
    "to_drop = [\"WILD_TYPE_RES\", \"MUTATED_RES\", \"POSITION\"]\n",
    "\n",
    "# pab1_df = pab1_df.drop(columns=to_drop)\n",
    "pab1_df[\"positions_split\"] = ssf.get_positions_split(pab1_df)"
   ]
  },
  {
   "cell_type": "code",
   "execution_count": 125,
   "id": "cbbe441c",
   "metadata": {},
   "outputs": [
    {
     "name": "stdout",
     "output_type": "stream",
     "text": [
      "37710\n"
     ]
    }
   ],
   "source": [
    "print(len(pab1_df))"
   ]
  },
  {
   "cell_type": "code",
   "execution_count": 126,
   "id": "cd9228bb",
   "metadata": {},
   "outputs": [],
   "source": [
    "path = \"../PDB and STRIDE Files/\" + 'pab1_stride.txt'\n",
    "pab1_stride_file = open(path, 'r')"
   ]
  },
  {
   "cell_type": "code",
   "execution_count": 127,
   "id": "f4d70a59",
   "metadata": {},
   "outputs": [],
   "source": [
    "pab1_ss_indexes = ssf.get_sec_struc_boolean(pab1_stride_file) # boolean list of secondary structure assignements"
   ]
  },
  {
   "cell_type": "code",
   "execution_count": 128,
   "id": "73cc1093",
   "metadata": {},
   "outputs": [],
   "source": [
    "# add column\n",
    "\n",
    "pab1_df = add_sec_str_col(pab1_df, pab1_ss_indexes, 126)\n",
    "# need positionssplit"
   ]
  },
  {
   "cell_type": "code",
   "execution_count": 90,
   "id": "a7d64e03",
   "metadata": {},
   "outputs": [
    {
     "name": "stdout",
     "output_type": "stream",
     "text": [
      "Index(['variant', 'num_mutations', 'score', 'WILD_TYPE_RES', 'MUTATED_RES',\n",
      "       'POSITION', 'positions_split', 'in_sec_str'],\n",
      "      dtype='object')\n"
     ]
    }
   ],
   "source": [
    "print(pab1_df.columns)"
   ]
  },
  {
   "cell_type": "code",
   "execution_count": 130,
   "id": "9e94e118",
   "metadata": {},
   "outputs": [],
   "source": [
    "protein_seq_pab1 = ssf.get_protein_seq(\"P04147\")"
   ]
  },
  {
   "cell_type": "code",
   "execution_count": 134,
   "id": "c0a78df4",
   "metadata": {
    "scrolled": true
   },
   "outputs": [
    {
     "name": "stdout",
     "output_type": "stream",
     "text": [
      "in fraction,df len37710\n",
      "101\n",
      "46\n",
      "Train Data Fraction: 0.687\n",
      "false_df len19683\n",
      "true_df len18027\n",
      "in fraction,df len37563\n",
      "Test Data Fraction: 0.69\n",
      "false_df len19637\n",
      "true_df len17926\n",
      "Size of Test Dataset: 25974\n",
      "Size of Total Dataset: 26121\n",
      "10147\n",
      "Filename: pab1_MLformat_147_train_10k_test_1.txt\n"
     ]
    }
   ],
   "source": [
    "pab1_train_df, pab1_test_df, pab1_remaining_df = get_train_and_test_df(pab1_df, 0.69, 147)\n",
    "pab1_test_10000 = pab1_test_df.head(10000)\n",
    "pab1_df_format = pd.concat([pab1_train_df, pab1_test_10000])\n",
    "print(len(pab1_df_format))\n",
    "# writing data to txt file\n",
    "ssf.write_data_file(\"pab1_MLformat_147_train_10k_test_1\", protein_seq_pab1, pab1_df_format)"
   ]
  },
  {
   "cell_type": "markdown",
   "id": "23865722",
   "metadata": {},
   "source": [
    "#### Bgl3"
   ]
  },
  {
   "cell_type": "code",
   "execution_count": 163,
   "id": "89f8c142",
   "metadata": {},
   "outputs": [
    {
     "name": "stdout",
     "output_type": "stream",
     "text": [
      "26653\n",
      "Index(['variant', 'num_mutations', 'inp', 'sel', 'score'], dtype='object')\n"
     ]
    }
   ],
   "source": [
    "# importing Ube4b data from Gelman et al.\n",
    "bgl3_df1 = pd.read_csv(\"../Raw Data/bgl3.tsv.txt\", sep=\"\\t\")\n",
    "bgl3_df = bgl3_df1.dropna()\n",
    "print(len(bgl3_df))\n",
    "print(bgl3_df.columns)"
   ]
  },
  {
   "cell_type": "code",
   "execution_count": 164,
   "id": "07c6ae39",
   "metadata": {},
   "outputs": [
    {
     "name": "stdout",
     "output_type": "stream",
     "text": [
      "26653\n",
      "25737\n",
      "25737\n"
     ]
    }
   ],
   "source": [
    "# rounding score column to 6 decimal points\n",
    "bgl3_df[\"score\"] = bgl3_df[\"score\"].round(6)\n",
    "print(len(bgl3_df))\n",
    "\n",
    "# remove values with wildcard star next to them\n",
    "bgl3_df = bgl3_df[bgl3_df[\"variant\"].str.contains(\"\\*\") == False]\n",
    "print(len(bgl3_df))\n",
    "# change this value depending on amount of data needed for dataset\n",
    "# bgl3_df = bgl3_df.sample(n=360)\n",
    "bgl3_df = bgl3_df.sample(frac=1)\n",
    "print(len(bgl3_df))"
   ]
  },
  {
   "cell_type": "code",
   "execution_count": 165,
   "id": "991cd58a",
   "metadata": {},
   "outputs": [
    {
     "name": "stdout",
     "output_type": "stream",
     "text": [
      "MET VAL PRO ALA ALA GLN GLN THR ALA MET ALA PRO ASP ALA ALA LEU THR PHE PRO GLU GLY PHE LEU TRP GLY SER ALA THR ALA SER TYR GLN ILE GLU GLY ALA ALA ALA GLU ASP GLY ARG THR PRO SER ILE TRP ASP THR TYR ALA ARG THR PRO GLY ARG VAL ARG ASN GLY ASP THR GLY ASP VAL ALA THR ASP HIS TYR HIS ARG TRP ARG GLU ASP VAL ALA LEU MET ALA GLU LEU GLY LEU GLY ALA TYR ARG PHE SER LEU ALA TRP PRO ARG ILE GLN PRO THR GLY ARG GLY PRO ALA LEU GLN LYS GLY LEU ASP PHE TYR ARG ARG LEU ALA ASP GLU LEU LEU ALA LYS GLY ILE GLN PRO VAL ALA THR LEU TYR HIS TRP ASP LEU PRO GLN GLU LEU GLU ASN ALA GLY GLY TRP PRO GLU ARG ALA THR ALA GLU ARG PHE ALA GLU TYR ALA ALA ILE ALA ALA ASP ALA LEU GLY ASP ARG VAL LYS THR TRP THR THR LEU ASN GLU PRO TRP CYS SER ALA PHE LEU GLY TYR GLY SER GLY VAL HIS ALA PRO GLY ARG THR ASP PRO VAL ALA ALA LEU ARG ALA ALA HIS HIS LEU ASN LEU GLY HIS GLY LEU ALA VAL GLN ALA LEU ARG ASP ARG LEU PRO ALA ASP ALA GLN CYS SER VAL THR LEU ASN ILE HIS HIS VAL ARG PRO LEU THR ASP SER ASP ALA ASP ALA ASP ALA VAL ARG ARG ILE ASP ALA LEU ALA ASN ARG VAL PHE THR GLY PRO MET LEU GLN GLY ALA TYR PRO GLU ASP LEU VAL LYS ASP THR ALA GLY LEU THR ASP TRP SER PHE VAL ARG ASP GLY ASP LEU ARG LEU ALA HIS GLN LYS LEU ASP PHE LEU GLY VAL ASN TYR TYR SER PRO THR LEU VAL SER GLU ALA ASP GLY SER GLY THR HIS ASN SER ASP GLY HIS GLY ARG SER ALA HIS SER PRO TRP PRO GLY ALA ASP ARG VAL ALA PHE HIS GLN PRO PRO GLY GLU THR THR ALA MET GLY TRP ALA VAL ASP PRO SER GLY LEU TYR GLU LEU LEU ARG ARG LEU SER SER ASP PHE PRO ALA LEU PRO LEU VAL ILE THR GLU ASN GLY ALA ALA PHE HIS ASP TYR ALA ASP PRO GLU GLY ASN VAL ASN ASP PRO GLU ARG ILE ALA TYR VAL ARG ASP HIS LEU ALA ALA VAL HIS ARG ALA ILE LYS ASP GLY SER ASP VAL ARG GLY TYR PHE LEU TRP SER LEU LEU ASP ASN PHE GLU TRP ALA HIS GLY TYR SER LYS ARG PHE GLY ALA VAL TYR VAL ASP TYR PRO THR GLY THR ARG ILE PRO LYS ALA SER ALA ARG TRP TYR ALA GLU VAL ALA ARG THR GLY VAL LEU PRO THR ALA GLY ASP PRO ASN SER SER SER VAL ASP LYS LEU ALA ALA ALA LEU GLU HIS HIS HIS HIS HIS HIS\n"
     ]
    }
   ],
   "source": [
    "# NOTE - no protein domain for bgl3\n",
    "# # get protein sequence from Gelman et al.\n",
    "string_seq = \"MVPAAQQTAMAPDAALTFPEGFLWGSATASYQIEGAAAEDGRTPSIWDTYARTPGRVRNGDTGDVATDHYHRWREDVALMAELGLGAYRFSLAWPRIQPTGRGPALQKGLDFYRRLADELLAKGIQPVATLYHWDLPQELENAGGWPERATAERFAEYAAIAADALGDRVKTWTTLNEPWCSAFLGYGSGVHAPGRTDPVAALRAAHHLNLGHGLAVQALRDRLPADAQCSVTLNIHHVRPLTDSDADADAVRRIDALANRVFTGPMLQGAYPEDLVKDTAGLTDWSFVRDGDLRLAHQKLDFLGVNYYSPTLVSEADGSGTHNSDGHGRSAHSPWPGADRVAFHQPPGETTAMGWAVDPSGLYELLRRLSSDFPALPLVITENGAAFHDYADPEGNVNDPERIAYVRDHLAAVHRAIKDGSDVRGYFLWSLLDNFEWAHGYSKRFGAVYVDYPTGTRIPKASARWYAEVARTGVLPTAGDPNSSSVDKLAAALEHHHHHH\"\n",
    "protein_seq_bgl3 = ssf.get_expanded_seq(string_seq)\n",
    "print(protein_seq_bgl3)"
   ]
  },
  {
   "cell_type": "code",
   "execution_count": 166,
   "id": "7cd26529",
   "metadata": {},
   "outputs": [],
   "source": [
    "# splitting variant list if there are multiple mutations\n",
    "bgl3_mut = bgl3_df[\"variant\"].str.split(\",\")\n",
    "\n",
    "# get wild type of residue and place in seperate col\n",
    "bgl3_df[\"WILD_TYPE_RES\"] = ssf.get_wild_type(bgl3_mut)\n",
    "\n",
    "# get mutated residue and place in seperate col\n",
    "bgl3_df[\"MUTATED_RES\"] = ssf.get_mutation_type(bgl3_mut)\n",
    "\n",
    "# get position and place in seperate col\n",
    "bgl3_df[\"POSITION\"] = ssf.get_position(bgl3_mut)\n",
    "\n",
    "# replace variant column with reformatted variant name\n",
    "bgl3_df[\"variant\"] = ssf.get_mutations_names_list(bgl3_df)\n",
    "\n",
    "# drop unneccesary columns\n",
    "to_drop = [\"WILD_TYPE_RES\", \"MUTATED_RES\", \"POSITION\"]\n",
    "\n",
    "# bgl3_df = bgl3_df.drop(columns=to_drop)"
   ]
  },
  {
   "cell_type": "code",
   "execution_count": 167,
   "id": "70f7fd51",
   "metadata": {},
   "outputs": [],
   "source": [
    "# get ss position indexes\n",
    "path = \"../PDB and STRIDE Files/\" + 'bgl3_stride.txt'\n",
    "bgl3_stride_file = open(path, 'r')\n",
    "\n",
    "bgl3_ss_indexes = ssf.get_sec_struc_boolean(bgl3_stride_file)\n",
    "\n",
    "# need positionssplit\n",
    "bgl3_df[\"positions_split\"] = ssf.get_positions_split(bgl3_df)\n",
    "\n",
    "# add in_sec_str_col\n",
    "bgl3_df = add_sec_str_col(bgl3_df, bgl3_ss_indexes, 0)"
   ]
  },
  {
   "cell_type": "code",
   "execution_count": 169,
   "id": "cf7ff9c0",
   "metadata": {},
   "outputs": [
    {
     "name": "stdout",
     "output_type": "stream",
     "text": [
      "in fraction,df len25737\n",
      "530\n",
      "452\n",
      "Train Data Fraction: 0.54\n",
      "false_df len17674\n",
      "true_df len8063\n",
      "in fraction,df len24755\n",
      "Test Data Fraction: 0.54\n",
      "false_df len17222\n",
      "true_df len7533\n",
      "Size of Test Dataset: 13945\n",
      "Size of Total Dataset: 14927\n",
      "TEST LEN\n",
      "13945\n",
      "10982\n",
      "Filename: bgl3_MLformat_982_train_10k_test_1.txt\n"
     ]
    }
   ],
   "source": [
    "bgl3_train_df, bgl3_test_df, bgl3_remaining_df = get_train_and_test_df(bgl3_df, 0.54, 982)\n",
    "bgl3_test_10000 = bgl3_test_df.head(10000)\n",
    "print(\"TEST LEN\")\n",
    "print(len(bgl3_test_df))\n",
    "bgl3_df_format = pd.concat([bgl3_train_df, bgl3_test_10000])\n",
    "print(len(bgl3_df_format))\n",
    "# writing data to txt file\n",
    "ssf.write_data_file(\"bgl3_MLformat_982_train_10k_test_1\", protein_seq_bgl3, bgl3_df_format)"
   ]
  },
  {
   "cell_type": "markdown",
   "id": "f8a8ed52",
   "metadata": {},
   "source": [
    "*avGFP and GB1 above"
   ]
  },
  {
   "cell_type": "markdown",
   "id": "da6ab054",
   "metadata": {},
   "source": [
    "# Cleaning Curated Dataset Data"
   ]
  }
 ],
 "metadata": {
  "kernelspec": {
   "display_name": "Python 3 (ipykernel)",
   "language": "python",
   "name": "python3"
  },
  "language_info": {
   "codemirror_mode": {
    "name": "ipython",
    "version": 3
   },
   "file_extension": ".py",
   "mimetype": "text/x-python",
   "name": "python",
   "nbconvert_exporter": "python",
   "pygments_lexer": "ipython3",
   "version": "3.9.7"
  }
 },
 "nbformat": 4,
 "nbformat_minor": 5
}
