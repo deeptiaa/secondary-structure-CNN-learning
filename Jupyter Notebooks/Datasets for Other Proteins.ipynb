{
 "cells": [
  {
   "cell_type": "markdown",
   "id": "d2e987f6",
   "metadata": {},
   "source": [
    "# Datasets for Other Proteins"
   ]
  },
  {
   "cell_type": "markdown",
   "id": "7a1562fa",
   "metadata": {},
   "source": [
    "This notebook formats data for the additional protein data used."
   ]
  },
  {
   "cell_type": "code",
   "execution_count": 3,
   "id": "9570362b",
   "metadata": {},
   "outputs": [],
   "source": [
    "# import statements\n",
    "import os\n",
    "import numpy as np\n",
    "import pandas as pd\n",
    "import requests\n",
    "from Bio import SeqIO\n",
    "from io import StringIO\n",
    "import Bio.PDB.Polypeptide\n",
    "import re"
   ]
  },
  {
   "cell_type": "code",
   "execution_count": 4,
   "id": "784b8db8",
   "metadata": {},
   "outputs": [],
   "source": [
    "import secStrucFormatting as ssf"
   ]
  },
  {
   "cell_type": "code",
   "execution_count": 3,
   "id": "7b3e5253",
   "metadata": {},
   "outputs": [],
   "source": [
    "# setting jupyter notebook viewing options\n",
    "max_rows = 1000\n",
    "max_cols = 1000\n",
    "pd.set_option(\"display.max_rows\", max_rows, \"display.max_columns\", max_cols)"
   ]
  },
  {
   "cell_type": "markdown",
   "id": "20238c54",
   "metadata": {},
   "source": [
    "### Metadata from compiled dataset"
   ]
  },
  {
   "cell_type": "code",
   "execution_count": 4,
   "id": "a37e58cb",
   "metadata": {},
   "outputs": [
    {
     "name": "stdout",
     "output_type": "stream",
     "text": [
      "Index(['DATABASE', 'PROTEIN', 'UNIPROT_ID', 'MUTATION', 'SOURCE', 'PBD_WILD',\n",
      "       'PBD_CHAIN_MUTATION', 'pH', 'T_(C)', 'Tm_(C)', 'dTm_(C)',\n",
      "       'dH_(kcal/mol)', 'dG_(kcal/mol)', 'ddG_(kcal/mol)',\n",
      "       'ddG_H2O_(kcal/mol)', 'STATE', 'REVERSIBILITY', 'PUBMED_ID',\n",
      "       'REFERENCE', 'MUTATED_CHAIN', 'KINGDOM', 'PBD_MUTANT', 'MEASURE',\n",
      "       'METHOD', 'POSITION', 'WILD_TYPE_RES', 'MUTATED_RES', 'IS_CURATED',\n",
      "       'CONSERVATION', 'NOTES', 'DATASETS'],\n",
      "      dtype='object')\n",
      "Lysozyme                                                   2897\n",
      "Immunoglobulin G-binding protein G                         1996\n",
      "Thermonuclease                                             1586\n",
      "Staphylococcal nuclease                                    1457\n",
      "Endolysin                                                  1110\n",
      "Ribonuclease                                                983\n",
      "Ribonuclease HI                                             710\n",
      "Guanine nucleotide-binding protein G(i) subunit alpha-1     704\n",
      "Myoglobin                                                   615\n",
      "Dihydrofolate reductase                                     459\n",
      "Name: PROTEIN, dtype: int64\n",
      "       DATABASE   PROTEIN UNIPROT_ID           MUTATION  \\\n",
      "57     Protherm  Lysozyme     P00698          wild-type   \n",
      "97     Protherm  Lysozyme     P00720          wild-type   \n",
      "98     Protherm  Lysozyme     P00720               L46A   \n",
      "99     Protherm  Lysozyme     P00720              L118A   \n",
      "100    Protherm  Lysozyme     P00720              L121A   \n",
      "...         ...       ...        ...                ...   \n",
      "35874  Protherm  Lysozyme     P00720              W138Y   \n",
      "35875  Protherm  Lysozyme     P61626               I77Y   \n",
      "35876  Protherm  Lysozyme     P00720  W138Y W126Y W158Y   \n",
      "35877  Protherm  Lysozyme     P00720  W138Y W126Y W158Y   \n",
      "35878  Protherm  Lysozyme     P00720  W138Y W126Y W158Y   \n",
      "\n",
      "                                           SOURCE PBD_WILD  \\\n",
      "57                        Gallus gallus (Chicken)     4LYZ   \n",
      "97     Enterobacteria phage T4 (Bacteriophage T4)     2LZM   \n",
      "98     Enterobacteria phage T4 (Bacteriophage T4)     2LZM   \n",
      "99     Enterobacteria phage T4 (Bacteriophage T4)     2LZM   \n",
      "100    Enterobacteria phage T4 (Bacteriophage T4)     2LZM   \n",
      "...                                           ...      ...   \n",
      "35874  Enterobacteria phage T4 (Bacteriophage T4)     2LZM   \n",
      "35875                        Homo sapiens (Human)     1LZ1   \n",
      "35876  Enterobacteria phage T4 (Bacteriophage T4)     2LZM   \n",
      "35877  Enterobacteria phage T4 (Bacteriophage T4)     2LZM   \n",
      "35878  Enterobacteria phage T4 (Bacteriophage T4)     2LZM   \n",
      "\n",
      "                           PBD_CHAIN_MUTATION    pH  T_(C)  Tm_(C)  dTm_(C)  \\\n",
      "57                                        NaN  3.80    NaN    74.8      NaN   \n",
      "97                                        NaN  3.01    NaN    51.8      NaN   \n",
      "98                                2lzm_A:L46A  3.01    NaN    43.2     -8.6   \n",
      "99                               2lzm_A:L118A  3.01    NaN    39.6    -12.2   \n",
      "100                              2lzm_A:L121A  3.01    NaN    42.5     -9.3   \n",
      "...                                       ...   ...    ...     ...      ...   \n",
      "35874                            2lzm_A:W138Y  2.20    NaN    36.3     -6.3   \n",
      "35875                             1lz1_A:I59Y  2.70    NaN    64.9      NaN   \n",
      "35876  2lzm_A:W138Y 2lzm_A:W126Y 2lzm_A:W158Y  2.00    NaN    30.0     -7.0   \n",
      "35877  2lzm_A:W138Y 2lzm_A:W126Y 2lzm_A:W158Y  2.20    NaN    36.0     -6.6   \n",
      "35878  2lzm_A:W138Y 2lzm_A:W126Y 2lzm_A:W158Y  2.50    NaN    40.0     -6.2   \n",
      "\n",
      "       dH_(kcal/mol)  dG_(kcal/mol)  ddG_(kcal/mol)  ddG_H2O_(kcal/mol)  \\\n",
      "57               NaN            NaN             NaN                 NaN   \n",
      "97               NaN            NaN             NaN                 NaN   \n",
      "98               NaN            NaN             NaN                 NaN   \n",
      "99               NaN            NaN             NaN                 NaN   \n",
      "100              NaN            NaN             NaN                 NaN   \n",
      "...              ...            ...             ...                 ...   \n",
      "35874            NaN            NaN           -1.71                 NaN   \n",
      "35875            NaN            NaN             NaN                 NaN   \n",
      "35876            NaN            NaN             NaN                 NaN   \n",
      "35877            NaN            NaN           -1.82                 NaN   \n",
      "35878            NaN            NaN           -1.77                 NaN   \n",
      "\n",
      "       STATE REVERSIBILITY   PUBMED_ID  \\\n",
      "57       NaN           yes   1409571.0   \n",
      "97       NaN           yes   1553543.0   \n",
      "98       NaN           yes   1553543.0   \n",
      "99       NaN           yes   1553543.0   \n",
      "100      NaN           yes   1553543.0   \n",
      "...      ...           ...         ...   \n",
      "35874    NaN           yes    911878.0   \n",
      "35875    NaN           yes  10556244.0   \n",
      "35876    NaN       Unknown   7306671.0   \n",
      "35877    NaN           yes    911878.0   \n",
      "35878    NaN           yes    911878.0   \n",
      "\n",
      "                                               REFERENCE MUTATED_CHAIN  \\\n",
      "57                           PROTEINS 14, 237-248 (1992)           NaN   \n",
      "97                           SCIENCE 255, 178-183 (1992)           NaN   \n",
      "98                           SCIENCE 255, 178-183 (1992)             A   \n",
      "99                           SCIENCE 255, 178-183 (1992)             A   \n",
      "100                          SCIENCE 255, 178-183 (1992)             A   \n",
      "...                                                  ...           ...   \n",
      "35874           BIOCHIM BIOPHYS ACTA 494, 367-383 (1977)             A   \n",
      "35875                     PROTEIN ENG 12, 841-850 (1999)             A   \n",
      "35876  BIOPOLYMERS 20, 1989-1999 (1981); doi:10.1002/...         A,A,A   \n",
      "35877           BIOCHIM BIOPHYS ACTA 494, 367-383 (1977)         A,A,A   \n",
      "35878           BIOCHIM BIOPHYS ACTA 494, 367-383 (1977)         A,A,A   \n",
      "\n",
      "      KINGDOM PBD_MUTANT MEASURE METHOD     POSITION WILD_TYPE_RES  \\\n",
      "57        NaN        NaN     NaN    NaN    wild-type     WILD_TYPE   \n",
      "97        NaN        NaN     NaN    NaN    wild-type     WILD_TYPE   \n",
      "98        NaN        NaN     NaN    NaN           46             L   \n",
      "99        NaN        NaN     NaN    NaN          118             L   \n",
      "100       NaN        NaN     NaN    NaN          121             L   \n",
      "...       ...        ...     ...    ...          ...           ...   \n",
      "35874     NaN        NaN     NaN    NaN          138             W   \n",
      "35875     NaN        NaN     NaN    NaN           77             I   \n",
      "35876     NaN        NaN     NaN    NaN  138,126,158         W,W,W   \n",
      "35877     NaN        NaN     NaN    NaN  138,126,158         W,W,W   \n",
      "35878     NaN        NaN     NaN    NaN  138,126,158         W,W,W   \n",
      "\n",
      "      MUTATED_RES IS_CURATED  CONSERVATION NOTES DATASETS  \n",
      "57      WILD-TYPE        NaN           NaN   NaN      NaN  \n",
      "97      WILD-TYPE        NaN           NaN   NaN      NaN  \n",
      "98              A        NaN           NaN   NaN      NaN  \n",
      "99              A        NaN           NaN   NaN      NaN  \n",
      "100             A        NaN           NaN   NaN      NaN  \n",
      "...           ...        ...           ...   ...      ...  \n",
      "35874           Y        NaN           NaN   NaN      NaN  \n",
      "35875           Y        NaN           NaN   NaN      NaN  \n",
      "35876       Y,Y,Y        NaN           NaN   NaN      NaN  \n",
      "35877       Y,Y,Y        NaN           NaN   NaN      NaN  \n",
      "35878       Y,Y,Y        NaN           NaN   NaN      NaN  \n",
      "\n",
      "[2897 rows x 31 columns]\n"
     ]
    }
   ],
   "source": [
    "path = \"../Raw Data/\" + 'all_data_clean.csv'\n",
    "df = pd.read_csv(path)\n",
    "# print(df.head)\n",
    "print(df.columns)\n",
    "\n",
    "print(df[\"PROTEIN\"].value_counts().head(10))\n",
    "print(df.loc[df['PROTEIN'] == 'Lysozyme'])"
   ]
  },
  {
   "cell_type": "code",
   "execution_count": 5,
   "id": "ff72bd0a",
   "metadata": {},
   "outputs": [
    {
     "name": "stdout",
     "output_type": "stream",
     "text": [
      "P00644    3033\n",
      "P00720    2767\n",
      "P06654    2297\n",
      "P61626    1146\n",
      "P00648     981\n",
      "P00651     904\n",
      "P0A7Y4     722\n",
      "P63096     698\n",
      "P00044     546\n",
      "P00698     491\n",
      "Name: UNIPROT_ID, dtype: int64\n"
     ]
    }
   ],
   "source": [
    "print(df[\"UNIPROT_ID\"].value_counts().head(10)) # 4 possible could be used?"
   ]
  },
  {
   "cell_type": "markdown",
   "id": "68f5250d",
   "metadata": {},
   "source": [
    "#### P00644 (Thermonuclease)"
   ]
  },
  {
   "cell_type": "code",
   "execution_count": 6,
   "id": "31ecebf6",
   "metadata": {},
   "outputs": [
    {
     "name": "stdout",
     "output_type": "stream",
     "text": [
      "3033\n"
     ]
    },
    {
     "data": {
      "text/plain": [
       "DATABASE              3033\n",
       "PROTEIN               3033\n",
       "UNIPROT_ID            3033\n",
       "MUTATION              2901\n",
       "SOURCE                2901\n",
       "PBD_WILD              3031\n",
       "PBD_CHAIN_MUTATION    1360\n",
       "pH                    3031\n",
       "T_(C)                 2577\n",
       "Tm_(C)                 380\n",
       "dTm_(C)                585\n",
       "dH_(kcal/mol)           48\n",
       "dG_(kcal/mol)           43\n",
       "ddG_(kcal/mol)        1282\n",
       "ddG_H2O_(kcal/mol)    1068\n",
       "STATE                   12\n",
       "REVERSIBILITY         1450\n",
       "PUBMED_ID             3006\n",
       "REFERENCE             2901\n",
       "MUTATED_CHAIN         2943\n",
       "KINGDOM               1451\n",
       "PBD_MUTANT              23\n",
       "MEASURE               1556\n",
       "METHOD                1556\n",
       "POSITION              2901\n",
       "WILD_TYPE_RES         2901\n",
       "MUTATED_RES           2901\n",
       "IS_CURATED             132\n",
       "CONSERVATION           131\n",
       "NOTES                   24\n",
       "DATASETS                29\n",
       "dtype: int64"
      ]
     },
     "execution_count": 6,
     "metadata": {},
     "output_type": "execute_result"
    }
   ],
   "source": [
    "# finding column with most values\n",
    "\n",
    "# print(df.loc[df['UNIPROT_ID'] == 'P00644'])\n",
    "nuclease_df = df.loc[df['UNIPROT_ID'] == 'P00644']\n",
    "\n",
    "print(len(nuclease_df))\n",
    "nuclease_df.count() \n",
    "# using ddG_"
   ]
  },
  {
   "cell_type": "code",
   "execution_count": 7,
   "id": "893b3ef1",
   "metadata": {},
   "outputs": [],
   "source": [
    "# importing STRIDE file\n",
    "path = \"../PDB and STRIDE Files/\" + 'thermonuclease_stride.txt'\n",
    "nuclease_stride_file = open(path, 'r')"
   ]
  },
  {
   "cell_type": "code",
   "execution_count": 8,
   "id": "8266ebe3",
   "metadata": {},
   "outputs": [],
   "source": [
    "nuclease_ss_indexes = ssf.get_sec_struc_boolean(nuclease_stride_file) # boolean list of secondary structure assignements"
   ]
  },
  {
   "cell_type": "code",
   "execution_count": 9,
   "id": "2336d320",
   "metadata": {},
   "outputs": [
    {
     "name": "stdout",
     "output_type": "stream",
     "text": [
      "144\n",
      "87\n"
     ]
    }
   ],
   "source": [
    "ss = nuclease_ss_indexes.count(True)\n",
    "not_ss = nuclease_ss_indexes.count(False)\n",
    "print(ss)\n",
    "print(not_ss)"
   ]
  },
  {
   "cell_type": "markdown",
   "id": "38e611a9",
   "metadata": {},
   "source": [
    "#### P00720 (Endolysin)"
   ]
  },
  {
   "cell_type": "code",
   "execution_count": 10,
   "id": "a2f16337",
   "metadata": {},
   "outputs": [
    {
     "name": "stdout",
     "output_type": "stream",
     "text": [
      "2767\n"
     ]
    },
    {
     "data": {
      "text/plain": [
       "DATABASE              2767\n",
       "PROTEIN               2767\n",
       "UNIPROT_ID            2767\n",
       "MUTATION              2482\n",
       "SOURCE                2482\n",
       "PBD_WILD              2767\n",
       "PBD_CHAIN_MUTATION    1512\n",
       "pH                    2766\n",
       "T_(C)                 1520\n",
       "Tm_(C)                1117\n",
       "dTm_(C)               1633\n",
       "dH_(kcal/mol)           56\n",
       "dG_(kcal/mol)            4\n",
       "ddG_(kcal/mol)        1376\n",
       "ddG_H2O_(kcal/mol)     158\n",
       "STATE                   89\n",
       "REVERSIBILITY         1656\n",
       "PUBMED_ID             2711\n",
       "REFERENCE             2482\n",
       "MUTATED_CHAIN         2623\n",
       "KINGDOM                825\n",
       "PBD_MUTANT             378\n",
       "MEASURE               1055\n",
       "METHOD                1055\n",
       "POSITION              2482\n",
       "WILD_TYPE_RES         2482\n",
       "MUTATED_RES           2482\n",
       "IS_CURATED             285\n",
       "CONSERVATION           285\n",
       "NOTES                  116\n",
       "DATASETS                81\n",
       "dtype: int64"
      ]
     },
     "execution_count": 10,
     "metadata": {},
     "output_type": "execute_result"
    }
   ],
   "source": [
    "endolysin_df = df.loc[df['UNIPROT_ID'] == 'P00720']\n",
    "print(len(endolysin_df))\n",
    "endolysin_df.count()"
   ]
  },
  {
   "cell_type": "code",
   "execution_count": 11,
   "id": "e57039c1",
   "metadata": {},
   "outputs": [],
   "source": [
    "# importing STRIDE file\n",
    "path = \"../PDB and STRIDE Files/\" + 'endolysin_stride.txt'\n",
    "endolysin_stride_file = open(path, 'r')"
   ]
  },
  {
   "cell_type": "code",
   "execution_count": 12,
   "id": "e0dbcab3",
   "metadata": {},
   "outputs": [],
   "source": [
    "endolysin_ss_indexes = ssf.get_sec_struc_boolean(endolysin_stride_file) # boolean list of secondary structure assignements"
   ]
  },
  {
   "cell_type": "code",
   "execution_count": 13,
   "id": "cdaf7b31",
   "metadata": {},
   "outputs": [
    {
     "name": "stdout",
     "output_type": "stream",
     "text": [
      "122\n",
      "41\n"
     ]
    }
   ],
   "source": [
    "ss = endolysin_ss_indexes.count(True)\n",
    "not_ss = endolysin_ss_indexes.count(False)\n",
    "print(ss)\n",
    "print(not_ss)"
   ]
  },
  {
   "cell_type": "markdown",
   "id": "71d3b31c",
   "metadata": {},
   "source": [
    "#### P06654 (Immunoglobulin G-binding protein G)"
   ]
  },
  {
   "cell_type": "code",
   "execution_count": 281,
   "id": "5fb930a8",
   "metadata": {},
   "outputs": [
    {
     "name": "stdout",
     "output_type": "stream",
     "text": [
      "2297\n",
      "1221\n"
     ]
    }
   ],
   "source": [
    "protein_G_df = df.loc[df['UNIPROT_ID'] == 'P06654']\n",
    "# print(protein_G_df.head)\n",
    "print(len(protein_G_df))\n",
    "protein_G_df.count()\n",
    "# print(protein_G_df.head)\n",
    "protein_G_df = protein_G_df[protein_G_df[\"ddG_(kcal/mol)\"].notna()]\n",
    "print(len(protein_G_df))"
   ]
  },
  {
   "cell_type": "code",
   "execution_count": 282,
   "id": "d5b75dad",
   "metadata": {},
   "outputs": [],
   "source": [
    "# importing STRIDE file\n",
    "path = \"../PDB and STRIDE Files/\" + 'protein_G_stride.txt'\n",
    "protein_G_stride_file = open(path, 'r')"
   ]
  },
  {
   "cell_type": "code",
   "execution_count": 16,
   "id": "fad21383",
   "metadata": {},
   "outputs": [],
   "source": [
    "protein_G_ss_indexes = ssf.get_sec_struc_boolean(protein_G_stride_file) # boolean list of secondary structure assignements"
   ]
  },
  {
   "cell_type": "code",
   "execution_count": 239,
   "id": "24331990",
   "metadata": {},
   "outputs": [],
   "source": [
    "# getting protein sequence\n",
    "string_seq = \"MEKEKKVKYFLRKSAFGLASVSAAFLVGSTVFAVDSPIEDTPIIRNGGELTNLLGNSETTLALRNEESATADLTAAAVADTVAAAAAENAGAAAWEAAAAADALAKAKADALKEFNKYGVSDYYKNLINNAKTVEGIKDLQAQVVESAKKARISEATDGLSDFLKSQTPAEDTVKSIELAEAKVLANRELDKYGVSDYHKNLINNAKTVEGVKELIDEILAALPKTDTYKLILNGKTLKGETTTEAVDAATAEKVFKQYANDNGVDGEWTYDDATKTFTVTEKPEVIDASELTPAVTTYKLVINGKTLKGETTTKAVDAETAEKAFKQYANDNGVDGVWTYDDATKTFTVTEMVTEVPGDAPTEPEKPEASIPLVPLTPATPIAKDDAKKDDTKKEDAKKPEAKKDDAKKAETLPTTGEGSNPFFTAAALAVMAGAGALAVASKRKED\""
   ]
  },
  {
   "cell_type": "code",
   "execution_count": 272,
   "id": "fc82b0b1",
   "metadata": {},
   "outputs": [
    {
     "name": "stdout",
     "output_type": "stream",
     "text": [
      "MET GLU LYS GLU LYS LYS VAL LYS TYR PHE LEU ARG LYS SER ALA PHE GLY LEU ALA SER VAL SER ALA ALA PHE LEU VAL GLY SER THR VAL PHE ALA VAL ASP SER PRO ILE GLU ASP THR PRO ILE ILE ARG ASN GLY GLY GLU LEU THR ASN LEU LEU GLY ASN SER GLU THR THR LEU ALA LEU ARG ASN GLU GLU SER ALA THR ALA ASP LEU THR ALA ALA ALA VAL ALA ASP THR VAL ALA ALA ALA ALA ALA GLU ASN ALA GLY ALA ALA ALA TRP GLU ALA ALA ALA ALA ALA ASP ALA LEU ALA LYS ALA LYS ALA ASP ALA LEU LYS GLU PHE ASN LYS TYR GLY VAL SER ASP TYR TYR LYS ASN LEU ILE ASN ASN ALA LYS THR VAL GLU GLY ILE LYS ASP LEU GLN ALA GLN VAL VAL GLU SER ALA LYS LYS ALA ARG ILE SER GLU ALA THR ASP GLY LEU SER ASP PHE LEU LYS SER GLN THR PRO ALA GLU ASP THR VAL LYS SER ILE GLU LEU ALA GLU ALA LYS VAL LEU ALA ASN ARG GLU LEU ASP LYS TYR GLY VAL SER ASP TYR HIS LYS ASN LEU ILE ASN ASN ALA LYS THR VAL GLU GLY VAL LYS GLU LEU ILE ASP GLU ILE LEU ALA ALA LEU PRO LYS THR ASP THR TYR LYS LEU ILE LEU ASN GLY LYS THR LEU LYS GLY GLU THR THR THR GLU ALA VAL ASP ALA ALA THR ALA GLU LYS VAL PHE LYS GLN TYR ALA ASN ASP ASN GLY VAL ASP GLY GLU TRP THR TYR ASP ASP ALA THR LYS THR PHE THR VAL THR GLU LYS PRO GLU VAL ILE ASP ALA SER GLU LEU THR PRO ALA VAL THR THR TYR LYS LEU VAL ILE ASN GLY LYS THR LEU LYS GLY GLU THR THR THR LYS ALA VAL ASP ALA GLU THR ALA GLU LYS ALA PHE LYS GLN TYR ALA ASN ASP ASN GLY VAL ASP GLY VAL TRP THR TYR ASP ASP ALA THR LYS THR PHE THR VAL THR GLU MET VAL THR GLU VAL PRO GLY ASP ALA PRO THR GLU PRO GLU LYS PRO GLU ALA SER ILE PRO LEU VAL PRO LEU THR PRO ALA THR PRO ILE ALA LYS ASP ASP ALA LYS LYS ASP ASP THR LYS LYS GLU ASP ALA LYS LYS PRO GLU ALA LYS LYS ASP ASP ALA LYS LYS ALA GLU THR LEU PRO THR THR GLY GLU GLY SER ASN PRO PHE PHE THR ALA ALA ALA LEU ALA VAL MET ALA GLY ALA GLY ALA LEU ALA VAL ALA SER LYS ARG LYS GLU ASP\n"
     ]
    }
   ],
   "source": [
    "protein_seq_protein_G = ssf.get_expanded_seq(string_seq)\n",
    "print(protein_seq_protein_G)"
   ]
  },
  {
   "cell_type": "code",
   "execution_count": 248,
   "id": "3d935970",
   "metadata": {},
   "outputs": [],
   "source": [
    "protein_seq_protein_G_split = protein_seq_protein_G.split()"
   ]
  },
  {
   "cell_type": "code",
   "execution_count": 283,
   "id": "0d03b44f",
   "metadata": {},
   "outputs": [
    {
     "name": "stdout",
     "output_type": "stream",
     "text": [
      "Index(['DATABASE', 'PROTEIN', 'UNIPROT_ID', 'MUTATION', 'SOURCE', 'PBD_WILD',\n",
      "       'PBD_CHAIN_MUTATION', 'pH', 'T_(C)', 'Tm_(C)', 'dTm_(C)',\n",
      "       'dH_(kcal/mol)', 'dG_(kcal/mol)', 'score', 'ddG_H2O_(kcal/mol)',\n",
      "       'STATE', 'REVERSIBILITY', 'PUBMED_ID', 'REFERENCE', 'MUTATED_CHAIN',\n",
      "       'KINGDOM', 'PBD_MUTANT', 'MEASURE', 'METHOD', 'IS_CURATED',\n",
      "       'CONSERVATION', 'NOTES', 'DATASETS', 'variant'],\n",
      "      dtype='object')\n"
     ]
    }
   ],
   "source": [
    "protein_G_df = protein_G_df[protein_G_df[\"POSITION\"].str.contains(\"pga_A\") == False]\n",
    "\n",
    "protein_G_df[\"variant\"] = ssf.get_mutations_names_list(protein_G_df)\n",
    "\n",
    "# drop unneccesary columns\n",
    "to_drop = [\"WILD_TYPE_RES\", \"MUTATED_RES\", \"POSITION\"]\n",
    "\n",
    "# rename to score\n",
    "protein_G_df.rename(columns = {'ddG_(kcal/mol)':'score'}, inplace = True)\n",
    "\n",
    "protein_G_df = protein_G_df.drop(columns=to_drop)\n",
    "print(protein_G_df.columns)\n"
   ]
  },
  {
   "cell_type": "code",
   "execution_count": 284,
   "id": "aa9ee7b1",
   "metadata": {},
   "outputs": [],
   "source": [
    "protein_G_df = protein_G_df.sample(n=320)"
   ]
  },
  {
   "cell_type": "code",
   "execution_count": 275,
   "id": "e6891129",
   "metadata": {},
   "outputs": [
    {
     "name": "stdout",
     "output_type": "stream",
     "text": [
      "320\n"
     ]
    }
   ],
   "source": [
    "print(len(protein_G_df))"
   ]
  },
  {
   "cell_type": "code",
   "execution_count": 285,
   "id": "f9f6d572",
   "metadata": {},
   "outputs": [
    {
     "name": "stdout",
     "output_type": "stream",
     "text": [
      "30262   -0.950000\n",
      "30473   -3.310000\n",
      "21789    0.520000\n",
      "30722    0.480000\n",
      "24082    4.100000\n",
      "30707    0.200000\n",
      "30857   -1.350000\n",
      "30832    0.440000\n",
      "27182   -0.200000\n",
      "31021   -0.270000\n",
      "31001   -0.910000\n",
      "30878    0.120000\n",
      "15198   -0.860000\n",
      "30515   -4.000000\n",
      "30598    0.120000\n",
      "27187   -3.500000\n",
      "30373    0.040000\n",
      "30553   -0.230000\n",
      "30506   -2.670000\n",
      "30575   -0.050000\n",
      "30408   -1.280000\n",
      "28478    1.075526\n",
      "30955    0.250000\n",
      "24119    1.500000\n",
      "30821    0.550000\n",
      "30529   -0.300000\n",
      "30187    0.150000\n",
      "30988   -2.070000\n",
      "30543   -0.140000\n",
      "24100    2.500000\n",
      "30690   -0.420000\n",
      "30306    0.570000\n",
      "30422    0.520000\n",
      "15197   -0.450000\n",
      "13675   -0.300000\n",
      "30465   -0.190000\n",
      "10027    0.520000\n",
      "30115    0.310000\n",
      "22728   -2.820000\n",
      "30541    0.020000\n",
      "9945     2.430000\n",
      "30772    0.310000\n",
      "30705   -0.090000\n",
      "30472   -1.100000\n",
      "24091    3.140000\n",
      "30250   -0.130000\n",
      "30511    0.260000\n",
      "30415    0.610000\n",
      "30658   -4.000000\n",
      "30796    0.260000\n",
      "30106    0.270000\n",
      "30517   -2.910000\n",
      "30440   -2.490000\n",
      "30612    0.900000\n",
      "30531    0.340000\n",
      "30406   -2.040000\n",
      "12542    2.070000\n",
      "15195    0.360000\n",
      "30661   -4.000000\n",
      "30296   -0.080000\n",
      "30144    0.740000\n",
      "30960   -0.130000\n",
      "30738   -0.530000\n",
      "30624   -0.610000\n",
      "30833   -0.440000\n",
      "30986   -2.880000\n",
      "28479    0.764818\n",
      "30536   -0.180000\n",
      "9948     1.760000\n",
      "30793   -0.360000\n",
      "30775   -1.230000\n",
      "28633   -2.273000\n",
      "26869    2.460114\n",
      "30692   -1.010000\n",
      "10903    1.790000\n",
      "30609   -0.330000\n",
      "30202    0.390000\n",
      "30724    0.930000\n",
      "30843   -0.140000\n",
      "30808   -4.000000\n",
      "30378    0.400000\n",
      "30500   -0.650000\n",
      "30295   -0.350000\n",
      "30142    1.040000\n",
      "30985   -4.000000\n",
      "30339    0.160000\n",
      "30336   -1.160000\n",
      "30869   -1.730000\n",
      "30823    0.270000\n",
      "12543    2.000000\n",
      "30712    0.410000\n",
      "30901    0.180000\n",
      "30896    0.650000\n",
      "30747    0.170000\n",
      "30754   -0.480000\n",
      "24094    2.970000\n",
      "12522    0.160000\n",
      "30292    0.390000\n",
      "30794   -1.040000\n",
      "30672    0.460000\n",
      "21798    1.630000\n",
      "30157   -0.100000\n",
      "30999   -0.660000\n",
      "22730   -3.810000\n",
      "9933     4.290000\n",
      "30546   -0.660000\n",
      "30453   -0.690000\n",
      "30526   -0.660000\n",
      "30990   -1.140000\n",
      "30858    0.210000\n",
      "30976   -0.540000\n",
      "26862    3.248306\n",
      "30449    0.220000\n",
      "30121    0.060000\n",
      "24101    2.430000\n",
      "30853   -0.990000\n",
      "30563   -2.710000\n",
      "24580   -0.920000\n",
      "30280    0.410000\n",
      "30975   -0.420000\n",
      "30865   -1.170000\n",
      "30185    0.220000\n",
      "30910    0.160000\n",
      "30959    0.650000\n",
      "30504   -0.440000\n",
      "30590   -0.080000\n",
      "10906    1.940000\n",
      "24451   -0.095694\n",
      "30950    0.630000\n",
      "30343   -0.420000\n",
      "9941     3.140000\n",
      "30798   -4.000000\n",
      "31010   -4.000000\n",
      "30293    0.170000\n",
      "30160   -1.400000\n",
      "30812   -2.410000\n",
      "30822    0.780000\n",
      "30972   -0.880000\n",
      "30730   -0.670000\n",
      "12521    0.840000\n",
      "30264    0.620000\n",
      "26864    2.603421\n",
      "30266   -4.000000\n",
      "27847    0.480000\n",
      "30545    0.130000\n",
      "26868    3.439382\n",
      "30236   -1.990000\n",
      "21786    0.380000\n",
      "30782    1.920000\n",
      "30223    0.420000\n",
      "24120    1.280000\n",
      "24090    3.300000\n",
      "30267   -0.590000\n",
      "30787    1.820000\n",
      "30462   -0.390000\n",
      "30430    0.360000\n",
      "30520   -1.680000\n",
      "30286    0.440000\n",
      "30431   -4.000000\n",
      "30493   -0.020000\n",
      "10031    0.230000\n",
      "30924    0.940000\n",
      "30492   -0.250000\n",
      "30477   -2.160000\n",
      "30622   -0.840000\n",
      "24569   -1.000000\n",
      "30642    0.610000\n",
      "30497   -0.450000\n",
      "30217    0.450000\n",
      "30501   -4.000000\n",
      "30688   -2.740000\n",
      "30958    0.110000\n",
      "30148   -4.000000\n",
      "24102    2.230000\n",
      "30994   -0.110000\n",
      "30320    0.330000\n",
      "12530    3.300000\n",
      "30694   -0.430000\n",
      "30210    0.990000\n",
      "30370    0.750000\n",
      "26848    2.866152\n",
      "30126   -1.440000\n",
      "30516    0.420000\n",
      "30643    0.420000\n",
      "30651    0.690000\n",
      "30941    0.530000\n",
      "30571   -0.340000\n",
      "27841    1.934653\n",
      "30880   -0.200000\n",
      "30619   -0.050000\n",
      "30885   -1.470000\n",
      "30435   -4.000000\n",
      "30177    0.370000\n",
      "30887    0.930000\n",
      "30512   -4.000000\n",
      "30881   -0.950000\n",
      "30564   -4.000000\n",
      "30488   -4.000000\n",
      "30461   -4.000000\n",
      "30852   -1.030000\n",
      "30323   -0.220000\n",
      "30711   -2.700000\n",
      "27845    0.670000\n",
      "30310   -0.010000\n",
      "30403   -4.000000\n",
      "30151   -4.000000\n",
      "30294    0.670000\n",
      "30817    0.670000\n",
      "30718   -4.000000\n",
      "9949     1.680000\n",
      "30932    0.240000\n",
      "30469   -0.230000\n",
      "30813   -4.000000\n",
      "30973    0.030000\n",
      "30494   -4.000000\n",
      "30632   -0.800000\n",
      "30381    0.000000\n",
      "30779    0.190000\n",
      "30623   -0.570000\n",
      "30139   -0.340000\n",
      "10900    1.040000\n",
      "30132   -4.000000\n",
      "30971   -1.060000\n",
      "30554   -0.140000\n",
      "24106    2.100000\n",
      "30216   -0.350000\n",
      "30745   -0.130000\n",
      "30708    0.290000\n",
      "30245   -0.050000\n",
      "30566   -4.000000\n",
      "30625   -0.530000\n",
      "24571   -0.380000\n",
      "30698    0.220000\n",
      "30753   -0.720000\n",
      "10028    0.370000\n",
      "30268   -0.440000\n",
      "9950     1.590000\n",
      "30213   -0.450000\n",
      "30397   -2.290000\n",
      "30659   -4.000000\n",
      "30358   -1.530000\n",
      "30212    0.210000\n",
      "30856   -1.180000\n",
      "30732    0.110000\n",
      "24096    2.800000\n",
      "30614    0.180000\n",
      "30459   -0.450000\n",
      "30629   -0.380000\n",
      "30842   -0.190000\n",
      "30769   -2.530000\n",
      "30943    0.340000\n",
      "30487   -4.000000\n",
      "30600    0.160000\n",
      "30152   -1.340000\n",
      "30556   -0.110000\n",
      "30490   -1.180000\n",
      "30239    0.010000\n",
      "24554   -2.960000\n",
      "30211    0.600000\n",
      "15196   -0.100000\n",
      "30993   -0.470000\n",
      "30376    0.850000\n",
      "30859   -2.930000\n",
      "30750   -4.000000\n",
      "30470    0.820000\n",
      "30802   -4.000000\n",
      "10025    0.450000\n",
      "30646    0.710000\n",
      "30668   -4.000000\n",
      "30416    0.400000\n",
      "30332   -0.440000\n",
      "30304    0.410000\n",
      "30952    0.540000\n",
      "30825   -0.240000\n",
      "30818    0.620000\n",
      "30560   -0.240000\n",
      "30917    0.010000\n",
      "30756   -0.480000\n",
      "30819    0.150000\n",
      "30848    0.380000\n",
      "30991    0.080000\n",
      "30929    0.510000\n",
      "30387    0.950000\n",
      "30532   -4.000000\n",
      "24582   -3.340000\n",
      "30630   -1.720000\n",
      "30502   -0.350000\n",
      "30838    0.560000\n",
      "24089    3.340000\n",
      "30696    0.940000\n",
      "30601    0.330000\n",
      "12546    1.110000\n",
      "30771    0.190000\n",
      "10029    0.380000\n",
      "30603    0.690000\n",
      "30253    0.210000\n",
      "30561   -4.000000\n",
      "30801   -4.000000\n",
      "30805   -4.000000\n",
      "30908    0.600000\n",
      "30485   -1.850000\n",
      "31027    0.400000\n",
      "30634   -1.310000\n",
      "30638   -0.880000\n",
      "27184   -0.300000\n",
      "9487     2.960000\n",
      "30549   -0.170000\n",
      "30713    0.410000\n",
      "30559   -2.660000\n",
      "31004   -0.680000\n",
      "30404   -2.310000\n",
      "12536    2.800000\n",
      "30886    0.020000\n",
      "27179    0.100000\n",
      "30587    0.460000\n",
      "30608    0.330000\n",
      "21795    1.080000\n",
      "30839    0.480000\n",
      "24453   -0.861244\n",
      "30615    0.460000\n",
      "Name: score, dtype: float64\n"
     ]
    }
   ],
   "source": [
    "print(protein_G_df[\"score\"])"
   ]
  },
  {
   "cell_type": "code",
   "execution_count": 286,
   "id": "b4dbdd21",
   "metadata": {},
   "outputs": [
    {
     "name": "stdout",
     "output_type": "stream",
     "text": [
      "Filename: protein_G_MLformat_320.txt\n"
     ]
    }
   ],
   "source": [
    "ssf.write_data_file(\"protein_G_MLformat_320\", protein_seq_protein_G, protein_G_df)"
   ]
  },
  {
   "cell_type": "markdown",
   "id": "e9c61ab9",
   "metadata": {},
   "source": [
    "From Gelman et al."
   ]
  },
  {
   "cell_type": "markdown",
   "id": "b446883f",
   "metadata": {},
   "source": [
    "**avGFP**"
   ]
  },
  {
   "cell_type": "code",
   "execution_count": 220,
   "id": "af5c9653",
   "metadata": {},
   "outputs": [],
   "source": [
    "# importing STRIDE file\n",
    "path = \"../PDB and STRIDE Files/\" + 'avgfp_stride.txt'\n",
    "avgfp_stride_file = open(path, 'r')"
   ]
  },
  {
   "cell_type": "code",
   "execution_count": 221,
   "id": "2c8ce2dd",
   "metadata": {},
   "outputs": [],
   "source": [
    "avgfp_ss_indexes = ssf.get_sec_struc_boolean(avgfp_stride_file) # boolean list of secondary structure assignements"
   ]
  },
  {
   "cell_type": "code",
   "execution_count": 20,
   "id": "7b6f676d",
   "metadata": {},
   "outputs": [
    {
     "name": "stdout",
     "output_type": "stream",
     "text": [
      "152\n",
      "85\n"
     ]
    }
   ],
   "source": [
    "ss = avgfp_ss_indexes.count(True)\n",
    "not_ss = avgfp_ss_indexes.count(False)\n",
    "print(ss)\n",
    "print(not_ss)"
   ]
  },
  {
   "cell_type": "markdown",
   "id": "a01b93e2",
   "metadata": {},
   "source": [
    "Formatting Data"
   ]
  },
  {
   "cell_type": "code",
   "execution_count": 222,
   "id": "03905bd2",
   "metadata": {},
   "outputs": [
    {
     "name": "stdout",
     "output_type": "stream",
     "text": [
      "54024\n",
      "Index(['variant', 'num_mutations', 'score', 'score_wt_norm'], dtype='object')\n"
     ]
    }
   ],
   "source": [
    "# importing avGFP data from Gelman et al.\n",
    "avgfp_df1 = pd.read_csv(\"../Raw Data/avgfp.tsv.txt\", sep=\"\\t\")\n",
    "avgfp_df = avgfp_df1.dropna()\n",
    "print(len(avgfp_df))\n",
    "print(avgfp_df.columns)"
   ]
  },
  {
   "cell_type": "code",
   "execution_count": 223,
   "id": "0b9c347f",
   "metadata": {},
   "outputs": [
    {
     "name": "stdout",
     "output_type": "stream",
     "text": [
      "54024\n",
      "160\n"
     ]
    }
   ],
   "source": [
    "# rounding score column to 2 decimal points\n",
    "avgfp_df[\"score\"] = avgfp_df[\"score\"].round(6)\n",
    "print(len(avgfp_df))\n",
    "\n",
    "# remove values with wildcard star thing cause idk what it means\n",
    "avgfp_df = avgfp_df[avgfp_df[\"variant\"].str.contains(\"\\*\") == False]\n",
    "\n",
    "# pab1_df = pab1_df.head(37600)\n",
    "avgfp_df = avgfp_df.sample(n=160)\n",
    "print(len(avgfp_df))"
   ]
  },
  {
   "cell_type": "code",
   "execution_count": 224,
   "id": "d177943f",
   "metadata": {},
   "outputs": [
    {
     "name": "stdout",
     "output_type": "stream",
     "text": [
      "237\n",
      "SER LYS GLY GLU GLU LEU PHE THR GLY VAL VAL PRO ILE LEU VAL GLU LEU ASP GLY ASP VAL ASN GLY HIS LYS PHE SER VAL SER GLY GLU GLY GLU GLY ASP ALA THR TYR GLY LYS LEU THR LEU LYS PHE ILE CYS THR THR GLY LYS LEU PRO VAL PRO TRP PRO THR LEU VAL THR THR LEU SER TYR GLY VAL GLN CYS PHE SER ARG TYR PRO ASP HIS MET LYS GLN HIS ASP PHE PHE LYS SER ALA MET PRO GLU GLY TYR VAL GLN GLU ARG THR ILE PHE PHE LYS ASP ASP GLY ASN TYR LYS THR ARG ALA GLU VAL LYS PHE GLU GLY ASP THR LEU VAL ASN ARG ILE GLU LEU LYS GLY ILE ASP PHE LYS GLU ASP GLY ASN ILE LEU GLY HIS LYS LEU GLU TYR ASN TYR ASN SER HIS ASN VAL TYR ILE MET ALA ASP LYS GLN LYS ASN GLY ILE LYS VAL ASN PHE LYS ILE ARG HIS ASN ILE GLU ASP GLY SER VAL GLN LEU ALA ASP HIS TYR GLN GLN ASN THR PRO ILE GLY ASP GLY PRO VAL LEU LEU PRO ASP ASN HIS TYR LEU SER THR GLN SER ALA LEU SER LYS ASP PRO ASN GLU LYS ARG ASP HIS MET VAL LEU LEU GLU PHE VAL THR ALA ALA GLY ILE THR HIS GLY MET ASP GLU LEU TYR LYS\n"
     ]
    }
   ],
   "source": [
    "# getting dataset size to run\n",
    "\n",
    "string_seq = \"SKGEELFTGVVPILVELDGDVNGHKFSVSGEGEGDATYGKLTLKFICTTGKLPVPWPTLVTTLSYGVQCFSRYPDHMKQHDFFKSAMPEGYVQERTIFFKDDGNYKTRAEVKFEGDTLVNRIELKGIDFKEDGNILGHKLEYNYNSHNVYIMADKQKNGIKVNFKIRHNIEDGSVQLADHYQQNTPIGDGPVLLPDNHYLSTQSALSKDPNEKRDHMVLLEFVTAAGITHGMDELYK\"\n",
    "print(len(string_seq)) # <- domain length of 75\n",
    "protein_seq_avgfp = ssf.get_expanded_seq(string_seq)\n",
    "print(protein_seq_avgfp)"
   ]
  },
  {
   "cell_type": "code",
   "execution_count": 225,
   "id": "0d70812b",
   "metadata": {},
   "outputs": [],
   "source": [
    "# splitting variant list if there are multiple mutations\n",
    "avgfp_mut = avgfp_df[\"variant\"].str.split(\",\")\n",
    "\n",
    "# get wild type of residue and place in seperate col\n",
    "avgfp_df[\"WILD_TYPE_RES\"] = ssf.get_wild_type(avgfp_mut)\n",
    "\n",
    "# get mutated residue and place in seperate col\n",
    "avgfp_df[\"MUTATED_RES\"] = ssf.get_mutation_type(avgfp_mut)\n",
    "\n",
    "# get position and place in seperate col\n",
    "avgfp_df[\"POSITION\"] = ssf.get_position(avgfp_mut)\n",
    "\n",
    "# replace variant column with reformatted variant name\n",
    "avgfp_df[\"variant\"] = ssf.get_mutations_names_list(avgfp_df)\n",
    "\n",
    "# drop unneccesary columns\n",
    "to_drop = [\"WILD_TYPE_RES\", \"MUTATED_RES\", \"POSITION\"]\n",
    "\n",
    "avgfp_df = avgfp_df.drop(columns=to_drop)"
   ]
  },
  {
   "cell_type": "code",
   "execution_count": 226,
   "id": "f00d5252",
   "metadata": {},
   "outputs": [
    {
     "name": "stdout",
     "output_type": "stream",
     "text": [
      "Filename: avgfp_MLformat_160.txt\n"
     ]
    }
   ],
   "source": [
    "# writing data to txt file\n",
    "ssf.write_data_file(\"avgfp_MLformat_160\", protein_seq_avgfp, avgfp_df)"
   ]
  },
  {
   "cell_type": "markdown",
   "id": "9b7aeef4",
   "metadata": {},
   "source": [
    "**GB1**"
   ]
  },
  {
   "cell_type": "code",
   "execution_count": 204,
   "id": "7d12a11e",
   "metadata": {},
   "outputs": [],
   "source": [
    "# importing STRIDE file\n",
    "path = \"../PDB and STRIDE Files/\" + 'gb1_stride.txt'\n",
    "gb1_stride_file = open(path, 'r')"
   ]
  },
  {
   "cell_type": "code",
   "execution_count": 75,
   "id": "0439dec9",
   "metadata": {},
   "outputs": [],
   "source": [
    "gb1_ss_indexes = ssf.get_sec_struc_boolean(gb1_stride_file) # boolean list of secondary structure assignements"
   ]
  },
  {
   "cell_type": "code",
   "execution_count": 76,
   "id": "8a6166dc",
   "metadata": {},
   "outputs": [
    {
     "name": "stdout",
     "output_type": "stream",
     "text": [
      "39\n",
      "17\n"
     ]
    }
   ],
   "source": [
    "ss = gb1_ss_indexes.count(True)\n",
    "not_ss = gb1_ss_indexes.count(False)\n",
    "print(ss)\n",
    "print(not_ss)"
   ]
  },
  {
   "cell_type": "code",
   "execution_count": 215,
   "id": "4aee2008",
   "metadata": {},
   "outputs": [
    {
     "name": "stdout",
     "output_type": "stream",
     "text": [
      "536084\n",
      "Index(['variant', 'num_mutations', 'inp', 'sel', 'score'], dtype='object')\n"
     ]
    }
   ],
   "source": [
    "# importing pab1 data from Gelman et al.\n",
    "gb1_df1 = pd.read_csv(\"../Raw Data/gb1.tsv.txt\", sep=\"\\t\")\n",
    "gb1_df = gb1_df1.dropna()\n",
    "print(len(gb1_df))\n",
    "# gb1_df = gb1_df.sample(n=480)\n",
    "print(gb1_df.columns)"
   ]
  },
  {
   "cell_type": "code",
   "execution_count": 216,
   "id": "56682961",
   "metadata": {},
   "outputs": [
    {
     "name": "stdout",
     "output_type": "stream",
     "text": [
      "536084\n",
      "40\n"
     ]
    }
   ],
   "source": [
    "# rounding score column to 2 decimal points\n",
    "gb1_df[\"score\"] = gb1_df[\"score\"].round(6)\n",
    "print(len(gb1_df))\n",
    "\n",
    "# remove values with wildcard star thing cause idk what it means\n",
    "gb1_df = gb1_df[gb1_df[\"variant\"].str.contains(\"\\*\") == False]\n",
    "\n",
    "gb1_df = gb1_df.sample(n=40)\n",
    "# pab1_df = pab1_df.head(37600)\n",
    "print(len(gb1_df))"
   ]
  },
  {
   "cell_type": "code",
   "execution_count": 183,
   "id": "da656d6b",
   "metadata": {},
   "outputs": [],
   "source": [
    "# getting protein sequence\n",
    "# protein_seq_gb1 = ssf.get_protein_seq(\"P04386\")"
   ]
  },
  {
   "cell_type": "code",
   "execution_count": 217,
   "id": "9de07a68",
   "metadata": {},
   "outputs": [
    {
     "name": "stdout",
     "output_type": "stream",
     "text": [
      "56\n",
      "MET GLN TYR LYS LEU ILE LEU ASN GLY LYS THR LEU LYS GLY GLU THR THR THR GLU ALA VAL ASP ALA ALA THR ALA GLU LYS VAL PHE LYS GLN TYR ALA ASN ASP ASN GLY VAL ASP GLY GLU TRP THR TYR ASP ASP ALA THR LYS THR PHE THR VAL THR GLU\n"
     ]
    }
   ],
   "source": [
    "# getting dataset size to run\n",
    "\n",
    "string_seq = \"MQYKLILNGKTLKGETTTEAVDAATAEKVFKQYANDNGVDGEWTYDDATKTFTVTE\"\n",
    "print(len(string_seq)) # <- domain length of 75\n",
    "protein_seq_gb1 = ssf.get_expanded_seq(string_seq)\n",
    "print(protein_seq_gb1)"
   ]
  },
  {
   "cell_type": "code",
   "execution_count": 218,
   "id": "8e6f74f4",
   "metadata": {},
   "outputs": [],
   "source": [
    "# splitting variant list if there are multiple mutations\n",
    "gb1_mut = gb1_df[\"variant\"].str.split(\",\")\n",
    "\n",
    "# get wild type of residue and place in seperate col\n",
    "gb1_df[\"WILD_TYPE_RES\"] = ssf.get_wild_type(gb1_mut)\n",
    "\n",
    "# get mutated residue and place in seperate col\n",
    "gb1_df[\"MUTATED_RES\"] = ssf.get_mutation_type(gb1_mut)\n",
    "\n",
    "# get position and place in seperate col\n",
    "gb1_df[\"POSITION\"] = ssf.get_position(gb1_mut)\n",
    "\n",
    "# replace variant column with reformatted variant name\n",
    "gb1_df[\"variant\"] = ssf.get_mutations_names_list(gb1_df)\n",
    "\n",
    "# drop unneccesary columns\n",
    "to_drop = [\"WILD_TYPE_RES\", \"MUTATED_RES\", \"POSITION\"]\n",
    "\n",
    "gb1_df = gb1_df.drop(columns=to_drop)"
   ]
  },
  {
   "cell_type": "code",
   "execution_count": 219,
   "id": "9f629928",
   "metadata": {
    "scrolled": true
   },
   "outputs": [
    {
     "name": "stdout",
     "output_type": "stream",
     "text": [
      "Filename: gb1_MLformat_40.txt\n"
     ]
    }
   ],
   "source": [
    "# writing data to txt file\n",
    "ssf.write_data_file(\"gb1_MLformat_40\", protein_seq_gb1, gb1_df)"
   ]
  },
  {
   "cell_type": "markdown",
   "id": "3715ca07",
   "metadata": {},
   "source": [
    "**GAL4**"
   ]
  },
  {
   "cell_type": "code",
   "execution_count": 77,
   "id": "29913e6b",
   "metadata": {},
   "outputs": [],
   "source": [
    "# importing STRIDE file\n",
    "path = \"../PDB and STRIDE Files/\" + 'gal4_stride.txt'\n",
    "gal4_stride_file = open(path, 'r')"
   ]
  },
  {
   "cell_type": "code",
   "execution_count": 78,
   "id": "a935928e",
   "metadata": {},
   "outputs": [],
   "source": [
    "gal4_ss_indexes = ssf.get_sec_struc_boolean(gal4_stride_file) # boolean list of secondary structure assignements"
   ]
  },
  {
   "cell_type": "code",
   "execution_count": 79,
   "id": "e740a750",
   "metadata": {},
   "outputs": [
    {
     "name": "stdout",
     "output_type": "stream",
     "text": [
      "415\n",
      "466\n"
     ]
    }
   ],
   "source": [
    "ss = gal4_ss_indexes.count(True)\n",
    "not_ss = gal4_ss_indexes.count(False)\n",
    "print(ss)\n",
    "print(not_ss)"
   ]
  },
  {
   "cell_type": "markdown",
   "id": "5eaa7c8e",
   "metadata": {},
   "source": [
    "**Alpha-synuclein**"
   ]
  },
  {
   "cell_type": "code",
   "execution_count": 80,
   "id": "8e8527fc",
   "metadata": {},
   "outputs": [],
   "source": [
    "# importing STRIDE file\n",
    "path = \"../PDB and STRIDE Files/\" + 'alpha-synuclein_stride.txt'\n",
    "alpha_synuclein_stride_file = open(path, 'r')"
   ]
  },
  {
   "cell_type": "code",
   "execution_count": 81,
   "id": "529330dd",
   "metadata": {},
   "outputs": [],
   "source": [
    "alpha_synuclein_ss_indexes = ssf.get_sec_struc_boolean(alpha_synuclein_stride_file) # boolean list of secondary structure assignements"
   ]
  },
  {
   "cell_type": "code",
   "execution_count": 82,
   "id": "02c410e4",
   "metadata": {},
   "outputs": [
    {
     "name": "stdout",
     "output_type": "stream",
     "text": [
      "92\n",
      "48\n"
     ]
    }
   ],
   "source": [
    "ss = alpha_synuclein_ss_indexes.count(True)\n",
    "not_ss = alpha_synuclein_ss_indexes.count(False)\n",
    "print(ss)\n",
    "print(not_ss)"
   ]
  },
  {
   "cell_type": "markdown",
   "id": "0675451f",
   "metadata": {},
   "source": [
    "**Small ubiquitin-related modifier 1**"
   ]
  },
  {
   "cell_type": "code",
   "execution_count": 83,
   "id": "4fd23a11",
   "metadata": {},
   "outputs": [],
   "source": [
    "# importing STRIDE file\n",
    "path = \"../PDB and STRIDE Files/\" + 'modifier_1_stride.txt'\n",
    "modifier_1_stride_file = open(path, 'r')"
   ]
  },
  {
   "cell_type": "code",
   "execution_count": 84,
   "id": "54b27e24",
   "metadata": {},
   "outputs": [],
   "source": [
    "modifier_1_ss_indexes = ssf.get_sec_struc_boolean(modifier_1_stride_file) # boolean list of secondary structure assignements"
   ]
  },
  {
   "cell_type": "code",
   "execution_count": 85,
   "id": "d6281f0f",
   "metadata": {},
   "outputs": [
    {
     "name": "stdout",
     "output_type": "stream",
     "text": [
      "47\n",
      "54\n"
     ]
    }
   ],
   "source": [
    "ss = modifier_1_ss_indexes.count(True)\n",
    "not_ss = modifier_1_ss_indexes.count(False)\n",
    "print(ss)\n",
    "print(not_ss)"
   ]
  },
  {
   "cell_type": "markdown",
   "id": "ac1de327",
   "metadata": {},
   "source": [
    "**TAR DNA-binding protein 43**"
   ]
  },
  {
   "cell_type": "code",
   "execution_count": 86,
   "id": "189f45e1",
   "metadata": {},
   "outputs": [],
   "source": [
    "# importing STRIDE file\n",
    "path = \"../PDB and STRIDE Files/\" + 'tar_stride.txt'\n",
    "tar_stride_file = open(path, 'r')"
   ]
  },
  {
   "cell_type": "code",
   "execution_count": 87,
   "id": "1ccd28d4",
   "metadata": {},
   "outputs": [],
   "source": [
    "tar_ss_indexes = ssf.get_sec_struc_boolean(tar_stride_file) # boolean list of secondary structure assignements"
   ]
  },
  {
   "cell_type": "code",
   "execution_count": 88,
   "id": "b84c08b0",
   "metadata": {},
   "outputs": [
    {
     "name": "stdout",
     "output_type": "stream",
     "text": [
      "149\n",
      "265\n"
     ]
    }
   ],
   "source": [
    "ss = tar_ss_indexes.count(True)\n",
    "not_ss = tar_ss_indexes.count(False)\n",
    "print(ss)\n",
    "print(not_ss)"
   ]
  },
  {
   "cell_type": "markdown",
   "id": "d6717535",
   "metadata": {},
   "source": [
    "**Human Glucokinase**"
   ]
  },
  {
   "cell_type": "markdown",
   "id": "be8ea616",
   "metadata": {},
   "source": [
    "## Cleaning MaveDB Data"
   ]
  },
  {
   "cell_type": "markdown",
   "id": "6f06836d",
   "metadata": {},
   "source": [
    "**GAL4**"
   ]
  },
  {
   "cell_type": "code",
   "execution_count": 146,
   "id": "02a98f06",
   "metadata": {},
   "outputs": [],
   "source": [
    "gal4_df1 = pd.read_csv(\"../Raw Data/gal4.csv.csv\")"
   ]
  },
  {
   "cell_type": "code",
   "execution_count": 147,
   "id": "081388b6",
   "metadata": {},
   "outputs": [
    {
     "name": "stdout",
     "output_type": "stream",
     "text": [
      "Index(['accession', 'hgvs_nt', 'hgvs_splice', 'hgvs_pro', 'score'], dtype='object', name=3)\n",
      "1323\n",
      "1196\n"
     ]
    }
   ],
   "source": [
    "# take note of offset\n",
    "# format:\n",
    "\n",
    "gal4_df1 = pd.read_csv(\"../Raw Data/gal4.csv.csv\")\n",
    "gal4_df1.columns = gal4_df1.iloc[3]\n",
    "print(gal4_df1.columns)\n",
    "# print(gal4_df1.head)\n",
    "print(len(gal4_df1))\n",
    "\n",
    "# first name the columns variant and score\n",
    "# gal4_df1.rename(columns = {'Unnamed: 3':'variant', 'Unnamed: 4':'scores'}, inplace = True)\n",
    "# print(gal4_df1.columns)\n",
    "gal4_df = gal4_df1[(gal4_df1[\"hgvs_pro\"].str.contains(\"del\") == False) & (gal4_df1[\"hgvs_pro\"].str.contains(\"hgvs\") == False)\n",
    "                   & (gal4_df1[\"hgvs_pro\"].str.contains(\"Ter\") == False)]\n",
    "print(len(gal4_df))\n",
    "# gal4_df.drop([0], axis=0, inplace=True)\n",
    "# print(len(gal4_df))\n",
    "#gal4_df = gal4_df2[gal4_df2[\"variant\"].str.contains(\"hgvs\") == True]\n",
    "# print(len(gal4_df))\n",
    "\n",
    "# print(gal4_df[\"variant\"].iloc[0])\n",
    "# print(gal4_df.iloc[0])"
   ]
  },
  {
   "cell_type": "code",
   "execution_count": 61,
   "id": "cd2c50a7",
   "metadata": {},
   "outputs": [],
   "source": [
    "# getting uniprot to compare offset\n",
    "# protein_seq_gal4 = ssf.get_protein_seq(\"P04386\")"
   ]
  },
  {
   "cell_type": "code",
   "execution_count": 37,
   "id": "cbb85dbc",
   "metadata": {},
   "outputs": [
    {
     "name": "stdout",
     "output_type": "stream",
     "text": [
      "PRO\n"
     ]
    }
   ],
   "source": [
    "protein_seq_gal4_list = protein_seq_gal4.split(\" \")\n",
    "# print(protein_seq_gal4_list)\n",
    "print(protein_seq_gal4_list[41]) "
   ]
  },
  {
   "cell_type": "code",
   "execution_count": 148,
   "id": "e5281282",
   "metadata": {},
   "outputs": [],
   "source": [
    "import re\n",
    "# delete columns with \"del\" in it or *\n",
    "# normalize scores?\n",
    "def format_mavedb_variant(df, variant_col_name, offset):\n",
    "    new_var_col = []\n",
    "    for variant in df[variant_col_name]:\n",
    "        wild_type = Bio.PDB.Polypeptide.three_to_one(variant[2:5].upper())\n",
    "        position = int(re.findall(\"[0-9]+\", variant)[0]) + offset\n",
    "        mut_type = Bio.PDB.Polypeptide.three_to_one(variant[-3:].upper())\n",
    "        new_var_col.append(wild_type + str(position) + mut_type)\n",
    "    return new_var_col"
   ]
  },
  {
   "cell_type": "code",
   "execution_count": 152,
   "id": "e817fcc9",
   "metadata": {},
   "outputs": [
    {
     "name": "stdout",
     "output_type": "stream",
     "text": [
      "1196\n"
     ]
    }
   ],
   "source": [
    "col = format_mavedb_variant(gal4_df, \"hgvs_pro\", 0)\n",
    "print(len(gal4_df))"
   ]
  },
  {
   "cell_type": "markdown",
   "id": "adcb0165",
   "metadata": {},
   "source": [
    "**Small ubiquitin-related modifier 1**"
   ]
  },
  {
   "cell_type": "code",
   "execution_count": 155,
   "id": "ed8ca239",
   "metadata": {},
   "outputs": [],
   "source": [
    "modifier_1_df1 = pd.read_csv(\"../Raw Data/modifier_1_mod.csv\")"
   ]
  },
  {
   "cell_type": "code",
   "execution_count": 160,
   "id": "1e90a4a2",
   "metadata": {},
   "outputs": [
    {
     "name": "stdout",
     "output_type": "stream",
     "text": [
      "Index(['accession', 'hgvs_nt', 'hgvs_splice', 'hgvs_pro', 'score', 'sd', 'se',\n",
      "       'exp.score', 'exp.sd', 'df', 'pred.score'],\n",
      "      dtype='object')\n",
      "2020\n",
      "1919\n"
     ]
    }
   ],
   "source": [
    "# print(modifier_1_df1.head)\n",
    "print(modifier_1_df1.columns)\n",
    "print(len(modifier_1_df1))\n",
    "\n",
    "modifier_1_df = modifier_1_df1[(modifier_1_df1[\"hgvs_pro\"].str.contains(\"=\") == False) & (modifier_1_df1[\"hgvs_pro\"].str.contains(\"hgvs\") == False)\n",
    "                   & (modifier_1_df1[\"hgvs_pro\"].str.contains(\"Ter\") == False)]\n",
    "print(len(modifier_1_df))"
   ]
  },
  {
   "cell_type": "code",
   "execution_count": null,
   "id": "6f062765",
   "metadata": {},
   "outputs": [],
   "source": [
    "# offset\n"
   ]
  },
  {
   "cell_type": "markdown",
   "id": "6633d640",
   "metadata": {},
   "source": [
    "**TAR DNA-binding protein 43**"
   ]
  },
  {
   "cell_type": "code",
   "execution_count": 162,
   "id": "84b5a317",
   "metadata": {},
   "outputs": [],
   "source": [
    "tar_df_pt1 = pd.read_csv(\"../Raw Data/tar1_mod.csv\")\n",
    "tar_df_pt2 = pd.read_csv(\"../Raw Data/tar2_mod.csv\")"
   ]
  },
  {
   "cell_type": "code",
   "execution_count": 167,
   "id": "f3dfe075",
   "metadata": {},
   "outputs": [
    {
     "name": "stdout",
     "output_type": "stream",
     "text": [
      "704\n",
      "714\n",
      "1418\n"
     ]
    }
   ],
   "source": [
    "print(len(tar_df_pt1))\n",
    "print(len(tar_df_pt2))\n",
    "tar_df1 = pd.concat([tar_df_pt1, tar_df_pt2])\n",
    "print(len(tar_df1))"
   ]
  },
  {
   "cell_type": "code",
   "execution_count": 168,
   "id": "871c80d9",
   "metadata": {},
   "outputs": [
    {
     "name": "stdout",
     "output_type": "stream",
     "text": [
      "Index(['accession', 'hgvs_nt', 'hgvs_splice', 'hgvs_pro', 'score', 'se'], dtype='object')\n",
      "1342\n"
     ]
    }
   ],
   "source": [
    "print(tar_df1.columns)\n",
    "\n",
    "tar_df = tar_df1[(tar_df1[\"hgvs_pro\"].str.contains(\"\\*\") == False) & (tar_df1[\"hgvs_pro\"].str.contains(\"hgvs\") == False)\n",
    "                   & (tar_df1[\"hgvs_pro\"].str.contains(\"Ter\") == False)]\n",
    "print(len(tar_df))"
   ]
  },
  {
   "cell_type": "markdown",
   "id": "76987982",
   "metadata": {},
   "source": [
    "## Getting Dataset Fraction"
   ]
  },
  {
   "cell_type": "code",
   "execution_count": 82,
   "id": "6ad4ad5d",
   "metadata": {},
   "outputs": [],
   "source": [
    "# adds boolean column to dataframe to indicate whether value is in secondary structure\n",
    "# needs positions split column\n",
    "def add_sec_str_col(df, bool_ss_list, domain_start_index):\n",
    "    has_sec_str = []\n",
    "    for val in df[\"positions_split\"]:\n",
    "        # list of boolean values that are true if all mutation positions in line are sec. strc.\n",
    "        all_pos_sec_struc = []\n",
    "\n",
    "        for position in val:\n",
    "            if (bool_ss_list[position - domain_start_index] == False):  # line up ss_indexes w/ position\n",
    "                all_pos_sec_struc.append(False)\n",
    "            else:\n",
    "                all_pos_sec_struc.append(True)\n",
    "\n",
    "        # all pos sec struc should match val list\n",
    "        # if there's a value in all_pos_sec_struc that's false, append false\n",
    "        # otherwise, append true\n",
    "        if (all_pos_sec_struc.count(False) == 0):\n",
    "            has_only_sec_str = True\n",
    "        else:\n",
    "            has_only_sec_str = False\n",
    "\n",
    "        has_sec_str.append(has_only_sec_str)\n",
    "        all_pos_sec_struc.clear()\n",
    "\n",
    "    # print(len(has_sec_str)) # should match dataframe length\n",
    "    df['in_sec_str'] = has_sec_str\n",
    "    return df"
   ]
  },
  {
   "cell_type": "code",
   "execution_count": 188,
   "id": "bacad755",
   "metadata": {},
   "outputs": [],
   "source": [
    "def get_fractioned_dataset(df, fraction_ss, size):\n",
    "    if (size is not None): # need training dataset size\n",
    "        num_in_ss = int(size*fraction_ss) \n",
    "        num_not_ss = size - num_in_ss\n",
    "        \n",
    "        real_fraction = round(float(num_in_ss)/(num_in_ss+num_not_ss), 3)\n",
    "        print(\"Train Data Fraction: \" + str(real_fraction))\n",
    "    else: # need test dataset and size of dataset doesn't matter\n",
    "        num_in_ss, num_not_ss = get_num_ss(df, fraction_ss)\n",
    "        real_fraction = round(float(num_in_ss)/(num_in_ss+num_not_ss), 3)\n",
    "        print(\"Test Data Fraction: \" + str(real_fraction))\n",
    "        \n",
    "    true_df = df[df[\"in_sec_str\"] == True]\n",
    "    ss_df = true_df.sample(num_in_ss)\n",
    "\n",
    "    false_df = df[df[\"in_sec_str\"] == False]\n",
    "    not_ss_df = false_df.sample(num_not_ss)\n",
    "    \n",
    "    fractioned_df = pd.concat([ss_df, not_ss_df]).sample(frac=1)\n",
    "    \n",
    "    remaining_df = pd.concat([fractioned_df, df])\n",
    "    remaining_df = remaining_df[~remaining_df.index.duplicated(keep=False)]\n",
    "    \n",
    "    return fractioned_df, remaining_df"
   ]
  },
  {
   "cell_type": "code",
   "execution_count": 160,
   "id": "03b9e0df",
   "metadata": {},
   "outputs": [],
   "source": [
    "def get_num_ss(df, fraction_ss): # use when size is dependent on remaining values\n",
    "    num_ss_vals = (df[\"in_sec_str\"] == True).sum()\n",
    "    print(num_ss_vals)\n",
    "    num_not_ss_vals = (df[\"in_sec_str\"] == False).sum()\n",
    "    print(num_not_ss_vals)\n",
    "    \n",
    "    if (num_not_ss_vals < num_ss_vals):\n",
    "        ideal_split_ss = (num_not_ss_vals/(1-fraction_ss))*fraction_ss\n",
    "        ideal_split_not_ss = num_not_ss_vals\n",
    "        # instead do min value, max value and fraction it is\n",
    "    else:\n",
    "        ideal_split_ss = num_ss_vals\n",
    "        ideal_split_not_ss = (num_ss_vals/fraction_ss)*(1-fraction_ss)\n",
    "    while not (ideal_split_ss <= num_ss_vals and ideal_split_not_ss <= num_not_ss_vals):\n",
    "        \n",
    "        if (ideal_split_ss < ideal_split_not_ss):\n",
    "            ideal_split_ss = ideal_split_ss - 1\n",
    "            ideal_split_not_ss = (ideal_split_ss/fraction_ss)*(1-fraction_ss)\n",
    "        else:\n",
    "            ideal_split_not_ss = ideal_split_not_ss - 1\n",
    "            ideal_split_ss = (ideal_split_not_ss/(1-fraction_ss))*(fraction_ss)\n",
    "    return int(ideal_split_ss), int(ideal_split_not_ss)"
   ]
  },
  {
   "cell_type": "code",
   "execution_count": 164,
   "id": "9db33590",
   "metadata": {},
   "outputs": [],
   "source": [
    "# gets both train and test datasets based on size\n",
    "# fraction_ss is a percent (e.g. 0.56)\n",
    "\n",
    "# need \"is_sec_struc_col\"\n",
    "\n",
    "def get_train_and_test_df(df, fraction_ss, train_size):\n",
    "    train_df, remaining_df = get_fractioned_dataset(df, fraction_ss, train_size)\n",
    "    test_df, remaining_df = get_fractioned_dataset(remaining_df, fraction_ss, None)\n",
    "    print(\"Size of Test Dataset: \" + str(len(remaining_df)))\n",
    "    return train_df, test_df\n"
   ]
  },
  {
   "cell_type": "markdown",
   "id": "2e309b15",
   "metadata": {},
   "source": [
    "#### Train and Test Pab1"
   ]
  },
  {
   "cell_type": "code",
   "execution_count": 179,
   "id": "9bc481e3",
   "metadata": {},
   "outputs": [
    {
     "name": "stdout",
     "output_type": "stream",
     "text": [
      "40852\n",
      "Index(['variant', 'num_mutations', 'score'], dtype='object')\n"
     ]
    }
   ],
   "source": [
    "# importing pab1 data from Gelman et al.\n",
    "pab1_df1 = pd.read_csv(\"../Raw Data/pab1.tsv.txt\", sep=\"\\t\")\n",
    "pab1_df = pab1_df1.dropna()\n",
    "print(len(pab1_df))\n",
    "print(pab1_df.columns)"
   ]
  },
  {
   "cell_type": "code",
   "execution_count": 180,
   "id": "6ace9645",
   "metadata": {},
   "outputs": [
    {
     "name": "stdout",
     "output_type": "stream",
     "text": [
      "40852\n",
      "37710\n",
      "37710\n"
     ]
    }
   ],
   "source": [
    "# rounding score column to 6 decimal points\n",
    "pab1_df[\"score\"] = pab1_df[\"score\"].round(6)\n",
    "print(len(pab1_df))\n",
    "\n",
    "# remove values with wildcard star next to them\n",
    "pab1_df = pab1_df[pab1_df[\"variant\"].str.contains(\"\\*\") == False]\n",
    "print(len(pab1_df))\n",
    "# change this value depending on amount of data needed for dataset\n",
    "# pab1_df = pab1_df.sample(n=10000)\n",
    "print(len(pab1_df))"
   ]
  },
  {
   "cell_type": "code",
   "execution_count": 181,
   "id": "e008a681",
   "metadata": {},
   "outputs": [],
   "source": [
    "# splitting variant list if there are multiple mutations\n",
    "pab1_mut = pab1_df[\"variant\"].str.split(\",\")\n",
    "\n",
    "# get wild type of residue and place in seperate col\n",
    "pab1_df[\"WILD_TYPE_RES\"] = ssf.get_wild_type(pab1_mut)\n",
    "\n",
    "# get mutated residue and place in seperate col\n",
    "pab1_df[\"MUTATED_RES\"] = ssf.get_mutation_type(pab1_mut)\n",
    "\n",
    "# get position and place in seperate col\n",
    "pab1_df[\"POSITION\"] = ssf.get_position(pab1_mut)\n",
    "\n",
    "# replace variant column with reformatted variant name\n",
    "pab1_df[\"variant\"] = ssf.get_mutations_names_list(pab1_df)\n",
    "\n",
    "# drop unneccesary columns\n",
    "to_drop = [\"WILD_TYPE_RES\", \"MUTATED_RES\", \"POSITION\"]\n",
    "\n",
    "# pab1_df = pab1_df.drop(columns=to_drop)\n",
    "pab1_df[\"positions_split\"] = ssf.get_positions_split(pab1_df)"
   ]
  },
  {
   "cell_type": "code",
   "execution_count": 182,
   "id": "bf2e3e0f",
   "metadata": {},
   "outputs": [
    {
     "name": "stdout",
     "output_type": "stream",
     "text": [
      "37710\n"
     ]
    }
   ],
   "source": [
    "print(len(pab1_df))"
   ]
  },
  {
   "cell_type": "code",
   "execution_count": 84,
   "id": "1720c94e",
   "metadata": {},
   "outputs": [],
   "source": [
    "path = \"../PDB and STRIDE Files/\" + 'pab1_stride.txt'\n",
    "pab1_stride_file = open(path, 'r')"
   ]
  },
  {
   "cell_type": "code",
   "execution_count": 85,
   "id": "3e3f2d4a",
   "metadata": {},
   "outputs": [],
   "source": [
    "pab1_ss_indexes = ssf.get_sec_struc_boolean(pab1_stride_file) # boolean list of secondary structure assignements"
   ]
  },
  {
   "cell_type": "code",
   "execution_count": 183,
   "id": "a587aefb",
   "metadata": {},
   "outputs": [],
   "source": [
    "# add column\n",
    "\n",
    "pab1_df = add_sec_str_col(pab1_df, pab1_ss_indexes, 126)\n",
    "# need positionssplit"
   ]
  },
  {
   "cell_type": "code",
   "execution_count": 90,
   "id": "ff4d3ff5",
   "metadata": {},
   "outputs": [
    {
     "name": "stdout",
     "output_type": "stream",
     "text": [
      "Index(['variant', 'num_mutations', 'score', 'WILD_TYPE_RES', 'MUTATED_RES',\n",
      "       'POSITION', 'positions_split', 'in_sec_str'],\n",
      "      dtype='object')\n"
     ]
    }
   ],
   "source": [
    "print(pab1_df.columns)"
   ]
  },
  {
   "cell_type": "code",
   "execution_count": 189,
   "id": "eae4fc15",
   "metadata": {
    "scrolled": true
   },
   "outputs": [
    {
     "name": "stdout",
     "output_type": "stream",
     "text": [
      "Train Data Fraction: 0.7\n",
      "works\n",
      "100 - train_df\n",
      "37610 - remaining\n",
      "17957\n",
      "19653\n",
      "Test Data Fraction: 0.7\n",
      "doesn't work\n",
      "Size of Test Dataset: 11958\n"
     ]
    }
   ],
   "source": [
    "test_train, test_test = get_train_and_test_df(pab1_df, 0.70, 100)"
   ]
  },
  {
   "cell_type": "code",
   "execution_count": 186,
   "id": "80adae8f",
   "metadata": {},
   "outputs": [
    {
     "name": "stdout",
     "output_type": "stream",
     "text": [
      "True     70\n",
      "False    30\n",
      "Name: in_sec_str, dtype: int64\n"
     ]
    }
   ],
   "source": [
    "print(test_train[\"in_sec_str\"].value_counts())"
   ]
  },
  {
   "cell_type": "code",
   "execution_count": 187,
   "id": "ff55b88b",
   "metadata": {},
   "outputs": [
    {
     "name": "stdout",
     "output_type": "stream",
     "text": [
      "True     17957\n",
      "False     7695\n",
      "Name: in_sec_str, dtype: int64\n"
     ]
    }
   ],
   "source": [
    "print(test_test[\"in_sec_str\"].value_counts())"
   ]
  }
 ],
 "metadata": {
  "kernelspec": {
   "display_name": "Python 3 (ipykernel)",
   "language": "python",
   "name": "python3"
  },
  "language_info": {
   "codemirror_mode": {
    "name": "ipython",
    "version": 3
   },
   "file_extension": ".py",
   "mimetype": "text/x-python",
   "name": "python",
   "nbconvert_exporter": "python",
   "pygments_lexer": "ipython3",
   "version": "3.9.7"
  }
 },
 "nbformat": 4,
 "nbformat_minor": 5
}
