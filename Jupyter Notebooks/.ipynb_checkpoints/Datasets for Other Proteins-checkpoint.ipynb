{
 "cells": [
  {
   "cell_type": "markdown",
   "id": "d2e987f6",
   "metadata": {},
   "source": [
    "# Datasets for Other Proteins"
   ]
  },
  {
   "cell_type": "markdown",
   "id": "7a1562fa",
   "metadata": {},
   "source": [
    "This notebook formats data for the additional protein data used. It is used for part 2 of the project."
   ]
  },
  {
   "cell_type": "code",
   "execution_count": 3,
   "id": "9570362b",
   "metadata": {},
   "outputs": [],
   "source": [
    "# import statements\n",
    "import os\n",
    "import numpy as np\n",
    "import pandas as pd\n",
    "import requests\n",
    "from Bio import SeqIO\n",
    "from io import StringIO\n",
    "import Bio.PDB.Polypeptide\n",
    "import re"
   ]
  },
  {
   "cell_type": "code",
   "execution_count": 4,
   "id": "784b8db8",
   "metadata": {},
   "outputs": [],
   "source": [
    "import secStrucFormatting as ssf"
   ]
  },
  {
   "cell_type": "code",
   "execution_count": 5,
   "id": "7b3e5253",
   "metadata": {},
   "outputs": [],
   "source": [
    "# setting jupyter notebook viewing options\n",
    "max_rows = 1000\n",
    "max_cols = 1000\n",
    "pd.set_option(\"display.max_rows\", max_rows, \"display.max_columns\", max_cols)"
   ]
  },
  {
   "cell_type": "markdown",
   "id": "20238c54",
   "metadata": {},
   "source": [
    "### Metadata from compiled dataset"
   ]
  },
  {
   "cell_type": "code",
   "execution_count": 6,
   "id": "a37e58cb",
   "metadata": {},
   "outputs": [
    {
     "name": "stdout",
     "output_type": "stream",
     "text": [
      "Index(['DATABASE', 'PROTEIN', 'UNIPROT_ID', 'MUTATION', 'SOURCE', 'PBD_WILD',\n",
      "       'PBD_CHAIN_MUTATION', 'pH', 'T_(C)', 'Tm_(C)', 'dTm_(C)',\n",
      "       'dH_(kcal/mol)', 'dG_(kcal/mol)', 'ddG_(kcal/mol)',\n",
      "       'ddG_H2O_(kcal/mol)', 'STATE', 'REVERSIBILITY', 'PUBMED_ID',\n",
      "       'REFERENCE', 'MUTATED_CHAIN', 'KINGDOM', 'PBD_MUTANT', 'MEASURE',\n",
      "       'METHOD', 'POSITION', 'WILD_TYPE_RES', 'MUTATED_RES', 'IS_CURATED',\n",
      "       'CONSERVATION', 'NOTES', 'DATASETS'],\n",
      "      dtype='object')\n",
      "Lysozyme                                                   2897\n",
      "Immunoglobulin G-binding protein G                         1996\n",
      "Thermonuclease                                             1586\n",
      "Staphylococcal nuclease                                    1457\n",
      "Endolysin                                                  1110\n",
      "Ribonuclease                                                983\n",
      "Ribonuclease HI                                             710\n",
      "Guanine nucleotide-binding protein G(i) subunit alpha-1     704\n",
      "Myoglobin                                                   615\n",
      "Dihydrofolate reductase                                     459\n",
      "Name: PROTEIN, dtype: int64\n",
      "       DATABASE   PROTEIN UNIPROT_ID           MUTATION  \\\n",
      "57     Protherm  Lysozyme     P00698          wild-type   \n",
      "97     Protherm  Lysozyme     P00720          wild-type   \n",
      "98     Protherm  Lysozyme     P00720               L46A   \n",
      "99     Protherm  Lysozyme     P00720              L118A   \n",
      "100    Protherm  Lysozyme     P00720              L121A   \n",
      "...         ...       ...        ...                ...   \n",
      "35874  Protherm  Lysozyme     P00720              W138Y   \n",
      "35875  Protherm  Lysozyme     P61626               I77Y   \n",
      "35876  Protherm  Lysozyme     P00720  W138Y W126Y W158Y   \n",
      "35877  Protherm  Lysozyme     P00720  W138Y W126Y W158Y   \n",
      "35878  Protherm  Lysozyme     P00720  W138Y W126Y W158Y   \n",
      "\n",
      "                                           SOURCE PBD_WILD  \\\n",
      "57                        Gallus gallus (Chicken)     4LYZ   \n",
      "97     Enterobacteria phage T4 (Bacteriophage T4)     2LZM   \n",
      "98     Enterobacteria phage T4 (Bacteriophage T4)     2LZM   \n",
      "99     Enterobacteria phage T4 (Bacteriophage T4)     2LZM   \n",
      "100    Enterobacteria phage T4 (Bacteriophage T4)     2LZM   \n",
      "...                                           ...      ...   \n",
      "35874  Enterobacteria phage T4 (Bacteriophage T4)     2LZM   \n",
      "35875                        Homo sapiens (Human)     1LZ1   \n",
      "35876  Enterobacteria phage T4 (Bacteriophage T4)     2LZM   \n",
      "35877  Enterobacteria phage T4 (Bacteriophage T4)     2LZM   \n",
      "35878  Enterobacteria phage T4 (Bacteriophage T4)     2LZM   \n",
      "\n",
      "                           PBD_CHAIN_MUTATION    pH  T_(C)  Tm_(C)  dTm_(C)  \\\n",
      "57                                        NaN  3.80    NaN    74.8      NaN   \n",
      "97                                        NaN  3.01    NaN    51.8      NaN   \n",
      "98                                2lzm_A:L46A  3.01    NaN    43.2     -8.6   \n",
      "99                               2lzm_A:L118A  3.01    NaN    39.6    -12.2   \n",
      "100                              2lzm_A:L121A  3.01    NaN    42.5     -9.3   \n",
      "...                                       ...   ...    ...     ...      ...   \n",
      "35874                            2lzm_A:W138Y  2.20    NaN    36.3     -6.3   \n",
      "35875                             1lz1_A:I59Y  2.70    NaN    64.9      NaN   \n",
      "35876  2lzm_A:W138Y 2lzm_A:W126Y 2lzm_A:W158Y  2.00    NaN    30.0     -7.0   \n",
      "35877  2lzm_A:W138Y 2lzm_A:W126Y 2lzm_A:W158Y  2.20    NaN    36.0     -6.6   \n",
      "35878  2lzm_A:W138Y 2lzm_A:W126Y 2lzm_A:W158Y  2.50    NaN    40.0     -6.2   \n",
      "\n",
      "       dH_(kcal/mol)  dG_(kcal/mol)  ddG_(kcal/mol)  ddG_H2O_(kcal/mol)  \\\n",
      "57               NaN            NaN             NaN                 NaN   \n",
      "97               NaN            NaN             NaN                 NaN   \n",
      "98               NaN            NaN             NaN                 NaN   \n",
      "99               NaN            NaN             NaN                 NaN   \n",
      "100              NaN            NaN             NaN                 NaN   \n",
      "...              ...            ...             ...                 ...   \n",
      "35874            NaN            NaN           -1.71                 NaN   \n",
      "35875            NaN            NaN             NaN                 NaN   \n",
      "35876            NaN            NaN             NaN                 NaN   \n",
      "35877            NaN            NaN           -1.82                 NaN   \n",
      "35878            NaN            NaN           -1.77                 NaN   \n",
      "\n",
      "       STATE REVERSIBILITY   PUBMED_ID  \\\n",
      "57       NaN           yes   1409571.0   \n",
      "97       NaN           yes   1553543.0   \n",
      "98       NaN           yes   1553543.0   \n",
      "99       NaN           yes   1553543.0   \n",
      "100      NaN           yes   1553543.0   \n",
      "...      ...           ...         ...   \n",
      "35874    NaN           yes    911878.0   \n",
      "35875    NaN           yes  10556244.0   \n",
      "35876    NaN       Unknown   7306671.0   \n",
      "35877    NaN           yes    911878.0   \n",
      "35878    NaN           yes    911878.0   \n",
      "\n",
      "                                               REFERENCE MUTATED_CHAIN  \\\n",
      "57                           PROTEINS 14, 237-248 (1992)           NaN   \n",
      "97                           SCIENCE 255, 178-183 (1992)           NaN   \n",
      "98                           SCIENCE 255, 178-183 (1992)             A   \n",
      "99                           SCIENCE 255, 178-183 (1992)             A   \n",
      "100                          SCIENCE 255, 178-183 (1992)             A   \n",
      "...                                                  ...           ...   \n",
      "35874           BIOCHIM BIOPHYS ACTA 494, 367-383 (1977)             A   \n",
      "35875                     PROTEIN ENG 12, 841-850 (1999)             A   \n",
      "35876  BIOPOLYMERS 20, 1989-1999 (1981); doi:10.1002/...         A,A,A   \n",
      "35877           BIOCHIM BIOPHYS ACTA 494, 367-383 (1977)         A,A,A   \n",
      "35878           BIOCHIM BIOPHYS ACTA 494, 367-383 (1977)         A,A,A   \n",
      "\n",
      "      KINGDOM PBD_MUTANT MEASURE METHOD     POSITION WILD_TYPE_RES  \\\n",
      "57        NaN        NaN     NaN    NaN    wild-type     WILD_TYPE   \n",
      "97        NaN        NaN     NaN    NaN    wild-type     WILD_TYPE   \n",
      "98        NaN        NaN     NaN    NaN           46             L   \n",
      "99        NaN        NaN     NaN    NaN          118             L   \n",
      "100       NaN        NaN     NaN    NaN          121             L   \n",
      "...       ...        ...     ...    ...          ...           ...   \n",
      "35874     NaN        NaN     NaN    NaN          138             W   \n",
      "35875     NaN        NaN     NaN    NaN           77             I   \n",
      "35876     NaN        NaN     NaN    NaN  138,126,158         W,W,W   \n",
      "35877     NaN        NaN     NaN    NaN  138,126,158         W,W,W   \n",
      "35878     NaN        NaN     NaN    NaN  138,126,158         W,W,W   \n",
      "\n",
      "      MUTATED_RES IS_CURATED  CONSERVATION NOTES DATASETS  \n",
      "57      WILD-TYPE        NaN           NaN   NaN      NaN  \n",
      "97      WILD-TYPE        NaN           NaN   NaN      NaN  \n",
      "98              A        NaN           NaN   NaN      NaN  \n",
      "99              A        NaN           NaN   NaN      NaN  \n",
      "100             A        NaN           NaN   NaN      NaN  \n",
      "...           ...        ...           ...   ...      ...  \n",
      "35874           Y        NaN           NaN   NaN      NaN  \n",
      "35875           Y        NaN           NaN   NaN      NaN  \n",
      "35876       Y,Y,Y        NaN           NaN   NaN      NaN  \n",
      "35877       Y,Y,Y        NaN           NaN   NaN      NaN  \n",
      "35878       Y,Y,Y        NaN           NaN   NaN      NaN  \n",
      "\n",
      "[2897 rows x 31 columns]\n"
     ]
    }
   ],
   "source": [
    "path = \"../Raw Data/\" + 'all_data_clean.csv'\n",
    "df = pd.read_csv(path)\n",
    "# print(df.head)\n",
    "print(df.columns)\n",
    "\n",
    "print(df[\"PROTEIN\"].value_counts().head(10))\n",
    "print(df.loc[df['PROTEIN'] == 'Lysozyme'])"
   ]
  },
  {
   "cell_type": "code",
   "execution_count": 7,
   "id": "ff72bd0a",
   "metadata": {},
   "outputs": [
    {
     "name": "stdout",
     "output_type": "stream",
     "text": [
      "P00644    3033\n",
      "P00720    2767\n",
      "P06654    2297\n",
      "P61626    1146\n",
      "P00648     981\n",
      "P00651     904\n",
      "P0A7Y4     722\n",
      "P63096     698\n",
      "P00044     546\n",
      "P00698     491\n",
      "Name: UNIPROT_ID, dtype: int64\n"
     ]
    }
   ],
   "source": [
    "print(df[\"UNIPROT_ID\"].value_counts().head(10)) # 4 possible could be used?"
   ]
  },
  {
   "cell_type": "markdown",
   "id": "68f5250d",
   "metadata": {},
   "source": [
    "#### P00644 (Thermonuclease)"
   ]
  },
  {
   "cell_type": "code",
   "execution_count": 131,
   "id": "31ecebf6",
   "metadata": {},
   "outputs": [
    {
     "name": "stdout",
     "output_type": "stream",
     "text": [
      "      DATABASE                  PROTEIN UNIPROT_ID           MUTATION  \\\n",
      "359   Protherm  Staphylococcal nuclease     P00644          wild-type   \n",
      "360   Protherm  Staphylococcal nuclease     P00644          wild-type   \n",
      "361   Protherm  Staphylococcal nuclease     P00644              L107A   \n",
      "362   Protherm  Staphylococcal nuclease     P00644              V148L   \n",
      "363   Protherm  Staphylococcal nuclease     P00644              G161S   \n",
      "364   Protherm  Staphylococcal nuclease     P00644              G170V   \n",
      "365   Protherm  Staphylococcal nuclease     P00644              A172S   \n",
      "366   Protherm  Staphylococcal nuclease     P00644              H206L   \n",
      "367   Protherm  Staphylococcal nuclease     P00644              L107A   \n",
      "368   Protherm  Staphylococcal nuclease     P00644              V148L   \n",
      "369   Protherm  Staphylococcal nuclease     P00644              G161S   \n",
      "370   Protherm  Staphylococcal nuclease     P00644              G170V   \n",
      "371   Protherm  Staphylococcal nuclease     P00644              A172S   \n",
      "372   Protherm  Staphylococcal nuclease     P00644              H206L   \n",
      "373   Protherm  Staphylococcal nuclease     P00644        V148L G170V   \n",
      "374   Protherm  Staphylococcal nuclease     P00644  V148L G161S G170V   \n",
      "375   Protherm  Staphylococcal nuclease     P00644        V148L G170V   \n",
      "376   Protherm  Staphylococcal nuclease     P00644  V148L G161S G170V   \n",
      "562   Protherm           Thermonuclease     P00644              F116C   \n",
      "563   Protherm           Thermonuclease     P00644              L118C   \n",
      "673   Protherm  Staphylococcal nuclease     P00644          wild-type   \n",
      "694   Protherm  Staphylococcal nuclease     P00644          wild-type   \n",
      "695   Protherm  Staphylococcal nuclease     P00644          wild-type   \n",
      "696   Protherm  Staphylococcal nuclease     P00644          wild-type   \n",
      "1170  Protherm  Staphylococcal nuclease     P00644              E155G   \n",
      "1171  Protherm  Staphylococcal nuclease     P00644              D159G   \n",
      "1172  Protherm  Staphylococcal nuclease     P00644          wild-type   \n",
      "1173  Protherm  Staphylococcal nuclease     P00644        E155G D159G   \n",
      "1174  Protherm  Staphylococcal nuclease     P00644        E155G E157G   \n",
      "1175  Protherm  Staphylococcal nuclease     P00644        E157G D159G   \n",
      "1176  Protherm  Staphylococcal nuclease     P00644  E155G E157G D159G   \n",
      "2444  Protherm  Staphylococcal nuclease     P00644          wild-type   \n",
      "2445  Protherm  Staphylococcal nuclease     P00644              W222H   \n",
      "2446  Protherm  Staphylococcal nuclease     P00644              W222F   \n",
      "2447  Protherm  Staphylococcal nuclease     P00644              W222Y   \n",
      "2448  Protherm  Staphylococcal nuclease     P00644              W222L   \n",
      "2449  Protherm  Staphylococcal nuclease     P00644        F158W W222H   \n",
      "2640  Protherm  Staphylococcal nuclease     P00644          wild-type   \n",
      "2641  Protherm  Staphylococcal nuclease     P00644              S223A   \n",
      "2893  Protherm  Staphylococcal nuclease     P00644          wild-type   \n",
      "2894  Protherm  Staphylococcal nuclease     P00644              W222F   \n",
      "2895  Protherm  Staphylococcal nuclease     P00644              W222Y   \n",
      "2896  Protherm  Staphylococcal nuclease     P00644              W222H   \n",
      "3522  Protherm  Staphylococcal nuclease     P00644              V105T   \n",
      "3523  Protherm  Staphylococcal nuclease     P00644              V121T   \n",
      "3524  Protherm  Staphylococcal nuclease     P00644              V133T   \n",
      "3525  Protherm  Staphylococcal nuclease     P00644              V148T   \n",
      "3526  Protherm  Staphylococcal nuclease     P00644              V156T   \n",
      "3527  Protherm  Staphylococcal nuclease     P00644              V181T   \n",
      "3528  Protherm  Staphylococcal nuclease     P00644              V186T   \n",
      "\n",
      "                     SOURCE PBD_WILD                   PBD_CHAIN_MUTATION  \\\n",
      "359   Staphylococcus aureus     1STN                                  NaN   \n",
      "360   Staphylococcus aureus     1STN                                  NaN   \n",
      "361   Staphylococcus aureus     1STN                          1stn_A:L25A   \n",
      "362   Staphylococcus aureus     1STN                          1stn_A:V66L   \n",
      "363   Staphylococcus aureus     1STN                          1stn_A:G79S   \n",
      "364   Staphylococcus aureus     1STN                          1stn_A:G88V   \n",
      "365   Staphylococcus aureus     1STN                          1stn_A:A90S   \n",
      "366   Staphylococcus aureus     1STN                         1stn_A:H124L   \n",
      "367   Staphylococcus aureus     1STN                          1stn_A:L25A   \n",
      "368   Staphylococcus aureus     1STN                          1stn_A:V66L   \n",
      "369   Staphylococcus aureus     1STN                          1stn_A:G79S   \n",
      "370   Staphylococcus aureus     1STN                          1stn_A:G88V   \n",
      "371   Staphylococcus aureus     1STN                          1stn_A:A90S   \n",
      "372   Staphylococcus aureus     1STN                         1stn_A:H124L   \n",
      "373   Staphylococcus aureus     1STN              1stn_A:V66L 1stn_A:G88V   \n",
      "374   Staphylococcus aureus     1STN  1stn_A:V66L 1stn_A:G79S 1stn_A:G88V   \n",
      "375   Staphylococcus aureus     1STN              1stn_A:V66L 1stn_A:G88V   \n",
      "376   Staphylococcus aureus     1STN  1stn_A:V66L 1stn_A:G79S 1stn_A:G88V   \n",
      "562          Staphylococcal     1stn                          1stn_A:F34C   \n",
      "563          Staphylococcal     1stn                          1stn_A:L36C   \n",
      "673   Staphylococcus aureus     1STN                                  NaN   \n",
      "694   Staphylococcus aureus     1STN                                  NaN   \n",
      "695   Staphylococcus aureus     1STN                                  NaN   \n",
      "696   Staphylococcus aureus     1STN                                  NaN   \n",
      "1170  Staphylococcus aureus     1STN                          1stn_A:E73G   \n",
      "1171  Staphylococcus aureus     1STN                          1stn_A:D77G   \n",
      "1172  Staphylococcus aureus     1STN                                  NaN   \n",
      "1173  Staphylococcus aureus     1STN              1stn_A:E73G 1stn_A:D77G   \n",
      "1174  Staphylococcus aureus     1STN              1stn_A:E73G 1stn_A:E75G   \n",
      "1175  Staphylococcus aureus     1STN              1stn_A:E75G 1stn_A:D77G   \n",
      "1176  Staphylococcus aureus     1STN  1stn_A:E73G 1stn_A:E75G 1stn_A:D77G   \n",
      "2444  Staphylococcus aureus     1STN                                  NaN   \n",
      "2445  Staphylococcus aureus     1STN                         1stn_A:W140H   \n",
      "2446  Staphylococcus aureus     1STN                         1stn_A:W140F   \n",
      "2447  Staphylococcus aureus     1STN                         1stn_A:W140Y   \n",
      "2448  Staphylococcus aureus     1STN                         1stn_A:W140L   \n",
      "2449  Staphylococcus aureus     1STN             1stn_A:F76W 1stn_A:W140H   \n",
      "2640  Staphylococcus aureus     1STN                                  NaN   \n",
      "2641  Staphylococcus aureus     1STN                         1stn_A:S141A   \n",
      "2893  Staphylococcus aureus     1STN                                  NaN   \n",
      "2894  Staphylococcus aureus     1STN                         1stn_A:W140F   \n",
      "2895  Staphylococcus aureus     1STN                         1stn_A:W140Y   \n",
      "2896  Staphylococcus aureus     1STN                         1stn_A:W140H   \n",
      "3522  Staphylococcus aureus     1STN                          1stn_A:V23T   \n",
      "3523  Staphylococcus aureus     1STN                          1stn_A:V39T   \n",
      "3524  Staphylococcus aureus     1STN                          1stn_A:V51T   \n",
      "3525  Staphylococcus aureus     1STN                          1stn_A:V66T   \n",
      "3526  Staphylococcus aureus     1STN                          1stn_A:V74T   \n",
      "3527  Staphylococcus aureus     1STN                          1stn_A:V99T   \n",
      "3528  Staphylococcus aureus     1STN                         1stn_A:V104T   \n",
      "\n",
      "       pH  T_(C)  Tm_(C)  dTm_(C)  dH_(kcal/mol)  dG_(kcal/mol)  \\\n",
      "359   7.0    NaN    51.5      NaN           79.0            NaN   \n",
      "360   5.0    NaN    47.0      NaN           53.0            NaN   \n",
      "361   7.0    NaN    39.9    -11.5           90.0            NaN   \n",
      "362   7.0    NaN    55.3      3.9           65.0            NaN   \n",
      "363   7.0    NaN    43.8     -7.6           65.0            NaN   \n",
      "364   7.0    NaN    54.3      2.9           62.0            NaN   \n",
      "365   7.0    NaN    40.7    -10.7           92.0            NaN   \n",
      "366   7.0    NaN    56.5      5.1           81.0            NaN   \n",
      "367   5.0    NaN    31.2    -15.8           63.0            NaN   \n",
      "368   5.0    NaN    50.8      3.8           40.0            NaN   \n",
      "369   5.0    NaN    38.5     -8.5           40.0            NaN   \n",
      "370   5.0    NaN    50.6      3.6           35.0            NaN   \n",
      "371   5.0    NaN    33.5    -13.5           65.0            NaN   \n",
      "372   5.0    NaN    55.3      8.3           56.0            NaN   \n",
      "373   7.0    NaN    57.8      6.4           54.5            NaN   \n",
      "374   7.0    NaN    56.1      4.7           26.5            NaN   \n",
      "375   5.0    NaN    57.9     10.9           25.3            NaN   \n",
      "376   5.0    NaN    54.3      7.3           12.3            NaN   \n",
      "562   7.6    NaN    40.0    -13.0            NaN            NaN   \n",
      "563   7.6    NaN    39.0    -14.0            NaN            NaN   \n",
      "673   7.0    NaN    52.5      NaN            NaN            NaN   \n",
      "694   7.0    NaN    58.2      NaN           93.0            NaN   \n",
      "695   4.1    NaN    43.6      NaN           59.0            NaN   \n",
      "696   3.5    NaN    33.1      NaN           33.0            NaN   \n",
      "1170  7.0    NaN    36.8    -15.2           65.6            NaN   \n",
      "1171  7.0    NaN    43.9     -8.1           62.1            NaN   \n",
      "1172  7.0    NaN    52.0      NaN           84.1            NaN   \n",
      "1173  7.0    NaN    30.0    -22.0           45.0            NaN   \n",
      "1174  7.0    NaN    27.5    -24.5           34.3            NaN   \n",
      "1175  7.0    NaN    32.0    -20.0           35.6            NaN   \n",
      "1176  7.0    NaN    25.1    -26.9           29.4            NaN   \n",
      "2444  7.0    NaN    66.3      NaN            NaN            NaN   \n",
      "2445  7.0    NaN    59.0      NaN            NaN            NaN   \n",
      "2446  7.0    NaN    56.9      NaN            NaN            NaN   \n",
      "2447  7.0    NaN    56.4      NaN            NaN            NaN   \n",
      "2448  7.0    NaN    43.6      NaN            NaN            NaN   \n",
      "2449  7.0    NaN    56.6      NaN            NaN            NaN   \n",
      "2640  7.0    NaN    51.2      NaN            NaN            NaN   \n",
      "2641  7.0    NaN    50.4     -0.8            NaN            NaN   \n",
      "2893  7.0    NaN    50.7      NaN            NaN            NaN   \n",
      "2894  7.0    NaN    39.1    -11.6            NaN            NaN   \n",
      "2895  7.0    NaN    38.6    -12.1            NaN            NaN   \n",
      "2896  7.0    NaN    41.8     -8.9            NaN            NaN   \n",
      "3522  7.0    NaN    38.0    -14.7            NaN            NaN   \n",
      "3523  7.0    NaN    45.2     -7.5            NaN            NaN   \n",
      "3524  7.0    NaN    51.7     -1.0            NaN            NaN   \n",
      "3525  7.0    NaN    46.4     -6.3            NaN            NaN   \n",
      "3526  7.0    NaN    34.4    -18.3            NaN            NaN   \n",
      "3527  7.0    NaN    37.5    -15.2            NaN            NaN   \n",
      "3528  7.0    NaN    42.4    -10.3            NaN            NaN   \n",
      "\n",
      "      ddG_(kcal/mol)  ddG_H2O_(kcal/mol)  STATE REVERSIBILITY   PUBMED_ID  \\\n",
      "359              NaN                 NaN    NaN           yes   8518730.0   \n",
      "360              NaN                 NaN    NaN           yes   8518730.0   \n",
      "361              NaN                 NaN    NaN           yes   8518730.0   \n",
      "362              NaN                 NaN    NaN           yes   8518730.0   \n",
      "363              NaN                 NaN    NaN           yes   8518730.0   \n",
      "364              NaN                 NaN    NaN           yes   8518730.0   \n",
      "365              NaN                 NaN    NaN           yes   8518730.0   \n",
      "366              NaN                 NaN    NaN           yes   8518730.0   \n",
      "367              NaN                 NaN    NaN           yes   8518730.0   \n",
      "368              NaN                 NaN    NaN           yes   8518730.0   \n",
      "369              NaN                 NaN    NaN           yes   8518730.0   \n",
      "370              NaN                 NaN    NaN           yes   8518730.0   \n",
      "371              NaN                 NaN    NaN           yes   8518730.0   \n",
      "372              NaN                 NaN    NaN           yes   8518730.0   \n",
      "373              NaN                 NaN    NaN           yes   8518730.0   \n",
      "374              NaN                 NaN    NaN           yes   8518730.0   \n",
      "375              NaN                 NaN    NaN           yes   8518730.0   \n",
      "376              NaN                 NaN    NaN           yes   8518730.0   \n",
      "562              NaN                 NaN    NaN       Unknown  20194783.0   \n",
      "563              NaN                 NaN    NaN       Unknown  20194783.0   \n",
      "673              NaN                 NaN    NaN       Unknown   1652762.0   \n",
      "694              NaN                 NaN    NaN           yes   7756977.0   \n",
      "695              NaN                 NaN    NaN           yes   7756977.0   \n",
      "696              NaN                 NaN    NaN           yes   7756977.0   \n",
      "1170             NaN                 NaN    NaN       Unknown  11598114.0   \n",
      "1171             NaN                 NaN    NaN       Unknown  11598114.0   \n",
      "1172             NaN                 NaN    NaN       Unknown  11598114.0   \n",
      "1173             NaN                 NaN    NaN       Unknown  11598114.0   \n",
      "1174             NaN                 NaN    NaN       Unknown  11598114.0   \n",
      "1175             NaN                 NaN    NaN       Unknown  11598114.0   \n",
      "1176             NaN                 NaN    NaN       Unknown  11598114.0   \n",
      "2444             NaN                 NaN    NaN           yes  15066439.0   \n",
      "2445             NaN                 NaN    NaN           yes  15066439.0   \n",
      "2446             NaN                 NaN    NaN           yes  15066439.0   \n",
      "2447             NaN                 NaN    NaN           yes  15066439.0   \n",
      "2448             NaN                 NaN    NaN           yes  15066439.0   \n",
      "2449             NaN                 NaN    NaN           yes  15066439.0   \n",
      "2640             NaN                 NaN    NaN       Unknown  12211005.0   \n",
      "2641             NaN                 NaN    NaN       Unknown  12211005.0   \n",
      "2893             NaN                 NaN    NaN       Unknown  15573380.0   \n",
      "2894             NaN                 NaN    NaN       Unknown  15573380.0   \n",
      "2895             NaN                 NaN    NaN       Unknown  15573380.0   \n",
      "2896             NaN                 NaN    NaN       Unknown  15573380.0   \n",
      "3522             NaN                 NaN    NaN       Unknown  17134819.0   \n",
      "3523             NaN                 NaN    NaN       Unknown  17134819.0   \n",
      "3524             NaN                 NaN    NaN       Unknown  17134819.0   \n",
      "3525             NaN                 NaN    NaN       Unknown  17134819.0   \n",
      "3526             NaN                 NaN    NaN       Unknown  17134819.0   \n",
      "3527             NaN                 NaN    NaN       Unknown  17134819.0   \n",
      "3528             NaN                 NaN    NaN       Unknown  17134819.0   \n",
      "\n",
      "                                              REFERENCE MUTATED_CHAIN KINGDOM  \\\n",
      "359                       PROTEIN SCI 2, 567-576 (1993)           NaN     NaN   \n",
      "360                       PROTEIN SCI 2, 567-576 (1993)           NaN     NaN   \n",
      "361                       PROTEIN SCI 2, 567-576 (1993)             A     NaN   \n",
      "362                       PROTEIN SCI 2, 567-576 (1993)             A     NaN   \n",
      "363                       PROTEIN SCI 2, 567-576 (1993)             A     NaN   \n",
      "364                       PROTEIN SCI 2, 567-576 (1993)             A     NaN   \n",
      "365                       PROTEIN SCI 2, 567-576 (1993)             A     NaN   \n",
      "366                       PROTEIN SCI 2, 567-576 (1993)             A     NaN   \n",
      "367                       PROTEIN SCI 2, 567-576 (1993)             A     NaN   \n",
      "368                       PROTEIN SCI 2, 567-576 (1993)             A     NaN   \n",
      "369                       PROTEIN SCI 2, 567-576 (1993)             A     NaN   \n",
      "370                       PROTEIN SCI 2, 567-576 (1993)             A     NaN   \n",
      "371                       PROTEIN SCI 2, 567-576 (1993)             A     NaN   \n",
      "372                       PROTEIN SCI 2, 567-576 (1993)             A     NaN   \n",
      "373                       PROTEIN SCI 2, 567-576 (1993)           A,A     NaN   \n",
      "374                       PROTEIN SCI 2, 567-576 (1993)         A,A,A     NaN   \n",
      "375                       PROTEIN SCI 2, 567-576 (1993)           A,A     NaN   \n",
      "376                       PROTEIN SCI 2, 567-576 (1993)         A,A,A     NaN   \n",
      "562   PROC NATL ACAD SCI U S A 107, 4908-4913 (2010)...             A     NaN   \n",
      "563   PROC NATL ACAD SCI U S A 107, 4908-4913 (2010)...             A     NaN   \n",
      "673          PROC NATL ACAD SCI USA 88 7715-7718 (1991)           NaN     NaN   \n",
      "694                      PROTEIN SCI 3 2175-2184 (1994)           NaN     NaN   \n",
      "695                      PROTEIN SCI 3 2175-2184 (1994)           NaN     NaN   \n",
      "696                      PROTEIN SCI 3 2175-2184 (1994)           NaN     NaN   \n",
      "1170                 J BIOL CHEM 276 46039-46045 (2001)             A     NaN   \n",
      "1171                 J BIOL CHEM 276 46039-46045 (2001)             A     NaN   \n",
      "1172                 J BIOL CHEM 276 46039-46045 (2001)           NaN     NaN   \n",
      "1173                 J BIOL CHEM 276 46039-46045 (2001)           A,A     NaN   \n",
      "1174                 J BIOL CHEM 276 46039-46045 (2001)           A,A     NaN   \n",
      "1175                 J BIOL CHEM 276 46039-46045 (2001)           A,A     NaN   \n",
      "1176                 J BIOL CHEM 276 46039-46045 (2001)         A,A,A     NaN   \n",
      "2444                     J MOL BIOL 338, 383-400 (2004)           NaN     NaN   \n",
      "2445                     J MOL BIOL 338, 383-400 (2004)             A     NaN   \n",
      "2446                     J MOL BIOL 338, 383-400 (2004)             A     NaN   \n",
      "2447                     J MOL BIOL 338, 383-400 (2004)             A     NaN   \n",
      "2448                     J MOL BIOL 338, 383-400 (2004)             A     NaN   \n",
      "2449                     J MOL BIOL 338, 383-400 (2004)           A,A     NaN   \n",
      "2640                        PROTEINS 49, 255-265 (2002)           NaN     NaN   \n",
      "2641                        PROTEINS 49, 255-265 (2002)             A     NaN   \n",
      "2893                        PROTEINS 58, 271-277 (2005)           NaN     NaN   \n",
      "2894                        PROTEINS 58, 271-277 (2005)             A     NaN   \n",
      "2895                        PROTEINS 58, 271-277 (2005)             A     NaN   \n",
      "2896                        PROTEINS 58, 271-277 (2005)             A     NaN   \n",
      "3522                   BIOPHYS CHEM 125, 490-496 (2007)             A     NaN   \n",
      "3523                   BIOPHYS CHEM 125, 490-496 (2007)             A     NaN   \n",
      "3524                   BIOPHYS CHEM 125, 490-496 (2007)             A     NaN   \n",
      "3525                   BIOPHYS CHEM 125, 490-496 (2007)             A     NaN   \n",
      "3526                   BIOPHYS CHEM 125, 490-496 (2007)             A     NaN   \n",
      "3527                   BIOPHYS CHEM 125, 490-496 (2007)             A     NaN   \n",
      "3528                   BIOPHYS CHEM 125, 490-496 (2007)             A     NaN   \n",
      "\n",
      "     PBD_MUTANT MEASURE METHOD     POSITION WILD_TYPE_RES MUTATED_RES  \\\n",
      "359         NaN     NaN    NaN    wild-type     WILD_TYPE   WILD-TYPE   \n",
      "360         NaN     NaN    NaN    wild-type     WILD_TYPE   WILD-TYPE   \n",
      "361         NaN     NaN    NaN          107             L           A   \n",
      "362         NaN     NaN    NaN          148             V           L   \n",
      "363         NaN     NaN    NaN          161             G           S   \n",
      "364         NaN     NaN    NaN          170             G           V   \n",
      "365         NaN     NaN    NaN          172             A           S   \n",
      "366         NaN     NaN    NaN          206             H           L   \n",
      "367         NaN     NaN    NaN          107             L           A   \n",
      "368         NaN     NaN    NaN          148             V           L   \n",
      "369         NaN     NaN    NaN          161             G           S   \n",
      "370         NaN     NaN    NaN          170             G           V   \n",
      "371         NaN     NaN    NaN          172             A           S   \n",
      "372         NaN     NaN    NaN          206             H           L   \n",
      "373         NaN     NaN    NaN      148,170           V,G         L,V   \n",
      "374         NaN     NaN    NaN  148,161,170         V,G,G       L,S,V   \n",
      "375         NaN     NaN    NaN      148,170           V,G         L,V   \n",
      "376         NaN     NaN    NaN  148,161,170         V,G,G       L,S,V   \n",
      "562         NaN     NaN    NaN          116             F           C   \n",
      "563         NaN     NaN    NaN          118             L           C   \n",
      "673         NaN     NaN    NaN    wild-type     WILD_TYPE   WILD-TYPE   \n",
      "694         NaN     NaN    NaN    wild-type     WILD_TYPE   WILD-TYPE   \n",
      "695         NaN     NaN    NaN    wild-type     WILD_TYPE   WILD-TYPE   \n",
      "696         NaN     NaN    NaN    wild-type     WILD_TYPE   WILD-TYPE   \n",
      "1170        NaN     NaN    NaN          155             E           G   \n",
      "1171        NaN     NaN    NaN          159             D           G   \n",
      "1172        NaN     NaN    NaN    wild-type     WILD_TYPE   WILD-TYPE   \n",
      "1173        NaN     NaN    NaN      155,159           E,D         G,G   \n",
      "1174        NaN     NaN    NaN      155,157           E,E         G,G   \n",
      "1175        NaN     NaN    NaN      157,159           E,D         G,G   \n",
      "1176        NaN     NaN    NaN  155,157,159         E,E,D       G,G,G   \n",
      "2444        NaN     NaN    NaN    wild-type     WILD_TYPE   WILD-TYPE   \n",
      "2445        NaN     NaN    NaN          222             W           H   \n",
      "2446        NaN     NaN    NaN          222             W           F   \n",
      "2447        NaN     NaN    NaN          222             W           Y   \n",
      "2448        NaN     NaN    NaN          222             W           L   \n",
      "2449        NaN     NaN    NaN      158,222           F,W         W,H   \n",
      "2640        NaN     NaN    NaN    wild-type     WILD_TYPE   WILD-TYPE   \n",
      "2641        NaN     NaN    NaN          223             S           A   \n",
      "2893        NaN     NaN    NaN    wild-type     WILD_TYPE   WILD-TYPE   \n",
      "2894        NaN     NaN    NaN          222             W           F   \n",
      "2895        NaN     NaN    NaN          222             W           Y   \n",
      "2896        NaN     NaN    NaN          222             W           H   \n",
      "3522        NaN     NaN    NaN          105             V           T   \n",
      "3523        NaN     NaN    NaN          121             V           T   \n",
      "3524        NaN     NaN    NaN          133             V           T   \n",
      "3525        NaN     NaN    NaN          148             V           T   \n",
      "3526        NaN     NaN    NaN          156             V           T   \n",
      "3527        NaN     NaN    NaN          181             V           T   \n",
      "3528        NaN     NaN    NaN          186             V           T   \n",
      "\n",
      "     IS_CURATED  CONSERVATION NOTES DATASETS  \n",
      "359         NaN           NaN   NaN      NaN  \n",
      "360         NaN           NaN   NaN      NaN  \n",
      "361         NaN           NaN   NaN      NaN  \n",
      "362         NaN           NaN   NaN      NaN  \n",
      "363         NaN           NaN   NaN      NaN  \n",
      "364         NaN           NaN   NaN      NaN  \n",
      "365         NaN           NaN   NaN      NaN  \n",
      "366         NaN           NaN   NaN      NaN  \n",
      "367         NaN           NaN   NaN      NaN  \n",
      "368         NaN           NaN   NaN      NaN  \n",
      "369         NaN           NaN   NaN      NaN  \n",
      "370         NaN           NaN   NaN      NaN  \n",
      "371         NaN           NaN   NaN      NaN  \n",
      "372         NaN           NaN   NaN      NaN  \n",
      "373         NaN           NaN   NaN      NaN  \n",
      "374         NaN           NaN   NaN      NaN  \n",
      "375         NaN           NaN   NaN      NaN  \n",
      "376         NaN           NaN   NaN      NaN  \n",
      "562         NaN           NaN   NaN      NaN  \n",
      "563         NaN           NaN   NaN      NaN  \n",
      "673         NaN           NaN   NaN      NaN  \n",
      "694         NaN           NaN   NaN      NaN  \n",
      "695         NaN           NaN   NaN      NaN  \n",
      "696         NaN           NaN   NaN      NaN  \n",
      "1170        NaN           NaN   NaN      NaN  \n",
      "1171        NaN           NaN   NaN      NaN  \n",
      "1172        NaN           NaN   NaN      NaN  \n",
      "1173        NaN           NaN   NaN      NaN  \n",
      "1174        NaN           NaN   NaN      NaN  \n",
      "1175        NaN           NaN   NaN      NaN  \n",
      "1176        NaN           NaN   NaN      NaN  \n",
      "2444        NaN           NaN   NaN      NaN  \n",
      "2445        NaN           NaN   NaN      NaN  \n",
      "2446        NaN           NaN   NaN      NaN  \n",
      "2447        NaN           NaN   NaN      NaN  \n",
      "2448        NaN           NaN   NaN      NaN  \n",
      "2449        NaN           NaN   NaN      NaN  \n",
      "2640        NaN           NaN   NaN      NaN  \n",
      "2641        NaN           NaN   NaN      NaN  \n",
      "2893        NaN           NaN   NaN      NaN  \n",
      "2894        NaN           NaN   NaN      NaN  \n",
      "2895        NaN           NaN   NaN      NaN  \n",
      "2896        NaN           NaN   NaN      NaN  \n",
      "3522        NaN           NaN   NaN      NaN  \n",
      "3523        NaN           NaN   NaN      NaN  \n",
      "3524        NaN           NaN   NaN      NaN  \n",
      "3525        NaN           NaN   NaN      NaN  \n",
      "3526        NaN           NaN   NaN      NaN  \n",
      "3527        NaN           NaN   NaN      NaN  \n",
      "3528        NaN           NaN   NaN      NaN  \n",
      "28900    -5.60\n",
      "28903    -5.50\n",
      "28904    -4.80\n",
      "28905    -5.50\n",
      "28906    -5.45\n",
      "28908    -5.40\n",
      "28909     0.10\n",
      "28910    -1.20\n",
      "28911    -2.40\n",
      "28912    -4.40\n",
      "28913    -4.50\n",
      "28914    -3.80\n",
      "28915    -4.20\n",
      "28916    -5.40\n",
      "28917    -5.40\n",
      "28918    -5.40\n",
      "28919    -2.00\n",
      "28920    -2.80\n",
      "28921    -3.20\n",
      "28922    -4.10\n",
      "28924    -5.35\n",
      "28925    -4.40\n",
      "28926    -5.00\n",
      "28930    -1.90\n",
      "28931    -1.90\n",
      "28932    -4.00\n",
      "28933    -4.60\n",
      "28934    -5.30\n",
      "28938    -5.10\n",
      "28939    -5.10\n",
      "29810     3.30\n",
      "29811     4.50\n",
      "29812     4.70\n",
      "29813     6.40\n",
      "29814     6.90\n",
      "29815     7.20\n",
      "29816     7.30\n",
      "29817     9.30\n",
      "29818    11.30\n",
      "37335     0.70\n",
      "Name: ddG_(kcal/mol), dtype: float64\n",
      "10556    -2.6\n",
      "10557     0.8\n",
      "10558    -1.3\n",
      "10559     0.5\n",
      "10560    -2.5\n",
      "         ... \n",
      "29815     7.2\n",
      "29816     7.3\n",
      "29817     9.3\n",
      "29818    11.3\n",
      "37335     0.7\n",
      "Name: score, Length: 1280, dtype: float64\n"
     ]
    }
   ],
   "source": [
    "# finding column with most values\n",
    "# print(nuclease_df)\n",
    "# print(df.loc[df['UNIPROT_ID'] == 'P00644'])\n",
    "nuclease_df = df.loc[df['UNIPROT_ID'] == 'P00644']\n",
    "print(nuclease_df.head(50))\n",
    "nuclease_df = nuclease_df.loc[nuclease_df['PROTEIN'].str.contains('Thiol:disulfide interchange protein DsbA') == False]\n",
    "# print(nuclease_df.columns)\n",
    "nuclease_df = nuclease_df[nuclease_df['ddG_(kcal/mol)'].notna()]\n",
    "nuclease_df = nuclease_df[nuclease_df['MUTATION'].str.contains('wild-type') == False]\n",
    "print(nuclease_df['ddG_(kcal/mol)'].tail(40))\n",
    "\n",
    "# rename ddG to score and mutation to variant\n",
    "nuclease_df = nuclease_df.rename(columns={'MUTATION': 'variant', 'ddG_(kcal/mol)': 'score'})\n",
    "print(nuclease_df['score'])\n",
    "nuclease_df['score'] = nuclease_df['score'].round(6)\n",
    "# print(nuclease_df['variant'].head(30))\n",
    "\n",
    "nuclease_df[\"positions_split\"] = ssf.get_positions_split(nuclease_df)\n",
    "\n",
    "positions_split_subtracted = []\n",
    "for pos_list in nuclease_df[\"positions_split\"]:\n",
    "    pos_list = [x - 1 for x in pos_list]\n",
    "    positions_split_subtracted.append(pos_list)  \n",
    "\n",
    "nuclease_df[\"positions_split\"] = positions_split_subtracted    \n",
    "    \n",
    "new_positions = []\n",
    "pos_string = \"\"\n",
    "for pos_list in nuclease_df[\"positions_split\"]:\n",
    "    pos_string = \",\".join(map(str, pos_list))\n",
    "    # print(pos_string)\n",
    "    new_positions.append(pos_string)\n",
    "    pos_string = \"\"\n",
    "# print(len(new_positions))\n",
    "# print(len(nuclease_df[\"POSITION\"]))\n",
    "\n",
    "nuclease_df[\"POSITION\"] = new_positions # changes positions into new adjusted values (0 index)\n",
    "# replace variant column with reformatted variant name"
   ]
  },
  {
   "cell_type": "code",
   "execution_count": 131,
   "id": "8297d232",
   "metadata": {},
   "outputs": [
    {
     "name": "stdout",
     "output_type": "stream",
     "text": [
      "10556    -2.6\n",
      "10557     0.8\n",
      "10558    -1.3\n",
      "10559     0.5\n",
      "10560    -2.5\n",
      "         ... \n",
      "29815     7.2\n",
      "29816     7.3\n",
      "29817     9.3\n",
      "29818    11.3\n",
      "37335     0.7\n",
      "Name: score, Length: 1280, dtype: float64\n"
     ]
    }
   ],
   "source": [
    "print(nuclease_df['score'])\n"
   ]
  },
  {
   "cell_type": "code",
   "execution_count": 132,
   "id": "90699696",
   "metadata": {},
   "outputs": [
    {
     "name": "stdout",
     "output_type": "stream",
     "text": [
      "MET LEU VAL MET THR GLU TYR LEU LEU SER ALA GLY ILE CYS MET ALA ILE VAL SER ILE LEU LEU ILE GLY MET ALA ILE SER ASN VAL SER LYS GLY GLN TYR ALA LYS ARG PHE PHE PHE PHE ALA THR SER CYS LEU VAL LEU THR LEU VAL VAL VAL SER SER LEU SER SER SER ALA ASN ALA SER GLN THR ASP ASN GLY VAL ASN ARG SER GLY SER GLU ASP PRO THR VAL TYR SER ALA THR SER THR LYS LYS LEU HIS LYS GLU PRO ALA THR LEU ILE LYS ALA ILE ASP GLY ASP THR VAL LYS LEU MET TYR LYS GLY GLN PRO MET THR PHE ARG LEU LEU LEU VAL ASP THR PRO GLU THR LYS HIS PRO LYS LYS GLY VAL GLU LYS TYR GLY PRO GLU ALA SER ALA PHE THR LYS LYS MET VAL GLU ASN ALA LYS LYS ILE GLU VAL GLU PHE ASP LYS GLY GLN ARG THR ASP LYS TYR GLY ARG GLY LEU ALA TYR ILE TYR ALA ASP GLY LYS MET VAL ASN GLU ALA LEU VAL ARG GLN GLY LEU ALA LYS VAL ALA TYR VAL TYR LYS PRO ASN ASN THR HIS GLU GLN HIS LEU ARG LYS SER GLU ALA GLN ALA LYS LYS GLU LYS LEU ASN ILE TRP SER GLU ASP ASN ALA ASP SER GLY GLN\n"
     ]
    }
   ],
   "source": [
    "# get protein from uniprot\n",
    "protein_seq_nuclease = ssf.get_protein_seq('P00644')\n",
    "print(protein_seq_nuclease)"
   ]
  },
  {
   "cell_type": "code",
   "execution_count": 133,
   "id": "2f002756",
   "metadata": {},
   "outputs": [
    {
     "name": "stdout",
     "output_type": "stream",
     "text": [
      "['TRP', 'SER', 'GLU']\n",
      "231\n"
     ]
    }
   ],
   "source": [
    "protein_seq_nuclease_split = protein_seq_nuclease.split()\n",
    "print(protein_seq_nuclease_split[221:224])\n",
    "print(len(protein_seq_nuclease_split))"
   ]
  },
  {
   "cell_type": "code",
   "execution_count": 134,
   "id": "ede989b8",
   "metadata": {},
   "outputs": [],
   "source": [
    "nuclease_df[\"variant\"] = ssf.get_mutations_names_list(nuclease_df)\n",
    "# print(nuclease_df.head(10))"
   ]
  },
  {
   "cell_type": "code",
   "execution_count": 139,
   "id": "893b3ef1",
   "metadata": {},
   "outputs": [],
   "source": [
    "# importing STRIDE file\n",
    "path = \"../PDB and STRIDE Files/\" + 'thermonuclease_stride.txt'\n",
    "nuclease_stride_file = open(path, 'r')"
   ]
  },
  {
   "cell_type": "code",
   "execution_count": 140,
   "id": "8266ebe3",
   "metadata": {},
   "outputs": [
    {
     "name": "stdout",
     "output_type": "stream",
     "text": [
      "193\n",
      "38\n"
     ]
    }
   ],
   "source": [
    "nuclease_ss_indexes = ssf.get_all_sec_struc_boolean(nuclease_stride_file) # boolean list of secondary structure assignements from uniprot\n",
    "print(nuclease_ss_indexes.count(True))\n",
    "print(nuclease_ss_indexes.count(False))"
   ]
  },
  {
   "cell_type": "code",
   "execution_count": 141,
   "id": "7757717d",
   "metadata": {},
   "outputs": [],
   "source": [
    "nuclease_df = add_sec_str_col(nuclease_df, nuclease_ss_indexes, 0)"
   ]
  },
  {
   "cell_type": "code",
   "execution_count": 138,
   "id": "c24772ff",
   "metadata": {},
   "outputs": [
    {
     "name": "stderr",
     "output_type": "stream",
     "text": [
      "C:\\Users\\deepti\\OneDrive\\UW\\GitHub\\secondary-structure-CNN-learning\\Jupyter Notebooks\\secStrucFormatting.py:219: FutureWarning: The frame.append method is deprecated and will be removed from pandas in a future version. Use pandas.concat instead.\n",
      "  in_domain_df = in_domain_df.append(rows, ignore_index=True)\n"
     ]
    }
   ],
   "source": [
    "nuclease_df = ssf.get_domain_dataset(nuclease_df, 0, 231, [])"
   ]
  },
  {
   "cell_type": "code",
   "execution_count": 139,
   "id": "49642c81",
   "metadata": {},
   "outputs": [
    {
     "name": "stdout",
     "output_type": "stream",
     "text": [
      "1280\n"
     ]
    }
   ],
   "source": [
    "print(len(nuclease_df))"
   ]
  },
  {
   "cell_type": "code",
   "execution_count": 142,
   "id": "9f7edb77",
   "metadata": {},
   "outputs": [
    {
     "name": "stdout",
     "output_type": "stream",
     "text": [
      "1258\n",
      "1258\n"
     ]
    }
   ],
   "source": [
    "# print(nuclease_df.head(5))\n",
    "print(len(nuclease_df))\n",
    "nuclease_df = nuclease_df[nuclease_df['score'] != 0.0]\n",
    "print(len(nuclease_df))"
   ]
  },
  {
   "cell_type": "code",
   "execution_count": 146,
   "id": "c3d2ec5f",
   "metadata": {},
   "outputs": [
    {
     "name": "stdout",
     "output_type": "stream",
     "text": [
      "in fraction,df len1258\n",
      "280\n",
      "173\n",
      "Train Data Fraction: 0.618\n",
      "false_df len379\n",
      "true_df len879\n",
      "in fraction,df len805\n",
      "Test Data Fraction: 0.62\n",
      "false_df len206\n",
      "true_df len599\n",
      "Size of Test Dataset: 539\n",
      "Size of Total Dataset: 992\n",
      "992\n",
      "Filename: nuclease_MLformat_453_train_539_test_t3.txt\n"
     ]
    }
   ],
   "source": [
    "nuclease_train_df, nuclease_test_df, nuclease_remaining_df = get_train_and_test_df(nuclease_df, 0.62, 453)\n",
    "nuclease_df_format = pd.concat([nuclease_train_df, nuclease_test_df])\n",
    "print(len(nuclease_df_format))\n",
    "ssf.write_data_file(\"nuclease_MLformat_453_train_539_test_t3\", protein_seq_nuclease, nuclease_df_format)"
   ]
  },
  {
   "cell_type": "code",
   "execution_count": 74,
   "id": "2336d320",
   "metadata": {},
   "outputs": [
    {
     "name": "stdout",
     "output_type": "stream",
     "text": [
      "144\n",
      "87\n"
     ]
    }
   ],
   "source": [
    "ss = nuclease_ss_indexes.count(True)\n",
    "not_ss = nuclease_ss_indexes.count(False)\n",
    "print(ss)\n",
    "print(not_ss)"
   ]
  },
  {
   "cell_type": "markdown",
   "id": "38e611a9",
   "metadata": {},
   "source": [
    "#### P00720 (Endolysin)"
   ]
  },
  {
   "cell_type": "code",
   "execution_count": 24,
   "id": "a2f16337",
   "metadata": {},
   "outputs": [
    {
     "name": "stdout",
     "output_type": "stream",
     "text": [
      "2767\n",
      "Lysozyme                                     1637\n",
      "Endolysin                                    1101\n",
      "T4 lysozyme                                    20\n",
      "N,O-diacetylmuramidase                          2\n",
      "Beta-galactosidase                              2\n",
      "Invertase 2                                     1\n",
      "Spanin, inner membrane subunit                  1\n",
      "Cytosol aminopeptidase                          1\n",
      "Thermophilic aminopeptidase 1 alpha chain       1\n",
      "Carboxypeptidase Y                              1\n",
      "Name: PROTEIN, dtype: int64\n"
     ]
    }
   ],
   "source": [
    "endolysin_df = df.loc[df['UNIPROT_ID'] == 'P00720']\n",
    "# endolysin_df = protein_G_df[\"PROTEIN\"].value_counts()\n",
    "print(len(endolysin_df))\n",
    "endolysin_df.count()\n",
    "print(endolysin_df[\"PROTEIN\"].value_counts())"
   ]
  },
  {
   "cell_type": "code",
   "execution_count": 43,
   "id": "5b6314ef",
   "metadata": {},
   "outputs": [
    {
     "name": "stdout",
     "output_type": "stream",
     "text": [
      "Lysozyme                    2897\n",
      "Lysozyme C                   449\n",
      "Lysozyme C, milk isozyme      14\n",
      "Name: PROTEIN, dtype: int64\n",
      "57       wild-type\n",
      "97       wild-type\n",
      "98            L46A\n",
      "99           L118A\n",
      "100          L121A\n",
      "101           L99A\n",
      "102          L133A\n",
      "103          F153A\n",
      "104     L99A F153A\n",
      "105      wild-type\n",
      "106           E25Q\n",
      "107           D36N\n",
      "108           D67N\n",
      "109           D85N\n",
      "110          D120N\n",
      "111          D138N\n",
      "112      wild-type\n",
      "113           E25Q\n",
      "114           D36N\n",
      "115           D67N\n",
      "116           D85N\n",
      "117          D120N\n",
      "118          D138N\n",
      "119      wild-type\n",
      "120           E25Q\n",
      "121           D85N\n",
      "122          D120N\n",
      "123          D138N\n",
      "124      wild-type\n",
      "125           E25Q\n",
      "126           D85N\n",
      "127          D120N\n",
      "128          D138N\n",
      "129      wild-type\n",
      "130      wild-type\n",
      "131           G67A\n",
      "132           G85A\n",
      "133           G89A\n",
      "134          G120A\n",
      "135          G135A\n",
      "136      wild-type\n",
      "137           K16E\n",
      "138          R119E\n",
      "139          K135E\n",
      "140          K147E\n",
      "141          R154E\n",
      "142     K16E R119E\n",
      "143     K16E K135E\n",
      "144     K16E R154E\n",
      "145    R119E K135E\n",
      "Name: MUTATION, dtype: object\n"
     ]
    }
   ],
   "source": [
    "lys_df = df.loc[df['PROTEIN'].str.contains('Lysozyme') == True]\n",
    "print(lys_df[\"PROTEIN\"].value_counts())\n",
    "print(lys_df['MUTATION'].head(50))"
   ]
  },
  {
   "cell_type": "code",
   "execution_count": 44,
   "id": "5415ec85",
   "metadata": {},
   "outputs": [
    {
     "name": "stdout",
     "output_type": "stream",
     "text": [
      "Endolysin    1110\n",
      "Name: PROTEIN, dtype: int64\n",
      "None\n"
     ]
    }
   ],
   "source": [
    "endo_df = df.loc[df['PROTEIN'].str.contains('Endolysin') == True]\n",
    "print(print(endo_df[\"PROTEIN\"].value_counts()))\n",
    "# print(endo_df['MUTATION'].head(50))"
   ]
  },
  {
   "cell_type": "code",
   "execution_count": 11,
   "id": "e57039c1",
   "metadata": {},
   "outputs": [],
   "source": [
    "# importing STRIDE file\n",
    "path = \"../PDB and STRIDE Files/\" + 'endolysin_stride.txt'\n",
    "endolysin_stride_file = open(path, 'r')"
   ]
  },
  {
   "cell_type": "code",
   "execution_count": 29,
   "id": "37fe348d",
   "metadata": {},
   "outputs": [
    {
     "name": "stdout",
     "output_type": "stream",
     "text": [
      "MET ASN ILE PHE GLU MET LEU ARG ILE ASP GLU ARG LEU ARG LEU LYS ILE TYR LYS ASP THR GLU GLY TYR TYR THR ILE GLY ILE GLY HIS LEU LEU THR LYS SER PRO SER LEU ASN ALA ALA LYS SER GLU LEU ASP LYS ALA ILE GLY ARG ASN CYS ASN GLY VAL ILE THR LYS ASP GLU ALA GLU LYS LEU PHE ASN GLN ASP VAL ASP ALA ALA VAL ARG GLY ILE LEU ARG ASN ALA LYS LEU LYS PRO VAL TYR ASP SER LEU ASP ALA VAL ARG ARG CYS ALA LEU ILE ASN MET VAL PHE GLN MET GLY GLU THR GLY VAL ALA GLY PHE THR ASN SER LEU ARG MET LEU GLN GLN LYS ARG TRP ASP GLU ALA ALA VAL ASN LEU ALA LYS SER ILE TRP TYR ASN GLN THR PRO ASN ARG ALA LYS ARG VAL ILE THR THR PHE ARG THR GLY THR TRP ASP ALA TYR LYS ASN LEU\n"
     ]
    }
   ],
   "source": [
    "# getting protein string\n",
    "protein_seq_endolysin = ssf.get_protein_seq('P00720')\n",
    "print(protein_seq_endolysin)"
   ]
  },
  {
   "cell_type": "code",
   "execution_count": 55,
   "id": "05d58574",
   "metadata": {},
   "outputs": [
    {
     "name": "stdout",
     "output_type": "stream",
     "text": [
      "164\n"
     ]
    }
   ],
   "source": [
    "protein_seq_endolysin_split = protein_seq_endolysin.split()\n",
    "print(len(protein_seq_endolysin_split))"
   ]
  },
  {
   "cell_type": "code",
   "execution_count": 12,
   "id": "e0dbcab3",
   "metadata": {},
   "outputs": [],
   "source": [
    "endolysin_ss_indexes = ssf.get_sec_struc_boolean(endolysin_stride_file) # boolean list of secondary structure assignements"
   ]
  },
  {
   "cell_type": "code",
   "execution_count": 13,
   "id": "cdaf7b31",
   "metadata": {},
   "outputs": [
    {
     "name": "stdout",
     "output_type": "stream",
     "text": [
      "122\n",
      "41\n"
     ]
    }
   ],
   "source": [
    "ss = endolysin_ss_indexes.count(True)\n",
    "not_ss = endolysin_ss_indexes.count(False)\n",
    "print(ss)\n",
    "print(not_ss)"
   ]
  },
  {
   "cell_type": "markdown",
   "id": "71d3b31c",
   "metadata": {},
   "source": [
    "#### P06654 (Immunoglobulin G-binding protein G)"
   ]
  },
  {
   "cell_type": "code",
   "execution_count": 106,
   "id": "5fb930a8",
   "metadata": {},
   "outputs": [
    {
     "name": "stdout",
     "output_type": "stream",
     "text": [
      "Immunoglobulin G-binding protein G    1995\n",
      "Protein G                              285\n",
      "Single Domain Antibody                  17\n",
      "Name: PROTEIN, dtype: int64\n",
      "1221\n"
     ]
    }
   ],
   "source": [
    "protein_G_df = df.loc[df['UNIPROT_ID'] == 'P06654']\n",
    "print(protein_G_df[\"PROTEIN\"].value_counts())\n",
    "protein_G_df = protein_G_df.loc[protein_G_df['PROTEIN'].str.contains('Single Domain Antibody') == False]\n",
    "protein_G_df = protein_G_df[protein_G_df[\"POSITION\"].str.contains(\"pga_A\") == False]\n",
    "\n",
    "protein_G_df = protein_G_df[protein_G_df[\"ddG_(kcal/mol)\"].notna()]\n",
    "print(len(protein_G_df))\n",
    "\n",
    "protein_G_df = protein_G_df.rename(columns={'MUTATION': 'variant', 'ddG_(kcal/mol)': 'score'})\n",
    "protein_G_df['score'] = protein_G_df['score'].round(6)\n",
    "# print(protein_G_df['variant'].head(30))\n",
    "\n",
    "protein_G_df[\"positions_split\"] = ssf.get_positions_split(protein_G_df)\n",
    "\n",
    "positions_split_subtracted = []\n",
    "for pos_list in protein_G_df[\"positions_split\"]:\n",
    "    pos_list = [x - 1 for x in pos_list]\n",
    "    positions_split_subtracted.append(pos_list)  \n",
    "\n",
    "protein_G_df[\"positions_split\"] = positions_split_subtracted    \n",
    "    \n",
    "new_positions = []\n",
    "pos_string = \"\"\n",
    "for pos_list in protein_G_df[\"positions_split\"]:\n",
    "    pos_string = \",\".join(map(str, pos_list))\n",
    "    # print(pos_string)\n",
    "    new_positions.append(pos_string)\n",
    "    pos_string = \"\"\n",
    "# print(len(new_positions))\n",
    "# print(len(protein_G_df[\"POSITION\"]))\n",
    "\n",
    "protein_G_df[\"POSITION\"] = new_positions\n",
    "# print(protein_G_df[\"variant\"].head(10))\n",
    "# print(protein_G_df[\"POSITION\"].head(10))"
   ]
  },
  {
   "cell_type": "code",
   "execution_count": 107,
   "id": "18da4b69",
   "metadata": {},
   "outputs": [
    {
     "name": "stdout",
     "output_type": "stream",
     "text": [
      "9330            231ARG, 278GLU, 269ALA\n",
      "9331            231ARG, 278ALA, 269ARG\n",
      "9332            231ARG, 278ALA, 269ALA\n",
      "9333                    278GLU, 269ARG\n",
      "9334                    278GLU, 269ALA\n",
      "9335                    278ALA, 269ARG\n",
      "9336                    278ALA, 269ALA\n",
      "9483    241ILE, 243ILE, 250GLU, 254PHE\n",
      "9484    241ILE, 243ILE, 250GLU, 254TYR\n",
      "9485            241ILE, 243ILE, 254TRP\n",
      "Name: variant, dtype: object\n"
     ]
    }
   ],
   "source": [
    "protein_G_df[\"variant\"] = ssf.get_mutations_names_list(protein_G_df)\n",
    "print(protein_G_df[\"variant\"].head(10))\n",
    "protein_G_df = add_sec_str_col(protein_G_df, protein_G_ss_indexes, 0)"
   ]
  },
  {
   "cell_type": "code",
   "execution_count": 101,
   "id": "d5b75dad",
   "metadata": {},
   "outputs": [],
   "source": [
    "# importing STRIDE file\n",
    "path = \"../PDB and STRIDE Files/\" + 'protein_G_stride.txt'\n",
    "protein_G_stride_file = open(path, 'r')"
   ]
  },
  {
   "cell_type": "code",
   "execution_count": 102,
   "id": "fad21383",
   "metadata": {},
   "outputs": [],
   "source": [
    "protein_G_ss_indexes = ssf.get_sec_struc_boolean(protein_G_stride_file) # boolean list of secondary structure assignements"
   ]
  },
  {
   "cell_type": "code",
   "execution_count": 88,
   "id": "fc82b0b1",
   "metadata": {},
   "outputs": [
    {
     "name": "stdout",
     "output_type": "stream",
     "text": [
      "MET GLU LYS GLU LYS LYS VAL LYS TYR PHE LEU ARG LYS SER ALA PHE GLY LEU ALA SER VAL SER ALA ALA PHE LEU VAL GLY SER THR VAL PHE ALA VAL ASP SER PRO ILE GLU ASP THR PRO ILE ILE ARG ASN GLY GLY GLU LEU THR ASN LEU LEU GLY ASN SER GLU THR THR LEU ALA LEU ARG ASN GLU GLU SER ALA THR ALA ASP LEU THR ALA ALA ALA VAL ALA ASP THR VAL ALA ALA ALA ALA ALA GLU ASN ALA GLY ALA ALA ALA TRP GLU ALA ALA ALA ALA ALA ASP ALA LEU ALA LYS ALA LYS ALA ASP ALA LEU LYS GLU PHE ASN LYS TYR GLY VAL SER ASP TYR TYR LYS ASN LEU ILE ASN ASN ALA LYS THR VAL GLU GLY ILE LYS ASP LEU GLN ALA GLN VAL VAL GLU SER ALA LYS LYS ALA ARG ILE SER GLU ALA THR ASP GLY LEU SER ASP PHE LEU LYS SER GLN THR PRO ALA GLU ASP THR VAL LYS SER ILE GLU LEU ALA GLU ALA LYS VAL LEU ALA ASN ARG GLU LEU ASP LYS TYR GLY VAL SER ASP TYR HIS LYS ASN LEU ILE ASN ASN ALA LYS THR VAL GLU GLY VAL LYS GLU LEU ILE ASP GLU ILE LEU ALA ALA LEU PRO LYS THR ASP THR TYR LYS LEU ILE LEU ASN GLY LYS THR LEU LYS GLY GLU THR THR THR GLU ALA VAL ASP ALA ALA THR ALA GLU LYS VAL PHE LYS GLN TYR ALA ASN ASP ASN GLY VAL ASP GLY GLU TRP THR TYR ASP ASP ALA THR LYS THR PHE THR VAL THR GLU LYS PRO GLU VAL ILE ASP ALA SER GLU LEU THR PRO ALA VAL THR THR TYR LYS LEU VAL ILE ASN GLY LYS THR LEU LYS GLY GLU THR THR THR LYS ALA VAL ASP ALA GLU THR ALA GLU LYS ALA PHE LYS GLN TYR ALA ASN ASP ASN GLY VAL ASP GLY VAL TRP THR TYR ASP ASP ALA THR LYS THR PHE THR VAL THR GLU MET VAL THR GLU VAL PRO GLY ASP ALA PRO THR GLU PRO GLU LYS PRO GLU ALA SER ILE PRO LEU VAL PRO LEU THR PRO ALA THR PRO ILE ALA LYS ASP ASP ALA LYS LYS ASP ASP THR LYS LYS GLU ASP ALA LYS LYS PRO GLU ALA LYS LYS ASP ASP ALA LYS LYS ALA GLU THR LEU PRO THR THR GLY GLU GLY SER ASN PRO PHE PHE THR ALA ALA ALA LEU ALA VAL MET ALA GLY ALA GLY ALA LEU ALA VAL ALA SER LYS ARG LYS GLU ASP\n"
     ]
    }
   ],
   "source": [
    "protein_seq_protein_G = ssf.get_protein_seq('P06654')\n",
    "print(protein_seq_protein_G)"
   ]
  },
  {
   "cell_type": "code",
   "execution_count": 99,
   "id": "3d935970",
   "metadata": {},
   "outputs": [
    {
     "name": "stdout",
     "output_type": "stream",
     "text": [
      "['THR', 'TYR', 'LYS', 'LEU', 'ILE', 'LEU', 'ASN']\n"
     ]
    }
   ],
   "source": [
    "protein_seq_protein_G_split = protein_seq_protein_G.split()\n",
    "print(protein_seq_protein_G_split[227:234])"
   ]
  },
  {
   "cell_type": "code",
   "execution_count": 108,
   "id": "1401726e",
   "metadata": {},
   "outputs": [
    {
     "name": "stdout",
     "output_type": "stream",
     "text": [
      "1221\n"
     ]
    }
   ],
   "source": [
    "print(len(protein_G_df))"
   ]
  },
  {
   "cell_type": "code",
   "execution_count": 111,
   "id": "b4dbdd21",
   "metadata": {},
   "outputs": [],
   "source": [
    "# protein_G_train_df, protein_G_test_df, protein_G_remaining_df = get_train_and_test_df(protein_G_df, 0.53, 878)\n",
    "# protein_G_df_format = pd.concat([protein_G_train_df, protein_G_test_df])\n",
    "# print(len(protein_G_df_format))\n",
    "# # ssf.write_data_file(\"protein_G_MLformat_453_train_639_test_t3\", protein_seq_protein_G, protein_G_df_format)\n",
    "\n",
    "# not enough for test and train set"
   ]
  },
  {
   "cell_type": "markdown",
   "id": "e9c61ab9",
   "metadata": {},
   "source": [
    "From Gelman et al."
   ]
  },
  {
   "cell_type": "markdown",
   "id": "b446883f",
   "metadata": {},
   "source": [
    "**avGFP**"
   ]
  },
  {
   "cell_type": "code",
   "execution_count": 31,
   "id": "af5c9653",
   "metadata": {},
   "outputs": [],
   "source": [
    "# importing STRIDE file\n",
    "path = \"../PDB and STRIDE Files/\" + 'avgfp_stride.txt'\n",
    "avgfp_stride_file = open(path, 'r')"
   ]
  },
  {
   "cell_type": "code",
   "execution_count": 32,
   "id": "2c8ce2dd",
   "metadata": {},
   "outputs": [],
   "source": [
    "avgfp_ss_indexes = ssf.get_all_sec_struc_boolean(avgfp_stride_file) # boolean list of secondary structure assignements"
   ]
  },
  {
   "cell_type": "code",
   "execution_count": 33,
   "id": "7b6f676d",
   "metadata": {},
   "outputs": [
    {
     "name": "stdout",
     "output_type": "stream",
     "text": [
      "209\n",
      "28\n"
     ]
    }
   ],
   "source": [
    "ss = avgfp_ss_indexes.count(True)\n",
    "not_ss = avgfp_ss_indexes.count(False)\n",
    "print(ss)\n",
    "print(not_ss)"
   ]
  },
  {
   "cell_type": "markdown",
   "id": "a01b93e2",
   "metadata": {},
   "source": [
    "Formatting Data"
   ]
  },
  {
   "cell_type": "code",
   "execution_count": 34,
   "id": "03905bd2",
   "metadata": {},
   "outputs": [
    {
     "name": "stdout",
     "output_type": "stream",
     "text": [
      "54024\n",
      "Index(['variant', 'num_mutations', 'score', 'score_wt_norm'], dtype='object')\n"
     ]
    }
   ],
   "source": [
    "# importing avGFP data from Gelman et al.\n",
    "avgfp_df1 = pd.read_csv(\"../Raw Data/avgfp.tsv.txt\", sep=\"\\t\")\n",
    "avgfp_df = avgfp_df1.dropna()\n",
    "print(len(avgfp_df))\n",
    "print(avgfp_df.columns)"
   ]
  },
  {
   "cell_type": "code",
   "execution_count": 35,
   "id": "0b9c347f",
   "metadata": {},
   "outputs": [
    {
     "name": "stdout",
     "output_type": "stream",
     "text": [
      "54024\n",
      "51714\n"
     ]
    }
   ],
   "source": [
    "# rounding score column to 2 decimal points\n",
    "avgfp_df[\"score\"] = avgfp_df[\"score\"].round(6)\n",
    "print(len(avgfp_df))\n",
    "\n",
    "# remove values with wildcard star thing cause idk what it means\n",
    "avgfp_df = avgfp_df[avgfp_df[\"variant\"].str.contains(\"\\*\") == False]\n",
    "\n",
    "# pab1_df = pab1_df.head(37600)\n",
    "# avgfp_df = avgfp_df.sample(n=160)\n",
    "print(len(avgfp_df))"
   ]
  },
  {
   "cell_type": "code",
   "execution_count": 36,
   "id": "d177943f",
   "metadata": {},
   "outputs": [
    {
     "name": "stdout",
     "output_type": "stream",
     "text": [
      "237\n",
      "SER LYS GLY GLU GLU LEU PHE THR GLY VAL VAL PRO ILE LEU VAL GLU LEU ASP GLY ASP VAL ASN GLY HIS LYS PHE SER VAL SER GLY GLU GLY GLU GLY ASP ALA THR TYR GLY LYS LEU THR LEU LYS PHE ILE CYS THR THR GLY LYS LEU PRO VAL PRO TRP PRO THR LEU VAL THR THR LEU SER TYR GLY VAL GLN CYS PHE SER ARG TYR PRO ASP HIS MET LYS GLN HIS ASP PHE PHE LYS SER ALA MET PRO GLU GLY TYR VAL GLN GLU ARG THR ILE PHE PHE LYS ASP ASP GLY ASN TYR LYS THR ARG ALA GLU VAL LYS PHE GLU GLY ASP THR LEU VAL ASN ARG ILE GLU LEU LYS GLY ILE ASP PHE LYS GLU ASP GLY ASN ILE LEU GLY HIS LYS LEU GLU TYR ASN TYR ASN SER HIS ASN VAL TYR ILE MET ALA ASP LYS GLN LYS ASN GLY ILE LYS VAL ASN PHE LYS ILE ARG HIS ASN ILE GLU ASP GLY SER VAL GLN LEU ALA ASP HIS TYR GLN GLN ASN THR PRO ILE GLY ASP GLY PRO VAL LEU LEU PRO ASP ASN HIS TYR LEU SER THR GLN SER ALA LEU SER LYS ASP PRO ASN GLU LYS ARG ASP HIS MET VAL LEU LEU GLU PHE VAL THR ALA ALA GLY ILE THR HIS GLY MET ASP GLU LEU TYR LYS\n"
     ]
    }
   ],
   "source": [
    "# getting dataset size to run\n",
    "\n",
    "string_seq = \"SKGEELFTGVVPILVELDGDVNGHKFSVSGEGEGDATYGKLTLKFICTTGKLPVPWPTLVTTLSYGVQCFSRYPDHMKQHDFFKSAMPEGYVQERTIFFKDDGNYKTRAEVKFEGDTLVNRIELKGIDFKEDGNILGHKLEYNYNSHNVYIMADKQKNGIKVNFKIRHNIEDGSVQLADHYQQNTPIGDGPVLLPDNHYLSTQSALSKDPNEKRDHMVLLEFVTAAGITHGMDELYK\"\n",
    "print(len(string_seq)) \n",
    "protein_seq_avgfp = ssf.get_expanded_seq(string_seq)\n",
    "print(protein_seq_avgfp)"
   ]
  },
  {
   "cell_type": "code",
   "execution_count": 37,
   "id": "529a3aca",
   "metadata": {},
   "outputs": [
    {
     "name": "stdout",
     "output_type": "stream",
     "text": [
      "237\n",
      "THR\n"
     ]
    }
   ],
   "source": [
    "protein_seq_avgfp_split = protein_seq_avgfp.split()\n",
    "print(len(protein_seq_avgfp_split))\n",
    "print(protein_seq_avgfp_split[60])\n",
    "\n",
    "# 165VAL -> ILE"
   ]
  },
  {
   "cell_type": "code",
   "execution_count": 38,
   "id": "0d70812b",
   "metadata": {},
   "outputs": [],
   "source": [
    "# splitting variant list if there are multiple mutations\n",
    "avgfp_mut = avgfp_df[\"variant\"].str.split(\",\")\n",
    "\n",
    "# get wild type of residue and place in seperate col\n",
    "avgfp_df[\"WILD_TYPE_RES\"] = ssf.get_wild_type(avgfp_mut)\n",
    "\n",
    "# get mutated residue and place in seperate col\n",
    "avgfp_df[\"MUTATED_RES\"] = ssf.get_mutation_type(avgfp_mut)\n",
    "\n",
    "# get position and place in seperate col\n",
    "avgfp_df[\"POSITION\"] = ssf.get_position(avgfp_mut)\n",
    "\n",
    "# replace variant column with reformatted variant name\n",
    "avgfp_df[\"variant\"] = ssf.get_mutations_names_list(avgfp_df)\n",
    "\n",
    "# drop unneccesary columns\n",
    "to_drop = [\"WILD_TYPE_RES\", \"MUTATED_RES\", \"POSITION\"]\n",
    "\n",
    "# avgfp_df = avgfp_df.drop(columns=to_drop)"
   ]
  },
  {
   "cell_type": "code",
   "execution_count": 39,
   "id": "8c44ab03",
   "metadata": {},
   "outputs": [],
   "source": [
    "\n",
    "# need positionssplit\n",
    "avgfp_df[\"positions_split\"] = ssf.get_positions_split(avgfp_df)\n",
    "\n",
    "# add in_sec_str_col\n",
    "avgfp_df = add_sec_str_col(avgfp_df, avgfp_ss_indexes, 0)"
   ]
  },
  {
   "cell_type": "code",
   "execution_count": 23,
   "id": "cf7ff9c0",
   "metadata": {},
   "outputs": [
    {
     "ename": "NameError",
     "evalue": "name 'avgfp_test_df' is not defined",
     "output_type": "error",
     "traceback": [
      "\u001b[1;31m---------------------------------------------------------------------------\u001b[0m",
      "\u001b[1;31mNameError\u001b[0m                                 Traceback (most recent call last)",
      "\u001b[1;32m~\\AppData\\Local\\Temp\\ipykernel_8676\\4129410156.py\u001b[0m in \u001b[0;36m<cell line: 1>\u001b[1;34m()\u001b[0m\n\u001b[1;32m----> 1\u001b[1;33m \u001b[0mavgfp_train_df_2\u001b[0m\u001b[1;33m,\u001b[0m \u001b[0mavgfp_test_df_2\u001b[0m\u001b[1;33m,\u001b[0m \u001b[0mavgfp_remaining_df\u001b[0m \u001b[1;33m=\u001b[0m \u001b[0mget_train_and_test_df\u001b[0m\u001b[1;33m(\u001b[0m\u001b[0mavgfp_test_df\u001b[0m\u001b[1;33m,\u001b[0m \u001b[1;36m0.64\u001b[0m\u001b[1;33m,\u001b[0m \u001b[1;36m465\u001b[0m\u001b[1;33m)\u001b[0m\u001b[1;33m\u001b[0m\u001b[1;33m\u001b[0m\u001b[0m\n\u001b[0m\u001b[0;32m      2\u001b[0m \u001b[0mavgfp_df_format\u001b[0m \u001b[1;33m=\u001b[0m \u001b[0mpd\u001b[0m\u001b[1;33m.\u001b[0m\u001b[0mconcat\u001b[0m\u001b[1;33m(\u001b[0m\u001b[1;33m[\u001b[0m\u001b[0mavgfp_train_df\u001b[0m\u001b[1;33m,\u001b[0m \u001b[0mavgfp_test_df_2\u001b[0m\u001b[1;33m]\u001b[0m\u001b[1;33m)\u001b[0m\u001b[1;33m\u001b[0m\u001b[1;33m\u001b[0m\u001b[0m\n\u001b[0;32m      3\u001b[0m \u001b[0mprint\u001b[0m\u001b[1;33m(\u001b[0m\u001b[0mlen\u001b[0m\u001b[1;33m(\u001b[0m\u001b[0mavgfp_df_format\u001b[0m\u001b[1;33m)\u001b[0m\u001b[1;33m)\u001b[0m\u001b[1;33m\u001b[0m\u001b[1;33m\u001b[0m\u001b[0m\n\u001b[0;32m      4\u001b[0m \u001b[1;31m# ssf.write_data_file(\"avgfp_MLformat_465_train_19458_test_t3\", protein_seq_avgfp, avgfp_df_format)\u001b[0m\u001b[1;33m\u001b[0m\u001b[1;33m\u001b[0m\u001b[0m\n",
      "\u001b[1;31mNameError\u001b[0m: name 'avgfp_test_df' is not defined"
     ]
    }
   ],
   "source": [
    "avgfp_train_df, avgfp_test_df, avgfp_remaining_df = get_train_and_test_df(avgfp_test_df, 0.88, 465)\n",
    "avgfp_df_format = pd.concat([avgfp_train_df, avgfp_test_df_2])\n",
    "print(len(avgfp_df_format))\n",
    "# ssf.write_data_file(\"avgfp_MLformat_465_train_19458_test_t3\", protein_seq_avgfp, avgfp_df_format)"
   ]
  },
  {
   "cell_type": "code",
   "execution_count": 46,
   "id": "16e568e1",
   "metadata": {},
   "outputs": [
    {
     "name": "stdout",
     "output_type": "stream",
     "text": [
      "in fraction,df len51714\n",
      "409\n",
      "56\n",
      "Train Data Fraction: 0.88\n",
      "false_df len20361\n",
      "true_df len31353\n",
      "in fraction,df len51249\n",
      "Test Data Fraction: 0.88\n",
      "false_df len20305\n",
      "true_df len30944\n",
      "Size of Test Dataset: 35158\n",
      "Size of Total Dataset: 35623\n",
      "in fraction,df len35158\n",
      "17600\n",
      "2400\n",
      "Train Data Fraction: 0.88\n",
      "false_df len4219\n",
      "true_df len30939\n",
      "in fraction,df len15158\n",
      "Test Data Fraction: 0.88\n",
      "false_df len1819\n",
      "true_df len13339\n",
      "Size of Test Dataset: 15150\n",
      "Size of Total Dataset: 35150\n",
      "SMALL TEST\n",
      "15150\n",
      "15615\n",
      "Filename: avgfp_MLformat_465_train_15150_test_t3.txt\n"
     ]
    }
   ],
   "source": [
    "avgfp_train_df, avgfp_test_df, avgfp_remaining_df = get_train_and_test_df(avgfp_df, 0.88, 465)\n",
    "avgfp_train_dummy, avgfp_small_test_df, avgfp_remaining_df = get_train_and_test_df(avgfp_test_df, 0.88, 20000)\n",
    "print(\"SMALL TEST\")\n",
    "print(len(avgfp_small_test_df))\n",
    "avgfp_df_format = pd.concat([avgfp_train_df, avgfp_small_test_df])\n",
    "print(len(avgfp_df_format))\n",
    "ssf.write_data_file(\"avgfp_MLformat_465_train_15150_test_t3\", protein_seq_avgfp, avgfp_df_format)"
   ]
  },
  {
   "cell_type": "code",
   "execution_count": 103,
   "id": "c8dc698b",
   "metadata": {},
   "outputs": [
    {
     "name": "stdout",
     "output_type": "stream",
     "text": [
      "in fraction,df len51714\n",
      "297\n",
      "168\n",
      "Train Data Fraction: 0.639\n",
      "false_df len38961\n",
      "true_df len12753\n",
      "in fraction,df len51249\n",
      "Test Data Fraction: 0.64\n",
      "false_df len38793\n",
      "true_df len12456\n",
      "Size of Test Dataset: 19458\n",
      "Size of Total Dataset: 19923\n",
      "19923\n",
      "Filename: avgfp_MLformat_982_train_19458_test_t2.txt\n"
     ]
    }
   ],
   "source": [
    "avgfp_train_df_2, avgfp_test_df_2, avgfp_remaining_df_2 = get_train_and_test_df(avgfp_df, 0.64, 465)\n",
    "avgfp_df_format_2 = pd.concat([avgfp_train_df_2, avgfp_test_df_2])\n",
    "print(len(avgfp_df_format_2))\n",
    "ssf.write_data_file(\"avgfp_MLformat_465_train_19458_test_t2\", protein_seq_avgfp, avgfp_df_format_2)"
   ]
  },
  {
   "cell_type": "code",
   "execution_count": 104,
   "id": "1938c550",
   "metadata": {},
   "outputs": [
    {
     "name": "stdout",
     "output_type": "stream",
     "text": [
      "in fraction,df len51714\n",
      "297\n",
      "168\n",
      "Train Data Fraction: 0.639\n",
      "false_df len38961\n",
      "true_df len12753\n",
      "in fraction,df len51249\n",
      "Test Data Fraction: 0.64\n",
      "false_df len38793\n",
      "true_df len12456\n",
      "Size of Test Dataset: 19458\n",
      "Size of Total Dataset: 19923\n",
      "19923\n",
      "Filename: avgfp_MLformat_982_train_19458_test_t3.txt\n"
     ]
    }
   ],
   "source": [
    "avgfp_train_df_3, avgfp_test_df_3, avgfp_remaining_df_3 = get_train_and_test_df(avgfp_df, 0.64, 465)\n",
    "avgfp_df_format_3 = pd.concat([avgfp_train_df_3, avgfp_test_df_3])\n",
    "print(len(avgfp_df_format_3))\n",
    "ssf.write_data_file(\"avgfp_MLformat_465_train_19458_test_t3\", protein_seq_avgfp, avgfp_df_format_3)"
   ]
  },
  {
   "cell_type": "code",
   "execution_count": 105,
   "id": "77675cd1",
   "metadata": {},
   "outputs": [
    {
     "name": "stdout",
     "output_type": "stream",
     "text": [
      "465\n",
      "19458\n",
      "465\n",
      "19458\n",
      "465\n",
      "19458\n"
     ]
    }
   ],
   "source": [
    "print(len(avgfp_train_df))\n",
    "print(len(avgfp_test_df))\n",
    "print(len(avgfp_train_df_2))\n",
    "print(len(avgfp_test_df_2))\n",
    "print(len(avgfp_train_df_3))\n",
    "print(len(avgfp_test_df_3))"
   ]
  },
  {
   "cell_type": "code",
   "execution_count": 100,
   "id": "4d480a01",
   "metadata": {},
   "outputs": [
    {
     "name": "stdout",
     "output_type": "stream",
     "text": [
      "in fraction,df len51714\n",
      "297\n",
      "168\n",
      "Train Data Fraction: 0.639\n",
      "false_df len38961\n",
      "true_df len12753\n",
      "in fraction,df len51249\n",
      "Test Data Fraction: 0.64\n",
      "false_df len38793\n",
      "true_df len12456\n",
      "Size of Test Dataset: 19458\n",
      "Size of Total Dataset: 19923\n"
     ]
    }
   ],
   "source": [
    "# avgfp_train_df, avgfp_new_test_df, avgfp_new_remaining_df = get_train_and_test_df(avgfp_test_df, 0.64, 465)"
   ]
  },
  {
   "cell_type": "code",
   "execution_count": null,
   "id": "c3f6cab9",
   "metadata": {},
   "outputs": [],
   "source": []
  },
  {
   "cell_type": "markdown",
   "id": "9b7aeef4",
   "metadata": {},
   "source": [
    "**GB1**"
   ]
  },
  {
   "cell_type": "code",
   "execution_count": 87,
   "id": "7d12a11e",
   "metadata": {},
   "outputs": [],
   "source": [
    "# importing STRIDE file\n",
    "path = \"../PDB and STRIDE Files/\" + 'gb1_stride.txt'\n",
    "gb1_stride_file = open(path, 'r')"
   ]
  },
  {
   "cell_type": "code",
   "execution_count": 88,
   "id": "0439dec9",
   "metadata": {},
   "outputs": [],
   "source": [
    "gb1_ss_indexes = ssf.get_all_sec_struc_boolean(gb1_stride_file) # boolean list of secondary structure assignements"
   ]
  },
  {
   "cell_type": "code",
   "execution_count": 89,
   "id": "8a6166dc",
   "metadata": {},
   "outputs": [
    {
     "name": "stdout",
     "output_type": "stream",
     "text": [
      "47\n",
      "9\n"
     ]
    }
   ],
   "source": [
    "ss = gb1_ss_indexes.count(True)\n",
    "not_ss = gb1_ss_indexes.count(False)\n",
    "print(ss)\n",
    "print(not_ss)"
   ]
  },
  {
   "cell_type": "code",
   "execution_count": 90,
   "id": "4aee2008",
   "metadata": {},
   "outputs": [
    {
     "name": "stdout",
     "output_type": "stream",
     "text": [
      "536084\n",
      "Index(['variant', 'num_mutations', 'inp', 'sel', 'score'], dtype='object')\n"
     ]
    }
   ],
   "source": [
    "# importing pab1 data from Gelman et al.\n",
    "gb1_df1 = pd.read_csv(\"../Raw Data/gb1.tsv.txt\", sep=\"\\t\")\n",
    "gb1_df = gb1_df1.dropna()\n",
    "print(len(gb1_df))\n",
    "# gb1_df = gb1_df.sample(n=480)\n",
    "print(gb1_df.columns)\n",
    "gb1_df = gb1_df.sample(frac=1)"
   ]
  },
  {
   "cell_type": "code",
   "execution_count": 91,
   "id": "56682961",
   "metadata": {},
   "outputs": [
    {
     "name": "stdout",
     "output_type": "stream",
     "text": [
      "536084\n",
      "536084\n"
     ]
    }
   ],
   "source": [
    "# rounding score column to 2 decimal points\n",
    "gb1_df[\"score\"] = gb1_df[\"score\"].round(6)\n",
    "print(len(gb1_df))\n",
    "\n",
    "# remove values with wildcard star thing cause idk what it means\n",
    "gb1_df = gb1_df[gb1_df[\"variant\"].str.contains(\"\\*\") == False]\n",
    "\n",
    "# gb1_df = gb1_df.sample(n=40)\n",
    "# pab1_df = pab1_df.head(37600)\n",
    "print(len(gb1_df))"
   ]
  },
  {
   "cell_type": "code",
   "execution_count": 183,
   "id": "da656d6b",
   "metadata": {},
   "outputs": [],
   "source": [
    "# getting protein sequence\n",
    "# protein_seq_gb1 = ssf.get_protein_seq(\"P04386\")"
   ]
  },
  {
   "cell_type": "code",
   "execution_count": 92,
   "id": "9de07a68",
   "metadata": {},
   "outputs": [
    {
     "name": "stdout",
     "output_type": "stream",
     "text": [
      "56\n",
      "MET GLN TYR LYS LEU ILE LEU ASN GLY LYS THR LEU LYS GLY GLU THR THR THR GLU ALA VAL ASP ALA ALA THR ALA GLU LYS VAL PHE LYS GLN TYR ALA ASN ASP ASN GLY VAL ASP GLY GLU TRP THR TYR ASP ASP ALA THR LYS THR PHE THR VAL THR GLU\n"
     ]
    }
   ],
   "source": [
    "# getting dataset size to run\n",
    "\n",
    "string_seq = \"MQYKLILNGKTLKGETTTEAVDAATAEKVFKQYANDNGVDGEWTYDDATKTFTVTE\"\n",
    "print(len(string_seq)) # <- domain length of 75\n",
    "protein_seq_gb1 = ssf.get_expanded_seq(string_seq)\n",
    "print(protein_seq_gb1)"
   ]
  },
  {
   "cell_type": "code",
   "execution_count": 93,
   "id": "8e6f74f4",
   "metadata": {},
   "outputs": [],
   "source": [
    "# splitting variant list if there are multiple mutations\n",
    "gb1_mut = gb1_df[\"variant\"].str.split(\",\")\n",
    "\n",
    "# get wild type of residue and place in seperate col\n",
    "gb1_df[\"WILD_TYPE_RES\"] = ssf.get_wild_type(gb1_mut)\n",
    "\n",
    "# get mutated residue and place in seperate col\n",
    "gb1_df[\"MUTATED_RES\"] = ssf.get_mutation_type(gb1_mut)\n",
    "\n",
    "# get position and place in seperate col\n",
    "gb1_df[\"POSITION\"] = ssf.get_position(gb1_mut)\n",
    "\n",
    "# replace variant column with reformatted variant name\n",
    "gb1_df[\"variant\"] = ssf.get_mutations_names_list(gb1_df)\n",
    "\n",
    "# drop unneccesary columns\n",
    "to_drop = [\"WILD_TYPE_RES\", \"MUTATED_RES\", \"POSITION\"]\n",
    "\n",
    "# gb1_df = gb1_df.drop(columns=to_drop)"
   ]
  },
  {
   "cell_type": "code",
   "execution_count": 94,
   "id": "98925273",
   "metadata": {},
   "outputs": [],
   "source": [
    "# need positionssplit\n",
    "gb1_df[\"positions_split\"] = ssf.get_positions_split(gb1_df)\n",
    "\n",
    "# add in_sec_str_col\n",
    "gb1_df = add_sec_str_col(gb1_df, gb1_ss_indexes, 0)"
   ]
  },
  {
   "cell_type": "code",
   "execution_count": 15,
   "id": "e4dd94aa",
   "metadata": {},
   "outputs": [
    {
     "name": "stdout",
     "output_type": "stream",
     "text": [
      "Filename: gb1_MLformat_full_dataset.txt\n"
     ]
    }
   ],
   "source": [
    "# ssf.write_data_file(\"gb1_MLformat_full_dataset\", protein_seq_gb1, gb1_df)"
   ]
  },
  {
   "cell_type": "code",
   "execution_count": 99,
   "id": "7c4ef844",
   "metadata": {
    "scrolled": true
   },
   "outputs": [
    {
     "name": "stdout",
     "output_type": "stream",
     "text": [
      "in fraction,df len536084\n",
      "77\n",
      "33\n",
      "Train Data Fraction: 0.7\n",
      "false_df len145781\n",
      "true_df len390303\n",
      "in fraction,df len535974\n",
      "Test Data Fraction: 0.7\n",
      "false_df len145748\n",
      "true_df len390226\n",
      "Size of Test Dataset: 485823\n",
      "Size of Total Dataset: 485933\n"
     ]
    },
    {
     "ename": "NameError",
     "evalue": "name 'gb1_test_10000' is not defined",
     "output_type": "error",
     "traceback": [
      "\u001b[1;31m---------------------------------------------------------------------------\u001b[0m",
      "\u001b[1;31mNameError\u001b[0m                                 Traceback (most recent call last)",
      "\u001b[1;32m~\\AppData\\Local\\Temp\\ipykernel_21904\\2870214943.py\u001b[0m in \u001b[0;36m<cell line: 3>\u001b[1;34m()\u001b[0m\n\u001b[0;32m      1\u001b[0m \u001b[0mgb1_train_df\u001b[0m\u001b[1;33m,\u001b[0m \u001b[0mgb1_test_df\u001b[0m\u001b[1;33m,\u001b[0m \u001b[0mgb1_remaining_df\u001b[0m \u001b[1;33m=\u001b[0m \u001b[0mget_train_and_test_df\u001b[0m\u001b[1;33m(\u001b[0m\u001b[0mgb1_df\u001b[0m\u001b[1;33m,\u001b[0m \u001b[1;36m0.70\u001b[0m\u001b[1;33m,\u001b[0m \u001b[1;36m110\u001b[0m\u001b[1;33m)\u001b[0m\u001b[1;33m\u001b[0m\u001b[1;33m\u001b[0m\u001b[0m\n\u001b[0;32m      2\u001b[0m \u001b[1;31m# gb1_test_10000 = gb1_test_df.head(10000)\u001b[0m\u001b[1;33m\u001b[0m\u001b[1;33m\u001b[0m\u001b[0m\n\u001b[1;32m----> 3\u001b[1;33m \u001b[0mgb1_df_format\u001b[0m \u001b[1;33m=\u001b[0m \u001b[0mpd\u001b[0m\u001b[1;33m.\u001b[0m\u001b[0mconcat\u001b[0m\u001b[1;33m(\u001b[0m\u001b[1;33m[\u001b[0m\u001b[0mgb1_train_df\u001b[0m\u001b[1;33m,\u001b[0m \u001b[0mgb1_test_10000\u001b[0m\u001b[1;33m]\u001b[0m\u001b[1;33m)\u001b[0m\u001b[1;33m\u001b[0m\u001b[1;33m\u001b[0m\u001b[0m\n\u001b[0m\u001b[0;32m      4\u001b[0m \u001b[0mprint\u001b[0m\u001b[1;33m(\u001b[0m\u001b[0mlen\u001b[0m\u001b[1;33m(\u001b[0m\u001b[0mgb1_df_format\u001b[0m\u001b[1;33m)\u001b[0m\u001b[1;33m)\u001b[0m\u001b[1;33m\u001b[0m\u001b[1;33m\u001b[0m\u001b[0m\n\u001b[0;32m      5\u001b[0m \u001b[1;31m# writing data to txt file\u001b[0m\u001b[1;33m\u001b[0m\u001b[1;33m\u001b[0m\u001b[0m\n",
      "\u001b[1;31mNameError\u001b[0m: name 'gb1_test_10000' is not defined"
     ]
    }
   ],
   "source": [
    "gb1_train_df, gb1_test_df, gb1_remaining_df = get_train_and_test_df(gb1_df, 0.70, 110)\n",
    "# gb1_test_10000 = gb1_test_df.head(10000)\n",
    "gb1_df_format = pd.concat([gb1_train_df, gb1_test_10000])\n",
    "print(len(gb1_df_format))\n",
    "# writing data to txt file\n",
    "# ssf.write_data_file(\"gb1_MLformat_110_train_382146_test_t1\", protein_seq_gb1, gb1_df_format)"
   ]
  },
  {
   "cell_type": "code",
   "execution_count": 117,
   "id": "e6230693",
   "metadata": {},
   "outputs": [
    {
     "name": "stdout",
     "output_type": "stream",
     "text": [
      "in fraction,df len536084\n",
      "244999\n",
      "105001\n",
      "Train Data Fraction: 0.7\n",
      "false_df len268502\n",
      "true_df len267582\n",
      "in fraction,df len186084\n",
      "Test Data Fraction: 0.7\n",
      "false_df len163501\n",
      "true_df len22583\n",
      "Size of Test Dataset: 32256\n",
      "Size of Total Dataset: 382256\n"
     ]
    }
   ],
   "source": [
    "# make a smaller test size so program doesn't crash\n",
    "gb1_train_dummy, gb1_test_df, gb1_remaining_df = get_train_and_test_df(gb1_df, 0.70, 30000)"
   ]
  },
  {
   "cell_type": "code",
   "execution_count": 116,
   "id": "6a534f86",
   "metadata": {},
   "outputs": [
    {
     "name": "stdout",
     "output_type": "stream",
     "text": [
      "32256\n"
     ]
    }
   ],
   "source": [
    "print(len(gb1_test_df))"
   ]
  },
  {
   "cell_type": "code",
   "execution_count": 114,
   "id": "f96563fe",
   "metadata": {},
   "outputs": [
    {
     "name": "stdout",
     "output_type": "stream",
     "text": [
      "in fraction,df len536084\n",
      "92\n",
      "18\n",
      "Train Data Fraction: 0.836\n",
      "false_df len145781\n",
      "true_df len390303\n",
      "in fraction,df len535974\n",
      "Test Data Fraction: 0.84\n",
      "false_df len145763\n",
      "true_df len390211\n",
      "Size of Test Dataset: 464531\n",
      "Size of Total Dataset: 464641\n",
      "in fraction,df len464531\n",
      "378000\n",
      "72000\n",
      "Train Data Fraction: 0.84\n",
      "false_df len74325\n",
      "true_df len390206\n",
      "in fraction,df len14531\n",
      "Test Data Fraction: 0.84\n",
      "false_df len2325\n",
      "true_df len12206\n",
      "Size of Test Dataset: 14524\n",
      "Size of Total Dataset: 464524\n",
      "SMALL TEST\n",
      "14524\n",
      "14634\n",
      "Filename: gb1_MLformat_110_train_14524_test_t3.txt\n"
     ]
    }
   ],
   "source": [
    "gb1_train_df, gb1_test_df, gb1_remaining_df = get_train_and_test_df(gb1_df, 0.84, 110)\n",
    "gb1_train_dummy, gb1_small_test_df, gb1_remaining_df = get_train_and_test_df(gb1_test_df, 0.84, 450000)\n",
    "print(\"SMALL TEST\")\n",
    "print(len(gb1_small_test_df))\n",
    "gb1_df_format = pd.concat([gb1_train_df, gb1_small_test_df])\n",
    "print(len(gb1_df_format))\n",
    "ssf.write_data_file(\"gb1_MLformat_110_train_14524_test_t3\", protein_seq_gb1, gb1_df_format)"
   ]
  },
  {
   "cell_type": "code",
   "execution_count": 37,
   "id": "da00df42",
   "metadata": {},
   "outputs": [
    {
     "name": "stdout",
     "output_type": "stream",
     "text": [
      "in fraction,df len25737\n",
      "530\n",
      "452\n",
      "Train Data Fraction: 0.54\n",
      "false_df len17674\n",
      "true_df len8063\n",
      "in fraction,df len24755\n",
      "Test Data Fraction: 0.54\n",
      "false_df len17222\n",
      "true_df len7533\n",
      "Size of Test Dataset: 13945\n",
      "Size of Total Dataset: 14927\n",
      "14927\n",
      "Filename: bgl3_MLformat_982_train_13945_test_t2.txt\n"
     ]
    }
   ],
   "source": [
    "gb1_train_df_2, gb1_test_df_2, gb1_remaining_df_2 = get_train_and_test_df(gb1_df, 0.70, 110)\n",
    "gb1_df_format_2 = pd.concat([gb1_train_df_2, gb1_test_df_2])\n",
    "print(len(gb1_df_format_2))\n",
    "ssf.write_data_file(\"gb1_MLformat_982_train_13945_test_t2\", protein_seq_gb1, gb1_df_format_2)"
   ]
  },
  {
   "cell_type": "code",
   "execution_count": 41,
   "id": "676b4719",
   "metadata": {},
   "outputs": [
    {
     "name": "stdout",
     "output_type": "stream",
     "text": [
      "in fraction,df len25737\n",
      "530\n",
      "452\n",
      "Train Data Fraction: 0.54\n",
      "false_df len17674\n",
      "true_df len8063\n",
      "in fraction,df len24755\n",
      "Test Data Fraction: 0.54\n",
      "false_df len17222\n",
      "true_df len7533\n",
      "Size of Test Dataset: 13945\n",
      "Size of Total Dataset: 14927\n",
      "14927\n",
      "Filename: bgl3_MLformat_982_train_13945_test_t3.txt\n"
     ]
    }
   ],
   "source": [
    "gb1_train_df_3, gb1_test_df_3, gb1_remaining_df_3 = get_train_and_test_df(gb1_df, 0.70, 110)\n",
    "gb1_df_format_3 = pd.concat([gb1_train_df_3, gb1_test_df_3])\n",
    "print(len(gb1_df_format_3))\n",
    "ssf.write_data_file(\"gb1_MLformat_982_train_13945_test_t3\", protein_seq_gb1, gb1_df_format_3)"
   ]
  },
  {
   "cell_type": "code",
   "execution_count": 42,
   "id": "945d7a13",
   "metadata": {},
   "outputs": [
    {
     "name": "stdout",
     "output_type": "stream",
     "text": [
      "982\n",
      "13945\n",
      "982\n",
      "13945\n",
      "982\n",
      "13945\n"
     ]
    }
   ],
   "source": [
    "print(len(gb1_train_df))\n",
    "print(len(gb1_test_df))\n",
    "print(len(gb1_train_df_2))\n",
    "print(len(gb1_test_df_2))\n",
    "print(len(gb1_train_df_3))\n",
    "print(len(gb1_test_df_3))"
   ]
  },
  {
   "cell_type": "code",
   "execution_count": null,
   "id": "db516906",
   "metadata": {},
   "outputs": [],
   "source": []
  },
  {
   "cell_type": "markdown",
   "id": "3715ca07",
   "metadata": {},
   "source": [
    "**GAL4**"
   ]
  },
  {
   "cell_type": "code",
   "execution_count": 77,
   "id": "29913e6b",
   "metadata": {},
   "outputs": [],
   "source": [
    "# importing STRIDE file\n",
    "path = \"../PDB and STRIDE Files/\" + 'gal4_stride.txt'\n",
    "gal4_stride_file = open(path, 'r')"
   ]
  },
  {
   "cell_type": "code",
   "execution_count": 78,
   "id": "a935928e",
   "metadata": {},
   "outputs": [],
   "source": [
    "gal4_ss_indexes = ssf.get_sec_struc_boolean(gal4_stride_file) # boolean list of secondary structure assignements"
   ]
  },
  {
   "cell_type": "code",
   "execution_count": 79,
   "id": "e740a750",
   "metadata": {},
   "outputs": [
    {
     "name": "stdout",
     "output_type": "stream",
     "text": [
      "415\n",
      "466\n"
     ]
    }
   ],
   "source": [
    "ss = gal4_ss_indexes.count(True)\n",
    "not_ss = gal4_ss_indexes.count(False)\n",
    "print(ss)\n",
    "print(not_ss)"
   ]
  },
  {
   "cell_type": "markdown",
   "id": "5eaa7c8e",
   "metadata": {},
   "source": [
    "**Alpha-synuclein**"
   ]
  },
  {
   "cell_type": "code",
   "execution_count": 80,
   "id": "8e8527fc",
   "metadata": {},
   "outputs": [],
   "source": [
    "# importing STRIDE file\n",
    "path = \"../PDB and STRIDE Files/\" + 'alpha-synuclein_stride.txt'\n",
    "alpha_synuclein_stride_file = open(path, 'r')"
   ]
  },
  {
   "cell_type": "code",
   "execution_count": 81,
   "id": "529330dd",
   "metadata": {},
   "outputs": [],
   "source": [
    "alpha_synuclein_ss_indexes = ssf.get_sec_struc_boolean(alpha_synuclein_stride_file) # boolean list of secondary structure assignements"
   ]
  },
  {
   "cell_type": "code",
   "execution_count": 82,
   "id": "02c410e4",
   "metadata": {},
   "outputs": [
    {
     "name": "stdout",
     "output_type": "stream",
     "text": [
      "92\n",
      "48\n"
     ]
    }
   ],
   "source": [
    "ss = alpha_synuclein_ss_indexes.count(True)\n",
    "not_ss = alpha_synuclein_ss_indexes.count(False)\n",
    "print(ss)\n",
    "print(not_ss)"
   ]
  },
  {
   "cell_type": "markdown",
   "id": "0675451f",
   "metadata": {},
   "source": [
    "**Small ubiquitin-related modifier 1**"
   ]
  },
  {
   "cell_type": "code",
   "execution_count": 83,
   "id": "4fd23a11",
   "metadata": {},
   "outputs": [],
   "source": [
    "# importing STRIDE file\n",
    "path = \"../PDB and STRIDE Files/\" + 'modifier_1_stride.txt'\n",
    "modifier_1_stride_file = open(path, 'r')"
   ]
  },
  {
   "cell_type": "code",
   "execution_count": 84,
   "id": "54b27e24",
   "metadata": {},
   "outputs": [],
   "source": [
    "modifier_1_ss_indexes = ssf.get_sec_struc_boolean(modifier_1_stride_file) # boolean list of secondary structure assignements"
   ]
  },
  {
   "cell_type": "code",
   "execution_count": 85,
   "id": "d6281f0f",
   "metadata": {},
   "outputs": [
    {
     "name": "stdout",
     "output_type": "stream",
     "text": [
      "47\n",
      "54\n"
     ]
    }
   ],
   "source": [
    "ss = modifier_1_ss_indexes.count(True)\n",
    "not_ss = modifier_1_ss_indexes.count(False)\n",
    "print(ss)\n",
    "print(not_ss)"
   ]
  },
  {
   "cell_type": "markdown",
   "id": "ac1de327",
   "metadata": {},
   "source": [
    "**TAR DNA-binding protein 43**"
   ]
  },
  {
   "cell_type": "code",
   "execution_count": 86,
   "id": "189f45e1",
   "metadata": {},
   "outputs": [],
   "source": [
    "# importing STRIDE file\n",
    "path = \"../PDB and STRIDE Files/\" + 'tar_stride.txt'\n",
    "tar_stride_file = open(path, 'r')"
   ]
  },
  {
   "cell_type": "code",
   "execution_count": 87,
   "id": "1ccd28d4",
   "metadata": {},
   "outputs": [],
   "source": [
    "tar_ss_indexes = ssf.get_sec_struc_boolean(tar_stride_file) # boolean list of secondary structure assignements"
   ]
  },
  {
   "cell_type": "code",
   "execution_count": 88,
   "id": "b84c08b0",
   "metadata": {},
   "outputs": [
    {
     "name": "stdout",
     "output_type": "stream",
     "text": [
      "149\n",
      "265\n"
     ]
    }
   ],
   "source": [
    "ss = tar_ss_indexes.count(True)\n",
    "not_ss = tar_ss_indexes.count(False)\n",
    "print(ss)\n",
    "print(not_ss)"
   ]
  },
  {
   "cell_type": "markdown",
   "id": "d6717535",
   "metadata": {},
   "source": [
    "**Human Glucokinase**"
   ]
  },
  {
   "cell_type": "markdown",
   "id": "be8ea616",
   "metadata": {},
   "source": [
    "## Cleaning MaveDB Data"
   ]
  },
  {
   "cell_type": "code",
   "execution_count": 130,
   "id": "8149a50a",
   "metadata": {},
   "outputs": [],
   "source": [
    "import re\n",
    "# delete rows with \"del\" in it or *\n",
    "# normalize scores? (already done in script)\n",
    "def format_mavedb_variant(df, variant_col_name, offset):\n",
    "    new_var_col = []\n",
    "    for variant in df[variant_col_name]:\n",
    "        wild_type = Bio.PDB.Polypeptide.three_to_one(variant[2:5].upper())\n",
    "        position = int(re.findall(\"[0-9]+\", variant)[0]) + offset\n",
    "        mut_type = Bio.PDB.Polypeptide.three_to_one(variant[-3:].upper())\n",
    "        new_var_col.append(wild_type + str(position) + mut_type)\n",
    "    return new_var_col"
   ]
  },
  {
   "cell_type": "markdown",
   "id": "920e582a",
   "metadata": {},
   "source": [
    "**GAL4**"
   ]
  },
  {
   "cell_type": "code",
   "execution_count": 235,
   "id": "02a98f06",
   "metadata": {},
   "outputs": [],
   "source": [
    "gal4_df1 = pd.read_csv(\"../Raw Data/gal4.csv.csv\")"
   ]
  },
  {
   "cell_type": "code",
   "execution_count": 236,
   "id": "081388b6",
   "metadata": {},
   "outputs": [
    {
     "name": "stdout",
     "output_type": "stream",
     "text": [
      "Index(['accession', 'hgvs_nt', 'hgvs_splice', 'hgvs_pro', 'score'], dtype='object', name=3)\n",
      "1323\n",
      "1196\n"
     ]
    }
   ],
   "source": [
    "# take note of offset\n",
    "\n",
    "# find columns and rename title column\n",
    "gal4_df1 = pd.read_csv(\"../Raw Data/gal4.csv.csv\")\n",
    "gal4_df1.columns = gal4_df1.iloc[3]\n",
    "print(gal4_df1.columns)\n",
    "print(len(gal4_df1))\n",
    "\n",
    "\n",
    "gal4_df = gal4_df1[(gal4_df1[\"hgvs_pro\"].str.contains(\"del\") == False) & (gal4_df1[\"hgvs_pro\"].str.contains(\"hgvs\") == False)\n",
    "                   & (gal4_df1[\"hgvs_pro\"].str.contains(\"Ter\") == False)]\n",
    "gal4_df = gal4_df.sample(frac=1)\n",
    "\n",
    "print(len(gal4_df))"
   ]
  },
  {
   "cell_type": "code",
   "execution_count": 244,
   "id": "cd2c50a7",
   "metadata": {},
   "outputs": [],
   "source": [
    "# getting uniprot to compare offset\n",
    "protein_seq_gal4 = ssf.get_protein_seq(\"P04386\")"
   ]
  },
  {
   "cell_type": "code",
   "execution_count": 245,
   "id": "cbb85dbc",
   "metadata": {},
   "outputs": [
    {
     "name": "stdout",
     "output_type": "stream",
     "text": [
      "PRO\n"
     ]
    }
   ],
   "source": [
    "# comparing offset\n",
    "protein_seq_gal4_list = protein_seq_gal4.split(\" \")\n",
    "# print(protein_seq_gal4_list)\n",
    "print(protein_seq_gal4_list[41]) "
   ]
  },
  {
   "cell_type": "code",
   "execution_count": 257,
   "id": "e817fcc9",
   "metadata": {},
   "outputs": [
    {
     "name": "stderr",
     "output_type": "stream",
     "text": [
      "C:\\Users\\deepti\\AppData\\Local\\Temp/ipykernel_1360/276527083.py:1: SettingWithCopyWarning: \n",
      "A value is trying to be set on a copy of a slice from a DataFrame.\n",
      "Try using .loc[row_indexer,col_indexer] = value instead\n",
      "\n",
      "See the caveats in the documentation: https://pandas.pydata.org/pandas-docs/stable/user_guide/indexing.html#returning-a-view-versus-a-copy\n",
      "  gal4_df[\"variant\"] = format_mavedb_variant(gal4_df, \"hgvs_pro\", 0)\n"
     ]
    }
   ],
   "source": [
    "gal4_df[\"variant\"] = format_mavedb_variant(gal4_df, \"hgvs_pro\", 0)"
   ]
  },
  {
   "cell_type": "code",
   "execution_count": 258,
   "id": "8002fcee",
   "metadata": {},
   "outputs": [
    {
     "name": "stderr",
     "output_type": "stream",
     "text": [
      "C:\\Users\\deepti\\AppData\\Local\\Temp/ipykernel_1360/789454968.py:5: SettingWithCopyWarning: \n",
      "A value is trying to be set on a copy of a slice from a DataFrame.\n",
      "Try using .loc[row_indexer,col_indexer] = value instead\n",
      "\n",
      "See the caveats in the documentation: https://pandas.pydata.org/pandas-docs/stable/user_guide/indexing.html#returning-a-view-versus-a-copy\n",
      "  gal4_df[\"WILD_TYPE_RES\"] = ssf.get_wild_type(gal4_mut)\n",
      "C:\\Users\\deepti\\AppData\\Local\\Temp/ipykernel_1360/789454968.py:8: SettingWithCopyWarning: \n",
      "A value is trying to be set on a copy of a slice from a DataFrame.\n",
      "Try using .loc[row_indexer,col_indexer] = value instead\n",
      "\n",
      "See the caveats in the documentation: https://pandas.pydata.org/pandas-docs/stable/user_guide/indexing.html#returning-a-view-versus-a-copy\n",
      "  gal4_df[\"MUTATED_RES\"] = ssf.get_mutation_type(gal4_mut)\n",
      "C:\\Users\\deepti\\AppData\\Local\\Temp/ipykernel_1360/789454968.py:11: SettingWithCopyWarning: \n",
      "A value is trying to be set on a copy of a slice from a DataFrame.\n",
      "Try using .loc[row_indexer,col_indexer] = value instead\n",
      "\n",
      "See the caveats in the documentation: https://pandas.pydata.org/pandas-docs/stable/user_guide/indexing.html#returning-a-view-versus-a-copy\n",
      "  gal4_df[\"POSITION\"] = ssf.get_position(gal4_mut)\n",
      "C:\\Users\\deepti\\AppData\\Local\\Temp/ipykernel_1360/789454968.py:14: SettingWithCopyWarning: \n",
      "A value is trying to be set on a copy of a slice from a DataFrame.\n",
      "Try using .loc[row_indexer,col_indexer] = value instead\n",
      "\n",
      "See the caveats in the documentation: https://pandas.pydata.org/pandas-docs/stable/user_guide/indexing.html#returning-a-view-versus-a-copy\n",
      "  gal4_df[\"variant\"] = ssf.get_mutations_names_list(gal4_df)\n"
     ]
    }
   ],
   "source": [
    "# splitting variant list if there are multiple mutations\n",
    "gal4_mut = gal4_df[\"variant\"].str.split(\",\")\n",
    "\n",
    "# get wild type of residue and place in seperate col\n",
    "gal4_df[\"WILD_TYPE_RES\"] = ssf.get_wild_type(gal4_mut)\n",
    "\n",
    "# get mutated residue and place in seperate col\n",
    "gal4_df[\"MUTATED_RES\"] = ssf.get_mutation_type(gal4_mut)\n",
    "\n",
    "# get position and place in seperate col\n",
    "gal4_df[\"POSITION\"] = ssf.get_position(gal4_mut)\n",
    "\n",
    "# replace variant column with reformatted variant name\n",
    "gal4_df[\"variant\"] = ssf.get_mutations_names_list(gal4_df)\n",
    "\n",
    "# drop unneccesary columns\n",
    "# to_drop = [\"WILD_TYPE_RES\", \"MUTATED_RES\", \"POSITION\"]\n",
    "\n",
    "# pab1_df = pab1_df.drop(columns=to_drop)"
   ]
  },
  {
   "cell_type": "code",
   "execution_count": null,
   "id": "20334ac4",
   "metadata": {},
   "outputs": [],
   "source": [
    "# getting training and test datasets\n",
    "\n",
    "# get ss position indexes\n",
    "path = \"../PDB and STRIDE Files/\" + 'gal4_stride.txt'\n",
    "gal4_stride_file = open(path, 'r')\n",
    "\n",
    "gal4_ss_indexes = ssf.get_sec_struc_boolean(gal4_stride_file) # boolean list of secondary structure assignements\n",
    "\n",
    "# need positionssplit\n",
    "gal4_df[\"positions_split\"] = ssf.get_positions_split(gal4_df)\n",
    "\n",
    "# add in_sec_str_col\n",
    "gal4_df = add_sec_str_col(gal4_df, gal4_ss_indexes, 0)"
   ]
  },
  {
   "cell_type": "code",
   "execution_count": null,
   "id": "07a5cbd4",
   "metadata": {},
   "outputs": [],
   "source": [
    "gal4_train_df, gal4_test_df = get_train_and_test_df(gal4_df, 0.47, 40)\n",
    "gal4_df_format = pd.concat([gal4_train_df, gal4_test_df])\n",
    "\n",
    "# writing data to txt file\n",
    "ssf.write_data_file(\"gal4_MLformat_40_train\", protein_seq_gal4, gal4_df_format)"
   ]
  },
  {
   "cell_type": "markdown",
   "id": "adcb0165",
   "metadata": {},
   "source": [
    "**Small ubiquitin-related modifier 1**"
   ]
  },
  {
   "cell_type": "code",
   "execution_count": 87,
   "id": "ed8ca239",
   "metadata": {},
   "outputs": [],
   "source": [
    "modifier_1_df1 = pd.read_csv(\"../Raw Data/modifier_1_mod.csv\")"
   ]
  },
  {
   "cell_type": "code",
   "execution_count": 88,
   "id": "1e90a4a2",
   "metadata": {},
   "outputs": [
    {
     "name": "stdout",
     "output_type": "stream",
     "text": [
      "Index(['accession', 'hgvs_nt', 'hgvs_splice', 'hgvs_pro', 'score', 'sd', 'se',\n",
      "       'exp.score', 'exp.sd', 'df', 'pred.score'],\n",
      "      dtype='object')\n",
      "2020\n",
      "1919\n",
      "                   accession  hgvs_nt  hgvs_splice   hgvs_pro     score  \\\n",
      "0  urn:mavedb:00000001-b-1#1      NaN          NaN  p.Glu5Lys  1.311357   \n",
      "\n",
      "         sd        se  exp.score    exp.sd   df  pred.score  \n",
      "0  0.085569  0.042785    1.31651  0.024947  4.0    1.117086  \n"
     ]
    }
   ],
   "source": [
    "# modifier_1_df1.columns = modifier_1_df1.iloc[3]\n",
    "print(modifier_1_df1.columns)\n",
    "print(len(modifier_1_df1))\n",
    "\n",
    "modifier_1_df = modifier_1_df1[(modifier_1_df1[\"hgvs_pro\"].str.contains(\"=\") == False) & (modifier_1_df1[\"hgvs_pro\"].str.contains(\"hgvs\") == False)\n",
    "                   & (modifier_1_df1[\"hgvs_pro\"].str.contains(\"Ter\") == False)]\n",
    "print(len(modifier_1_df))\n",
    "print(modifier_1_df.head(1))\n",
    "\n",
    "# shuffle values\n",
    "modifier_1_df = modifier_1_df.sample(frac=1)"
   ]
  },
  {
   "cell_type": "code",
   "execution_count": 89,
   "id": "6f062765",
   "metadata": {},
   "outputs": [
    {
     "name": "stdout",
     "output_type": "stream",
     "text": [
      "MET SER ASP GLN GLU ALA LYS PRO SER THR GLU ASP LEU GLY ASP LYS LYS GLU GLY GLU TYR ILE LYS LEU LYS VAL ILE GLY GLN ASP SER SER GLU ILE HIS PHE LYS VAL LYS MET THR THR HIS LEU LYS LYS LEU LYS GLU SER TYR CYS GLN ARG GLN GLY VAL PRO MET ASN SER LEU ARG PHE LEU PHE GLU GLY GLN ARG ILE ALA ASP ASN HIS THR PRO LYS GLU LEU GLY MET GLU GLU GLU ASP VAL ILE GLU VAL TYR GLN GLU GLN THR GLY GLY HIS SER THR VAL\n",
      "403\n"
     ]
    }
   ],
   "source": [
    "# getting uniprot to compare offset\n",
    "protein_seq_modifier_1 = ssf.get_protein_seq(\"P63165\")\n",
    "# offset of 1\n",
    "print(protein_seq_modifier_1)\n",
    "print(len(protein_seq_modifier_1))"
   ]
  },
  {
   "cell_type": "code",
   "execution_count": 82,
   "id": "c7fd3c9a",
   "metadata": {},
   "outputs": [
    {
     "name": "stdout",
     "output_type": "stream",
     "text": [
      "['GLY', 'VAL']\n"
     ]
    }
   ],
   "source": [
    "protein_seq_modifier_1_split = protein_seq_modifier_1.split()\n",
    "print(protein_seq_modifier_1_split[55:57])"
   ]
  },
  {
   "cell_type": "code",
   "execution_count": 90,
   "id": "740ef687",
   "metadata": {},
   "outputs": [],
   "source": [
    "modifier_1_df[\"variant\"] = format_mavedb_variant(modifier_1_df, \"hgvs_pro\", -1)"
   ]
  },
  {
   "cell_type": "code",
   "execution_count": 86,
   "id": "9575d7b5",
   "metadata": {},
   "outputs": [
    {
     "name": "stdout",
     "output_type": "stream",
     "text": [
      "                         accession  hgvs_nt  hgvs_splice     hgvs_pro  \\\n",
      "953    urn:mavedb:00000001-b-1#954      NaN          NaN   p.Ser99Asp   \n",
      "1469  urn:mavedb:00000001-b-1#1470      NaN          NaN   p.Lys48Ser   \n",
      "1773  urn:mavedb:00000001-b-1#1774      NaN          NaN   p.Asn60Gly   \n",
      "404    urn:mavedb:00000001-b-1#405      NaN          NaN   p.Tyr91Phe   \n",
      "1069  urn:mavedb:00000001-b-1#1070      NaN          NaN  p.Thr100Glu   \n",
      "88      urn:mavedb:00000001-b-1#89      NaN          NaN   p.Val26Gln   \n",
      "1177  urn:mavedb:00000001-b-1#1178      NaN          NaN   p.Asn60Lys   \n",
      "652    urn:mavedb:00000001-b-1#653      NaN          NaN   p.Gly56Asn   \n",
      "1152  urn:mavedb:00000001-b-1#1153      NaN          NaN   p.Glu20Arg   \n",
      "1692  urn:mavedb:00000001-b-1#1693      NaN          NaN   p.Lys25Gln   \n",
      "\n",
      "         score        sd        se  exp.score    exp.sd   df  pred.score  \\\n",
      "953   0.508321  0.470306  0.470306        NaN       NaN  NaN    0.508321   \n",
      "1469 -0.506137  0.204993  0.102496  -0.514775  0.129429  4.0   -0.443362   \n",
      "1773  1.050117  0.098399  0.049200   1.056529  0.032844  4.0    0.866495   \n",
      "404   0.697517  0.085255  0.042628   0.699367  0.027993  4.0    0.635360   \n",
      "1069  0.427132  0.470306  0.470306        NaN       NaN  NaN    0.427132   \n",
      "88   -0.036257  0.247506  0.123753  -0.030932  0.176342  4.0   -0.064660   \n",
      "1177  0.273126  0.116339  0.058170   0.269908  0.049340  4.0    0.334481   \n",
      "652   0.636174  0.142541  0.071270   0.643918  0.068835  4.0    0.530348   \n",
      "1152  1.030650  0.087193  0.043596   1.033409  0.028718  4.0    0.940283   \n",
      "1692  0.454629  0.119285  0.059642   0.451592  0.051711  4.0    0.509869   \n",
      "\n",
      "     variant  \n",
      "953     S98D  \n",
      "1469    K47S  \n",
      "1773    N59G  \n",
      "404     Y90F  \n",
      "1069    T99E  \n",
      "88      V25Q  \n",
      "1177    N59K  \n",
      "652     G55N  \n",
      "1152    E19R  \n",
      "1692    K24Q  \n"
     ]
    }
   ],
   "source": [
    "print(modifier_1_df.head(10))"
   ]
  },
  {
   "cell_type": "code",
   "execution_count": 91,
   "id": "e80a4209",
   "metadata": {},
   "outputs": [],
   "source": [
    "# splitting variant list if there are multiple mutations\n",
    "modifier_1_mut = modifier_1_df[\"variant\"].str.split(\",\")\n",
    "\n",
    "# get wild type of residue and place in seperate col\n",
    "modifier_1_df[\"WILD_TYPE_RES\"] = ssf.get_wild_type(modifier_1_mut)\n",
    "\n",
    "# get mutated residue and place in seperate col\n",
    "modifier_1_df[\"MUTATED_RES\"] = ssf.get_mutation_type(modifier_1_mut)\n",
    "\n",
    "# get position and place in seperate col\n",
    "modifier_1_df[\"POSITION\"] = ssf.get_position(modifier_1_mut)\n",
    "\n",
    "# replace variant column with reformatted variant name\n",
    "modifier_1_df[\"variant\"] = ssf.get_mutations_names_list(modifier_1_df)\n",
    "\n",
    "# drop unneccesary columns\n",
    "# to_drop = [\"WILD_TYPE_RES\", \"MUTATED_RES\", \"POSITION\"]\n",
    "\n",
    "# pab1_df = pab1_df.drop(columns=to_drop)"
   ]
  },
  {
   "cell_type": "code",
   "execution_count": 92,
   "id": "7d223264",
   "metadata": {},
   "outputs": [],
   "source": [
    "# getting training and test datasets\n",
    "\n",
    "# get ss position indexes\n",
    "path = \"../PDB and STRIDE Files/\" + 'modifier_1_stride.txt'\n",
    "modifier_1_stride_file = open(path, 'r')\n",
    "\n",
    "modifier_1_ss_indexes = ssf.get_sec_struc_boolean(modifier_1_stride_file) # boolean list of secondary structure assignements\n",
    "\n",
    "# need positionssplit\n",
    "modifier_1_df[\"positions_split\"] = ssf.get_positions_split(modifier_1_df)\n",
    "\n",
    "# add in_sec_str_col\n",
    "modifier_1_df = add_sec_str_col(modifier_1_df, modifier_1_ss_indexes, 0)"
   ]
  },
  {
   "cell_type": "code",
   "execution_count": 94,
   "id": "50d00664",
   "metadata": {},
   "outputs": [
    {
     "name": "stdout",
     "output_type": "stream",
     "text": [
      "in fraction,df len1919\n",
      "91\n",
      "107\n",
      "Train Data Fraction: 0.46\n",
      "false_df len1026\n",
      "true_df len893\n",
      "in fraction,df len1721\n",
      "Test Data Fraction: 0.46\n",
      "false_df len919\n",
      "true_df len802\n",
      "Size of Test Dataset: 1700\n",
      "Size of Total Dataset: 1898\n",
      "1898\n",
      "Filename: modifier_1_MLformat_198_train_1700_test_3.txt\n"
     ]
    }
   ],
   "source": [
    "modifier_1_train_df, modifier_1_test_df, modifier_1_remaining_df = get_train_and_test_df(modifier_1_df, 0.46, 198)\n",
    "# print(\"TEST LEN\")\n",
    "# print(len(modifier_1_test_df))\n",
    "modifier_1_df_format = pd.concat([modifier_1_train_df, modifier_1_test_df])\n",
    "print(len(modifier_1_df_format))\n",
    "# writing data to txt file\n",
    "ssf.write_data_file(\"modifier_1_MLformat_198_train_1700_test_3\", protein_seq_modifier_1, modifier_1_df_format)"
   ]
  },
  {
   "cell_type": "markdown",
   "id": "6633d640",
   "metadata": {},
   "source": [
    "**TAR DNA-binding protein 43**"
   ]
  },
  {
   "cell_type": "code",
   "execution_count": 153,
   "id": "84b5a317",
   "metadata": {},
   "outputs": [],
   "source": [
    "tar_df_pt1 = pd.read_csv(\"../Raw Data/tar1_mod.csv\")\n",
    "tar_df_pt2 = pd.read_csv(\"../Raw Data/tar2_mod.csv\")"
   ]
  },
  {
   "cell_type": "code",
   "execution_count": 154,
   "id": "f3dfe075",
   "metadata": {},
   "outputs": [
    {
     "name": "stdout",
     "output_type": "stream",
     "text": [
      "704\n",
      "714\n"
     ]
    }
   ],
   "source": [
    "print(len(tar_df_pt1))\n",
    "print(len(tar_df_pt2))\n",
    "# tar_df_pt1 = tar_df_pt1.sample(frac=1)\n",
    "# tar_df_pt2 = tar_df_pt2.sample(frac=1)\n",
    "# print(tar_df_pt1.head(30))\n",
    "# print(tar_df_pt2.head(30))\n",
    "# tar_df1 = pd.concat([tar_df_pt1, tar_df_pt2])\n",
    "# print(len(tar_df1))\n",
    "\n",
    "# print(tar_df1.columns)\n",
    "\n",
    "tar_df_pt1 = tar_df_pt1[(tar_df_pt1[\"hgvs_pro\"].str.contains(\"\\*\") == False) & (tar_df_pt1[\"hgvs_pro\"].str.contains(\"hgvs\") == False)\n",
    "                    & (tar_df_pt1[\"hgvs_pro\"].str.contains(\"Ter\") == False)]\n",
    "\n",
    "tar_df_pt2 = tar_df_pt2[(tar_df_pt2[\"hgvs_pro\"].str.contains(\"\\*\") == False) & (tar_df_pt2[\"hgvs_pro\"].str.contains(\"hgvs\") == False)\n",
    "                    & (tar_df_pt2[\"hgvs_pro\"].str.contains(\"Ter\") == False)]\n",
    "\n",
    "# print(len(tar_df))\n",
    "# # shuffle values\n",
    "# tar_df = tar_df.sample(frac=1)\n",
    "# print(tar_df.head(3))"
   ]
  },
  {
   "cell_type": "code",
   "execution_count": 155,
   "id": "151d17a9",
   "metadata": {},
   "outputs": [
    {
     "name": "stdout",
     "output_type": "stream",
     "text": [
      "MET SER GLU TYR ILE ARG VAL THR GLU ASP GLU ASN ASP GLU PRO ILE GLU ILE PRO SER GLU ASP ASP GLY THR VAL LEU LEU SER THR VAL THR ALA GLN PHE PRO GLY ALA CYS GLY LEU ARG TYR ARG ASN PRO VAL SER GLN CYS MET ARG GLY VAL ARG LEU VAL GLU GLY ILE LEU HIS ALA PRO ASP ALA GLY TRP GLY ASN LEU VAL TYR VAL VAL ASN TYR PRO LYS ASP ASN LYS ARG LYS MET ASP GLU THR ASP ALA SER SER ALA VAL LYS VAL LYS ARG ALA VAL GLN LYS THR SER ASP LEU ILE VAL LEU GLY LEU PRO TRP LYS THR THR GLU GLN ASP LEU LYS GLU TYR PHE SER THR PHE GLY GLU VAL LEU MET VAL GLN VAL LYS LYS ASP LEU LYS THR GLY HIS SER LYS GLY PHE GLY PHE VAL ARG PHE THR GLU TYR GLU THR GLN VAL LYS VAL MET SER GLN ARG HIS MET ILE ASP GLY ARG TRP CYS ASP CYS LYS LEU PRO ASN SER LYS GLN SER GLN ASP GLU PRO LEU ARG SER ARG LYS VAL PHE VAL GLY ARG CYS THR GLU ASP MET THR GLU ASP GLU LEU ARG GLU PHE PHE SER GLN TYR GLY ASP VAL MET ASP VAL PHE ILE PRO LYS PRO PHE ARG ALA PHE ALA PHE VAL THR PHE ALA ASP ASP GLN ILE ALA GLN SER LEU CYS GLY GLU ASP LEU ILE ILE LYS GLY ILE SER VAL HIS ILE SER ASN ALA GLU PRO LYS HIS ASN SER ASN ARG GLN LEU GLU ARG SER GLY ARG PHE GLY GLY ASN PRO GLY GLY PHE GLY ASN GLN GLY GLY PHE GLY ASN SER ARG GLY GLY GLY ALA GLY LEU GLY ASN ASN GLN GLY SER ASN MET GLY GLY GLY MET ASN PHE GLY ALA PHE SER ILE ASN PRO ALA MET MET ALA ALA ALA GLN ALA ALA LEU GLN SER SER TRP GLY MET MET GLY MET LEU ALA SER GLN GLN ASN GLN SER GLY PRO SER GLY ASN ASN GLN ASN GLN GLY ASN MET GLN ARG GLU PRO ASN GLN ALA PHE GLY SER GLY ASN ASN SER TYR SER GLY SER ASN SER GLY ALA ALA ILE GLY TRP GLY SER ALA SER ASN ALA GLY SER GLY SER GLY PHE ASN GLY GLY PHE GLY SER SER MET ASP SER LYS SER SER GLY TRP GLY MET\n"
     ]
    }
   ],
   "source": [
    "# getting uniprot to compare offset\n",
    "protein_seq_tar = ssf.get_protein_seq(\"Q13148\")\n",
    "print(protein_seq_tar)"
   ]
  },
  {
   "cell_type": "code",
   "execution_count": 156,
   "id": "6e259c17",
   "metadata": {},
   "outputs": [
    {
     "name": "stdout",
     "output_type": "stream",
     "text": [
      "SER\n"
     ]
    }
   ],
   "source": [
    "protein_seq_tar_split = protein_seq_tar.split()\n",
    "print(protein_seq_tar_split[291]) # for the first one starts at 289 (add offset of )\n",
    "# row 10, col 11, 31 "
   ]
  },
  {
   "cell_type": "code",
   "execution_count": 157,
   "id": "8cb3861e",
   "metadata": {},
   "outputs": [
    {
     "name": "stdout",
     "output_type": "stream",
     "text": [
      "SER\n"
     ]
    }
   ],
   "source": [
    "print(protein_seq_tar_split[346]) \n",
    "# row 12, 6, 31 <- 16 starts at 346: 1 starts at 331?\n",
    "# have to offset seperately and then add"
   ]
  },
  {
   "cell_type": "code",
   "execution_count": 158,
   "id": "6daf0cf3",
   "metadata": {},
   "outputs": [],
   "source": [
    "tar_df_pt1[\"variant\"] = format_mavedb_variant(tar_df_pt1, \"hgvs_pro\", 288)\n",
    "tar_df_pt2[\"variant\"] = format_mavedb_variant(tar_df_pt2, \"hgvs_pro\", 330)"
   ]
  },
  {
   "cell_type": "code",
   "execution_count": 159,
   "id": "82f582f4",
   "metadata": {},
   "outputs": [
    {
     "name": "stdout",
     "output_type": "stream",
     "text": [
      "1342\n"
     ]
    }
   ],
   "source": [
    "tar_df = pd.concat([tar_df_pt1, tar_df_pt2])\n",
    "tar_df = tar_df.sample(frac=1)\n",
    "print(len(tar_df))"
   ]
  },
  {
   "cell_type": "code",
   "execution_count": 160,
   "id": "9bc8c8a5",
   "metadata": {},
   "outputs": [],
   "source": [
    "# splitting variant list if there are multiple mutations\n",
    "tar_mut = tar_df[\"variant\"].str.split(\",\")\n",
    "\n",
    "# get wild type of residue and place in seperate col\n",
    "tar_df[\"WILD_TYPE_RES\"] = ssf.get_wild_type(tar_mut)\n",
    "\n",
    "# get mutated residue and place in seperate col\n",
    "tar_df[\"MUTATED_RES\"] = ssf.get_mutation_type(tar_mut)\n",
    "\n",
    "# get position and place in seperate col\n",
    "tar_df[\"POSITION\"] = ssf.get_position(tar_mut)\n",
    "\n",
    "# replace variant column with reformatted variant name\n",
    "tar_df[\"variant\"] = ssf.get_mutations_names_list(tar_df)\n",
    "\n",
    "# drop unneccesary columns\n",
    "# to_drop = [\"WILD_TYPE_RES\", \"MUTATED_RES\", \"POSITION\"]\n",
    "\n",
    "# pab1_df = pab1_df.drop(columns=to_drop)"
   ]
  },
  {
   "cell_type": "code",
   "execution_count": 161,
   "id": "aae89db0",
   "metadata": {},
   "outputs": [],
   "source": [
    "# getting training and test datasets\n",
    "\n",
    "# get ss position indexes\n",
    "path = \"../PDB and STRIDE Files/\" + 'tar_stride.txt'\n",
    "tar_stride_file = open(path, 'r')\n",
    "\n",
    "tar_ss_indexes = ssf.get_sec_struc_boolean(tar_stride_file) # boolean list of secondary structure assignements\n",
    "\n",
    "# need positionssplit\n",
    "tar_df[\"positions_split\"] = ssf.get_positions_split(tar_df)\n",
    "\n",
    "# add in_sec_str_col\n",
    "tar_df = add_sec_str_col(tar_df, tar_ss_indexes, 0)"
   ]
  },
  {
   "cell_type": "code",
   "execution_count": 113,
   "id": "8557752d",
   "metadata": {},
   "outputs": [],
   "source": [
    "# tar_train_df, tar_test_df, tar_remaining_df = get_train_and_test_df(tar_df, 0.36, 812)\n",
    "# print(len(tar_test_df))\n",
    "# tar_df_format = pd.concat([tar_train_df, tar_test_df])\n",
    "\n",
    "# # writing data to txt file\n",
    "# # ssf.write_data_file(\"tar_MLformat_812_train_10k_test_1\", protein_seq_tar, tar_df_format)"
   ]
  },
  {
   "cell_type": "markdown",
   "id": "b040f6e3",
   "metadata": {},
   "source": [
    "**Human Glucokinase? Maybe** -- yup"
   ]
  },
  {
   "cell_type": "code",
   "execution_count": 114,
   "id": "0097d063",
   "metadata": {},
   "outputs": [],
   "source": [
    "glucokinase_df1 = pd.read_csv(\"../Raw Data/glucokinase_scores.csv\")"
   ]
  },
  {
   "cell_type": "code",
   "execution_count": 116,
   "id": "53c43b91",
   "metadata": {},
   "outputs": [
    {
     "name": "stdout",
     "output_type": "stream",
     "text": [
      "Index(['# Accession: urn:mavedb:00000096-a-1', 'Unnamed: 1', 'Unnamed: 2',\n",
      "       'Unnamed: 3', 'Unnamed: 4', 'Unnamed: 5', 'Unnamed: 6', 'Unnamed: 7'],\n",
      "      dtype='object')\n"
     ]
    }
   ],
   "source": [
    "print(glucokinase_df1.columns)"
   ]
  },
  {
   "cell_type": "code",
   "execution_count": 123,
   "id": "2cf06f09",
   "metadata": {},
   "outputs": [
    {
     "name": "stdout",
     "output_type": "stream",
     "text": [
      "Index(['accession', 'hgvs_nt', 'hgvs_splice', 'hgvs_pro', 'score', 'sd', 'df',\n",
      "       'se'],\n",
      "      dtype='object', name=3)\n",
      "9366\n",
      "8570\n"
     ]
    }
   ],
   "source": [
    "# take note of offset\n",
    "\n",
    "glucokinase_df1.columns = glucokinase_df1.iloc[3]\n",
    "print(glucokinase_df1.columns)\n",
    "print(len(glucokinase_df1))\n",
    "\n",
    "\n",
    "glucokinase_df = glucokinase_df1[(glucokinase_df1[\"hgvs_pro\"].str.contains(\"del\") == False) & (glucokinase_df1[\"hgvs_pro\"].str.contains(\"hgvs\") == False)\n",
    "                   & (glucokinase_df1[\"hgvs_pro\"].str.contains(\"Ter\") == False)]\n",
    "\n",
    "glucokinase_df = glucokinase_df1[(glucokinase_df1[\"hgvs_pro\"].str.contains(\"=\") == False) & (glucokinase_df1[\"hgvs_pro\"].str.contains(\"hgvs\") == False)\n",
    "                   & (glucokinase_df1[\"hgvs_pro\"].str.contains(\"Ter\") == False)]\n",
    "\n",
    "glucokinase_df = glucokinase_df.sample(frac=1)\n",
    "\n",
    "print(len(glucokinase_df))"
   ]
  },
  {
   "cell_type": "code",
   "execution_count": 124,
   "id": "1bb8e02a",
   "metadata": {},
   "outputs": [
    {
     "name": "stdout",
     "output_type": "stream",
     "text": [
      "3                        accession hgvs_nt hgvs_splice     hgvs_pro  \\\n",
      "5058  urn:mavedb:00000096-a-1#5055     NaN         NaN  p.Gly318Ile   \n",
      "1720  urn:mavedb:00000096-a-1#1717     NaN         NaN   p.Pro66Gln   \n",
      "880    urn:mavedb:00000096-a-1#877     NaN         NaN  p.Val222Trp   \n",
      "6348  urn:mavedb:00000096-a-1#6345     NaN         NaN  p.Glu268Tyr   \n",
      "9172  urn:mavedb:00000096-a-1#9169     NaN         NaN  p.Ala188Trp   \n",
      "5710  urn:mavedb:00000096-a-1#5707     NaN         NaN  p.His105Met   \n",
      "2749  urn:mavedb:00000096-a-1#2746     NaN         NaN  p.Met462Val   \n",
      "6772  urn:mavedb:00000096-a-1#6769     NaN         NaN  p.Glu256Ser   \n",
      "768    urn:mavedb:00000096-a-1#765     NaN         NaN   p.Trp99Ser   \n",
      "6407  urn:mavedb:00000096-a-1#6404     NaN         NaN  p.Glu236Ile   \n",
      "\n",
      "3            score           sd df           se  \n",
      "5058   0.597180548  0.345674096  2  0.244428497  \n",
      "1720   1.125473589  0.192021693  2  0.135779841  \n",
      "880    0.417811603  0.394878786  2  0.279221468  \n",
      "6348   0.431714124  0.128693219  2  0.090999848  \n",
      "9172   0.025029021  0.057163371  2  0.040420607  \n",
      "5710   0.280324619  0.688284899  2   0.48669092  \n",
      "2749   1.285995167  0.292706485  4  0.146353242  \n",
      "6772  -0.007678611  0.429594564  6  0.175381246  \n",
      "768     2.53471877  0.187348072  6   0.07648453  \n",
      "6407   0.190265595  0.143816016  2   0.10169328  \n"
     ]
    }
   ],
   "source": [
    "print(glucokinase_df.head(10))"
   ]
  },
  {
   "cell_type": "code",
   "execution_count": 120,
   "id": "15d566af",
   "metadata": {},
   "outputs": [
    {
     "name": "stdout",
     "output_type": "stream",
     "text": [
      "MET LEU ASP ASP ARG ALA ARG MET GLU ALA ALA LYS LYS GLU LYS VAL GLU GLN ILE LEU ALA GLU PHE GLN LEU GLN GLU GLU ASP LEU LYS LYS VAL MET ARG ARG MET GLN LYS GLU MET ASP ARG GLY LEU ARG LEU GLU THR HIS GLU GLU ALA SER VAL LYS MET LEU PRO THR TYR VAL ARG SER THR PRO GLU GLY SER GLU VAL GLY ASP PHE LEU SER LEU ASP LEU GLY GLY THR ASN PHE ARG VAL MET LEU VAL LYS VAL GLY GLU GLY GLU GLU GLY GLN TRP SER VAL LYS THR LYS HIS GLN MET TYR SER ILE PRO GLU ASP ALA MET THR GLY THR ALA GLU MET LEU PHE ASP TYR ILE SER GLU CYS ILE SER ASP PHE LEU ASP LYS HIS GLN MET LYS HIS LYS LYS LEU PRO LEU GLY PHE THR PHE SER PHE PRO VAL ARG HIS GLU ASP ILE ASP LYS GLY ILE LEU LEU ASN TRP THR LYS GLY PHE LYS ALA SER GLY ALA GLU GLY ASN ASN VAL VAL GLY LEU LEU ARG ASP ALA ILE LYS ARG ARG GLY ASP PHE GLU MET ASP VAL VAL ALA MET VAL ASN ASP THR VAL ALA THR MET ILE SER CYS TYR TYR GLU ASP HIS GLN CYS GLU VAL GLY MET ILE VAL GLY THR GLY CYS ASN ALA CYS TYR MET GLU GLU MET GLN ASN VAL GLU LEU VAL GLU GLY ASP GLU GLY ARG MET CYS VAL ASN THR GLU TRP GLY ALA PHE GLY ASP SER GLY GLU LEU ASP GLU PHE LEU LEU GLU TYR ASP ARG LEU VAL ASP GLU SER SER ALA ASN PRO GLY GLN GLN LEU TYR GLU LYS LEU ILE GLY GLY LYS TYR MET GLY GLU LEU VAL ARG LEU VAL LEU LEU ARG LEU VAL ASP GLU ASN LEU LEU PHE HIS GLY GLU ALA SER GLU GLN LEU ARG THR ARG GLY ALA PHE GLU THR ARG PHE VAL SER GLN VAL GLU SER ASP THR GLY ASP ARG LYS GLN ILE TYR ASN ILE LEU SER THR LEU GLY LEU ARG PRO SER THR THR ASP CYS ASP ILE VAL ARG ARG ALA CYS GLU SER VAL SER THR ARG ALA ALA HIS MET CYS SER ALA GLY LEU ALA GLY VAL ILE ASN ARG MET ARG GLU SER ARG SER GLU ASP VAL MET ARG ILE THR VAL GLY VAL ASP GLY SER VAL TYR LYS LEU HIS PRO SER PHE LYS GLU ARG PHE HIS ALA SER VAL ARG ARG LEU THR PRO SER CYS GLU ILE THR PHE ILE GLU SER GLU GLU GLY SER GLY ARG GLY ALA ALA LEU VAL SER ALA VAL ALA CYS LYS LYS ALA CYS MET LEU GLY GLN\n",
      "1859\n"
     ]
    }
   ],
   "source": [
    "# getting uniprot to compare offset\n",
    "protein_seq_glucokinase = ssf.get_protein_seq(\"P35557\")\n",
    "# offset of 1\n",
    "print(protein_seq_glucokinase)\n",
    "print(len(protein_seq_glucokinase))"
   ]
  },
  {
   "cell_type": "code",
   "execution_count": 128,
   "id": "4bdc8249",
   "metadata": {},
   "outputs": [
    {
     "name": "stdout",
     "output_type": "stream",
     "text": [
      "465\n",
      "['ASP', 'ALA', 'ILE']\n"
     ]
    }
   ],
   "source": [
    "protein_seq_glucokinase_split = protein_seq_glucokinase.split()\n",
    "print(len(protein_seq_glucokinase_split))\n",
    "print(protein_seq_glucokinase_split[186:189])"
   ]
  },
  {
   "cell_type": "code",
   "execution_count": 131,
   "id": "91dcd567",
   "metadata": {},
   "outputs": [],
   "source": [
    "glucokinase_df[\"variant\"] = format_mavedb_variant(glucokinase_df, \"hgvs_pro\", -1)"
   ]
  },
  {
   "cell_type": "code",
   "execution_count": 133,
   "id": "18b80d36",
   "metadata": {},
   "outputs": [],
   "source": [
    "# splitting variant list if there are multiple mutations\n",
    "glucokinase_mut = glucokinase_df[\"variant\"].str.split(\",\")\n",
    "\n",
    "# get wild type of residue and place in seperate col\n",
    "glucokinase_df[\"WILD_TYPE_RES\"] = ssf.get_wild_type(glucokinase_mut)\n",
    "\n",
    "# get mutated residue and place in seperate col\n",
    "glucokinase_df[\"MUTATED_RES\"] = ssf.get_mutation_type(glucokinase_mut)\n",
    "\n",
    "# get position and place in seperate col\n",
    "glucokinase_df[\"POSITION\"] = ssf.get_position(glucokinase_mut)\n",
    "\n",
    "# replace variant column with reformatted variant name\n",
    "glucokinase_df[\"variant\"] = ssf.get_mutations_names_list(glucokinase_df)\n",
    "\n",
    "# drop unneccesary columns\n",
    "# to_drop = [\"WILD_TYPE_RES\", \"MUTATED_RES\", \"POSITION\"]\n",
    "\n",
    "# pab1_df = pab1_df.drop(columns=to_drop)"
   ]
  },
  {
   "cell_type": "code",
   "execution_count": 134,
   "id": "c5188f66",
   "metadata": {},
   "outputs": [],
   "source": [
    "# getting training and test datasets\n",
    "\n",
    "# get ss position indexes\n",
    "path = \"../PDB and STRIDE Files/\" + 'glucokinase_stride.txt'\n",
    "glucokinase_stride_file = open(path, 'r')\n",
    "\n",
    "glucokinase_ss_indexes = ssf.get_sec_struc_boolean(glucokinase_stride_file) # boolean list of secondary structure assignements\n",
    "\n",
    "# need positionssplit\n",
    "glucokinase_df[\"positions_split\"] = ssf.get_positions_split(glucokinase_df)\n",
    "\n",
    "# add in_sec_str_col\n",
    "glucokinase_df = add_sec_str_col(glucokinase_df, glucokinase_ss_indexes, 0)"
   ]
  },
  {
   "cell_type": "code",
   "execution_count": 135,
   "id": "e70275e9",
   "metadata": {},
   "outputs": [
    {
     "name": "stdout",
     "output_type": "stream",
     "text": [
      "145\n",
      "320\n"
     ]
    }
   ],
   "source": [
    "print(glucokinase_ss_indexes.count(False))\n",
    "print(glucokinase_ss_indexes.count(True))"
   ]
  },
  {
   "cell_type": "code",
   "execution_count": 139,
   "id": "f238b9e6",
   "metadata": {},
   "outputs": [
    {
     "name": "stdout",
     "output_type": "stream",
     "text": [
      "in fraction,df len8570\n",
      "629\n",
      "283\n",
      "Train Data Fraction: 0.69\n",
      "false_df len2686\n",
      "true_df len5884\n",
      "in fraction,df len7658\n",
      "Test Data Fraction: 0.69\n",
      "false_df len2403\n",
      "true_df len5255\n",
      "Size of Test Dataset: 7612\n",
      "Size of Total Dataset: 8524\n",
      "8524\n",
      "Filename: glucokinase_MLformat_912_train_7612_test_3.txt\n"
     ]
    }
   ],
   "source": [
    "glucokinase_train_df, glucokinase_test_df, glucokinase_remaining_df = get_train_and_test_df(glucokinase_df, 0.69, 912)\n",
    "glucokinase_df_format = pd.concat([glucokinase_train_df, glucokinase_test_df])\n",
    "print(len(glucokinase_df_format))\n",
    "# writing data to txt file\n",
    "ssf.write_data_file(\"glucokinase_MLformat_912_train_7612_test_3\", protein_seq_glucokinase, glucokinase_df_format)"
   ]
  },
  {
   "cell_type": "markdown",
   "id": "76987982",
   "metadata": {},
   "source": [
    "## Getting Dataset Fraction"
   ]
  },
  {
   "cell_type": "code",
   "execution_count": 17,
   "id": "6ad4ad5d",
   "metadata": {},
   "outputs": [],
   "source": [
    "# adds boolean column to dataframe to indicate whether value is in secondary structure\n",
    "# needs positions split column\n",
    "def add_sec_str_col(df, bool_ss_list, domain_start_index):\n",
    "    has_sec_str = []\n",
    "    for val in df[\"positions_split\"]:\n",
    "        # list of boolean values that are true if all mutation positions in line are sec. strc.\n",
    "        all_pos_sec_struc = []\n",
    "\n",
    "        for position in val:\n",
    "            if (bool_ss_list[position - domain_start_index] == False):  # line up ss_indexes w/ position\n",
    "                all_pos_sec_struc.append(False)\n",
    "            else:\n",
    "                all_pos_sec_struc.append(True)\n",
    "\n",
    "        # all pos sec struc should match val list\n",
    "        # if there's a value in all_pos_sec_struc that's false, append false\n",
    "        # otherwise, append true\n",
    "        if (all_pos_sec_struc.count(False) == 0):\n",
    "            has_only_sec_str = True\n",
    "        else:\n",
    "            has_only_sec_str = False\n",
    "\n",
    "        has_sec_str.append(has_only_sec_str)\n",
    "        all_pos_sec_struc.clear()\n",
    "\n",
    "    # print(len(has_sec_str)) # should match dataframe length\n",
    "    df['in_sec_str'] = has_sec_str\n",
    "    return df"
   ]
  },
  {
   "cell_type": "code",
   "execution_count": 18,
   "id": "bacad755",
   "metadata": {},
   "outputs": [],
   "source": [
    "def get_fractioned_dataset(df, fraction_ss, size):\n",
    "    \n",
    "    print(\"in fraction,df len\" + str(len(df)))\n",
    "    if (size is not None): # need training dataset size\n",
    "        num_in_ss = int(size*fraction_ss) \n",
    "        print(num_in_ss)\n",
    "        num_not_ss = size - num_in_ss\n",
    "        print(num_not_ss)\n",
    "        real_fraction = round(float(num_in_ss)/(num_in_ss+num_not_ss), 3)\n",
    "        print(\"Train Data Fraction: \" + str(real_fraction))\n",
    "    else: # need test dataset and size of dataset doesn't matter\n",
    "        num_in_ss, num_not_ss = get_num_ss(df, fraction_ss)\n",
    "        real_fraction = round(float(num_in_ss)/(num_in_ss+num_not_ss), 3)\n",
    "        print(\"Test Data Fraction: \" + str(real_fraction))\n",
    "        \n",
    "    true_df = df[df[\"in_sec_str\"] == True]\n",
    "    false_df = df[df[\"in_sec_str\"] == False]\n",
    "    print(\"false_df len\" + str(len(false_df)))\n",
    "    print(\"true_df len\" + str(len(true_df)))\n",
    "    ss_df = true_df.sample(num_in_ss)\n",
    "\n",
    "    false_df = df[df[\"in_sec_str\"] == False]\n",
    "    not_ss_df = false_df.sample(num_not_ss)\n",
    "    # print(\"Testing Test Data Fraction:\" + str(len(ss_df)/(len(not_ss_df)+len(ss_df))))\n",
    "    \n",
    "    fractioned_df = pd.concat([ss_df, not_ss_df]).sample(frac=1)\n",
    "    \n",
    "    remaining_df = pd.concat([fractioned_df, df])\n",
    "    remaining_df = remaining_df[~remaining_df.index.duplicated(keep=False)]\n",
    "    \n",
    "    return fractioned_df, remaining_df"
   ]
  },
  {
   "cell_type": "code",
   "execution_count": 19,
   "id": "03b9e0df",
   "metadata": {},
   "outputs": [],
   "source": [
    "def get_num_ss(df, fraction_ss): # use when size is dependent on remaining values\n",
    "    # print(\"enters this method\")\n",
    "    num_ss_vals = (df[\"in_sec_str\"] == True).sum() # number of trues to work from \n",
    "    \n",
    "    num_not_ss_vals = (df[\"in_sec_str\"] == False).sum() # number of falses to work from \n",
    "    \n",
    "    if (num_not_ss_vals < num_ss_vals): # if not in ss is limiting factor\n",
    "        ideal_split_ss = int((num_not_ss_vals/(1-fraction_ss))*fraction_ss)\n",
    "        ideal_split_not_ss = int(num_not_ss_vals)\n",
    "        # instead do min value, max value and fraction it is\n",
    "    else:\n",
    "        ideal_split_ss = int(num_ss_vals)\n",
    "        ideal_split_not_ss = int((num_ss_vals/fraction_ss)*(1-fraction_ss))\n",
    "    total = ideal_split_ss + ideal_split_not_ss\n",
    "    # print(\"ideal_ss: \" + str(ideal_split_ss))\n",
    "    # print(\"ideal_not_ss: \" + str(ideal_split_not_ss))\n",
    "    while (ideal_split_ss >= num_ss_vals or ideal_split_not_ss >= num_not_ss_vals):\n",
    "        # until thei)y both fit the total number of values\n",
    "        if (ideal_split_ss < ideal_split_not_ss):\n",
    "            ideal_split_ss = ideal_split_ss - 1\n",
    "            ideal_split_not_ss = (ideal_split_ss/fraction_ss)*(1-fraction_ss)\n",
    "        else:\n",
    "            ideal_split_not_ss = ideal_split_not_ss - 1\n",
    "            ideal_split_ss = (ideal_split_not_ss/(1-fraction_ss))*(fraction_ss)\n",
    "        ideal_split_ss = int(ideal_split_ss)\n",
    "        ideal_split_not_ss = int(ideal_split_not_ss)\n",
    "        # total = ideal_split_ss + ideal_split_not_ss\n",
    "        # print(\"total: \" + str(total))\n",
    "        # print(total % batch_size != 0)\n",
    "        # print(ideal_split_ss >= num_ss_vals)\n",
    "        # print(ideal_split_not_ss >= num_not_ss_vals)\n",
    "        #print((ideal_split_ss >= num_ss_vals or ideal_split_not_ss >= num_not_ss_vals))\n",
    "    return int(ideal_split_ss), int(ideal_split_not_ss)"
   ]
  },
  {
   "cell_type": "code",
   "execution_count": 404,
   "id": "7c4c57e4",
   "metadata": {},
   "outputs": [
    {
     "data": {
      "text/plain": [
       "True"
      ]
     },
     "execution_count": 404,
     "metadata": {},
     "output_type": "execute_result"
    }
   ],
   "source": [
    "(8+5)%32 != 0"
   ]
  },
  {
   "cell_type": "code",
   "execution_count": 20,
   "id": "9db33590",
   "metadata": {},
   "outputs": [],
   "source": [
    "# gets both train and test datasets based on size\n",
    "# fraction_ss is a percent (e.g. 0.56)\n",
    "\n",
    "# need \"is_sec_struc_col\"\n",
    "# reutrns remaining df\n",
    "def get_train_and_test_df(df, fraction_ss, train_size):\n",
    "    train_df, remaining_df = get_fractioned_dataset(df, fraction_ss, train_size)\n",
    "    test_df, remaining_df = get_fractioned_dataset(remaining_df, fraction_ss, None)\n",
    "    print(\"Size of Test Dataset: \" + str(len(test_df)))\n",
    "    print(\"Size of Total Dataset: \" + str(len(test_df)+ len(train_df)))\n",
    "    return train_df, test_df, remaining_df\n"
   ]
  },
  {
   "cell_type": "code",
   "execution_count": 21,
   "id": "48a4e6dd",
   "metadata": {},
   "outputs": [],
   "source": [
    "def get_new_trainset(train_df, remaining_df, fraction_ss, size):\n",
    "    if (size > len(remaining_df)):\n",
    "        print(\"Not enough training values, combining old values\")\n",
    "        df = pd.concat([train_df, remaining_df])\n",
    "        # print(\"enters wrong block\")     \n",
    "    else:\n",
    "        # print(\"enters right block\")\n",
    "        df = remaining_df\n",
    "        print(\"remaing df len\" + str(len(df)))\n",
    "    new_train_df, new_remaining_df = get_fractioned_dataset(df, fraction_ss, size)\n",
    "    return new_train_df, new_remaining_df"
   ]
  },
  {
   "cell_type": "markdown",
   "id": "73ebb159",
   "metadata": {},
   "source": [
    "## Cleaning Gelman et al. Data"
   ]
  },
  {
   "cell_type": "markdown",
   "id": "9b802034",
   "metadata": {},
   "source": [
    "## Ube4b"
   ]
  },
  {
   "cell_type": "code",
   "execution_count": 144,
   "id": "aa423a3c",
   "metadata": {},
   "outputs": [
    {
     "name": "stdout",
     "output_type": "stream",
     "text": [
      "98297\n",
      "Index(['variant', 'num_mutations', 'score'], dtype='object')\n"
     ]
    }
   ],
   "source": [
    "# importing Ube4b data from Gelman et al.\n",
    "ube4b_df1 = pd.read_csv(\"../Raw Data/ube4b.tsv.txt\", sep=\"\\t\")\n",
    "ube4b_df = ube4b_df1.dropna()\n",
    "print(len(ube4b_df))\n",
    "print(ube4b_df.columns)"
   ]
  },
  {
   "cell_type": "code",
   "execution_count": 145,
   "id": "4a7a3198",
   "metadata": {},
   "outputs": [
    {
     "name": "stdout",
     "output_type": "stream",
     "text": [
      "91031\n",
      "91031\n"
     ]
    }
   ],
   "source": [
    "# rounding score column to 6 decimal points\n",
    "ube4b_df[\"score\"] = ube4b_df[\"score\"].round(6)\n",
    "\n",
    "# remove values with wildcard star next to them\n",
    "ube4b_df = ube4b_df[ube4b_df[\"variant\"].str.contains(\"\\*\") == False]\n",
    "print(len(ube4b_df))\n",
    "ube4b_df = ube4b_df.sample(frac=1)\n",
    "# change this value depending on amount of data needed for dataset\n",
    "# ube4b_df = ube4b_df.sample(n=80)\n",
    "print(len(ube4b_df))"
   ]
  },
  {
   "cell_type": "code",
   "execution_count": 164,
   "id": "7d2fc1a9",
   "metadata": {},
   "outputs": [
    {
     "name": "stdout",
     "output_type": "stream",
     "text": [
      "1173\n"
     ]
    }
   ],
   "source": [
    "# # get protein sequence from Uniprot and split\n",
    "# # protein_seq_ube4b = ssf.get_protein_seq(\"Q9ES00\")\n",
    "# protein_seq_ube4b_split = protein_seq_ube4b.split()\n",
    "# print(len(protein_seq_ube4b_split)) # protein length of 1173"
   ]
  },
  {
   "cell_type": "code",
   "execution_count": 146,
   "id": "8a214d8b",
   "metadata": {},
   "outputs": [
    {
     "name": "stdout",
     "output_type": "stream",
     "text": [
      "102\n",
      "ILE GLU LYS PHE LYS LEU LEU ALA GLU LYS VAL GLU GLU ILE VAL ALA LYS ASN ALA ARG ALA GLU ILE ASP TYR SER ASP ALA PRO ASP GLU PHE ARG ASP PRO LEU MET ASP THR LEU MET THR ASP PRO VAL ARG LEU PRO SER GLY THR VAL MET ASP ARG SER ILE ILE LEU ARG HIS LEU LEU ASN SER PRO THR ASP PRO PHE ASN ARG GLN MET LEU THR GLU SER MET LEU GLU PRO VAL PRO GLU LEU LYS GLU GLN ILE GLN ALA TRP MET ARG GLU LYS GLN SER SER ASP HIS\n"
     ]
    }
   ],
   "source": [
    "# ube4b protein domain sequence from Gelman et. al\n",
    "string_seq = \"IEKFKLLAEKVEEIVAKNARAEIDYSDAPDEFRDPLMDTLMTDPVRLPSGTVMDRSIILRHLLNSPTDPFNRQMLTESMLEPVPELKEQIQAWMREKQSSDH\"\n",
    "print(len(string_seq)) # <- domain length of 102\n",
    "protein_seq_ube4b = ssf.get_expanded_seq(string_seq)\n",
    "print(protein_seq_ube4b)\n",
    "# protein_seq_ube4b = protein_seq_ube4b.split()\n",
    "\n",
    "# NOTE - index in list corresponds exactly to location in domain (huh)"
   ]
  },
  {
   "cell_type": "code",
   "execution_count": 163,
   "id": "ff4c2265",
   "metadata": {},
   "outputs": [],
   "source": [
    "# index of domain inside protein\n",
    "# ssf.get_index_range(protein_seq_ube4b_split, ube4b_domain_split)"
   ]
  },
  {
   "cell_type": "code",
   "execution_count": 147,
   "id": "397f7057",
   "metadata": {},
   "outputs": [],
   "source": [
    "# splitting variant list if there are multiple mutations\n",
    "ube4b_mut = ube4b_df[\"variant\"].str.split(\",\")\n",
    "\n",
    "# get wild type of residue and place in seperate col\n",
    "ube4b_df[\"WILD_TYPE_RES\"] = ssf.get_wild_type(ube4b_mut)\n",
    "\n",
    "# get mutated residue and place in seperate col\n",
    "ube4b_df[\"MUTATED_RES\"] = ssf.get_mutation_type(ube4b_mut)\n",
    "\n",
    "# get position and place in seperate col\n",
    "ube4b_df[\"POSITION\"] = ssf.get_position(ube4b_mut)\n",
    "\n",
    "# replace variant column with reformatted variant name\n",
    "ube4b_df[\"variant\"] = ssf.get_mutations_names_list(ube4b_df)\n",
    "\n",
    "# drop unneccesary columns\n",
    "# to_drop = [\"WILD_TYPE_RES\", \"MUTATED_RES\", \"POSITION\"]\n",
    "\n",
    "#  ube4b_df = ube4b_df.drop(columns=to_drop)"
   ]
  },
  {
   "cell_type": "code",
   "execution_count": 148,
   "id": "26a9ede4",
   "metadata": {},
   "outputs": [
    {
     "name": "stdout",
     "output_type": "stream",
     "text": [
      "93\n",
      "9\n"
     ]
    }
   ],
   "source": [
    "# get ss position indexes\n",
    "path = \"../PDB and STRIDE Files/\" + 'ube4b_stride.txt'\n",
    "ube4b_stride_file = open(path, 'r')\n",
    "\n",
    "ube4b_ss_indexes = ssf.get_all_sec_struc_boolean(ube4b_stride_file)\n",
    "print(ube4b_ss_indexes.count(True))\n",
    "print(ube4b_ss_indexes.count(False))\n",
    "\n",
    "# need positionssplit\n",
    "ube4b_df[\"positions_split\"] = ssf.get_positions_split(ube4b_df)\n",
    "\n",
    "# add in_sec_str_col\n",
    "ube4b_df = add_sec_str_col(ube4b_df, ube4b_ss_indexes, 0)"
   ]
  },
  {
   "cell_type": "code",
   "execution_count": 31,
   "id": "52f1fe1b",
   "metadata": {},
   "outputs": [
    {
     "name": "stdout",
     "output_type": "stream",
     "text": [
      "91031\n"
     ]
    }
   ],
   "source": [
    "print(len(ube4b_df))"
   ]
  },
  {
   "cell_type": "code",
   "execution_count": 71,
   "id": "887363e2",
   "metadata": {
    "scrolled": true
   },
   "outputs": [
    {
     "ename": "NameError",
     "evalue": "name 'ube4b_remaining' is not defined",
     "output_type": "error",
     "traceback": [
      "\u001b[1;31m---------------------------------------------------------------------------\u001b[0m",
      "\u001b[1;31mNameError\u001b[0m                                 Traceback (most recent call last)",
      "\u001b[1;32m~\\AppData\\Local\\Temp/ipykernel_20876/3702259411.py\u001b[0m in \u001b[0;36m<module>\u001b[1;34m\u001b[0m\n\u001b[1;32m----> 1\u001b[1;33m \u001b[0mube4b_train_df\u001b[0m\u001b[1;33m,\u001b[0m \u001b[0mube4b_test_df\u001b[0m\u001b[1;33m,\u001b[0m \u001b[0mube4b_remaining_df\u001b[0m \u001b[1;33m=\u001b[0m \u001b[0mget_train_and_test_df\u001b[0m\u001b[1;33m(\u001b[0m\u001b[0mube4b_remaining\u001b[0m\u001b[1;33m,\u001b[0m \u001b[1;36m0.52\u001b[0m\u001b[1;33m,\u001b[0m \u001b[1;36m200\u001b[0m\u001b[1;33m)\u001b[0m\u001b[1;33m\u001b[0m\u001b[1;33m\u001b[0m\u001b[0m\n\u001b[0m",
      "\u001b[1;31mNameError\u001b[0m: name 'ube4b_remaining' is not defined"
     ]
    }
   ],
   "source": [
    "ube4b_train_df, ube4b_test_df, ube4b_remaining_df = get_train_and_test_df(ube4b_remaining, 0.52, 200)"
   ]
  },
  {
   "cell_type": "code",
   "execution_count": 38,
   "id": "21ee6306",
   "metadata": {},
   "outputs": [
    {
     "name": "stdout",
     "output_type": "stream",
     "text": [
      "in fraction,df len91031\n",
      "104\n",
      "96\n",
      "Train Data Fraction: 0.52\n",
      "false_df len76653\n",
      "true_df len14378\n",
      "in fraction,df len90831\n",
      "Test Data Fraction: 0.52\n",
      "false_df len76557\n",
      "true_df len14274\n",
      "Size of Test Dataset: 27447\n",
      "Size of Total Dataset: 27647\n"
     ]
    }
   ],
   "source": [
    "ube4b_train_df, ube4b_test_df, ube4b_remaining_df = get_train_and_test_df(ube4b_df, 0.52, 200)"
   ]
  },
  {
   "cell_type": "code",
   "execution_count": 155,
   "id": "f6c9bd16",
   "metadata": {},
   "outputs": [
    {
     "name": "stdout",
     "output_type": "stream",
     "text": [
      "in fraction,df len91031\n",
      "182\n",
      "18\n",
      "Train Data Fraction: 0.91\n",
      "false_df len23348\n",
      "true_df len67683\n",
      "in fraction,df len90831\n",
      "Test Data Fraction: 0.91\n",
      "false_df len23330\n",
      "true_df len67501\n",
      "Size of Test Dataset: 74166\n",
      "Size of Total Dataset: 74366\n",
      "in fraction,df len74166\n",
      "51870\n",
      "5130\n",
      "Train Data Fraction: 0.91\n",
      "false_df len6675\n",
      "true_df len67491\n",
      "in fraction,df len17166\n",
      "Test Data Fraction: 0.91\n",
      "false_df len1545\n",
      "true_df len15621\n",
      "Size of Test Dataset: 17155\n",
      "Size of Total Dataset: 74155\n",
      "SMALL TEST\n",
      "17155\n",
      "17355\n",
      "Filename: ube4b_MLformat_200_train_17155_test_t3.txt\n"
     ]
    }
   ],
   "source": [
    "ube4b_train_df, ube4b_test_df, ube4b_remaining_df = get_train_and_test_df(ube4b_df, 0.91, 200)\n",
    "ube4b_train_dummy, ube4b_small_test_df, ube4b_remaining_df = get_train_and_test_df(ube4b_test_df, 0.91, 57000)\n",
    "print(\"SMALL TEST\")\n",
    "print(len(ube4b_small_test_df))\n",
    "ube4b_df_format = pd.concat([ube4b_train_df, ube4b_small_test_df])\n",
    "print(len(ube4b_df_format))\n",
    "ssf.write_data_file(\"ube4b_MLformat_200_train_17155_test_t3\", protein_seq_ube4b, ube4b_df_format)"
   ]
  },
  {
   "cell_type": "code",
   "execution_count": 97,
   "id": "d3e5b5a8",
   "metadata": {},
   "outputs": [
    {
     "name": "stdout",
     "output_type": "stream",
     "text": [
      "in fraction,df len27447\n",
      "7280\n",
      "6720\n",
      "Train Data Fraction: 0.52\n",
      "false_df len13175\n",
      "true_df len14272\n",
      "in fraction,df len13447\n",
      "Test Data Fraction: 0.52\n",
      "false_df len6455\n",
      "true_df len6992\n",
      "Size of Test Dataset: 13445\n",
      "Size of Total Dataset: 27445\n",
      "13645\n",
      "Filename: ube4b_MLformat_200_train_13445_test_t3.txt\n"
     ]
    }
   ],
   "source": [
    "# making test set smaller\n",
    "ube4b_dummy_df, ube4b_small_test_df, ube4b_remaining_df = get_train_and_test_df(ube4b_test_df, 0.52, 14000)\n",
    "ube4b_df_format = pd.concat([ube4b_train_df, ube4b_small_test_df])\n",
    "print(len(ube4b_df_format))\n",
    "ssf.write_data_file(\"ube4b_MLformat_200_train_13445_test_t3\", protein_seq_ube4b, ube4b_df_format)"
   ]
  },
  {
   "cell_type": "code",
   "execution_count": 180,
   "id": "3fb5e98f",
   "metadata": {},
   "outputs": [
    {
     "name": "stdout",
     "output_type": "stream",
     "text": [
      "in fraction,df len27447\n",
      "7280\n",
      "6720\n",
      "Train Data Fraction: 0.52\n",
      "false_df len13175\n",
      "true_df len14272\n",
      "in fraction,df len13447\n",
      "Test Data Fraction: 0.52\n",
      "false_df len6455\n",
      "true_df len6992\n",
      "Size of Test Dataset: 13445\n",
      "Size of Total Dataset: 27445\n",
      "13645\n",
      "Filename: ube4b_MLformat_200_train_13445_test_t2.txt\n"
     ]
    }
   ],
   "source": [
    "# making test set smaller\n",
    "ube4b_dummy_df_2, ube4b_small_test_df_2, ube4b_remaining_df_2 = get_train_and_test_df(ube4b_test_df, 0.52, 14000)\n",
    "ube4b_df_format_2 = pd.concat([ube4b_train_df_2, ube4b_small_test_df_2])\n",
    "print(len(ube4b_df_format_2))\n",
    "ssf.write_data_file(\"ube4b_MLformat_200_train_13445_test_t2\", protein_seq_ube4b, ube4b_df_format_2)"
   ]
  },
  {
   "cell_type": "code",
   "execution_count": 181,
   "id": "77ded24f",
   "metadata": {},
   "outputs": [
    {
     "name": "stdout",
     "output_type": "stream",
     "text": [
      "in fraction,df len27447\n",
      "7280\n",
      "6720\n",
      "Train Data Fraction: 0.52\n",
      "false_df len13175\n",
      "true_df len14272\n",
      "in fraction,df len13447\n",
      "Test Data Fraction: 0.52\n",
      "false_df len6455\n",
      "true_df len6992\n",
      "Size of Test Dataset: 13445\n",
      "Size of Total Dataset: 27445\n",
      "13645\n",
      "Filename: ube4b_MLformat_200_train_13445_test_t3.txt\n"
     ]
    }
   ],
   "source": [
    "# making test set smaller\n",
    "ube4b_dummy_df_3, ube4b_small_test_df_3, ube4b_remaining_df_3 = get_train_and_test_df(ube4b_test_df, 0.52, 14000)\n",
    "ube4b_df_format_3 = pd.concat([ube4b_train_df_3, ube4b_small_test_df_3])\n",
    "print(len(ube4b_df_format_3))\n",
    "ssf.write_data_file(\"ube4b_MLformat_200_train_13445_test_t3\", protein_seq_ube4b, ube4b_df_format_3)"
   ]
  },
  {
   "cell_type": "code",
   "execution_count": 75,
   "id": "0d8b1da8",
   "metadata": {},
   "outputs": [
    {
     "name": "stdout",
     "output_type": "stream",
     "text": [
      "200\n",
      "27447\n",
      "200\n",
      "27447\n",
      "200\n",
      "27447\n"
     ]
    }
   ],
   "source": [
    "print(len(ube4b_train_df))\n",
    "print(len(ube4b_test_df))\n",
    "print(len(ube4b_train_df_2))\n",
    "print(len(ube4b_test_df_2))\n",
    "print(len(ube4b_train_df_3))\n",
    "print(len(ube4b_test_df_3))"
   ]
  },
  {
   "cell_type": "code",
   "execution_count": null,
   "id": "644ae1fb",
   "metadata": {},
   "outputs": [],
   "source": []
  },
  {
   "cell_type": "markdown",
   "id": "a4df64ab",
   "metadata": {},
   "source": [
    "#### Pab1"
   ]
  },
  {
   "cell_type": "code",
   "execution_count": 74,
   "id": "7ff40dec",
   "metadata": {},
   "outputs": [
    {
     "name": "stdout",
     "output_type": "stream",
     "text": [
      "40852\n",
      "Index(['variant', 'num_mutations', 'score'], dtype='object')\n"
     ]
    }
   ],
   "source": [
    "# importing pab1 data from Gelman et al.\n",
    "pab1_df1 = pd.read_csv(\"../Raw Data/pab1.tsv.txt\", sep=\"\\t\")\n",
    "pab1_df = pab1_df1.dropna()\n",
    "print(len(pab1_df))\n",
    "print(pab1_df.columns)"
   ]
  },
  {
   "cell_type": "code",
   "execution_count": 75,
   "id": "27937955",
   "metadata": {},
   "outputs": [
    {
     "name": "stdout",
     "output_type": "stream",
     "text": [
      "40852\n",
      "37710\n",
      "37710\n"
     ]
    }
   ],
   "source": [
    "# rounding score column to 6 decimal points\n",
    "pab1_df[\"score\"] = pab1_df[\"score\"].round(6)\n",
    "print(len(pab1_df))\n",
    "\n",
    "# remove values with wildcard star next to them\n",
    "pab1_df = pab1_df[pab1_df[\"variant\"].str.contains(\"\\*\") == False]\n",
    "print(len(pab1_df))\n",
    "# change this value depending on amount of data needed for dataset\n",
    "# pab1_df = pab1_df.sample(n=10000)\n",
    "print(len(pab1_df))\n",
    "pab1_df = pab1_df.sample(frac=1)"
   ]
  },
  {
   "cell_type": "code",
   "execution_count": 76,
   "id": "cf82cb6a",
   "metadata": {},
   "outputs": [],
   "source": [
    "# splitting variant list if there are multiple mutations\n",
    "pab1_mut = pab1_df[\"variant\"].str.split(\",\")\n",
    "\n",
    "# get wild type of residue and place in seperate col\n",
    "pab1_df[\"WILD_TYPE_RES\"] = ssf.get_wild_type(pab1_mut)\n",
    "\n",
    "# get mutated residue and place in seperate col\n",
    "pab1_df[\"MUTATED_RES\"] = ssf.get_mutation_type(pab1_mut)\n",
    "\n",
    "# get position and place in seperate col\n",
    "pab1_df[\"POSITION\"] = ssf.get_position(pab1_mut)\n",
    "pab1_df[\"positions_split\"] = ssf.get_positions_split(pab1_df)\n",
    "\n",
    "positions_split_subtracted = []\n",
    "for pos_list in pab1_df[\"positions_split\"]:\n",
    "    pos_list = [x - 126 for x in pos_list]\n",
    "    positions_split_subtracted.append(pos_list)  \n",
    "\n",
    "pab1_df[\"positions_split\"] = positions_split_subtracted    \n",
    "    \n",
    "new_positions = []\n",
    "pos_string = \"\"\n",
    "for pos_list in pab1_df[\"positions_split\"]:\n",
    "    pos_string = \",\".join(map(str, pos_list))\n",
    "    # print(pos_string)\n",
    "    new_positions.append(pos_string)\n",
    "    pos_string = \"\"\n",
    "# print(len(new_positions))\n",
    "# print(len(pab1_df[\"POSITION\"]))\n",
    "\n",
    "pab1_df[\"POSITION\"] = new_positions # changes positions into new adjusted values (0 index)\n",
    "# replace variant column with reformatted variant name\n",
    "pab1_df[\"variant\"] = ssf.get_mutations_names_list(pab1_df)\n",
    "\n",
    "# drop unneccesary columns\n",
    "to_drop = [\"WILD_TYPE_RES\", \"MUTATED_RES\", \"POSITION\"]\n",
    "\n",
    "# pab1_df = pab1_df.drop(columns=to_drop)\n"
   ]
  },
  {
   "cell_type": "code",
   "execution_count": 80,
   "id": "cbbe441c",
   "metadata": {},
   "outputs": [
    {
     "name": "stdout",
     "output_type": "stream",
     "text": [
      "37710\n"
     ]
    }
   ],
   "source": [
    "print(len(pab1_df))"
   ]
  },
  {
   "cell_type": "code",
   "execution_count": 77,
   "id": "cd9228bb",
   "metadata": {},
   "outputs": [],
   "source": [
    "path = \"../PDB and STRIDE Files/\" + 'pab1_stride.txt'\n",
    "pab1_stride_file = open(path, 'r')"
   ]
  },
  {
   "cell_type": "code",
   "execution_count": 78,
   "id": "f4d70a59",
   "metadata": {},
   "outputs": [],
   "source": [
    "pab1_ss_indexes = ssf.get_all_sec_struc_boolean(pab1_stride_file) # boolean list of secondary structure assignements"
   ]
  },
  {
   "cell_type": "code",
   "execution_count": 79,
   "id": "73cc1093",
   "metadata": {},
   "outputs": [],
   "source": [
    "# add column\n",
    "\n",
    "pab1_df = add_sec_str_col(pab1_df, pab1_ss_indexes, 0)\n",
    "# need positionssplit"
   ]
  },
  {
   "cell_type": "code",
   "execution_count": 84,
   "id": "a7d64e03",
   "metadata": {},
   "outputs": [
    {
     "name": "stdout",
     "output_type": "stream",
     "text": [
      "Index(['variant', 'num_mutations', 'score', 'WILD_TYPE_RES', 'MUTATED_RES',\n",
      "       'POSITION', 'positions_split', 'in_sec_str'],\n",
      "      dtype='object')\n"
     ]
    }
   ],
   "source": [
    "print(pab1_df.columns)"
   ]
  },
  {
   "cell_type": "code",
   "execution_count": 80,
   "id": "9e94e118",
   "metadata": {},
   "outputs": [
    {
     "name": "stdout",
     "output_type": "stream",
     "text": [
      "GLY ASN ILE PHE ILE LYS ASN LEU HIS PRO ASP ILE ASP ASN LYS ALA LEU TYR ASP THR PHE SER VAL PHE GLY ASP ILE LEU SER SER LYS ILE ALA THR ASP GLU ASN GLY LYS SER LYS GLY PHE GLY PHE VAL HIS PHE GLU GLU GLU GLY ALA ALA LYS GLU ALA ILE ASP ALA LEU ASN GLY MET LEU LEU ASN GLY GLN GLU ILE TYR VAL ALA PRO\n"
     ]
    }
   ],
   "source": [
    "string_seq_pab1 = \"GNIFIKNLHPDIDNKALYDTFSVFGDILSSKIATDENGKSKGFGFVHFEEEGAAKEAIDALNGMLLNGQEIYVAP\"\n",
    "protein_seq_pab1 = ssf.get_expanded_seq(string_seq_pab1)\n",
    "print(protein_seq_pab1)"
   ]
  },
  {
   "cell_type": "code",
   "execution_count": 81,
   "id": "ee412b65",
   "metadata": {},
   "outputs": [
    {
     "name": "stdout",
     "output_type": "stream",
     "text": [
      "in fraction,df len37710\n",
      "133\n",
      "14\n",
      "Train Data Fraction: 0.905\n",
      "false_df len6264\n",
      "true_df len31446\n",
      "in fraction,df len37563\n",
      "Test Data Fraction: 0.91\n",
      "false_df len6250\n",
      "true_df len31313\n",
      "Size of Test Dataset: 34400\n",
      "Size of Total Dataset: 34547\n",
      "34547\n"
     ]
    }
   ],
   "source": [
    "pab1_train_df, pab1_test_df, pab1_remaining_df = get_train_and_test_df(pab1_df, 0.91, 147)\n",
    "pab1_df_format = pd.concat([pab1_train_df, pab1_test_df])\n",
    "print(len(pab1_df_format))\n",
    "# ssf.write_data_file(\"pab1_MLformat_147_train_20054_test_t3\", protein_seq_pab1, pab1_df_format)"
   ]
  },
  {
   "cell_type": "code",
   "execution_count": 86,
   "id": "40f6fbb0",
   "metadata": {},
   "outputs": [
    {
     "name": "stdout",
     "output_type": "stream",
     "text": [
      "in fraction,df len37710\n",
      "182\n",
      "18\n",
      "Train Data Fraction: 0.91\n",
      "false_df len6264\n",
      "true_df len31446\n",
      "in fraction,df len37510\n",
      "Test Data Fraction: 0.91\n",
      "false_df len6246\n",
      "true_df len31264\n",
      "Size of Test Dataset: 34355\n",
      "Size of Total Dataset: 34555\n",
      "in fraction,df len34355\n",
      "18200\n",
      "1800\n",
      "Train Data Fraction: 0.91\n",
      "false_df len3092\n",
      "true_df len31263\n",
      "in fraction,df len14355\n",
      "Test Data Fraction: 0.91\n",
      "false_df len1292\n",
      "true_df len13063\n",
      "Size of Test Dataset: 14344\n",
      "Size of Total Dataset: 34344\n",
      "SMALL TEST\n",
      "14344\n",
      "14544\n",
      "Filename: pab1_MLformat_200_train_14344_test_t3.txt\n"
     ]
    }
   ],
   "source": [
    "pab1_train_df, pab1_test_df, pab1_remaining_df = get_train_and_test_df(pab1_df, 0.91, 147)\n",
    "pab1_train_dummy, pab1_small_test_df, pab1_remaining_df = get_train_and_test_df(pab1_test_df, 0.91, 20000)\n",
    "print(\"SMALL TEST\")\n",
    "print(len(pab1_small_test_df))\n",
    "pab1_df_format = pd.concat([pab1_train_df, pab1_small_test_df])\n",
    "print(len(pab1_df_format))\n",
    "ssf.write_data_file(\"pab1_MLformat_200_train_14344_test_t3\", protein_seq_pab1, pab1_df_format)"
   ]
  },
  {
   "cell_type": "code",
   "execution_count": 53,
   "id": "ef390cc0",
   "metadata": {},
   "outputs": [
    {
     "name": "stdout",
     "output_type": "stream",
     "text": [
      "in fraction,df len37710\n",
      "101\n",
      "46\n",
      "Train Data Fraction: 0.687\n",
      "false_df len19683\n",
      "true_df len18027\n",
      "in fraction,df len37563\n",
      "Test Data Fraction: 0.69\n",
      "false_df len19637\n",
      "true_df len17926\n",
      "Size of Test Dataset: 25974\n",
      "Size of Total Dataset: 26121\n",
      "26121\n",
      "Filename: pab1_MLformat_147_train_25974_test_t2.txt\n"
     ]
    }
   ],
   "source": [
    "pab1_train_df_2, pab1_test_df_2, pab1_remaining_df_2 = get_train_and_test_df(pab1_df, 0.69, 147)\n",
    "pab1_df_format_2 = pd.concat([pab1_train_df_2, pab1_test_df_2])\n",
    "print(len(pab1_df_format_2))\n",
    "ssf.write_data_file(\"pab1_MLformat_147_train_25974_test_t2\", protein_seq_pab1, pab1_df_format_2)"
   ]
  },
  {
   "cell_type": "code",
   "execution_count": 106,
   "id": "ca678428",
   "metadata": {
    "scrolled": true
   },
   "outputs": [
    {
     "name": "stdout",
     "output_type": "stream",
     "text": [
      "in fraction,df len37710\n",
      "101\n",
      "46\n",
      "Train Data Fraction: 0.687\n",
      "false_df len19683\n",
      "true_df len18027\n",
      "in fraction,df len37563\n",
      "Test Data Fraction: 0.69\n",
      "false_df len19637\n",
      "true_df len17926\n",
      "Size of Test Dataset: 25974\n",
      "Size of Total Dataset: 26121\n",
      "26121\n",
      "Filename: pab1_MLformat_147_train_25974_test_t3.txt\n"
     ]
    }
   ],
   "source": [
    "pab1_train_df_3, pab1_test_df_3, pab1_remaining_df_3 = get_train_and_test_df(pab1_df, 0.69, 147)\n",
    "pab1_df_format_3 = pd.concat([pab1_train_df_3, pab1_test_df_3])\n",
    "print(len(pab1_df_format_3))\n",
    "ssf.write_data_file(\"pab1_MLformat_147_train_25974_test_t3\", protein_seq_pab1, pab1_df_format_3)"
   ]
  },
  {
   "cell_type": "code",
   "execution_count": 58,
   "id": "af84cacf",
   "metadata": {},
   "outputs": [
    {
     "name": "stdout",
     "output_type": "stream",
     "text": [
      "147\n",
      "25974\n",
      "147\n",
      "25974\n",
      "147\n",
      "25974\n"
     ]
    }
   ],
   "source": [
    "print(len(pab1_train_df))\n",
    "print(len(pab1_test_df))\n",
    "print(len(pab1_train_df_2))\n",
    "print(len(pab1_test_df_2))\n",
    "print(len(pab1_train_df_3))\n",
    "print(len(pab1_test_df_3))"
   ]
  },
  {
   "cell_type": "code",
   "execution_count": 56,
   "id": "c0a78df4",
   "metadata": {
    "scrolled": true
   },
   "outputs": [
    {
     "name": "stdout",
     "output_type": "stream",
     "text": [
      "in fraction,df len37710\n",
      "101\n",
      "46\n",
      "Train Data Fraction: 0.687\n",
      "false_df len19683\n",
      "true_df len18027\n",
      "in fraction,df len37563\n",
      "Test Data Fraction: 0.69\n",
      "false_df len19637\n",
      "true_df len17926\n",
      "Size of Test Dataset: 25974\n",
      "Size of Total Dataset: 26121\n",
      "10147\n",
      "Filename: pab1_MLformat_147_train_25974_test_t1.txt\n"
     ]
    }
   ],
   "source": [
    "# pab1_train_df, pab1_test_df, pab1_remaining_df = get_train_and_test_df(pab1_df, 0.69, 147)\n",
    "# pab1_test_10000 = pab1_test_df.head(10000)\n",
    "# pab1_df_format = pd.concat([pab1_train_df, pab1_test_10000])\n",
    "# print(len(pab1_df_format))\n",
    "# # writing data to txt file\n",
    "# ssf.write_data_file(\"pab1_MLformat_147_train_25974_test_t1\", protein_seq_pab1, pab1_df_format)"
   ]
  },
  {
   "cell_type": "markdown",
   "id": "23865722",
   "metadata": {},
   "source": [
    "#### Bgl3"
   ]
  },
  {
   "cell_type": "code",
   "execution_count": 134,
   "id": "89f8c142",
   "metadata": {},
   "outputs": [
    {
     "name": "stdout",
     "output_type": "stream",
     "text": [
      "26653\n",
      "Index(['variant', 'num_mutations', 'inp', 'sel', 'score'], dtype='object')\n"
     ]
    }
   ],
   "source": [
    "# importing Ube4b data from Gelman et al.\n",
    "bgl3_df1 = pd.read_csv(\"../Raw Data/bgl3.tsv.txt\", sep=\"\\t\")\n",
    "bgl3_df = bgl3_df1.dropna()\n",
    "print(len(bgl3_df))\n",
    "print(bgl3_df.columns)"
   ]
  },
  {
   "cell_type": "code",
   "execution_count": 10,
   "id": "15bf5a19",
   "metadata": {},
   "outputs": [
    {
     "name": "stdout",
     "output_type": "stream",
     "text": [
      "0                 A104E\n",
      "1           A104E,A142E\n",
      "2           A104E,E152V\n",
      "3           A104E,K170R\n",
      "4                 A104G\n",
      "5                 A104P\n",
      "6                 A104S\n",
      "7           A104S,A116T\n",
      "8           A104S,A121V\n",
      "9           A104S,F111Y\n",
      "10    A104S,R114H,Q137L\n",
      "11                A104T\n",
      "12          A104T,A116V\n",
      "13          A104T,E156D\n",
      "14          A104T,G108S\n",
      "15          A104T,N141Y\n",
      "16          A104T,Q106L\n",
      "17          A104T,Q106R\n",
      "18          A104T,Q137H\n",
      "19                A104V\n",
      "Name: variant, dtype: object\n"
     ]
    }
   ],
   "source": [
    "print(bgl3_df[\"variant\"].head(20))"
   ]
  },
  {
   "cell_type": "code",
   "execution_count": 135,
   "id": "07c6ae39",
   "metadata": {},
   "outputs": [
    {
     "name": "stdout",
     "output_type": "stream",
     "text": [
      "26653\n",
      "25737\n",
      "25737\n"
     ]
    }
   ],
   "source": [
    "# rounding score column to 6 decimal points\n",
    "bgl3_df[\"score\"] = bgl3_df[\"score\"].round(6)\n",
    "print(len(bgl3_df))\n",
    "\n",
    "# remove values with wildcard star next to them\n",
    "bgl3_df = bgl3_df[bgl3_df[\"variant\"].str.contains(\"\\*\") == False]\n",
    "print(len(bgl3_df))\n",
    "\n",
    "bgl3_df = bgl3_df.sample(frac=1)\n",
    "print(len(bgl3_df))"
   ]
  },
  {
   "cell_type": "code",
   "execution_count": 136,
   "id": "991cd58a",
   "metadata": {
    "scrolled": true
   },
   "outputs": [
    {
     "name": "stdout",
     "output_type": "stream",
     "text": [
      "MET VAL PRO ALA ALA GLN GLN THR ALA MET ALA PRO ASP ALA ALA LEU THR PHE PRO GLU GLY PHE LEU TRP GLY SER ALA THR ALA SER TYR GLN ILE GLU GLY ALA ALA ALA GLU ASP GLY ARG THR PRO SER ILE TRP ASP THR TYR ALA ARG THR PRO GLY ARG VAL ARG ASN GLY ASP THR GLY ASP VAL ALA THR ASP HIS TYR HIS ARG TRP ARG GLU ASP VAL ALA LEU MET ALA GLU LEU GLY LEU GLY ALA TYR ARG PHE SER LEU ALA TRP PRO ARG ILE GLN PRO THR GLY ARG GLY PRO ALA LEU GLN LYS GLY LEU ASP PHE TYR ARG ARG LEU ALA ASP GLU LEU LEU ALA LYS GLY ILE GLN PRO VAL ALA THR LEU TYR HIS TRP ASP LEU PRO GLN GLU LEU GLU ASN ALA GLY GLY TRP PRO GLU ARG ALA THR ALA GLU ARG PHE ALA GLU TYR ALA ALA ILE ALA ALA ASP ALA LEU GLY ASP ARG VAL LYS THR TRP THR THR LEU ASN GLU PRO TRP CYS SER ALA PHE LEU GLY TYR GLY SER GLY VAL HIS ALA PRO GLY ARG THR ASP PRO VAL ALA ALA LEU ARG ALA ALA HIS HIS LEU ASN LEU GLY HIS GLY LEU ALA VAL GLN ALA LEU ARG ASP ARG LEU PRO ALA ASP ALA GLN CYS SER VAL THR LEU ASN ILE HIS HIS VAL ARG PRO LEU THR ASP SER ASP ALA ASP ALA ASP ALA VAL ARG ARG ILE ASP ALA LEU ALA ASN ARG VAL PHE THR GLY PRO MET LEU GLN GLY ALA TYR PRO GLU ASP LEU VAL LYS ASP THR ALA GLY LEU THR ASP TRP SER PHE VAL ARG ASP GLY ASP LEU ARG LEU ALA HIS GLN LYS LEU ASP PHE LEU GLY VAL ASN TYR TYR SER PRO THR LEU VAL SER GLU ALA ASP GLY SER GLY THR HIS ASN SER ASP GLY HIS GLY ARG SER ALA HIS SER PRO TRP PRO GLY ALA ASP ARG VAL ALA PHE HIS GLN PRO PRO GLY GLU THR THR ALA MET GLY TRP ALA VAL ASP PRO SER GLY LEU TYR GLU LEU LEU ARG ARG LEU SER SER ASP PHE PRO ALA LEU PRO LEU VAL ILE THR GLU ASN GLY ALA ALA PHE HIS ASP TYR ALA ASP PRO GLU GLY ASN VAL ASN ASP PRO GLU ARG ILE ALA TYR VAL ARG ASP HIS LEU ALA ALA VAL HIS ARG ALA ILE LYS ASP GLY SER ASP VAL ARG GLY TYR PHE LEU TRP SER LEU LEU ASP ASN PHE GLU TRP ALA HIS GLY TYR SER LYS ARG PHE GLY ALA VAL TYR VAL ASP TYR PRO THR GLY THR ARG ILE PRO LYS ALA SER ALA ARG TRP TYR ALA GLU VAL ALA ARG THR GLY VAL LEU PRO THR ALA GLY ASP PRO ASN SER SER SER VAL ASP LYS LEU ALA ALA ALA LEU GLU HIS HIS HIS HIS HIS HIS\n"
     ]
    }
   ],
   "source": [
    "# NOTE - no protein domain for bgl3\n",
    "# # get protein sequence from Gelman et al.\n",
    "string_seq = \"MVPAAQQTAMAPDAALTFPEGFLWGSATASYQIEGAAAEDGRTPSIWDTYARTPGRVRNGDTGDVATDHYHRWREDVALMAELGLGAYRFSLAWPRIQPTGRGPALQKGLDFYRRLADELLAKGIQPVATLYHWDLPQELENAGGWPERATAERFAEYAAIAADALGDRVKTWTTLNEPWCSAFLGYGSGVHAPGRTDPVAALRAAHHLNLGHGLAVQALRDRLPADAQCSVTLNIHHVRPLTDSDADADAVRRIDALANRVFTGPMLQGAYPEDLVKDTAGLTDWSFVRDGDLRLAHQKLDFLGVNYYSPTLVSEADGSGTHNSDGHGRSAHSPWPGADRVAFHQPPGETTAMGWAVDPSGLYELLRRLSSDFPALPLVITENGAAFHDYADPEGNVNDPERIAYVRDHLAAVHRAIKDGSDVRGYFLWSLLDNFEWAHGYSKRFGAVYVDYPTGTRIPKASARWYAEVARTGVLPTAGDPNSSSVDKLAAALEHHHHHH\"\n",
    "protein_seq_bgl3 = ssf.get_expanded_seq(string_seq)\n",
    "print(protein_seq_bgl3)"
   ]
  },
  {
   "cell_type": "code",
   "execution_count": 137,
   "id": "e473b3e0",
   "metadata": {},
   "outputs": [
    {
     "data": {
      "text/plain": [
       "'HIS'"
      ]
     },
     "execution_count": 137,
     "metadata": {},
     "output_type": "execute_result"
    }
   ],
   "source": [
    "protein_seq_bgl3_split = protein_seq_bgl3.split()\n",
    "protein_seq_bgl3_split[500]"
   ]
  },
  {
   "cell_type": "code",
   "execution_count": 138,
   "id": "7cd26529",
   "metadata": {},
   "outputs": [],
   "source": [
    "# splitting variant list if there are multiple mutations\n",
    "bgl3_mut = bgl3_df[\"variant\"].str.split(\",\")\n",
    "\n",
    "# get wild type of residue and place in seperate col\n",
    "bgl3_df[\"WILD_TYPE_RES\"] = ssf.get_wild_type(bgl3_mut)\n",
    "\n",
    "# get mutated residue and place in seperate col\n",
    "bgl3_df[\"MUTATED_RES\"] = ssf.get_mutation_type(bgl3_mut)\n",
    "\n",
    "# get position and place in seperate col\n",
    "bgl3_df[\"POSITION\"] = ssf.get_position(bgl3_mut)\n",
    "\n",
    "# replace variant column with reformatted variant name\n",
    "bgl3_df[\"variant\"] = ssf.get_mutations_names_list(bgl3_df)\n",
    "\n",
    "# drop unneccesary columns\n",
    "to_drop = [\"WILD_TYPE_RES\", \"MUTATED_RES\", \"POSITION\"]\n",
    "\n",
    "# bgl3_df = bgl3_df.drop(columns=to_drop)"
   ]
  },
  {
   "cell_type": "code",
   "execution_count": 139,
   "id": "70f7fd51",
   "metadata": {},
   "outputs": [],
   "source": [
    "# get ss position indexes\n",
    "path = \"../PDB and STRIDE Files/\" + 'bgl3_stride.txt'\n",
    "bgl3_stride_file = open(path, 'r')\n",
    "\n",
    "bgl3_ss_indexes = ssf.get_all_sec_struc_boolean(bgl3_stride_file)\n",
    "\n",
    "# need positionssplit\n",
    "bgl3_df[\"positions_split\"] = ssf.get_positions_split(bgl3_df)\n",
    "\n",
    "# add in_sec_str_col\n",
    "bgl3_df = add_sec_str_col(bgl3_df, bgl3_ss_indexes, 0)"
   ]
  },
  {
   "cell_type": "code",
   "execution_count": 15,
   "id": "aa13641d",
   "metadata": {},
   "outputs": [
    {
     "name": "stdout",
     "output_type": "stream",
     "text": [
      "False\n",
      "False\n",
      "False\n",
      "False\n",
      "False\n",
      "False\n",
      "False\n",
      "False\n",
      "False\n",
      "False\n",
      "False\n",
      "False\n",
      "False\n",
      "False\n",
      "False\n",
      "True\n",
      "True\n",
      "False\n",
      "False\n",
      "False\n",
      "False\n",
      "False\n",
      "True\n",
      "True\n",
      "True\n",
      "True\n",
      "True\n",
      "False\n",
      "False\n",
      "True\n",
      "True\n",
      "True\n",
      "True\n",
      "True\n",
      "False\n",
      "False\n",
      "False\n",
      "False\n",
      "False\n",
      "False\n",
      "False\n",
      "False\n",
      "False\n",
      "False\n",
      "True\n",
      "True\n",
      "True\n",
      "True\n",
      "True\n",
      "True\n",
      "True\n",
      "True\n",
      "False\n",
      "False\n",
      "False\n",
      "False\n",
      "False\n",
      "True\n",
      "True\n",
      "True\n",
      "False\n",
      "False\n",
      "False\n",
      "False\n",
      "False\n",
      "False\n",
      "False\n",
      "False\n",
      "False\n",
      "False\n",
      "False\n",
      "True\n",
      "True\n",
      "True\n",
      "True\n",
      "True\n",
      "True\n",
      "True\n",
      "True\n",
      "True\n",
      "True\n",
      "True\n",
      "True\n",
      "False\n",
      "False\n",
      "False\n",
      "True\n",
      "True\n",
      "True\n",
      "True\n",
      "True\n",
      "False\n",
      "False\n",
      "True\n",
      "True\n",
      "True\n",
      "True\n",
      "False\n",
      "False\n",
      "False\n",
      "False\n",
      "False\n",
      "False\n",
      "False\n",
      "False\n",
      "False\n",
      "True\n",
      "True\n",
      "True\n",
      "True\n",
      "True\n",
      "True\n",
      "True\n",
      "True\n",
      "True\n",
      "True\n",
      "True\n",
      "True\n",
      "True\n",
      "True\n",
      "True\n",
      "True\n",
      "True\n",
      "False\n",
      "False\n",
      "True\n",
      "True\n",
      "True\n",
      "True\n",
      "True\n",
      "True\n",
      "True\n",
      "False\n",
      "False\n",
      "False\n",
      "False\n",
      "True\n",
      "True\n",
      "True\n",
      "True\n",
      "True\n",
      "True\n",
      "True\n",
      "False\n",
      "False\n",
      "False\n",
      "False\n",
      "False\n",
      "True\n",
      "True\n",
      "True\n",
      "True\n",
      "True\n",
      "True\n",
      "True\n",
      "True\n",
      "True\n",
      "True\n",
      "True\n",
      "True\n",
      "True\n",
      "True\n",
      "True\n",
      "True\n",
      "True\n",
      "True\n",
      "True\n",
      "False\n",
      "False\n",
      "False\n",
      "False\n",
      "True\n",
      "True\n",
      "True\n",
      "True\n",
      "True\n",
      "True\n",
      "False\n",
      "True\n",
      "True\n",
      "True\n",
      "True\n",
      "True\n",
      "True\n",
      "True\n",
      "True\n",
      "True\n",
      "True\n",
      "False\n",
      "False\n",
      "False\n",
      "False\n",
      "False\n",
      "False\n",
      "False\n",
      "False\n",
      "False\n",
      "False\n",
      "True\n",
      "True\n",
      "True\n",
      "True\n",
      "True\n",
      "True\n",
      "True\n",
      "True\n",
      "True\n",
      "True\n",
      "True\n",
      "True\n",
      "True\n",
      "True\n",
      "True\n",
      "True\n",
      "True\n",
      "True\n",
      "True\n",
      "True\n",
      "True\n",
      "True\n",
      "True\n",
      "True\n",
      "True\n",
      "False\n",
      "False\n",
      "False\n",
      "False\n",
      "False\n",
      "True\n",
      "True\n",
      "True\n",
      "True\n",
      "True\n",
      "True\n",
      "True\n",
      "False\n",
      "False\n",
      "False\n",
      "True\n",
      "True\n",
      "True\n",
      "False\n",
      "False\n",
      "False\n",
      "False\n",
      "True\n",
      "True\n",
      "True\n",
      "True\n",
      "True\n",
      "True\n",
      "True\n",
      "True\n",
      "True\n",
      "True\n",
      "True\n",
      "True\n",
      "True\n",
      "True\n",
      "True\n",
      "True\n",
      "True\n",
      "True\n",
      "True\n",
      "True\n",
      "True\n",
      "True\n",
      "True\n",
      "True\n",
      "False\n",
      "False\n",
      "False\n",
      "False\n",
      "True\n",
      "True\n",
      "True\n",
      "True\n",
      "True\n",
      "True\n",
      "True\n",
      "False\n",
      "False\n",
      "False\n",
      "False\n",
      "False\n",
      "False\n",
      "False\n",
      "False\n",
      "False\n",
      "False\n",
      "False\n",
      "False\n",
      "True\n",
      "True\n",
      "True\n",
      "True\n",
      "True\n",
      "False\n",
      "False\n",
      "False\n",
      "False\n",
      "False\n",
      "True\n",
      "True\n",
      "True\n",
      "True\n",
      "True\n",
      "False\n",
      "False\n",
      "False\n",
      "False\n",
      "True\n",
      "True\n",
      "True\n",
      "False\n",
      "False\n",
      "False\n",
      "False\n",
      "False\n",
      "False\n",
      "False\n",
      "False\n",
      "False\n",
      "False\n",
      "False\n",
      "False\n",
      "False\n",
      "False\n",
      "False\n",
      "False\n",
      "False\n",
      "False\n",
      "False\n",
      "False\n",
      "False\n",
      "False\n",
      "False\n",
      "False\n",
      "False\n",
      "False\n",
      "False\n",
      "False\n",
      "False\n",
      "True\n",
      "False\n",
      "False\n",
      "False\n",
      "False\n",
      "False\n",
      "False\n",
      "True\n",
      "False\n",
      "False\n",
      "False\n",
      "False\n",
      "False\n",
      "True\n",
      "False\n",
      "False\n",
      "True\n",
      "True\n",
      "True\n",
      "True\n",
      "True\n",
      "True\n",
      "True\n",
      "True\n",
      "True\n",
      "True\n",
      "True\n",
      "True\n",
      "True\n",
      "True\n",
      "False\n",
      "False\n",
      "False\n",
      "False\n",
      "False\n",
      "True\n",
      "True\n",
      "True\n",
      "True\n",
      "True\n",
      "True\n",
      "False\n",
      "False\n",
      "False\n",
      "True\n",
      "False\n",
      "False\n",
      "False\n",
      "False\n",
      "False\n",
      "False\n",
      "False\n",
      "False\n",
      "False\n",
      "False\n",
      "False\n",
      "False\n",
      "True\n",
      "True\n",
      "True\n",
      "True\n",
      "True\n",
      "True\n",
      "True\n",
      "True\n",
      "True\n",
      "True\n",
      "True\n",
      "True\n",
      "True\n",
      "True\n",
      "True\n",
      "True\n",
      "True\n",
      "True\n",
      "True\n",
      "True\n",
      "False\n",
      "False\n",
      "False\n",
      "True\n",
      "True\n",
      "True\n",
      "True\n",
      "True\n",
      "True\n",
      "False\n",
      "True\n",
      "True\n",
      "True\n",
      "False\n",
      "False\n",
      "False\n",
      "True\n",
      "True\n",
      "True\n",
      "True\n",
      "True\n",
      "False\n",
      "False\n",
      "False\n",
      "True\n",
      "False\n",
      "True\n",
      "True\n",
      "True\n",
      "True\n",
      "True\n",
      "True\n",
      "False\n",
      "False\n",
      "False\n",
      "False\n",
      "True\n",
      "True\n",
      "True\n",
      "True\n",
      "False\n",
      "True\n",
      "True\n",
      "True\n",
      "True\n",
      "True\n",
      "True\n",
      "True\n",
      "True\n",
      "True\n",
      "True\n",
      "True\n",
      "True\n",
      "False\n",
      "True\n",
      "True\n",
      "False\n",
      "False\n",
      "False\n",
      "False\n",
      "False\n",
      "False\n",
      "False\n",
      "False\n",
      "False\n",
      "False\n",
      "False\n",
      "False\n",
      "False\n",
      "False\n",
      "False\n",
      "False\n",
      "False\n",
      "False\n",
      "False\n",
      "False\n",
      "False\n",
      "False\n",
      "False\n",
      "False\n",
      "False\n"
     ]
    }
   ],
   "source": [
    "# print(bgl3_ss_indexes)\n",
    "for val in bgl3_ss_indexes:\n",
    "    print(val)"
   ]
  },
  {
   "cell_type": "markdown",
   "id": "96bb1851",
   "metadata": {},
   "source": [
    "Trial 1:"
   ]
  },
  {
   "cell_type": "code",
   "execution_count": 152,
   "id": "22b53891",
   "metadata": {},
   "outputs": [
    {
     "name": "stdout",
     "output_type": "stream",
     "text": [
      "in fraction,df len25737\n",
      "530\n",
      "452\n",
      "Train Data Fraction: 0.54\n",
      "false_df len11891\n",
      "true_df len13846\n",
      "in fraction,df len24755\n",
      "Test Data Fraction: 0.54\n",
      "false_df len11439\n",
      "true_df len13316\n",
      "Size of Test Dataset: 24658\n",
      "Size of Total Dataset: 25640\n",
      "25640\n"
     ]
    }
   ],
   "source": [
    "bgl3_train_df, bgl3_test_df, bgl3_remaining_df = get_train_and_test_df(bgl3_df, 0.54, 982)\n",
    "bgl3_df_format = pd.concat([bgl3_train_df, bgl3_test_df])\n",
    "print(len(bgl3_df_format))\n",
    "# ssf.write_data_file(\"bgl3_MLformat_982_train_13945_test_t3\", protein_seq_bgl3, bgl3_df_format)"
   ]
  },
  {
   "cell_type": "code",
   "execution_count": 143,
   "id": "edebea79",
   "metadata": {},
   "outputs": [
    {
     "name": "stdout",
     "output_type": "stream",
     "text": [
      "in fraction,df len25737\n",
      "726\n",
      "256\n",
      "Train Data Fraction: 0.739\n",
      "false_df len11891\n",
      "true_df len13846\n",
      "in fraction,df len24755\n",
      "Test Data Fraction: 0.74\n",
      "false_df len11635\n",
      "true_df len13120\n",
      "Size of Test Dataset: 17726\n",
      "Size of Total Dataset: 18708\n",
      "in fraction,df len17726\n",
      "740\n",
      "260\n",
      "Train Data Fraction: 0.74\n",
      "false_df len4609\n",
      "true_df len13117\n",
      "in fraction,df len16726\n",
      "Test Data Fraction: 0.74\n",
      "false_df len4349\n",
      "true_df len12377\n",
      "Size of Test Dataset: 16723\n",
      "Size of Total Dataset: 17723\n",
      "SMALL TEST\n",
      "16723\n",
      "17705\n",
      "Filename: bgl3_MLformat_982_train_16723_test_t3.txt\n"
     ]
    }
   ],
   "source": [
    "bgl3_train_df, bgl3_test_df, bgl3_remaining_df = get_train_and_test_df(bgl3_df, 0.74, 982)\n",
    "bgl3_train_dummy, bgl3_small_test_df, bgl3_remaining_df = get_train_and_test_df(bgl3_test_df, 0.74, 1000)\n",
    "print(\"SMALL TEST\")\n",
    "print(len(bgl3_small_test_df))\n",
    "bgl3_df_format = pd.concat([bgl3_train_df, bgl3_small_test_df])\n",
    "print(len(bgl3_df_format))\n",
    "ssf.write_data_file(\"bgl3_MLformat_982_train_16723_test_t3\", protein_seq_bgl3, bgl3_df_format)"
   ]
  },
  {
   "cell_type": "code",
   "execution_count": 37,
   "id": "6780a809",
   "metadata": {},
   "outputs": [
    {
     "name": "stdout",
     "output_type": "stream",
     "text": [
      "in fraction,df len25737\n",
      "530\n",
      "452\n",
      "Train Data Fraction: 0.54\n",
      "false_df len17674\n",
      "true_df len8063\n",
      "in fraction,df len24755\n",
      "Test Data Fraction: 0.54\n",
      "false_df len17222\n",
      "true_df len7533\n",
      "Size of Test Dataset: 13945\n",
      "Size of Total Dataset: 14927\n",
      "14927\n",
      "Filename: bgl3_MLformat_982_train_13945_test_t2.txt\n"
     ]
    }
   ],
   "source": [
    "bgl3_train_df_2, bgl3_test_df_2, bgl3_remaining_df_2 = get_train_and_test_df(bgl3_df, 0.54, 982)\n",
    "bgl3_df_format_2 = pd.concat([bgl3_train_df_2, bgl3_test_df_2])\n",
    "print(len(bgl3_df_format_2))\n",
    "ssf.write_data_file(\"bgl3_MLformat_982_train_13945_test_t2\", protein_seq_bgl3, bgl3_df_format_2)"
   ]
  },
  {
   "cell_type": "code",
   "execution_count": 41,
   "id": "bf225af1",
   "metadata": {},
   "outputs": [
    {
     "name": "stdout",
     "output_type": "stream",
     "text": [
      "in fraction,df len25737\n",
      "530\n",
      "452\n",
      "Train Data Fraction: 0.54\n",
      "false_df len17674\n",
      "true_df len8063\n",
      "in fraction,df len24755\n",
      "Test Data Fraction: 0.54\n",
      "false_df len17222\n",
      "true_df len7533\n",
      "Size of Test Dataset: 13945\n",
      "Size of Total Dataset: 14927\n",
      "14927\n",
      "Filename: bgl3_MLformat_982_train_13945_test_t3.txt\n"
     ]
    }
   ],
   "source": [
    "bgl3_train_df_3, bgl3_test_df_3, bgl3_remaining_df_3 = get_train_and_test_df(bgl3_df, 0.54, 982)\n",
    "bgl3_df_format_3 = pd.concat([bgl3_train_df_3, bgl3_test_df_3])\n",
    "print(len(bgl3_df_format_3))\n",
    "ssf.write_data_file(\"bgl3_MLformat_982_train_13945_test_t3\", protein_seq_bgl3, bgl3_df_format_3)"
   ]
  },
  {
   "cell_type": "code",
   "execution_count": 42,
   "id": "da6df19a",
   "metadata": {},
   "outputs": [
    {
     "name": "stdout",
     "output_type": "stream",
     "text": [
      "982\n",
      "13945\n",
      "982\n",
      "13945\n",
      "982\n",
      "13945\n"
     ]
    }
   ],
   "source": [
    "print(len(bgl3_train_df))\n",
    "print(len(bgl3_test_df))\n",
    "print(len(bgl3_train_df_2))\n",
    "print(len(bgl3_test_df_2))\n",
    "print(len(bgl3_train_df_3))\n",
    "print(len(bgl3_test_df_3))"
   ]
  },
  {
   "cell_type": "markdown",
   "id": "da6ab054",
   "metadata": {},
   "source": [
    "# Data from Perturbation Networks"
   ]
  },
  {
   "cell_type": "markdown",
   "id": "6e9c0f48",
   "metadata": {},
   "source": [
    "https://journals.plos.org/plosone/article?id=10.1371/journal.pone.0261829#sec014"
   ]
  },
  {
   "cell_type": "markdown",
   "id": "2309883b",
   "metadata": {},
   "source": [
    "### 1be9"
   ]
  },
  {
   "cell_type": "code",
   "execution_count": 115,
   "id": "f6e08281",
   "metadata": {},
   "outputs": [],
   "source": [
    "# loading data\n",
    "pro_1be9_df1 = pd.read_csv(\"../Raw Data/functional_1be9.csv\", sep=\",\")\n",
    "\n",
    "# renaming mutated residue column\n",
    "pro_1be9_df1 = pro_1be9_df1.rename(columns={\"Unnamed: 0\": \"mutated_res\"})"
   ]
  },
  {
   "cell_type": "code",
   "execution_count": 116,
   "id": "f6bdf411",
   "metadata": {},
   "outputs": [],
   "source": [
    "# reorganizing data to other form\n",
    "col_list_1be9 = list(pro_1be9_df1)\n",
    "col_list_1be9 = col_list_1be9[1:]\n",
    "\n",
    "# mutations going down from the leftmost column\n",
    "mutations_1be9 = []\n",
    "\n",
    "for column in col_list_1be9:\n",
    "    for mutation in pro_1be9_df1[\"mutated_res\"]:\n",
    "        mutations_1be9.append(column + mutation)\n",
    "\n",
    "# getting scores\n",
    "scores_1be9 = []\n",
    "\n",
    "for column in pro_1be9_df1.drop('mutated_res', axis=1):\n",
    "    for val in pro_1be9_df1[column]:\n",
    "        scores_1be9.append(val)\n",
    "    \n",
    "# adding to df and renaming variant and score to match formatting for other proteins\n",
    "pro_1be9_df = pd.DataFrame(list(zip(mutations_1be9, scores_1be9)),\n",
    "               columns =['variant', 'score'])\n",
    "\n",
    "# i have the data, next is formatting it so i can add the indexes"
   ]
  },
  {
   "cell_type": "code",
   "execution_count": 117,
   "id": "f1cefe3e",
   "metadata": {},
   "outputs": [],
   "source": [
    "# rounding score column to 6 decimal points\n",
    "pro_1be9_df[\"score\"] = pro_1be9_df[\"score\"].round(6)\n",
    "\n",
    "# shuffling\n",
    "pro_1be9_df = pro_1be9_df.sample(frac=1)\n",
    "\n",
    "# splitting variant list if there are multiple mutations\n",
    "pro_1be9_mut = pro_1be9_df[\"variant\"].str.split(\",\")\n",
    "\n",
    "# get wild type of residue and place in seperate col\n",
    "pro_1be9_df[\"WILD_TYPE_RES\"] = ssf.get_wild_type(pro_1be9_mut)\n",
    "\n",
    "# get mutated residue and place in seperate col\n",
    "pro_1be9_df[\"MUTATED_RES\"] = ssf.get_mutation_type(pro_1be9_mut)\n",
    "\n",
    "# get position and place in seperate col\n",
    "pro_1be9_df[\"POSITION\"] = ssf.get_position(pro_1be9_mut)\n",
    "\n",
    "# need positionssplit\n",
    "pro_1be9_df[\"positions_split\"] = ssf.get_positions_split(pro_1be9_df)\n",
    "\n",
    "positions_split_subtracted = []\n",
    "for pos_list in pro_1be9_df[\"positions_split\"]:\n",
    "    pos_list = [x - 301 for x in pos_list] # reset index at 301\n",
    "    positions_split_subtracted.append(pos_list)  \n",
    "\n",
    "pro_1be9_df[\"positions_split\"] = positions_split_subtracted    \n",
    "    \n",
    "new_positions = []\n",
    "pos_string = \"\"\n",
    "for pos_list in pro_1be9_df[\"positions_split\"]:\n",
    "    pos_string = \",\".join(map(str, pos_list))\n",
    "    new_positions.append(pos_string)\n",
    "    pos_string = \"\"\n",
    "\n",
    "pro_1be9_df[\"POSITION\"] = new_positions # changes positions into new adjusted values (0 index)\n",
    "# replace variant column with reformatted variant name\n",
    "\n",
    "# replace variant column with reformatted variant name\n",
    "pro_1be9_df[\"variant\"] = ssf.get_mutations_names_list(pro_1be9_df)\n",
    "\n",
    "# drop unneccesary columns\n",
    "to_drop = [\"WILD_TYPE_RES\", \"MUTATED_RES\", \"POSITION\"]"
   ]
  },
  {
   "cell_type": "code",
   "execution_count": 118,
   "id": "d68635d7",
   "metadata": {},
   "outputs": [],
   "source": [
    "string_seq_1be9 = \"FLGEEDIPREPRRIVIHRGSTGLGFNIIGGEDGEGIFISFILAGGPADLSGELRKGDQILSVNGVDLRNASHEQAAIALKNAGQTVTIIAQYKPEEYSRFEANSRVNSSGRIVTNKQTSV\"\n",
    "protein_seq_1be9 = ssf.get_expanded_seq(string_seq_1be9)\n",
    "protein_seq_1be9_split = protein_seq_1be9.split()"
   ]
  },
  {
   "cell_type": "code",
   "execution_count": 119,
   "id": "d80052e4",
   "metadata": {},
   "outputs": [
    {
     "name": "stdout",
     "output_type": "stream",
     "text": [
      "97\n",
      "23\n"
     ]
    }
   ],
   "source": [
    "path = \"../PDB and STRIDE Files/\" + '1be9_stride.txt'\n",
    "pro_1be9_stride_file = open(path, 'r')\n",
    "\n",
    "pro_1be9_ss_indexes = ssf.get_all_sec_struc_boolean(pro_1be9_stride_file)\n",
    "print(pro_1be9_ss_indexes.count(True))\n",
    "print(pro_1be9_ss_indexes.count(False))\n",
    "\n",
    "# add in_sec_str_col\n",
    "pro_1be9_df = add_sec_str_col(pro_1be9_df, pro_1be9_ss_indexes, 0)"
   ]
  },
  {
   "cell_type": "code",
   "execution_count": 123,
   "id": "900e168f",
   "metadata": {},
   "outputs": [
    {
     "name": "stdout",
     "output_type": "stream",
     "text": [
      "in fraction,df len1660\n",
      "190\n",
      "45\n",
      "Train Data Fraction: 0.809\n",
      "false_df len220\n",
      "true_df len1440\n",
      "in fraction,df len1425\n",
      "Test Data Fraction: 0.81\n",
      "false_df len175\n",
      "true_df len1250\n",
      "Size of Test Dataset: 915\n",
      "Size of Total Dataset: 1150\n",
      "1150\n",
      "Filename: pro_1be9_MLformat_235_train_915_test_t3.txt\n"
     ]
    }
   ],
   "source": [
    "pro_1be9_train_df, pro_1be9_test_df, pro_1be9_remaining_df = get_train_and_test_df(pro_1be9_df, 0.81, 235)\n",
    "pro_1be9_df_format = pd.concat([pro_1be9_train_df, pro_1be9_test_df])\n",
    "print(len(pro_1be9_df_format))\n",
    "ssf.write_data_file(\"pro_1be9_MLformat_235_train_915_test_t3\", protein_seq_1be9, pro_1be9_df_format)"
   ]
  },
  {
   "cell_type": "markdown",
   "id": "08c7a208",
   "metadata": {},
   "source": [
    "### 1d5r"
   ]
  },
  {
   "cell_type": "code",
   "execution_count": 103,
   "id": "80d47e4a",
   "metadata": {},
   "outputs": [],
   "source": [
    "# loading data\n",
    "pro_1d5r_df1 = pd.read_csv(\"../Raw Data/1d5r.csv\", sep=\",\")\n",
    "\n",
    "# renaming mutated residue column\n",
    "pro_1d5r_df1 = pro_1d5r_df1.rename(columns={\"Unnamed: 0\": \"mutated_res\"})"
   ]
  },
  {
   "cell_type": "code",
   "execution_count": 104,
   "id": "6bf84c91",
   "metadata": {},
   "outputs": [],
   "source": [
    "# reorganizing data to other form\n",
    "col_list_1d5r = list(pro_1d5r_df1)\n",
    "col_list_1d5r = col_list_1d5r[1:]\n",
    "\n",
    "# mutations going down from the leftmost column\n",
    "mutations_1d5r = []\n",
    "\n",
    "for column in col_list_1d5r:\n",
    "    for mutation in pro_1d5r_df1[\"mutated_res\"]:\n",
    "        mutations_1d5r.append(column + mutation)\n",
    "\n",
    "# getting scores\n",
    "scores_1d5r = []\n",
    "\n",
    "for column in pro_1d5r_df1.drop('mutated_res', axis=1):\n",
    "    for val in pro_1d5r_df1[column]:\n",
    "        scores_1d5r.append(val)\n",
    "    \n",
    "# adding to df and renaming variant and score to match formatting for other proteins\n",
    "pro_1d5r_df = pd.DataFrame(list(zip(mutations_1d5r, scores_1d5r)),\n",
    "               columns =['variant', 'score'])\n",
    "\n",
    "# i have the data, next is formatting it so i can add the indexes"
   ]
  },
  {
   "cell_type": "code",
   "execution_count": 105,
   "id": "31736b6a",
   "metadata": {},
   "outputs": [],
   "source": [
    "# rounding score column to 6 decimal points\n",
    "pro_1d5r_df[\"score\"] = pro_1d5r_df[\"score\"].round(6)\n",
    "\n",
    "# shuffling\n",
    "pro_1d5r_df = pro_1d5r_df.sample(frac=1)\n",
    "\n",
    "# splitting variant list if there are multiple mutations\n",
    "pro_1d5r_mut = pro_1d5r_df[\"variant\"].str.split(\",\")\n",
    "\n",
    "# get wild type of residue and place in seperate col\n",
    "pro_1d5r_df[\"WILD_TYPE_RES\"] = ssf.get_wild_type(pro_1d5r_mut)\n",
    "\n",
    "# get mutated residue and place in seperate col\n",
    "pro_1d5r_df[\"MUTATED_RES\"] = ssf.get_mutation_type(pro_1d5r_mut)\n",
    "\n",
    "# get position and place in seperate col\n",
    "pro_1d5r_df[\"POSITION\"] = ssf.get_position(pro_1d5r_mut)\n",
    "\n",
    "# need positionssplit\n",
    "pro_1d5r_df[\"positions_split\"] = ssf.get_positions_split(pro_1d5r_df)\n",
    "\n",
    "positions_split_subtracted = []\n",
    "for pos_list in pro_1d5r_df[\"positions_split\"]:\n",
    "    pos_list = [x - 14 for x in pos_list] # reset index at 301\n",
    "    positions_split_subtracted.append(pos_list)  \n",
    "\n",
    "pro_1d5r_df[\"positions_split\"] = positions_split_subtracted    \n",
    "    \n",
    "new_positions = []\n",
    "pos_string = \"\"\n",
    "for pos_list in pro_1d5r_df[\"positions_split\"]:\n",
    "    pos_string = \",\".join(map(str, pos_list))\n",
    "    new_positions.append(pos_string)\n",
    "    pos_string = \"\"\n",
    "\n",
    "pro_1d5r_df[\"POSITION\"] = new_positions # changes positions into new adjusted values (0 index)\n",
    "# replace variant column with reformatted variant name\n",
    "\n",
    "# replace variant column with reformatted variant name\n",
    "pro_1d5r_df[\"variant\"] = ssf.get_mutations_names_list(pro_1d5r_df)\n",
    "\n",
    "# drop unneccesary columns\n",
    "to_drop = [\"WILD_TYPE_RES\", \"MUTATED_RES\", \"POSITION\"]"
   ]
  },
  {
   "cell_type": "code",
   "execution_count": 117,
   "id": "c99c87fe",
   "metadata": {},
   "outputs": [
    {
     "name": "stdout",
     "output_type": "stream",
     "text": [
      "6140\n",
      "5833\n",
      "     variant     score WILD_TYPE_RES MUTATED_RES POSITION positions_split\n",
      "542    27ASP -0.353747             R           D       27            [27]\n",
      "4319  215TYR  0.017479             S           Y      215           [215]\n",
      "4836  241THR -1.469905             V           T      241           [241]\n",
      "5638  312TRP -2.612767             D           W      312           [312]\n",
      "5057  252VAL -0.179405             K           V      252           [252]\n",
      "3636  181THR -2.370733             F           T      181           [181]\n",
      "904    45PHE  1.481437             S           F       45            [45]\n",
      "269    13LEU -4.008635             Y           L       13            [13]\n",
      "5849  323LEU -0.327921             F           L      323           [323]\n",
      "970    48MET -0.361043             K           M       48            [48]\n",
      "2752  137PRO -2.677493             A           P      137           [137]\n",
      "228    11LYS -3.105071             L           K       11            [11]\n",
      "3906  195HIS  1.142440             G           H      195           [195]\n",
      "4602  230ASP  0.588529             P           D      230           [230]\n",
      "158     7TRP  0.466388             F           W        7             [7]\n",
      "3361  168CYS -0.154745             L           C      168           [168]\n",
      "1612   80PRO -4.326383             N           P       80            [80]\n",
      "4248  212LYS -0.751958             S           K      212           [212]\n",
      "3829  191LEU -0.609043             M           L      191           [191]\n",
      "187     9ILE -0.967651             L           I        9             [9]\n"
     ]
    }
   ],
   "source": [
    "print(len(pro_1d5r_df))\n",
    "pro_1d5r_df = pro_1d5r_df.dropna(axis=0)\n",
    "print(len(pro_1d5r_df))\n",
    "print(pro_1d5r_df.head(20))"
   ]
  },
  {
   "cell_type": "code",
   "execution_count": 54,
   "id": "d7d326b0",
   "metadata": {},
   "outputs": [],
   "source": [
    "def get_seq_from_stride(stride_file):    \n",
    "    aa_str = \"\"\n",
    "\n",
    "    for line in stride_file:\n",
    "        if line.startswith('ASG'):\n",
    "            split_line = line.split()\n",
    "            aa_str =  aa_str + split_line[1] + \" \"\n",
    "\n",
    "    return aa_str.rstrip()"
   ]
  },
  {
   "cell_type": "code",
   "execution_count": 110,
   "id": "1cc35c63",
   "metadata": {},
   "outputs": [],
   "source": [
    "protein_seq_1d5r = get_seq_from_stride(pro_1d5r_stride_file)\n",
    "protein_seq_1d5r_split = protein_seq_1d5r.split()"
   ]
  },
  {
   "cell_type": "code",
   "execution_count": 124,
   "id": "eeec543d",
   "metadata": {},
   "outputs": [
    {
     "name": "stdout",
     "output_type": "stream",
     "text": [
      "307\n"
     ]
    },
    {
     "ename": "IndexError",
     "evalue": "list index out of range",
     "output_type": "error",
     "traceback": [
      "\u001b[1;31m---------------------------------------------------------------------------\u001b[0m",
      "\u001b[1;31mIndexError\u001b[0m                                Traceback (most recent call last)",
      "\u001b[1;32m~\\AppData\\Local\\Temp\\ipykernel_8404\\1137126943.py\u001b[0m in \u001b[0;36m<cell line: 4>\u001b[1;34m()\u001b[0m\n\u001b[0;32m      2\u001b[0m \u001b[1;31m# print(protein_seq_1d5r_split[319])\u001b[0m\u001b[1;33m\u001b[0m\u001b[1;33m\u001b[0m\u001b[0m\n\u001b[0;32m      3\u001b[0m \u001b[1;31m# print(len(protein_seq_1d5r_split))\u001b[0m\u001b[1;33m\u001b[0m\u001b[1;33m\u001b[0m\u001b[0m\n\u001b[1;32m----> 4\u001b[1;33m \u001b[0mprint\u001b[0m\u001b[1;33m(\u001b[0m\u001b[0mprotein_seq_1d5r_split\u001b[0m\u001b[1;33m[\u001b[0m\u001b[1;36m312\u001b[0m\u001b[1;33m]\u001b[0m\u001b[1;33m)\u001b[0m\u001b[1;33m\u001b[0m\u001b[1;33m\u001b[0m\u001b[0m\n\u001b[0m",
      "\u001b[1;31mIndexError\u001b[0m: list index out of range"
     ]
    }
   ],
   "source": [
    "print(len(protein_seq_1d5r_split))\n",
    "# print(protein_seq_1d5r_split[319])\n",
    "# print(len(protein_seq_1d5r_split))\n",
    "print(protein_seq_1d5r_split[312])"
   ]
  },
  {
   "cell_type": "code",
   "execution_count": 113,
   "id": "1e7e80b2",
   "metadata": {},
   "outputs": [],
   "source": [
    "path = \"../PDB and STRIDE Files/\" + '1d5r_stride.txt'\n",
    "pro_1d5r_stride_file = open(path, 'r')"
   ]
  },
  {
   "cell_type": "code",
   "execution_count": 114,
   "id": "f28b849e",
   "metadata": {},
   "outputs": [
    {
     "name": "stdout",
     "output_type": "stream",
     "text": [
      "182\n",
      "125\n"
     ]
    }
   ],
   "source": [
    "pro_1d5r_ss_indexes = ssf.get_sec_struc_boolean(pro_1d5r_stride_file)\n",
    "print(pro_1d5r_ss_indexes.count(True))\n",
    "print(pro_1d5r_ss_indexes.count(False))\n",
    "\n",
    "# add in_sec_str_col\n",
    "# pro_1d5r_df = add_sec_str_col(pro_1d5r_df, pro_1d5r_ss_indexes, 0)"
   ]
  },
  {
   "cell_type": "code",
   "execution_count": 138,
   "id": "3a4d0b60",
   "metadata": {},
   "outputs": [
    {
     "name": "stdout",
     "output_type": "stream",
     "text": [
      "in fraction,df len1660\n",
      "129\n",
      "106\n",
      "Train Data Fraction: 0.549\n",
      "false_df len700\n",
      "true_df len960\n",
      "in fraction,df len1425\n",
      "Test Data Fraction: 0.55\n",
      "false_df len594\n",
      "true_df len831\n",
      "Size of Test Dataset: 1317\n",
      "Size of Total Dataset: 1552\n",
      "1552\n",
      "Filename: pro_1be9_MLformat_235_train_1317_test_t3.txt\n"
     ]
    }
   ],
   "source": [
    "pro_1d5r_train_df, pro_1d5r_test_df, pro_1d5r_remaining_df = get_train_and_test_df(pro_1d5r_df, 0.55, 235)\n",
    "pro_1d5r_df_format = pd.concat([pro_1d5r_train_df, pro_1d5r_test_df])\n",
    "print(len(pro_1d5r_df_format))\n",
    "ssf.write_data_file(\"pro_1d5r_MLformat_235_train_1317_test_t3\", protein_seq_1d5r, pro_1d5r_df_format)"
   ]
  },
  {
   "cell_type": "code",
   "execution_count": null,
   "id": "45c1d709",
   "metadata": {},
   "outputs": [],
   "source": [
    "## figure out protein sequence that is not working"
   ]
  },
  {
   "cell_type": "markdown",
   "id": "977e9e16",
   "metadata": {},
   "source": [
    "### 1nd4"
   ]
  },
  {
   "cell_type": "code",
   "execution_count": 124,
   "id": "395cb654",
   "metadata": {},
   "outputs": [],
   "source": [
    "# loading data\n",
    "pro_1nd4_df1 = pd.read_csv(\"../Raw Data/1nd4.txt\", sep=\",\")\n",
    "\n",
    "# renaming mutated residue column\n",
    "pro_1nd4_df1 = pro_1nd4_df1.rename(columns={\"Unnamed: 0\": \"mutated_res\"})"
   ]
  },
  {
   "cell_type": "code",
   "execution_count": 125,
   "id": "a9345681",
   "metadata": {},
   "outputs": [],
   "source": [
    "# reorganizing data to other form\n",
    "col_list_1nd4 = list(pro_1nd4_df1)\n",
    "col_list_1nd4 = col_list_1nd4[1:]\n",
    "\n",
    "# mutations going down from the leftmost column\n",
    "mutations_1nd4 = []\n",
    "\n",
    "for column in col_list_1nd4:\n",
    "    for mutation in pro_1nd4_df1[\"mutated_res\"]:\n",
    "        mutations_1nd4.append(column + mutation)\n",
    "\n",
    "# getting scores\n",
    "scores_1nd4 = []\n",
    "\n",
    "for column in pro_1nd4_df1.drop('mutated_res', axis=1):\n",
    "    for val in pro_1nd4_df1[column]:\n",
    "        scores_1nd4.append(val)\n",
    "    \n",
    "# adding to df and renaming variant and score to match formatting for other proteins\n",
    "pro_1nd4_df = pd.DataFrame(list(zip(mutations_1nd4, scores_1nd4)),\n",
    "               columns =['variant', 'score'])\n",
    "\n",
    "# i have the data, next is formatting it so i can add the indexes"
   ]
  },
  {
   "cell_type": "code",
   "execution_count": 126,
   "id": "463df3b8",
   "metadata": {},
   "outputs": [
    {
     "name": "stdout",
     "output_type": "stream",
     "text": [
      "5100\n",
      "5095\n"
     ]
    }
   ],
   "source": [
    "# drop nans\n",
    "print(len(pro_1nd4_df))\n",
    "pro_1nd4_df = pro_1nd4_df.dropna(axis=0)\n",
    "pro_1nd4_df = pro_1nd4_df[pro_1nd4_df['score'] != 0.0]\n",
    "print(len(pro_1nd4_df))\n",
    "# print(pro_1nd4_df.tail(30))"
   ]
  },
  {
   "cell_type": "code",
   "execution_count": 127,
   "id": "056eedbc",
   "metadata": {},
   "outputs": [],
   "source": [
    "# rounding score column to 6 decimal points\n",
    "pro_1nd4_df[\"score\"] = pro_1nd4_df[\"score\"].round(6)\n",
    "\n",
    "# shuffling\n",
    "pro_1nd4_df = pro_1nd4_df.sample(frac=1)\n",
    "\n",
    "# splitting variant list if there are multiple mutations\n",
    "pro_1nd4_mut = pro_1nd4_df[\"variant\"].str.split(\",\")\n",
    "\n",
    "# get wild type of residue and place in seperate col\n",
    "pro_1nd4_df[\"WILD_TYPE_RES\"] = ssf.get_wild_type(pro_1nd4_mut)\n",
    "\n",
    "# get mutated residue and place in seperate col\n",
    "pro_1nd4_df[\"MUTATED_RES\"] = ssf.get_mutation_type(pro_1nd4_mut)\n",
    "\n",
    "# get position and place in seperate col\n",
    "pro_1nd4_df[\"POSITION\"] = ssf.get_position(pro_1nd4_mut)\n",
    "\n",
    "# need positionssplit\n",
    "pro_1nd4_df[\"positions_split\"] = ssf.get_positions_split(pro_1nd4_df)\n",
    "\n",
    "positions_split_subtracted = []\n",
    "for pos_list in pro_1nd4_df[\"positions_split\"]:\n",
    "    pos_list = [x - 10 for x in pos_list] # reset index at 301\n",
    "    positions_split_subtracted.append(pos_list)  \n",
    "\n",
    "pro_1nd4_df[\"positions_split\"] = positions_split_subtracted    \n",
    "    \n",
    "new_positions = []\n",
    "pos_string = \"\"\n",
    "for pos_list in pro_1nd4_df[\"positions_split\"]:\n",
    "    pos_string = \",\".join(map(str, pos_list))\n",
    "    new_positions.append(pos_string)\n",
    "    pos_string = \"\"\n",
    "\n",
    "pro_1nd4_df[\"POSITION\"] = new_positions # changes positions into new adjusted values (0 index)\n",
    "# replace variant column with reformatted variant name\n",
    "\n",
    "# replace variant column with reformatted variant name\n",
    "pro_1nd4_df[\"variant\"] = ssf.get_mutations_names_list(pro_1nd4_df)\n",
    "\n",
    "# drop unneccesary columns\n",
    "# to_drop = [\"WILD_TYPE_RES\", \"MUTATED_RES\", \"POSITION\"]"
   ]
  },
  {
   "cell_type": "code",
   "execution_count": 179,
   "id": "57efe78d",
   "metadata": {},
   "outputs": [
    {
     "name": "stdout",
     "output_type": "stream",
     "text": [
      "5095\n"
     ]
    }
   ],
   "source": [
    "print(len(pro_1nd4_df))"
   ]
  },
  {
   "cell_type": "code",
   "execution_count": 128,
   "id": "dd75b5a0",
   "metadata": {},
   "outputs": [
    {
     "name": "stdout",
     "output_type": "stream",
     "text": [
      "510\n",
      "PHE\n"
     ]
    }
   ],
   "source": [
    "string_seq_1nd4 = \"GSPAAWVERLFGYDWAQQTIGCSDAAVFRLSAQGRPVLFVKTDLSGALNELQDEAARLSWLATTGVPCAAVLDVVTEAGRDWLLLGEVPGQDLLSSHLAPAEKVSIMADAMRRLHTLDPATCPFDHQAKHRIERARTRMEAGLVDQDDLDEEHQGLAPAELFARLKARMPDGEDLVVTHGDACLPNIMVENGRFSGFIDCGRLGVADRYQDIALATRDIAEELGGEWADRFLVLYGIAAPDSQRIAFYRLLDEFFGSPAAWVERLFGYDWAQQTIGCSDAAVFRLSAQGRPVLFVKTDLSGALNELQDEAARLSWLATTGVPCAAVLDVVTEAGRDWLLLGEVPGQDLLSSHLAPAEKVSIMADAMRRLHTLDPATCPFDHQAKHRIERARTRMEAGLVDQDDLDEEHQGLAPAELFARLKARMPDGEDLVVTHGDACLPNIMVENGRFSGFIDCGRLGVADRYQDIALATRDIAEELGGEWADRFLVLYGIAAPDSQRIAFYRLLDEFF\"\n",
    "protein_seq_1nd4 = ssf.get_expanded_seq(string_seq_1nd4)\n",
    "protein_seq_1nd4_split = protein_seq_1nd4.split()\n",
    "print(len(protein_seq_1nd4_split))\n",
    "print(protein_seq_1nd4_split[38])"
   ]
  },
  {
   "cell_type": "code",
   "execution_count": 129,
   "id": "3585ebdc",
   "metadata": {},
   "outputs": [
    {
     "name": "stdout",
     "output_type": "stream",
     "text": [
      "510\n",
      "415\n",
      "95\n"
     ]
    }
   ],
   "source": [
    "path = \"../PDB and STRIDE Files/\" + '1nd4_stride.txt'\n",
    "pro_1nd4_stride_file = open(path, 'r')\n",
    "\n",
    "pro_1nd4_ss_indexes = ssf.get_all_sec_struc_boolean(pro_1nd4_stride_file)\n",
    "print(len(pro_1nd4_ss_indexes))\n",
    "print(pro_1nd4_ss_indexes.count(True))\n",
    "print(pro_1nd4_ss_indexes.count(False))\n",
    "\n",
    "# add in_sec_str_col\n",
    "pro_1nd4_df = add_sec_str_col(pro_1nd4_df, pro_1nd4_ss_indexes, 0)"
   ]
  },
  {
   "cell_type": "code",
   "execution_count": 133,
   "id": "cddc6499",
   "metadata": {},
   "outputs": [
    {
     "name": "stdout",
     "output_type": "stream",
     "text": [
      "in fraction,df len5095\n",
      "810\n",
      "190\n",
      "Train Data Fraction: 0.81\n",
      "false_df len880\n",
      "true_df len4215\n",
      "in fraction,df len4095\n",
      "Test Data Fraction: 0.81\n",
      "false_df len690\n",
      "true_df len3405\n",
      "Size of Test Dataset: 3626\n",
      "Size of Total Dataset: 4626\n",
      "4626\n",
      "Filename: pro_1nd4_MLformat_1000_train_3626_test_t3.txt\n"
     ]
    }
   ],
   "source": [
    "pro_1nd4_train_df, pro_1nd4_test_df, pro_1nd4_remaining_df = get_train_and_test_df(pro_1nd4_df, 0.81, 1000)\n",
    "pro_1nd4_df_format = pd.concat([pro_1nd4_train_df, pro_1nd4_test_df])\n",
    "print(len(pro_1nd4_df_format))\n",
    "ssf.write_data_file(\"pro_1nd4_MLformat_1000_train_3626_test_t3\", protein_seq_1nd4, pro_1nd4_df_format)"
   ]
  },
  {
   "cell_type": "markdown",
   "id": "e61c2acf",
   "metadata": {},
   "source": [
    "### 3dqw"
   ]
  },
  {
   "cell_type": "code",
   "execution_count": 62,
   "id": "0cd73fde",
   "metadata": {},
   "outputs": [],
   "source": [
    "# loading data\n",
    "pro_3dqw_df1 = pd.read_csv(\"../Raw Data/3dqw.txt\", sep=\",\")\n",
    "\n",
    "# renaming mutated residue column\n",
    "pro_3dqw_df1 = pro_3dqw_df1.rename(columns={\"Unnamed: 0\": \"mutated_res\"})"
   ]
  },
  {
   "cell_type": "code",
   "execution_count": 63,
   "id": "033342eb",
   "metadata": {},
   "outputs": [],
   "source": [
    "# reorganizing data to other form\n",
    "col_list_3dqw = list(pro_3dqw_df1)\n",
    "col_list_3dqw = col_list_3dqw[1:]\n",
    "\n",
    "# mutations going down from the leftmost column\n",
    "mutations_3dqw = []\n",
    "\n",
    "for column in col_list_3dqw:\n",
    "    for mutation in pro_3dqw_df1[\"mutated_res\"]:\n",
    "        mutations_3dqw.append(column + mutation)\n",
    "\n",
    "# getting scores\n",
    "scores_3dqw = []\n",
    "\n",
    "for column in pro_3dqw_df1.drop('mutated_res', axis=1):\n",
    "    for val in pro_3dqw_df1[column]:\n",
    "        scores_3dqw.append(val)\n",
    "    \n",
    "# adding to df and renaming variant and score to match formatting for other proteins\n",
    "pro_3dqw_df = pd.DataFrame(list(zip(mutations_3dqw, scores_3dqw)),\n",
    "               columns =['variant', 'score'])\n",
    "\n",
    "# i have the data, next is formatting it so i can add the indexes"
   ]
  },
  {
   "cell_type": "code",
   "execution_count": 64,
   "id": "84c03b27",
   "metadata": {},
   "outputs": [
    {
     "name": "stdout",
     "output_type": "stream",
     "text": [
      "3315\n"
     ]
    }
   ],
   "source": [
    "pro_3dqw_df = pro_3dqw_df.dropna(axis=0)\n",
    "print(len(pro_3dqw_df))"
   ]
  },
  {
   "cell_type": "code",
   "execution_count": 65,
   "id": "1845e045",
   "metadata": {},
   "outputs": [],
   "source": [
    "# rounding score column to 6 decimal points\n",
    "pro_3dqw_df[\"score\"] = pro_3dqw_df[\"score\"].round(6)\n",
    "\n",
    "# shuffling\n",
    "pro_3dqw_df = pro_3dqw_df.sample(frac=1)\n",
    "\n",
    "# splitting variant list if there are multiple mutations\n",
    "pro_3dqw_mut = pro_3dqw_df[\"variant\"].str.split(\",\")\n",
    "\n",
    "# get wild type of residue and place in seperate col\n",
    "pro_3dqw_df[\"WILD_TYPE_RES\"] = ssf.get_wild_type(pro_3dqw_mut)\n",
    "\n",
    "# get mutated residue and place in seperate col\n",
    "pro_3dqw_df[\"MUTATED_RES\"] = ssf.get_mutation_type(pro_3dqw_mut)\n",
    "\n",
    "# get position and place in seperate col\n",
    "pro_3dqw_df[\"POSITION\"] = ssf.get_position(pro_3dqw_mut)\n",
    "\n",
    "# need positionssplit\n",
    "pro_3dqw_df[\"positions_split\"] = ssf.get_positions_split(pro_3dqw_df)\n",
    "\n",
    "positions_split_subtracted = []\n",
    "for pos_list in pro_3dqw_df[\"positions_split\"]:\n",
    "    pos_list = [x - 255 for x in pos_list] # reset index at 301\n",
    "    positions_split_subtracted.append(pos_list)  \n",
    "\n",
    "pro_3dqw_df[\"positions_split\"] = positions_split_subtracted    \n",
    "    \n",
    "new_positions = []\n",
    "pos_string = \"\"\n",
    "for pos_list in pro_3dqw_df[\"positions_split\"]:\n",
    "    pos_string = \",\".join(map(str, pos_list))\n",
    "    new_positions.append(pos_string)\n",
    "    pos_string = \"\"\n",
    "\n",
    "pro_3dqw_df[\"POSITION\"] = new_positions # changes positions into new adjusted values (0 index)\n",
    "# replace variant column with reformatted variant name\n",
    "\n",
    "# replace variant column with reformatted variant name\n",
    "pro_3dqw_df[\"variant\"] = ssf.get_mutations_names_list(pro_3dqw_df)\n",
    "\n",
    "# drop unneccesary columns\n",
    "to_drop = [\"WILD_TYPE_RES\", \"MUTATED_RES\", \"POSITION\"]"
   ]
  },
  {
   "cell_type": "code",
   "execution_count": 66,
   "id": "ac17bd34",
   "metadata": {},
   "outputs": [
    {
     "name": "stdout",
     "output_type": "stream",
     "text": [
      "3315\n"
     ]
    }
   ],
   "source": [
    "print(len(pro_3dqw_df))"
   ]
  },
  {
   "cell_type": "code",
   "execution_count": 67,
   "id": "7f7a2e9a",
   "metadata": {},
   "outputs": [],
   "source": [
    "path = \"../PDB and STRIDE Files/\" + '3dqw_stride.txt'\n",
    "pro_3dqw_stride_file = open(path, 'r')\n",
    "protein_seq_3dqw = get_seq_from_stride(pro_3dqw_stride_file)"
   ]
  },
  {
   "cell_type": "code",
   "execution_count": 68,
   "id": "2b535d26",
   "metadata": {},
   "outputs": [
    {
     "name": "stdout",
     "output_type": "stream",
     "text": [
      "1107\n",
      "VAL\n"
     ]
    }
   ],
   "source": [
    "protein_seq_3dqw_split = protein_seq_3dqw.split()\n",
    "print(len(protein_seq_3dqw_split))\n",
    "print(protein_seq_3dqw_split[128])"
   ]
  },
  {
   "cell_type": "code",
   "execution_count": 69,
   "id": "37fd9cdf",
   "metadata": {},
   "outputs": [
    {
     "name": "stdout",
     "output_type": "stream",
     "text": [
      "1107\n",
      "926\n",
      "181\n"
     ]
    }
   ],
   "source": [
    "path = \"../PDB and STRIDE Files/\" + '3dqw_stride.txt'\n",
    "pro_3dqw_stride_file = open(path, 'r')\n",
    "\n",
    "pro_3dqw_ss_indexes = ssf.get_all_sec_struc_boolean(pro_3dqw_stride_file)\n",
    "print(len(pro_3dqw_ss_indexes))\n",
    "print(pro_3dqw_ss_indexes.count(True))\n",
    "print(pro_3dqw_ss_indexes.count(False))\n",
    "\n",
    "# add in_sec_str_col\n",
    "pro_3dqw_df = add_sec_str_col(pro_3dqw_df, pro_3dqw_ss_indexes, 0)"
   ]
  },
  {
   "cell_type": "code",
   "execution_count": 73,
   "id": "64e2986f",
   "metadata": {
    "scrolled": true
   },
   "outputs": [
    {
     "name": "stdout",
     "output_type": "stream",
     "text": [
      "in fraction,df len3315\n",
      "1822\n",
      "348\n",
      "Train Data Fraction: 0.84\n",
      "false_df len579\n",
      "true_df len2736\n",
      "in fraction,df len1145\n",
      "Test Data Fraction: 0.84\n",
      "false_df len231\n",
      "true_df len914\n",
      "Size of Test Dataset: 1087\n",
      "Size of Total Dataset: 3257\n",
      "3257\n",
      "Filename: pro_3dqw_MLformat_2170_train_1087_test_t3.txt\n"
     ]
    }
   ],
   "source": [
    "pro_3dqw_train_df, pro_3dqw_test_df, pro_3dqw_remaining_df = get_train_and_test_df(pro_3dqw_df, 0.84, 2170)\n",
    "pro_3dqw_df_format = pd.concat([pro_3dqw_train_df, pro_3dqw_test_df])\n",
    "print(len(pro_3dqw_df_format))\n",
    "ssf.write_data_file(\"pro_3dqw_MLformat_2170_train_1087_test_t3\", protein_seq_3dqw, pro_3dqw_df_format)"
   ]
  },
  {
   "cell_type": "markdown",
   "id": "4db4ee2d",
   "metadata": {},
   "source": [
    "### 4bz3"
   ]
  },
  {
   "cell_type": "code",
   "execution_count": 47,
   "id": "4cb6e455",
   "metadata": {},
   "outputs": [],
   "source": [
    "# loading data\n",
    "pro_4bz3_df1 = pd.read_csv(\"../Raw Data/4bz3.txt\", sep=\",\")\n",
    "\n",
    "# renaming mutated residue column\n",
    "pro_4bz3_df1 = pro_4bz3_df1.rename(columns={\"Unnamed: 0\": \"mutated_res\"})"
   ]
  },
  {
   "cell_type": "code",
   "execution_count": 48,
   "id": "c6762a0b",
   "metadata": {},
   "outputs": [],
   "source": [
    "# reorganizing data to other form\n",
    "col_list_4bz3 = list(pro_4bz3_df1)\n",
    "col_list_4bz3 = col_list_4bz3[1:]\n",
    "\n",
    "# mutations going down from the leftmost column\n",
    "mutations_4bz3 = []\n",
    "\n",
    "for column in col_list_4bz3:\n",
    "    for mutation in pro_4bz3_df1[\"mutated_res\"]:\n",
    "        mutations_4bz3.append(column + mutation)\n",
    "\n",
    "# getting scores\n",
    "scores_4bz3 = []\n",
    "\n",
    "for column in pro_4bz3_df1.drop('mutated_res', axis=1):\n",
    "    for val in pro_4bz3_df1[column]:\n",
    "        scores_4bz3.append(val)\n",
    "    \n",
    "# adding to df and renaming variant and score to match formatting for other proteins\n",
    "pro_4bz3_df = pd.DataFrame(list(zip(mutations_4bz3, scores_4bz3)),\n",
    "               columns =['variant', 'score'])\n",
    "\n",
    "# i have the data, next is formatting it so i can add the indexes"
   ]
  },
  {
   "cell_type": "code",
   "execution_count": 49,
   "id": "af2fc11c",
   "metadata": {},
   "outputs": [
    {
     "name": "stdout",
     "output_type": "stream",
     "text": [
      "4620\n",
      "4554\n"
     ]
    }
   ],
   "source": [
    "print(len(pro_4bz3_df))\n",
    "pro_4bz3_df = pro_4bz3_df.dropna(axis=0)\n",
    "print(len(pro_4bz3_df))"
   ]
  },
  {
   "cell_type": "code",
   "execution_count": 50,
   "id": "37e59c5a",
   "metadata": {},
   "outputs": [],
   "source": [
    "# rounding score column to 6 decimal points\n",
    "pro_4bz3_df[\"score\"] = pro_4bz3_df[\"score\"].round(6)\n",
    "\n",
    "# shuffling\n",
    "pro_4bz3_df = pro_4bz3_df.sample(frac=1)\n",
    "\n",
    "# splitting variant list if there are multiple mutations\n",
    "pro_4bz3_mut = pro_4bz3_df[\"variant\"].str.split(\",\")\n",
    "\n",
    "# get wild type of residue and place in seperate col\n",
    "pro_4bz3_df[\"WILD_TYPE_RES\"] = ssf.get_wild_type(pro_4bz3_mut)\n",
    "\n",
    "# get mutated residue and place in seperate col\n",
    "pro_4bz3_df[\"MUTATED_RES\"] = ssf.get_mutation_type(pro_4bz3_mut)\n",
    "\n",
    "# get position and place in seperate col\n",
    "pro_4bz3_df[\"POSITION\"] = ssf.get_position(pro_4bz3_mut)\n",
    "\n",
    "# need positionssplit\n",
    "pro_4bz3_df[\"positions_split\"] = ssf.get_positions_split(pro_4bz3_df)\n",
    "\n",
    "positions_split_subtracted = []\n",
    "for pos_list in pro_4bz3_df[\"positions_split\"]:\n",
    "    pos_list = [x - 32 for x in pos_list] # reset index at 301\n",
    "    positions_split_subtracted.append(pos_list)  \n",
    "\n",
    "pro_4bz3_df[\"positions_split\"] = positions_split_subtracted    \n",
    "    \n",
    "new_positions = []\n",
    "pos_string = \"\"\n",
    "for pos_list in pro_4bz3_df[\"positions_split\"]:\n",
    "    pos_string = \",\".join(map(str, pos_list))\n",
    "    new_positions.append(pos_string)\n",
    "    pos_string = \"\"\n",
    "\n",
    "pro_4bz3_df[\"POSITION\"] = new_positions # changes positions into new adjusted values (0 index)\n",
    "# replace variant column with reformatted variant name\n",
    "\n",
    "# replace variant column with reformatted variant name\n",
    "pro_4bz3_df[\"variant\"] = ssf.get_mutations_names_list(pro_4bz3_df)\n",
    "\n",
    "# drop unneccesary columns\n",
    "to_drop = [\"WILD_TYPE_RES\", \"MUTATED_RES\", \"POSITION\"]"
   ]
  },
  {
   "cell_type": "code",
   "execution_count": 51,
   "id": "792a05e3",
   "metadata": {},
   "outputs": [
    {
     "name": "stdout",
     "output_type": "stream",
     "text": [
      "4554\n"
     ]
    }
   ],
   "source": [
    "print(len(pro_4bz3_df))"
   ]
  },
  {
   "cell_type": "code",
   "execution_count": 52,
   "id": "245d5a52",
   "metadata": {},
   "outputs": [
    {
     "name": "stdout",
     "output_type": "stream",
     "text": [
      "     variant     score WILD_TYPE_RES MUTATED_RES POSITION positions_split\n",
      "3586  180HIS -0.099294             A           H      180           [180]\n",
      "4181  210CYS -1.664693             L           C      210           [210]\n",
      "3596  180THR -0.182043             A           T      180           [180]\n",
      "2623  131GLU -0.395186             D           E      131           [131]\n",
      "487    24ILE -7.565904             H           I       24            [24]\n",
      "1171   58ASN  0.503021             K           N       58            [58]\n",
      "3765  189GLY  0.076992             T           G      189           [189]\n",
      "1904   95PHE -1.452111             R           F       95            [95]\n",
      "4434  222ARG  0.030239             N           R      222           [222]\n",
      "4034  202ARG -0.102308             Q           R      202           [202]\n"
     ]
    }
   ],
   "source": [
    "print(pro_4bz3_df.head(10))"
   ]
  },
  {
   "cell_type": "code",
   "execution_count": 55,
   "id": "6e248e9f",
   "metadata": {},
   "outputs": [],
   "source": [
    "path = \"../PDB and STRIDE Files/\" + '4bz3_stride.txt'\n",
    "pro_4bz3_stride_file = open(path, 'r')\n",
    "protein_seq_4bz3 = get_seq_from_stride(pro_4bz3_stride_file)"
   ]
  },
  {
   "cell_type": "code",
   "execution_count": 56,
   "id": "bc094524",
   "metadata": {},
   "outputs": [
    {
     "name": "stdout",
     "output_type": "stream",
     "text": [
      "463\n",
      "ILE\n"
     ]
    }
   ],
   "source": [
    "protein_seq_4bz3_split = protein_seq_4bz3.split()\n",
    "print(len(protein_seq_4bz3_split))\n",
    "print(protein_seq_4bz3_split[51])"
   ]
  },
  {
   "cell_type": "code",
   "execution_count": 57,
   "id": "4f3ccd24",
   "metadata": {},
   "outputs": [
    {
     "name": "stdout",
     "output_type": "stream",
     "text": [
      "463\n",
      "380\n",
      "83\n"
     ]
    }
   ],
   "source": [
    "path = \"../PDB and STRIDE Files/\" + '4bz3_stride.txt'\n",
    "pro_4bz3_stride_file = open(path, 'r')\n",
    "\n",
    "pro_4bz3_ss_indexes = ssf.get_all_sec_struc_boolean(pro_4bz3_stride_file)\n",
    "print(len(pro_4bz3_ss_indexes))\n",
    "print(pro_4bz3_ss_indexes.count(True))\n",
    "print(pro_4bz3_ss_indexes.count(False))\n",
    "\n",
    "# add in_sec_str_col\n",
    "pro_4bz3_df = add_sec_str_col(pro_4bz3_df, pro_4bz3_ss_indexes, 0)"
   ]
  },
  {
   "cell_type": "code",
   "execution_count": 61,
   "id": "b8e4e35c",
   "metadata": {},
   "outputs": [
    {
     "name": "stdout",
     "output_type": "stream",
     "text": [
      "in fraction,df len4554\n",
      "744\n",
      "164\n",
      "Train Data Fraction: 0.819\n",
      "false_df len811\n",
      "true_df len3743\n",
      "in fraction,df len3646\n",
      "Test Data Fraction: 0.82\n",
      "false_df len647\n",
      "true_df len2999\n",
      "Size of Test Dataset: 3588\n",
      "Size of Total Dataset: 4496\n",
      "4496\n",
      "Filename: pro_4bz3_MLformat_908_train_3588_test_t3.txt\n"
     ]
    }
   ],
   "source": [
    "pro_4bz3_train_df, pro_4bz3_test_df, pro_4bz3_remaining_df = get_train_and_test_df(pro_4bz3_df, 0.82, 908)\n",
    "pro_4bz3_df_format = pd.concat([pro_4bz3_train_df, pro_4bz3_test_df])\n",
    "print(len(pro_4bz3_df_format))\n",
    "ssf.write_data_file(\"pro_4bz3_MLformat_908_train_3588_test_t3\", protein_seq_4bz3, pro_4bz3_df_format)"
   ]
  }
 ],
 "metadata": {
  "kernelspec": {
   "display_name": "Python 3 (ipykernel)",
   "language": "python",
   "name": "python3"
  },
  "language_info": {
   "codemirror_mode": {
    "name": "ipython",
    "version": 3
   },
   "file_extension": ".py",
   "mimetype": "text/x-python",
   "name": "python",
   "nbconvert_exporter": "python",
   "pygments_lexer": "ipython3",
   "version": "3.9.13"
  }
 },
 "nbformat": 4,
 "nbformat_minor": 5
}
